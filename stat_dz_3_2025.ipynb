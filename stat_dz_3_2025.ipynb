{
  "nbformat": 4,
  "nbformat_minor": 0,
  "metadata": {
    "colab": {
      "provenance": [],
      "authorship_tag": "ABX9TyMlN7FYCZaOsBQ7Mg6QTi7U",
      "include_colab_link": true
    },
    "kernelspec": {
      "name": "python3",
      "display_name": "Python 3"
    },
    "language_info": {
      "name": "python"
    }
  },
  "cells": [
    {
      "cell_type": "markdown",
      "metadata": {
        "id": "view-in-github",
        "colab_type": "text"
      },
      "source": [
        "<a href=\"https://colab.research.google.com/github/vn322/RUDN_Lab_Works/blob/main/stat_dz_3_2025.ipynb\" target=\"_parent\"><img src=\"https://colab.research.google.com/assets/colab-badge.svg\" alt=\"Open In Colab\"/></a>"
      ]
    },
    {
      "cell_type": "code",
      "execution_count": 1,
      "metadata": {
        "id": "2iGp6wiMyaUm"
      },
      "outputs": [],
      "source": [
        "import numpy as np\n",
        "import pandas as pd\n",
        "import seaborn as sns\n",
        "import matplotlib\n",
        "import matplotlib.pyplot as plt"
      ]
    },
    {
      "cell_type": "markdown",
      "source": [
        "# ANOVA"
      ],
      "metadata": {
        "id": "YNEprxgT_kSU"
      }
    },
    {
      "cell_type": "markdown",
      "source": [
        "Сначала попробуем сравнить дисперсии \"вручную\""
      ],
      "metadata": {
        "id": "ePVcsaTm-Wnx"
      }
    },
    {
      "cell_type": "code",
      "source": [
        "from scipy.stats import f\n",
        "# Выборки которые надо сравнить\n",
        "df = pd.DataFrame({\n",
        "           'a1': [5.661,\t6.629,\t7.079,\t5.453],\n",
        "           'a2': [7.845,\t6.9,\t7.733,\t7.232],\n",
        "           'a3': [6.774,\t7.106,\t7.795,\t7.938]\n",
        "          })\n",
        "df.boxplot()\n",
        "\n",
        "print('Нулевая гипотеза:', '='.join(df))\n",
        "print('Альтернативная гипотеза:', f'!({\"=\".join(df)})')\n",
        "\n",
        "# общая средняя\n",
        "grand_mean = df.values.flatten().mean()\n",
        "# отклонение групповых средний от общей средней\n",
        "ssb = sum(df[group].size * (group_mean - grand_mean)**2  for group, group_mean in data.mean().items())\n",
        "# отклонения значений в внутри группы от средней группы\n",
        "ssw = sum(sum((x - group_mean)**2 for x in df[group]) for group, group_mean in data.mean().items())\n",
        "\n",
        "groups = df.shape[1]\n",
        "dfb = groups - 1\n",
        "dfw = df.size - groups\n",
        "# межгрупповой средний квадрат\n",
        "mssb = ssb/dfb\n",
        "# внутригрупповой средний квадрат\n",
        "mssw = ssw/dfw\n",
        "\n",
        "f_value = mssb/mssw\n",
        "\n",
        "p = f.sf(f_value, dfb, dfw)\n",
        "\n",
        "print(\"p={} , Итог: {}\".format(\n",
        "    p,\n",
        "    \"отклоняем нулевую гипотезу\" if p < 0.05 else \"НЕ отклоняем нулевую гипотезу\"\n",
        "))"
      ],
      "metadata": {
        "colab": {
          "base_uri": "https://localhost:8080/",
          "height": 482
        },
        "id": "ng7H64_9zcli",
        "outputId": "dd2ee869-d611-4c6a-d484-42484c7502b4"
      },
      "execution_count": 6,
      "outputs": [
        {
          "output_type": "stream",
          "name": "stdout",
          "text": [
            "Нулевая гипотеза: a1=a2=a3\n",
            "Альтернативная гипотеза: !(a1=a2=a3)\n",
            "p=0.030074661958256442 , Итог: отклоняем нулевую гипотезу\n"
          ]
        },
        {
          "output_type": "display_data",
          "data": {
            "text/plain": [
              "<Figure size 640x480 with 1 Axes>"
            ],
            "image/png": "[encoded data removed]"
          },
          "metadata": {}
        }
      ]
    },
    {
      "cell_type": "markdown",
      "source": [
        "Рачпределения получились различные, что подтверждает график и главная вина лежит на а1"
      ],
      "metadata": {
        "id": "3HvSr0_B_JrU"
      }
    },
    {
      "cell_type": "markdown",
      "source": [
        "Теперь попробуем применить штатный метод"
      ],
      "metadata": {
        "id": "jQGWT2LE_VmJ"
      }
    },
    {
      "cell_type": "markdown",
      "source": [
        "Однофакторный дисперсионный анализ (ANOVA)  — это тест, который используется для выяснения того, существует ли статистически значимая разница между средними значениями более чем одной группы.\n",
        "\n",
        "\n",
        "Однофакторный дисперсионный анализ имеет следующие заданные нулевую и альтернативную гипотезы:\n",
        "\n",
        "H0 (нулевая гипотеза): μ1 = μ2 = μ3 = … = μk (Это подразумевает, что средние значения всей совокупности равны)\n",
        "\n",
        "\n",
        "H1 (нулевая гипотеза): утверждает, что будет по крайней мере одно среднее значение популяции, которое отличается от остальных."
      ],
      "metadata": {
        "id": "EHV2luk41H8K"
      }
    },
    {
      "cell_type": "code",
      "source": [
        "from scipy.stats import f_oneway\n",
        "\n",
        "#  the one-way ANOVA\n",
        "f_oneway(df['a1'], df['a2'], df['a3'])"
      ],
      "metadata": {
        "colab": {
          "base_uri": "https://localhost:8080/"
        },
        "id": "yCw5oc4BzuDC",
        "outputId": "cc530c7b-75fe-4d63-e75d-39b0f978cb83"
      },
      "execution_count": 7,
      "outputs": [
        {
          "output_type": "execute_result",
          "data": {
            "text/plain": [
              "F_onewayResult(statistic=5.303702501348692, pvalue=0.03007466195825641)"
            ]
          },
          "metadata": {},
          "execution_count": 7
        }
      ]
    },
    {
      "cell_type": "markdown",
      "source": [
        "Случилось чудо и мы пришли к тому же решению.\n"
      ],
      "metadata": {
        "id": "D-DJgb4F_Z5p"
      }
    },
    {
      "cell_type": "markdown",
      "source": [
        "# Непараметрические методы"
      ],
      "metadata": {
        "id": "aQoR3FuD_mph"
      }
    },
    {
      "cell_type": "markdown",
      "source": [
        "Критерий Краскела — Уоллиса предназначен для проверки равенства медиан нескольких выборок. Данный критерий является многомерным обобщением критерия Уилкоксона — Манна — Уитни. Критерий Краскела — Уоллиса является ранговым, поэтому он инвариантен по отношению к любому монотонному преобразованию шкалы измерения.\n",
        "\n",
        "https://docs.scipy.org/doc/scipy/reference/generated/scipy.stats.kruskal.html\n",
        "\n",
        "Известен также под названиями: H-критерий Краскела — Уоллиса, однофакторный дисперсионный анализ Краскела — Уоллиса (англ. Kruskal — Wallis one-way analysis of variance)"
      ],
      "metadata": {
        "id": "9lZn1bPBylPb"
      }
    },
    {
      "cell_type": "code",
      "source": [
        "# Kruskal-Wallis H-test\n",
        "from scipy.stats import kruskal\n",
        "\n",
        "\n",
        "# compare samples\n",
        "stat, p = kruskal(df['a1'], df['a2'], df['a3'])\n",
        "print('Statistics=%.3f, p=%.3f' % (stat, p))\n",
        "# interpret\n",
        "alpha = 0.05\n",
        "if p > alpha:\n",
        "\tprint('Same distributions (fail to reject H0)')\n",
        "else:\n",
        "\tprint('Different distributions (reject H0)')"
      ],
      "metadata": {
        "colab": {
          "base_uri": "https://localhost:8080/"
        },
        "id": "Po2C98fvygWQ",
        "outputId": "53164923-759c-4f26-8bf6-3b754955d520"
      },
      "execution_count": 8,
      "outputs": [
        {
          "output_type": "stream",
          "name": "stdout",
          "text": [
            "Statistics=5.654, p=0.059\n",
            "Same distributions (fail to reject H0)\n"
          ]
        }
      ]
    },
    {
      "cell_type": "markdown",
      "source": [
        "А этот критерий назло всем утверждает, что распределения одинаковые, но мы не сдаёмся и применяем следующий"
      ],
      "metadata": {
        "id": "iI9Ydar9_tH_"
      }
    },
    {
      "cell_type": "markdown",
      "source": [
        "Критерий Фридмана (англ. Friedman test) — непараметрический статистический тест, разработанный американским экономистом Милтоном Фридманом. Является обобщением критерия Уилкоксона и применяется для сопоставления c условий измерения для n объектов с ранжированием по индивидуальным значениям измерений. Непараметрический аналог дисперсионного анализа с повторными измерениями ANOVA.\n",
        "\n",
        "Он позволяет проверять гипотезы о различии более чем двух (т.е. от 3-х и до 100) повторных измерений по уровню выраженности изучаемой переменной.\n",
        "\n",
        "Критерий более эффективен, чем дисперсионный анализ в случае малых выборок (до 30 объектов в выборке) и распределений, отличных от нормального. Он основан на ранжировании повторных измерений для каждого объекта выборки. Проверяется при помощи критерия хи-квадрат. При справедливости нулевой гипотезы значения статистики Фридмана (критерия Фридмана) малы, т.е. эмпирический критерий меньше, чем критический. И это означает, что различия случайны и недостоверны.\n",
        "\n",
        "Критерий Фридмана позволяет установить, что величины показателей от условия к условию изменяются, но при этом не указывает на направление изменений и в этом смысле он похож на критерий знаков.\n",
        "\n",
        "Критерий Фридмана является обобщением критерия Вилкоксона на большее, чем два, количество условий измерения, при этом ранжируются не абсолютные величины сдвигов, а сами индивидуальные значения измерений.\n",
        "\n",
        "Нулевая гипотеза H0 = {между полученными в разных условиях показателями (т.е. между проверяемыми выборками) существуют лишь случайные различия}.\n",
        "\n",
        "Альтернативная гипотеза H1 = {между полученными в разных условиях показателями (т.е. между проверяемыми выборками) имеются существенные неслучайные различия}.\n",
        "\n",
        "Ранжируются индивидуальные значения показателей (повторные измерения) для каждого экземпляра выборки в порядке убывания признака (ранжирование параметров каждой строки)."
      ],
      "metadata": {
        "id": "BfZoStFAyzwK"
      }
    },
    {
      "cell_type": "code",
      "source": [
        "\n",
        "# Friedman test\n",
        "\n",
        "from scipy.stats import friedmanchisquare\n",
        "\n",
        "# compare samples\n",
        "stat, p = friedmanchisquare(df['a1'], df['a2'], df['a3'])\n",
        "print('Statistics=%.3f, p=%.3f' % (stat, p))\n",
        "# interpret\n",
        "alpha = 0.05\n",
        "if p > alpha:\n",
        "\tprint('Same distributions (fail to reject H0)')\n",
        "else:\n",
        "\tprint('Different distributions (reject H0)')"
      ],
      "metadata": {
        "colab": {
          "base_uri": "https://localhost:8080/"
        },
        "id": "uP73mrjTzHJD",
        "outputId": "3c20e958-06fe-4560-9c17-e2c39461add2"
      },
      "execution_count": 9,
      "outputs": [
        {
          "output_type": "stream",
          "name": "stdout",
          "text": [
            "Statistics=6.500, p=0.039\n",
            "Different distributions (reject H0)\n"
          ]
        }
      ]
    },
    {
      "cell_type": "markdown",
      "source": [
        "Здесь всё опять хорошщо и распределения различны. Сумировав и усреднив результаты решения задачи при помощи нескольких критериев можно утверждать, что распределения действительно различны. ура"
      ],
      "metadata": {
        "id": "8akqq4A4_-Mw"
      }
    }
  ]
}
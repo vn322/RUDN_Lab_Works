{
  "nbformat": 4,
  "nbformat_minor": 0,
  "metadata": {
    "colab": {
      "provenance": [],
      "authorship_tag": "ABX9TyNnQxeseA84EjcaTCb0j182",
      "include_colab_link": true
    },
    "kernelspec": {
      "name": "python3",
      "display_name": "Python 3"
    },
    "language_info": {
      "name": "python"
    }
  },
  "cells": [
    {
      "cell_type": "markdown",
      "metadata": {
        "id": "view-in-github",
        "colab_type": "text"
      },
      "source": [
        "<a href=\"https://colab.research.google.com/github/vn322/RUDN_Lab_Works/blob/main/%D0%93%D1%83%D1%80%D0%B2%D0%B8%D1%86.ipynb\" target=\"_parent\"><img src=\"https://colab.research.google.com/assets/colab-badge.svg\" alt=\"Open In Colab\"/></a>"
      ]
    },
    {
      "cell_type": "code",
      "source": [
        "import numpy as np\n",
        "import sys\n",
        "\n",
        "def create_hurwitz_matrix(coefficients):\n",
        "    k = 0\n",
        "    matrix = []\n",
        "    for _ in range(0, len(coefficients)-1):\n",
        "        column = []\n",
        "        for d in range(0, len(coefficients)-1):\n",
        "            if 2*d+1-k < 0:\n",
        "                column.append(0)\n",
        "            else:\n",
        "                try:\n",
        "                    column.append(coefficients[2*d+1-k])\n",
        "                except IndexError:\n",
        "                    column.append(0)\n",
        "            d += 1\n",
        "        matrix.append(column)\n",
        "        k += 1\n",
        "    return np.array(matrix)\n",
        "\n",
        "#def check_matrix_determinant(matrix):\n",
        "#   check if the matrix denominator renders the system unstable or marginally\n",
        "#   stable\n",
        "\n",
        "def create_minor(matrix, row, column):\n",
        "    # removes the i-th row and the j-th column\n",
        "    return matrix[\n",
        "        np.array(list(range(row)) +\n",
        "                 list(range(row+1, matrix.shape[0])))[:,np.newaxis],\n",
        "        np.array(list(range(column)) +\n",
        "                 list(range(column+1, matrix.shape[1])))]\n",
        "\n",
        "def check_stability(hurwitz_matrix, coefficients):\n",
        "    print(hurwitz_matrix)\n",
        "    print(\"Determinant of this matrix is equal: \"+\n",
        "          str(np.linalg.det(hurwitz_matrix)))\n",
        "    if np.linalg.det(hurwitz_matrix) > 0:\n",
        "        print(\"Determinant of the hurwitz matrix is greater than zero\")\n",
        "    elif np.linalg.det(hurwitz_matrix) == 0:\n",
        "        print(\"System is marginally stable\")\n",
        "    else:\n",
        "        return(\"System is unstable\")\n",
        "\n",
        "    for _ in range(0, len(coefficients)-2):\n",
        "        x,y = hurwitz_matrix.shape\n",
        "        hurwitz_matrix= create_minor(hurwitz_matrix, x-1, y-1)\n",
        "        print(hurwitz_matrix)\n",
        "        print(\"Determinant of this matrix is equal: \" +\n",
        "              str(np.linalg.det(hurwitz_matrix)))\n",
        "        if np.linalg.det(hurwitz_matrix) > 0:\n",
        "            continue\n",
        "        elif np.linalg.det(hurwitz_matrix) == 0:\n",
        "            print(\"System is marginally stable\")\n",
        "            continue\n",
        "        else:\n",
        "            return(\"System is unstable\")\n",
        "    return(\"System is stable\")\n",
        "\n",
        "print(\"If the polynomial of the denominator of the system's characteristic \"\n",
        "      \"equation (transfer function is given as: \")\n",
        "print(\"a0*s^n + a1*s^(n-1) + ... + a(n-1)*s + an\")\n",
        "print(\"Enter the degree of the denominator polynomial\")\n",
        "degree = int(input('Degree: '))\n",
        "coefficients = []\n",
        "for x in range (0, degree+1):\n",
        "    coefficient = int(input(str('Enter coefficient '+ 'a' + str(x) + \": \")))\n",
        "    coefficients.append(int(coefficient))\n",
        "print(coefficients)\n",
        "print(\"To be stable, all of the system's denominator polynomial coefficients \"\n",
        "      \"must be greater than zero\")\n",
        "matrix=create_hurwitz_matrix(coefficients)\n",
        "\n",
        "print('Hurwitz Matrix: \\n')\n",
        "newmatrix=matrix\n",
        "print(check_stability(newmatrix, coefficients))"
      ],
      "metadata": {
        "colab": {
          "base_uri": "https://localhost:8080/"
        },
        "id": "SxIqJwUWOM3c",
        "outputId": "de46c41c-14f7-4a6c-911d-db67807d5cd9"
      },
      "execution_count": 4,
      "outputs": [
        {
          "output_type": "stream",
          "name": "stdout",
          "text": [
            "If the polynomial of the denominator of the system's characteristic equation (transfer function is given as: \n",
            "a0*s^n + a1*s^(n-1) + ... + a(n-1)*s + an\n",
            "Enter the degree of the denominator polynomial\n",
            "Degree: 4\n",
            "Enter coefficient a0: 1\n",
            "Enter coefficient a1: 3\n",
            "Enter coefficient a2: 5\n",
            "Enter coefficient a3: 7\n",
            "Enter coefficient a4: 4\n",
            "[1, 3, 5, 7, 4]\n",
            "To be stable, all of the system's denominator polynomial coefficients must be greater than zero\n",
            "Hurwitz Matrix: \n",
            "\n",
            "[[3 7 0 0]\n",
            " [1 5 4 0]\n",
            " [0 3 7 0]\n",
            " [0 1 5 4]]\n",
            "Determinant of this matrix is equal: 79.99999999999997\n",
            "Determinant of the hurwitz matrix is greater than zero\n",
            "[[3 7 0]\n",
            " [1 5 4]\n",
            " [0 3 7]]\n",
            "Determinant of this matrix is equal: 20.000000000000007\n",
            "[[3 7]\n",
            " [1 5]]\n",
            "Determinant of this matrix is equal: 8.000000000000002\n",
            "[[3]]\n",
            "Determinant of this matrix is equal: 3.0000000000000004\n",
            "System is stable\n"
          ]
        }
      ]
    }
  ]
}
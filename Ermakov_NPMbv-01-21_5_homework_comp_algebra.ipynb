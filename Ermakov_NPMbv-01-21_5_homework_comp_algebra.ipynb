{
 "cells": [
  {
   "cell_type": "markdown",
   "metadata": {},
   "source": [
    "# Теоретические вопросы\n",
    "\n",
    "1) Дайте определение простой дроби в Q и в поле частных кольца Q[x].\n",
    "\n",
    "2) Докажите теорему 2.\n",
    "\n",
    "3) Сформулируйте теорему Остроградского. Как она используется для вычисления интегралов?"
   ]
  },
  {
   "cell_type": "markdown",
   "metadata": {},
   "source": [
    "Дробь называется правильной, если ее числитель по модулю меньше знаменателя.\n",
    "\n",
    "Правильная дробь называется простой (partial fraction),\n",
    "если ее знаменатель является степенью простого числа, а числитель меньше этого простого числа.\n",
    "\n",
    "Всякое рациональное число можно представить как сумму\n",
    "целого числа и нескольких простых дробей.\n",
    "\n",
    "Представление дроби в виде сумму целого числа и\n",
    "нескольких простых дробей называется разложением на простые дроби\n",
    "(partial fraction dicomposition).\n"
   ]
  },
  {
   "cell_type": "markdown",
   "metadata": {},
   "source": [
    "Всякую дробь из поля частных кольца k[x] можно представить\n",
    "как сумму многочлена и нескольких простых дробей.\n",
    "\n",
    "\n",
    "Алгоритм деления с остатком, примененный к\n",
    "числителю и знаменателю дроби f/g, дает равенство\n",
    "$$f = qg + r$$, где $$deg (r) < deg (g)$$.\n",
    "Теперь\n",
    "$$f/g = q + r/g$$\n",
    "есть искомая запись, сравнение которой с любой другой записью\n",
    "того же типа\n",
    "$$f/g = q + r/g (q, r, g ∈ k[X], deg (r) < deg (g))$$\n",
    "приводит к соотношению\n",
    "$$ \\hat q − q =\n",
    "r/\n",
    "g\n",
    "−\n",
    "\\hat r/\n",
    "\\hat g\n",
    "=\n",
    "r\\hat g − \\hat rg/\n",
    "g\\hat g$$\n",
    ".\n",
    "Так как\n",
    "$$ \\hat q − q ∈ F[X] $$,\n",
    "а\n",
    "$$ deg ((r \\hat g − \\hat rg)/\n",
    "g \\hat g = deg(r\\hat g − \\hat rg) − deg g − deg \\hat g < 0$$\n",
    "то это возможно лишь в случае $$ \\hat q − q = 0$$ и $$ r/g = \\hat r/ \\hat g $$\n",
    "Множество k0(X) всех правильных дробей, рассматриваемое вместе с операциями сложения и умножения в k(X),\n",
    "является кольцом без единицы 1.\n"
   ]
  },
  {
   "cell_type": "markdown",
   "metadata": {},
   "source": [
    "Пусть $g/h$ — правильная дробь с целыми коэффициентами, и разложение знаменателя h на простые множители в $Z[x]$\n",
    "имеет вид\n",
    "$$h = p_1^{n_1}\n",
    ". . . p_r^{n_r}$$\n",
    ".\n",
    "Тогда\n",
    "$$ g/h = (q_l)/\n",
    "(p_1 . . . p_r)\n",
    "+ D(q_a/(\n",
    "p_1^{n_1−1}\n",
    ". . . p_r^{n_r−1}) $$\n",
    " \n",
    "оно позволяет по заданной правильной дроби $g/h$ найти $q_l$ и $q_a$ путем\n",
    "решения системы линейных уравнений с целыми коэффициентами. Более\n",
    "того, нетрудно заметить, что решение этой системы линейных уравнений\n",
    "единственно, поскольку иначе интегралы отличались бы более чем на аддитивную константу. \n",
    "Соотношение $g/h$ позволяет свести интегрирование функции с целыми\n",
    "коэффициентами к интегрированию логарифмической части, то есть правильной дроби, знаменатель которой имеет только простые нули в $C$. Для\n",
    "ее интегрирования мы воспользуемся разложением на простые дроби в $A[x]$, для чего, вообще говоря, придется решать нелинейные алгебраические уравнения, и далее вычислим интегралы по выписанным выше явным\n",
    "формулам. \n",
    "\n",
    "В результате интегрирование рациональной функции можно выполнить\n",
    "в три этапа:\n",
    "\n",
    "1) приведение к правильной дроби при помощи стандартной функции,\n",
    "\n",
    "2) выделение алгебраической и логарифмической частей по методу\n",
    "Остроградского, \n",
    "\n",
    "3) интегрирование логарифмической части.\n",
    "\n"
   ]
  },
  {
   "cell_type": "markdown",
   "metadata": {},
   "source": [
    "# Практические задания.\n",
    "\n",
    "1) Разложите дробь 14515/39168 на простые дроби.\n",
    "\n",
    "2) Разложите дробь\n",
    "$$x^9/((x^2 - 2)*(x - 3)^3*(x^2 + 1))$$\n",
    "на простые дроби в полях частных колец a.) Q[x], b.) R[x], c.) A[x], d.)\n",
    "C[x], e.) Q[x].\n",
    "\n",
    "3) Найдите интеграл\n",
    "\n",
    "a.)\n",
    "$$\\int xdx/((x - 1)*(x - 2)^2*(x − 3)^3)$$\n",
    "b.)\n",
    "$$\\int dx/(x^3 + 1)$$\n",
    "c.)\n",
    "$$\\int xdx/(x^3 + 1)^5$$\n",
    "d.)\n",
    "$$\\int x^4dx(x^3 + 1)$$\n",
    "e.)\n",
    "$$\\int dx/(x^3 + x + 1)^3*(x^2 + 1)^2$$\n",
    "h.)\n",
    "$$\\int(3x^2 + 1)dx/(x^3 + x + 1)^3$$\n",
    "При возможности выразите все константы в радикалах."
   ]
  },
  {
   "cell_type": "code",
   "execution_count": null,
   "metadata": {},
   "outputs": [],
   "source": [
    "var('x,y')"
   ]
  },
  {
   "cell_type": "markdown",
   "metadata": {},
   "source": [
    "\n",
    "1) Разложите дробь 14515/39168 на простые дроби.\n"
   ]
  },
  {
   "cell_type": "code",
   "execution_count": 3,
   "metadata": {},
   "outputs": [
    {
     "data": {
      "text/plain": [
       "(-1, [1/8, 1/32, 1/128, 1/256, 1/3, 2/9, 11/17])"
      ]
     },
     "execution_count": 3,
     "metadata": {},
     "output_type": "execute_result"
    }
   ],
   "source": [
    "QQ(14515/39168).partial_fraction_decomposition()"
   ]
  },
  {
   "cell_type": "markdown",
   "metadata": {},
   "source": [
    "2) Разложите дробь\n",
    "$$x^9/((x^2 - 2)*(x - 3)^3*(x^2 + 1))$$\n",
    "на простые дроби в полях частных колец a.) Q[x], b.) R[x], c.) A[x], d.)\n",
    "C[x], e.) Q[x]."
   ]
  },
  {
   "cell_type": "code",
   "execution_count": 5,
   "metadata": {},
   "outputs": [
    {
     "data": {
      "text/plain": [
       "(x^2 + 9*x + 55,\n",
       " [47967471/171500/(x - 3),\n",
       "  531441/1225/(x^2 - 6*x + 9),\n",
       "  19683/70/(x^3 - 9*x^2 + 27*x - 27),\n",
       "  (-240/343*x - 928/1029)/(x^2 - 2),\n",
       "  (3/500*x - 13/1500)/(x^2 + 1)])"
      ]
     },
     "execution_count": 5,
     "metadata": {},
     "output_type": "execute_result"
    }
   ],
   "source": [
    "(QQ [x](x^9)/QQ [x]((x^2 - 2)*(x - 3)^3*(x^2 + 1))).partial_fraction_decomposition()"
   ]
  },
  {
   "cell_type": "code",
   "execution_count": 6,
   "metadata": {},
   "outputs": [
    {
     "data": {
      "text/plain": [
       "(x^2 + 9.00000000000000*x + 55.0000000000000,\n",
       " [279.693708454848/(x - 3.00000000000000),\n",
       "  433.829387755206/(x^2 - 6.00000000000000*x + 9.00000000000000),\n",
       "  281.185714285799/(x^3 - 9.00000000000000*x^2 + 27.0000000000000*x - 27.0000000000000),\n",
       "  -0.668705098610849/(x - 1.41421356237310),\n",
       "  -0.0310033561996467/(x + 1.41421356237310),\n",
       "  (0.00600000000000000*x - 0.00866666666666667)/(x^2 + 1.00000000000000)])"
      ]
     },
     "execution_count": 6,
     "metadata": {},
     "output_type": "execute_result"
    }
   ],
   "source": [
    "(RR[x](x^9)/RR[x]((x^2 - 2)*(x - 3)^3*(x^2 + 1))).partial_fraction_decomposition()"
   ]
  },
  {
   "cell_type": "code",
   "execution_count": 7,
   "metadata": {},
   "outputs": [
    {
     "data": {
      "text/plain": [
       "(x^2 + 9*x + 55,\n",
       " [-0.6687050986108435?/(x - 1.414213562373095?),\n",
       "  -0.03100335619965204?/(x + 1.414213562373095?),\n",
       "  279.6937084548105?/(x - 3),\n",
       "  433.829387755102?/(x^2 - 6*x + 9),\n",
       "  281.18571428572?/(x^3 - 9*x^2 + 27*x - 27),\n",
       "  (0.006000000000000000?*x - 0.00866666666666667?)/(x^2 + 1)])"
      ]
     },
     "execution_count": 7,
     "metadata": {},
     "output_type": "execute_result"
    }
   ],
   "source": [
    "(AA[x](x^9)/QQ [x]((x^2 - 2)*(x - 3)^3*(x^2 + 1))).partial_fraction_decomposition()"
   ]
  },
  {
   "cell_type": "code",
   "execution_count": 8,
   "metadata": {},
   "outputs": [
    {
     "data": {
      "text/plain": [
       "(x^2 + 9.00000000000000*x + 55.0000000000000,\n",
       " [279.693708454848/(x - 3.00000000000000),\n",
       "  433.829387755206/(x^2 - 6.00000000000000*x + 9.00000000000000),\n",
       "  281.185714285799/(x^3 - 9.00000000000000*x^2 + 27.0000000000000*x - 27.0000000000000),\n",
       "  (-0.668705098610848)/(x - 1.41421356237310),\n",
       "  (0.00300000000000000 + 0.00433333333333333*I)/(x - I),\n",
       "  (0.00300000000000000 - 0.00433333333333333*I)/(x + I),\n",
       "  (-0.0310033561996467)/(x + 1.41421356237310)])"
      ]
     },
     "execution_count": 8,
     "metadata": {},
     "output_type": "execute_result"
    }
   ],
   "source": [
    "(CC[x](x^9)/QQ [x]((x^2 - 2)*(x - 3)^3*(x^2 + 1))).partial_fraction_decomposition()"
   ]
  },
  {
   "cell_type": "code",
   "execution_count": 11,
   "metadata": {},
   "outputs": [
    {
     "data": {
      "text/plain": [
       "(x^2 + 9*x + 55,\n",
       " [47967471/171500/(x - 3),\n",
       "  531441/1225/(x^2 - 6*x + 9),\n",
       "  19683/70/(x^3 - 9*x^2 + 27*x - 27),\n",
       "  (-240/343*x - 928/1029)/(x^2 - 2),\n",
       "  (3/500*x - 13/1500)/(x^2 + 1)])"
      ]
     },
     "execution_count": 11,
     "metadata": {},
     "output_type": "execute_result"
    }
   ],
   "source": [
    "(QQ [x](x^9)/QQ [x]((x^2 - 2)*(x - 3)^3*(x^2 + 1))).partial_fraction_decomposition()"
   ]
  },
  {
   "cell_type": "markdown",
   "metadata": {},
   "source": [
    "3) Найдите интеграл"
   ]
  },
  {
   "cell_type": "code",
   "execution_count": 10,
   "metadata": {},
   "outputs": [],
   "source": [
    "def triangulation(S):\n",
    "    T=[]\n",
    "    n=0\n",
    "    while S!=[]:\n",
    "        m=max([s.lm() for s in S])\n",
    "        L = [s for s in S if s.lm() == m]\n",
    "        S = [s for s in S if s.lm() < m]\n",
    "        g1=L[0]\n",
    "        T.append(g1)\n",
    "        for g in L[1:]:\n",
    "            g=g1.lc()*g-g.lc()*g1\n",
    "            if g.degree()==0:\n",
    "                T.append(g)\n",
    "                break\n",
    "            elif g.degree()==1:\n",
    "                S.append(g)\n",
    "    return T"
   ]
  },
  {
   "cell_type": "code",
   "execution_count": 21,
   "metadata": {},
   "outputs": [],
   "source": [
    "def ostrogradski(f,x):\n",
    "    g=SR(f).numerator()\n",
    "    h=SR(f).denominator()\n",
    "# Раскладываем знаменатель на множители\n",
    "    L=list(ZZ[x](h).factor())\n",
    "# Составляем знаменатель алгебраической части\n",
    "    hh=prod([p^(m-1) for (p,m) in L])\n",
    "    n=hh.degree()\n",
    "    if n==0:\n",
    "        return [0,f]\n",
    "    else:\n",
    "# Составляем числитель алгебраической части\n",
    "        A=var(['A'+str(i) for i in range(n)])\n",
    "        gg=sum([A[i]*x^i for i in range(n)])\n",
    "# Составляем знаменатель log части\n",
    "        h3=ZZ[x](prod([p for (p,m) in L]))\n",
    "# Составляем числитель log части\n",
    "        m=h3.degree()\n",
    "        B=var(['B'+str(i) for i in range(m)])\n",
    "        g3=sum([B[i]*x^i for i in range(m)])\n",
    "# Составляем выражение, которое должно быть равно нулю\n",
    "        F=ZZ[A+B][x]((diff(SR(gg/hh),x)+SR(g3/h3)-f).numerator())\n",
    "# Работаем со СЛАУ\n",
    "        S=solve(triangulation([QQ[A+B](eq) for eq in F.coefficients()]))\n",
    "# Список: алгебраическая часть, log часть\n",
    "    return [(gg).subs(S)/hh, (g3).subs(S)/h3]"
   ]
  },
  {
   "cell_type": "code",
   "execution_count": 12,
   "metadata": {},
   "outputs": [],
   "source": [
    "def radical(a,r):\n",
    "    if r==True:\n",
    "        return AA(a).radical_expression()\n",
    "    else:\n",
    "        return AA(a)\n",
    "def pfdintegral(f,x,r):\n",
    "    g=SR(f).numerator()\n",
    "    h=SR(f).denominator()\n",
    "    if AA[x](h).degree()==1:\n",
    "        return radical(g,r)*ln(abs(x+radical(h.subs(x=0),r)))\n",
    "    else:\n",
    "        b0=radical(g.subs(x=0),r)\n",
    "        b1=radical(diff(g,x),r)\n",
    "        a0=radical(h.subs(x=0),r)\n",
    "        a1=radical(diff(h,x).subs(x=0),r)\n",
    "        s=radical(sqrt(-a1^2 + 4*a0),r)\n",
    "        return 1/2*b1*log(a1*x + x^2 + a0) - (a1*b1 - 2*b0)*arctan((a1 + 2*x)/s)/g"
   ]
  },
  {
   "cell_type": "code",
   "execution_count": 13,
   "metadata": {},
   "outputs": [],
   "source": [
    "def rac_integral(f,x, list=False, radical=True):\n",
    "# Шаг 1. Приведение к правильной дроби\n",
    "    g=SR(f).numerator()\n",
    "    h=SR(f).denominator()\n",
    "    [U,r]=QQ[x](g).quo_rem(QQ[x](h))\n",
    "# Шаг 2. Отыскание алгебраической части\n",
    "    [A,L]=ostrogradski(SR(r/h),x)\n",
    "# Шаг 3. Интегрирование log части\n",
    "    pfd=FractionField(AA[x])(L).partial_fraction_decomposition()[1]\n",
    "# Сборка ответа: интеграл многочлена + алгебраическая часть + интеграл от лог\n",
    "    ans= [integral(U,x), A]+[pfdintegral(i,x,radical) for i in pfd]\n",
    "    if list==True:\n",
    "        return ans\n",
    "    else:\n",
    "        return sum(ans)"
   ]
  },
  {
   "cell_type": "code",
   "execution_count": 15,
   "metadata": {},
   "outputs": [],
   "source": [
    " f =x ^4/( x ^3+8) ^3"
   ]
  },
  {
   "cell_type": "markdown",
   "metadata": {},
   "source": [
    "a.)\n",
    "$$\\int xdx/((x - 1)*(x - 2)^2*(x − 3)^3)$$\n"
   ]
  },
  {
   "cell_type": "code",
   "execution_count": 62,
   "metadata": {},
   "outputs": [
    {
     "data": {
      "text/plain": [
       "1/6*x^6 - 12/5*x^5 + 55/4*x^4 - 116/3*x^3 + 50*x^2 - 8*x - 8*log(x - 1)"
      ]
     },
     "execution_count": 62,
     "metadata": {},
     "output_type": "execute_result"
    }
   ],
   "source": [
    "integral(x/(x - 1)*(x - 2)^2*(x - 3)^3,x)"
   ]
  },
  {
   "cell_type": "code",
   "execution_count": 60,
   "metadata": {},
   "outputs": [
    {
     "data": {
      "text/plain": [
       "1/4*(21*x^2 - 116*x + 156)/(x^3 - 8*x^2 + 21*x - 18) - 1/8*log(x - 1) - 5*log(x - 2) + 41/8*log(x - 3)"
      ]
     },
     "execution_count": 60,
     "metadata": {},
     "output_type": "execute_result"
    }
   ],
   "source": [
    "integral(x/(RR[x](x - 1)*(x - 2)^2*(x - 3)^3),x)"
   ]
  },
  {
   "cell_type": "markdown",
   "metadata": {},
   "source": [
    "b.)\n",
    "$$\\int dx/(x^3 + 1)$$\n"
   ]
  },
  {
   "cell_type": "code",
   "execution_count": 71,
   "metadata": {},
   "outputs": [
    {
     "data": {
      "text/plain": [
       "1/3*sqrt(3)*arctan(1/3*sqrt(3)*(2*x - 1)) - 1/6*log(x^2 - x + 1) + 1/3*log(x + 1)"
      ]
     },
     "execution_count": 71,
     "metadata": {},
     "output_type": "execute_result"
    }
   ],
   "source": [
    "integral(1/(x^3 + 1),x)"
   ]
  },
  {
   "cell_type": "code",
   "execution_count": 69,
   "metadata": {},
   "outputs": [
    {
     "data": {
      "text/plain": [
       "0.3333333333333333*sqrt(3)*arctan(1/3*sqrt(3)*(2*x - 1)) - 0.16666666666666666*log(x^2 - x + 1) + 0.3333333333333333*log(x + 1)"
      ]
     },
     "execution_count": 69,
     "metadata": {},
     "output_type": "execute_result"
    }
   ],
   "source": [
    "integral(1/RR[x](x^3 + 1),x)"
   ]
  },
  {
   "cell_type": "markdown",
   "metadata": {},
   "source": [
    "c.)\n",
    "$$\\int xdx/(x^3 + 1)^5$$\n"
   ]
  },
  {
   "cell_type": "code",
   "execution_count": 79,
   "metadata": {},
   "outputs": [
    {
     "data": {
      "text/plain": [
       "35/729*sqrt(3)*arctan(1/3*sqrt(3)*(2*x - 1)) + 1/972*(140*x^11 + 525*x^8 + 720*x^5 + 416*x^2)/(x^12 + 4*x^9 + 6*x^6 + 4*x^3 + 1) + 35/1458*log(x^2 - x + 1) - 35/729*log(x + 1)"
      ]
     },
     "execution_count": 79,
     "metadata": {},
     "output_type": "execute_result"
    }
   ],
   "source": [
    "integral(x/(x^3 + 1)^5,x)"
   ]
  },
  {
   "cell_type": "code",
   "execution_count": 73,
   "metadata": {},
   "outputs": [
    {
     "data": {
      "text/plain": [
       "35/729*sqrt(3)*arctan(1/3*sqrt(3)*(2*x - 1)) + 1/972*(140*x^11 + 525*x^8 + 720*x^5 + 416*x^2)/(x^12 + 4*x^9 + 6*x^6 + 4*x^3 + 1) + 35/1458*log(x^2 - x + 1) - 35/729*log(x + 1)"
      ]
     },
     "execution_count": 73,
     "metadata": {},
     "output_type": "execute_result"
    }
   ],
   "source": [
    "integral(x/QQ[x](x^3 + 1)^5,x)"
   ]
  },
  {
   "cell_type": "markdown",
   "metadata": {},
   "source": [
    "d.)\n",
    "$$\\int x^4dx(x^3 + 1)$$\n"
   ]
  },
  {
   "cell_type": "code",
   "execution_count": 74,
   "metadata": {},
   "outputs": [
    {
     "data": {
      "text/plain": [
       "1/2*x^2 - 1/3*sqrt(3)*arctan(1/3*sqrt(3)*(2*x - 1)) - 1/6*log(x^2 - x + 1) + 1/3*log(x + 1)"
      ]
     },
     "execution_count": 74,
     "metadata": {},
     "output_type": "execute_result"
    }
   ],
   "source": [
    "integral(x^4/(x^3 + 1),x)"
   ]
  },
  {
   "cell_type": "code",
   "execution_count": 77,
   "metadata": {},
   "outputs": [
    {
     "data": {
      "text/plain": [
       "1/2*x^2 - 1/3*sqrt(3)*arctan(1/3*sqrt(3)*(2*x - 1)) - 1/6*log(x^2 - x + 1) + 1/3*log(x + 1)"
      ]
     },
     "execution_count": 77,
     "metadata": {},
     "output_type": "execute_result"
    }
   ],
   "source": [
    "integral(QQ[x](x^4)/QQ[x](x^3 + 1),x)"
   ]
  },
  {
   "cell_type": "markdown",
   "metadata": {},
   "source": [
    "e.)\n",
    "$$\\int dx/(x^3 + x + 1)^3*(x^2 + 1)^2$$\n"
   ]
  },
  {
   "cell_type": "code",
   "execution_count": 78,
   "metadata": {},
   "outputs": [
    {
     "data": {
      "text/plain": [
       "-1/1922*(30*x^5 - 200*x^4 + 50*x^3 + 233*x^2 - 304*x + 609)/(x^6 + 2*x^4 + 2*x^3 + x^2 + 2*x + 1) - 5/961*integrate((3*x - 40)/(x^3 + x + 1), x)"
      ]
     },
     "execution_count": 78,
     "metadata": {},
     "output_type": "execute_result"
    }
   ],
   "source": [
    "integral(1/(x^3 + x + 1)^3*(x^2 + 1)^2,x)"
   ]
  },
  {
   "cell_type": "code",
   "execution_count": 83,
   "metadata": {},
   "outputs": [
    {
     "data": {
      "text/plain": [
       "-0.0005202913631633715*(30*x^5 - 200*x^4 + 50*x^3 + 233*x^2 - 304*x + 609)/(x^6 + 2*x^4 + 2*x^3 + x^2 + 2*x + 1) - 0.005202913631633715*integrate((3*x - 40)/(x^3 + x + 1), x)"
      ]
     },
     "execution_count": 83,
     "metadata": {},
     "output_type": "execute_result"
    }
   ],
   "source": [
    "integral(1/RR[x](x^3 + x + 1)^3*(x^2 + 1)^2,x)"
   ]
  },
  {
   "cell_type": "markdown",
   "metadata": {},
   "source": [
    "h.)\n",
    "$$\\int(3x^2 + 1)dx/(x^3 + x + 1)^3$$"
   ]
  },
  {
   "cell_type": "code",
   "execution_count": 89,
   "metadata": {},
   "outputs": [
    {
     "data": {
      "text/plain": [
       "-1/2/(x^3 + x + 1)^2"
      ]
     },
     "execution_count": 89,
     "metadata": {},
     "output_type": "execute_result"
    }
   ],
   "source": [
    "integral((3*x^2 + 1)/((x^3 + x + 1)^3),x)"
   ]
  },
  {
   "cell_type": "code",
   "execution_count": 93,
   "metadata": {},
   "outputs": [
    {
     "data": {
      "text/plain": [
       "-1/2/(x^6 + 2*x^4 + 2*x^3 + x^2 + 2*x + 1)"
      ]
     },
     "execution_count": 93,
     "metadata": {},
     "output_type": "execute_result"
    }
   ],
   "source": [
    "integral(RR[x](3*x^2 + 1)/(RR[x](x^3 + x + 1)^3),x)"
   ]
  },
  {
   "cell_type": "code",
   "execution_count": null,
   "metadata": {},
   "outputs": [],
   "source": []
  }
 ],
 "metadata": {
  "kernelspec": {
   "display_name": "SageMath 9.3",
   "language": "sage",
   "name": "sagemath"
  },
  "language_info": {
   "codemirror_mode": {
    "name": "ipython",
    "version": 3
   },
   "file_extension": ".py",
   "mimetype": "text/x-python",
   "name": "python",
   "nbconvert_exporter": "python",
   "pygments_lexer": "ipython3",
   "version": "3.7.10"
  }
 },
 "nbformat": 4,
 "nbformat_minor": 4
}

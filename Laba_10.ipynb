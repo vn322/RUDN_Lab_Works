{
  "cells": [
    {
      "cell_type": "markdown",
      "metadata": {
        "id": "X-uMNhYV0iLq"
      },
      "source": [
        "# Лабораторная работа 10. Динамическое программирование."
      ]
    },
    {
      "cell_type": "code",
      "execution_count": 1,
      "metadata": {
        "id": "SHkPGr-f0iLt"
      },
      "outputs": [],
      "source": [
        "import networkx as nx\n",
        "import pylab\n",
        "import numpy as np\n",
        "import time\n",
        "import matplotlib.pyplot as plt"
      ]
    },
    {
      "cell_type": "markdown",
      "metadata": {
        "id": "rWzyXdti0iLv"
      },
      "source": [
        "# Пример №1. Числа Фибоначчи\n",
        "\n",
        "Последовательность чисел Фибоначчи задаётся рекуррентным выражением:\n",
        "\n",
        "$$ F_n =  \\begin{cases}\n",
        "           0, n = 0, \\\\\n",
        "           1, n = 1, \\\\\n",
        "           F_{n-1}+F_{n-2}, n > 1.\n",
        "          \\end{cases} $$\n",
        "\n",
        "Что даёт следующую последовательность {0, 1, 1, 2, 3, 5, 8, 13, 21, 34, …}."
      ]
    },
    {
      "cell_type": "markdown",
      "metadata": {
        "id": "VV4RJhm-0iLv"
      },
      "source": [
        "Один из способов решения, который может показаться логичным и эффективным, — решение с помощью рекурсии:"
      ]
    },
    {
      "cell_type": "code",
      "execution_count": 2,
      "metadata": {
        "id": "BqoNru2w0iLw"
      },
      "outputs": [],
      "source": [
        "def Fibonacci_Recursion(n):\n",
        "    if n == 0:\n",
        "        return 0\n",
        "    if n == 1:\n",
        "        return 1\n",
        "    return Fibonacci_Recursion (n-1) + Fibonacci_Recursion (n-2)"
      ]
    },
    {
      "cell_type": "markdown",
      "metadata": {
        "id": "dBPG5vv70iLw"
      },
      "source": [
        "Используя такую функцию, мы будем решать задачу «с конца» — будем шаг за шагом уменьшать n, пока не дойдем до известных значений.\n",
        "\n",
        "Но, как мы видели ранее эта реализация многократно повторяет решение одних и тех же задач. Это связано с тем, что одни и те же промежуточные данные вычисляются по несколько раз, а число операций нарастает с той же скоростью, с какой растут числа Фибоначчи — экспоненциально.\n",
        "\n",
        "Один из выходов из данной ситуации — сохранение уже найденных промежуточных результатов с целью их повторного использования (кеширование). Причём кеш должен храниться во внешней области памяти."
      ]
    },
    {
      "cell_type": "code",
      "execution_count": 3,
      "metadata": {
        "id": "gaJ5WuGP0iLx"
      },
      "outputs": [],
      "source": [
        "def Fibonacci_Recursion_cache(n, cache):\n",
        "    if n == 0:\n",
        "        return 0\n",
        "    if n == 1:\n",
        "        return 1\n",
        "    if cache[n] > 0:\n",
        "        return cache[n]\n",
        "    cache[n] = Fibonacci_Recursion_cache (n-1, cache) + Fibonacci_Recursion_cache (n-2, cache)\n",
        "    return cache[n]"
      ]
    },
    {
      "cell_type": "markdown",
      "metadata": {
        "id": "nQpKXxBD0iLx"
      },
      "source": [
        "Приведенное решение достаточно эффективно (за исключением накладных расходов на вызов функций). Но можно поступить ещё проще:"
      ]
    },
    {
      "cell_type": "code",
      "execution_count": 4,
      "metadata": {
        "id": "ITKfxjYt0iLy"
      },
      "outputs": [],
      "source": [
        "def Fibonacci(n):\n",
        "    \n",
        "    fib = [0]*max(2,n)\n",
        "    fib[0] = 1\n",
        "    fib[1] = 1\n",
        "    for i in range(2, n):\n",
        "        fib[i] = fib[i - 1] + fib[i - 2]\n",
        "        \n",
        "    return fib[n-1]"
      ]
    },
    {
      "cell_type": "markdown",
      "metadata": {
        "id": "p3wgUeKf0iL0"
      },
      "source": [
        "Такое решение можно назвать решением «с начала» — мы первым делом заполняем известные значения, затем находим первое неизвестное значение, потом следующее и т.д., пока не дойдем до нужного.\n",
        "\n",
        "Так и работает динамическое программирование: сначала решили все подзадачи (нашли все F[i] для i < n), затем, зная решения подзадач, нашли решение исходной задачи."
      ]
    },
    {
      "cell_type": "markdown",
      "metadata": {
        "id": "s-wc9Mqj0iL0"
      },
      "source": [
        "Проверим правильность работы этих программ:"
      ]
    },
    {
      "cell_type": "code",
      "execution_count": 5,
      "metadata": {
        "id": "orka0id-0iL1"
      },
      "outputs": [],
      "source": [
        "N = 9\n",
        "cache = [0]*(N+1)\n",
        "assert Fibonacci_Recursion(N) == 34\n",
        "assert Fibonacci_Recursion_cache(N, cache) == 34\n",
        "assert Fibonacci(N) == 34"
      ]
    },
    {
      "cell_type": "markdown",
      "metadata": {
        "id": "bAb076Pe0iL1"
      },
      "source": [
        "И их производительность:"
      ]
    },
    {
      "cell_type": "code",
      "execution_count": 6,
      "metadata": {
        "id": "lSw59JQE0iL1"
      },
      "outputs": [],
      "source": [
        "n=25\n",
        "a = np.zeros(n)\n",
        "cache = [0]*(n+1)"
      ]
    },
    {
      "cell_type": "code",
      "execution_count": 7,
      "metadata": {
        "colab": {
          "base_uri": "https://localhost:8080/"
        },
        "id": "6VE-VAYA0iL2",
        "outputId": "2e6d6fd2-543c-4cdb-b853-a611e6a68b77"
      },
      "outputs": [
        {
          "output_type": "stream",
          "name": "stdout",
          "text": [
            "Fibonacci_Recursion:         5.965996e-02 sec\n",
            "Fibonacci_Recursion_cache:   2.503395e-04 sec\n",
            "Fibonacci:                   1.611710e-04 sec\n"
          ]
        }
      ],
      "source": [
        "start_time = time.time()\n",
        "for i in range (n): a[i] = Fibonacci_Recursion(i)\n",
        "print('%-28s %12.6e sec' % ('Fibonacci_Recursion:', time.time()-start_time))\n",
        "\n",
        "start_time = time.time()\n",
        "for i in range (n): \n",
        "    cache = [0]*(i+1)\n",
        "    a[i] = Fibonacci_Recursion_cache(i,cache)\n",
        "print('%-28s %12.6e sec' % ('Fibonacci_Recursion_cache:', time.time()-start_time))\n",
        "    \n",
        "start_time = time.time()\n",
        "for i in range (n): a[i] = Fibonacci(i)\n",
        "print('%-28s %12.6e sec' % ('Fibonacci:', time.time()-start_time))"
      ]
    },
    {
      "cell_type": "markdown",
      "metadata": {
        "id": "-M0YenhX0iL2"
      },
      "source": [
        "# Пример №2. Задача о возрастающей подпоследовательности\n",
        "\n",
        "Пусть имеется последовательность чисел $a_1, a_2, … a_N$. Подпоследовательность $a_{i_1}, a_{i_2}, a_{i_3}$, ... называется возрастающей, если\n",
        "$$ 1 < i_1 < i_2 < ... < i_k < n $$\n",
        "и\n",
        "$$ a_{i_1} < a_{i_2} < ... < a_{i_k} $$\n",
        "Требуется найти максимальную длину возрастающей подпоследовательности. Например, для последовательности $a_i = {10, 4, 13, 7, 3, 6, 17, 33}$ одна из возрастающих подпоследовательностей есть ${4, 7, 17, 33}$.\n",
        "\n",
        "В этой задаче длина наибольшего пути к вершине i (уравнение Беллмана) есть максимум из наибольших путей к предыдущим вершинам плюс единица:\n",
        "$$ L_i = 1 + max(L_{i-1, j}, j = 1, N_{L_{i-1}}) $$."
      ]
    },
    {
      "cell_type": "code",
      "execution_count": 19,
      "metadata": {
        "id": "WnEqmVL40iL3"
      },
      "outputs": [],
      "source": [
        "def f(a, k):\n",
        "    # k - номер конечного элемента\n",
        "    m=0\n",
        "    for i in range(k):      # для всех слева\n",
        "        if (a[i] < a[k]):   # есть путь?\n",
        "            p = f(a,i)      # его длина\n",
        "            print('p',p)\n",
        "            print('m',m)\n",
        "            if (p>m): m=p   # m = max(m,p)\n",
        "    return m+1"
      ]
    },
    {
      "cell_type": "code",
      "execution_count": 27,
      "metadata": {
        "colab": {
          "base_uri": "https://localhost:8080/"
        },
        "id": "UpqtNRI_0iL3",
        "outputId": "0ebd231f-9675-4706-87ae-b92fcc798e2d"
      },
      "outputs": [
        {
          "output_type": "stream",
          "name": "stdout",
          "text": [
            "p 1\n",
            "m 0\n",
            "p 1\n",
            "m 0\n",
            "p 2\n",
            "m 1\n",
            "p 1\n",
            "m 0\n",
            "p 2\n",
            "m 2\n"
          ]
        },
        {
          "output_type": "execute_result",
          "data": {
            "text/plain": [
              "3"
            ]
          },
          "metadata": {},
          "execution_count": 27
        }
      ],
      "source": [
        "a = [1, 4, 2, 5, 3]\n",
        "f(a,3)"
      ]
    },
    {
      "cell_type": "markdown",
      "metadata": {
        "id": "xllB-had0iL4"
      },
      "source": [
        "Чтобы повторно не решать решённые подзадачи, введём массив c размером N, хранящий значения вычисленных функций. Начальные значения его равны нулю — значению, которое не может быть верным решением любой из подзадач. Это позволит нам определить, решали ли мы эту подзадачу или нет. Если нет — запускаем решение для требуемого аргумента, и после получения результата сохраняем его."
      ]
    },
    {
      "cell_type": "code",
      "execution_count": 28,
      "metadata": {
        "id": "fdTVK2IH0iL4"
      },
      "outputs": [],
      "source": [
        "def f(a, N, k, cache):\n",
        "    # k - номер конечного элемента\n",
        "    if(cache[k]!=0): return cache[k]\n",
        "    m=0\n",
        "    for i in range(k-1):          # для всех слева\n",
        "        if (a[i] < a[k]):         # есть путь?\n",
        "            p = f(a,N,i,cache)    # его длина\n",
        "            if (p>m): m=p         # m = max(m,p)\n",
        "    cache[k] = m+1\n",
        "    return cache[k]"
      ]
    },
    {
      "cell_type": "code",
      "execution_count": 30,
      "metadata": {
        "colab": {
          "base_uri": "https://localhost:8080/"
        },
        "id": "84mX-c2L0iL4",
        "outputId": "ebb9e9be-526a-4dc2-ba71-11e3ad228c26"
      },
      "outputs": [
        {
          "output_type": "execute_result",
          "data": {
            "text/plain": [
              "3"
            ]
          },
          "metadata": {},
          "execution_count": 30
        }
      ],
      "source": [
        "c = [0]*5\n",
        "a = [1, 4, 2, 5, 3]\n",
        "f(a,5,4,c)"
      ]
    },
    {
      "cell_type": "code",
      "execution_count": null,
      "metadata": {
        "id": "R-9VQ4Tk0iL4"
      },
      "outputs": [],
      "source": [
        ""
      ]
    },
    {
      "cell_type": "markdown",
      "metadata": {
        "id": "g8DxHGOR0iL4"
      },
      "source": [
        "# Пример №3. Задача о банкомате\n",
        "\n",
        "Если в задаче о рюкзаке сделать варианты предметов неисчерпаемыми можно перейти к задаче о банкомате. \n",
        "Постановка: В банкомате имеется неограниченное количество банкнот (b1, b2, . . . , bn) заданных номиналов. Нужно выдать требуемую сумму денег наименьшим количеством банкнот.\n",
        "Как мы уже выяснили, жадное решение возможно не для всех наборов входных данных. Например, при b = {1, 6, 10} и x = 12 жадное решение даст ответ 3 (10 + 1 + 1), хотя существует более оптимальное решение 2 (6 + 6). \n",
        "Сделаем задачу о банкомате похожей на задачу о количестве маршрутов.\n",
        "\n",
        "Для каждой суммы проведём стрелку к узлу с новой разрешённой суммой. Уравнение Беллмана:\n",
        "\n",
        "$$ f(x) =  \\begin{cases}\n",
        "            min(f(x-b_i))+1, x > 0 \\\\\n",
        "            \\quad 0 \\quad, x = 0 \\\\\n",
        "            \\quad \\infty \\quad, x < 0\n",
        "           \\end{cases} $$"
      ]
    },
    {
      "cell_type": "code",
      "execution_count": 31,
      "metadata": {
        "id": "IvpHG4W20iL5"
      },
      "outputs": [],
      "source": [
        "googol = 999999999\n",
        "def f(x,b,n,cache):\n",
        "    if (x<0): return googol\n",
        "    elif(x==0): return 0\n",
        "    elif(cache[x]>=0): return cache[x]\n",
        "    minim = googol\n",
        "    for i in range(n):\n",
        "        r = f(x-b[i],b,n, cache)\n",
        "        if (r<minim): minim=r\n",
        "    cache[x] = minim + 1\n",
        "    return cache[x]"
      ]
    },
    {
      "cell_type": "code",
      "execution_count": 32,
      "metadata": {
        "colab": {
          "base_uri": "https://localhost:8080/"
        },
        "id": "4U9ALrlH0iL5",
        "outputId": "9611963b-72f3-4726-9d05-e6f09f122609"
      },
      "outputs": [
        {
          "output_type": "execute_result",
          "data": {
            "text/plain": [
              "3"
            ]
          },
          "metadata": {},
          "execution_count": 32
        }
      ],
      "source": [
        "cache = [-1]*10\n",
        "b = [1, 4, 6]\n",
        "f(9,b,3,cache)"
      ]
    },
    {
      "cell_type": "markdown",
      "metadata": {
        "id": "oHKUC7yG0iL5"
      },
      "source": [
        "Доведя решение задачи до ответа и имея кэш-таблицу, можно восстановить решение без дополнительной информации.\n",
        "Предположим, что мы знаем, что точный ответ при заданных начальных значениях есть 7. Тогда возникает вопрос: какой предыдущий ход мы сделали, чтобы попасть в заключительную позицию? Введём термин ранг для обозначения наименьшего числа ходов, требуемого для достижения текущей позиции из начальной. Тогда каждый ход решения всегда переходит в позицию с рангом, большим строго на единицу, и это позволяет нам придумать следующий алгоритм:\n",
        "\n",
        "1. решение основной задачи дало в ответе k, это — ранг заключительной позиции,\n",
        "2. делаем позицию текущей,\n",
        "3. если текущая позиция имеет ранг 0, то это — начальная позиция и алгоритм завершён,\n",
        "4. рассматриваем позиции, ведущие в текущую, и выбираем из них произвольную с рангом k − 1,\n",
        "5. запоминаем ход, который привёл из позиции ранга k − 1 в ранг k,\n",
        "6. понижаем ранг – k → k − 1 и переходим к 2."
      ]
    },
    {
      "cell_type": "code",
      "execution_count": 33,
      "metadata": {
        "id": "aOXe2Gdw0iL5"
      },
      "outputs": [],
      "source": [
        "def buildSolution(x, b, n, cache):\n",
        "    ret = []\n",
        "    for k in range (cache[x],-1,-1):\n",
        "        for i in range(n):\n",
        "            r = x - b[i]\n",
        "            if (r >= 0 and cache[r] == k-1):\n",
        "                x = r\n",
        "                ret.append(b[i])\n",
        "                break\n",
        "    return ret"
      ]
    },
    {
      "cell_type": "code",
      "execution_count": 34,
      "metadata": {
        "colab": {
          "base_uri": "https://localhost:8080/"
        },
        "id": "Jt1H609t0iL6",
        "outputId": "763a51ff-d7fc-4c70-f331-b6481a21f1d6"
      },
      "outputs": [
        {
          "output_type": "execute_result",
          "data": {
            "text/plain": [
              "[1, 4, 4]"
            ]
          },
          "metadata": {},
          "execution_count": 34
        }
      ],
      "source": [
        "buildSolution(9, b, 3, cache)"
      ]
    },
    {
      "cell_type": "markdown",
      "metadata": {
        "id": "dxX3Xi7P0iL6"
      },
      "source": [
        "# Пример №4. Задача о кузнечике.\n",
        "\n",
        "Рассмотрим следующую задачу. На числовой прямой сидит кузнечик, который может прыгать вправо на одну или на две единицы. Первоначально кузнечик находится в точке с координатой 1. Определите количество различных маршрутов кузнечика, приводящих его в точку с координатой n.\n",
        "\n",
        "Обозначим количество маршрутов кузнечика, ведущих в точку с координатой n, как K[n]. Прежде всего заметим, что существует ровно один маршрут из точки 1 в точку 1 — он не содержит ни одного прыжка. В точку 2 можно прыгнуть единственным способом — из точки 1.\n",
        "\n",
        "Как вычислить K[n]? В точку кузнечик может попасть двумя способами — из точки при помощи прыжка длиной 2 и из точки прыжком длины 1. То есть число способов попасть в точку n равно сумме числа способов попасть в точку (n-1) и (n-2), что позволяет выписать рекуррентное соотношение: \n",
        "\n",
        "$$K[n] = K[n-1] + K[n-2]$$.\n",
        "\n",
        "Можно заметить, что данная задача по сути свелась к числам Фибоначчи, поэтому мы не будем выписывать её решение."
      ]
    },
    {
      "cell_type": "markdown",
      "metadata": {
        "id": "hEwMKAQp0iL6"
      },
      "source": [
        "# Упражнение №1\n",
        "\n",
        "Решите задачу о количестве способов достичь точки n из точки 1, если кузнечик умеет прыгать +1, +2 и +3."
      ]
    },
    {
      "cell_type": "code",
      "execution_count": 36,
      "metadata": {
        "id": "WMmzWevE0iL6"
      },
      "outputs": [],
      "source": [
        "def grasshopper(n):\n",
        "    GH = [0] * max(3, n)\n",
        "    GH[0] = 0 # уже в первой точке\n",
        "    GH[1] = 1\n",
        "    GH[2] = 2\n",
        "    for i in range(3, n):\n",
        "        GH[i] = GH[i - 1] + GH[i - 2] + GH[i - 3]\n",
        "    return GH[n - 1]\n"
      ]
    },
    {
      "cell_type": "code",
      "source": [
        "grasshopper(8)"
      ],
      "metadata": {
        "colab": {
          "base_uri": "https://localhost:8080/"
        },
        "id": "Sr-w2ES7__5Y",
        "outputId": "28de1bba-6a8e-4909-f5a6-a5694c511c25"
      },
      "execution_count": 37,
      "outputs": [
        {
          "output_type": "execute_result",
          "data": {
            "text/plain": [
              "37"
            ]
          },
          "metadata": {},
          "execution_count": 37
        }
      ]
    },
    {
      "cell_type": "markdown",
      "metadata": {
        "id": "XJ-Ul0R90iL6"
      },
      "source": [
        "# Упражнение №2 Задача о кузнечике со стоимостями посещения точек\n",
        "\n",
        "Пусть кузнечик прыгает на одну или две точки вперед, а за прыжок в каждую точку необходимо заплатить определенную стоимость, различную для различных точек. Стоимость прыжка в точку i задается значением price[i] списка price. Необходимо найти минимальную стоимость маршрута кузнечика из точки 0 в точку n.\n",
        "\n",
        "На этот раз нам необходимо модифицировать определение целевой функции. Пусть C[n] — минимальная стоимость пути из 1 в n.\n",
        "\n",
        "Выведем рекуррентное соотношение для этой функции.Чтобы попасть в точку n мы должны попасть в неё последним прыжком из (n-1) или (n-2). Минимальные стоимости этих маршрутов будут равны С[n-1] и С[n-2] соответственно, к ним придется добавить значение price[n] за прыжок в клетку n. Но из двух клеток мы можем выбрать любую.\n",
        "\n",
        "Нужно выбрать тот маршрут, который имеет наименьшую стоимость. Ур. Беллмана: \n",
        "\n",
        "$$C[n] = min(C[n-1], C[n-2]) + price[n]$$.\n",
        "\n",
        "Вычислить значение целевой функции также лучше при помощи динамического программирования, а не рекурсии.\n",
        "\n",
        "Напишите функцию вычисления наименьшей стоимость достижения клетки n из клетки 1"
      ]
    },
    {
      "cell_type": "code",
      "execution_count": 38,
      "metadata": {
        "id": "MWSC0PJA0iL7"
      },
      "outputs": [],
      "source": [
        "def grasshopperWithCost(n, prices):\n",
        "    if len(prices) < 2:\n",
        "        return\n",
        "    costs = [0] * max(2, n + 1)\n",
        "    costs[0] = 0\n",
        "    costs[1] = prices[0]\n",
        "    for i in range(2, n + 1):\n",
        "        costs[i] = min(costs[i - 1], costs[i - 2]) + prices[i - 1]\n",
        "    return costs[n]"
      ]
    },
    {
      "cell_type": "code",
      "source": [
        "prices = list(map(float, input('Введите через пробел стоимости попадания в точки 2 - N: ').split()))"
      ],
      "metadata": {
        "colab": {
          "base_uri": "https://localhost:8080/"
        },
        "id": "1HEm9ERdAPj8",
        "outputId": "0c31bf41-e183-4cef-c0e8-6d6736559f93"
      },
      "execution_count": 40,
      "outputs": [
        {
          "name": "stdout",
          "output_type": "stream",
          "text": [
            "Введите через пробел стоимости попадания в точки 2 - N: 5 3 4 2 1\n"
          ]
        }
      ]
    },
    {
      "cell_type": "code",
      "source": [
        "try:\n",
        "    k = int(input('Введите точку, в которую нужно рассчитать маршрут минимальной стоимости: ')) - 1\n",
        "    if not 1 <= k < len(prices) + 1:\n",
        "        print('Не назначена стоимость пути до точки.')\n",
        "    else:\n",
        "        print('Стоимость пути равна', grasshopperWithCost(k, prices))\n",
        "except:\n",
        "    print('Точка должна быть обозначена целым числом от 1 до N.')"
      ],
      "metadata": {
        "colab": {
          "base_uri": "https://localhost:8080/"
        },
        "id": "991qJyHGAflY",
        "outputId": "ce602d83-2297-4c01-f15f-3518eac566ae"
      },
      "execution_count": 41,
      "outputs": [
        {
          "output_type": "stream",
          "name": "stdout",
          "text": [
            "Введите точку, в которую нужно рассчитать маршрут минимальной стоимости: 4\n",
            "Стоимость пути равна 7.0\n"
          ]
        }
      ]
    },
    {
      "cell_type": "markdown",
      "metadata": {
        "id": "6PfTfQAA0iL7"
      },
      "source": [
        "# Упражнение №3 Восстановление наиболее выгодной траектории\n",
        "Итак, мы нашли список С, где будет записана минимальная стоимость маршрута для всех точек от 1 до n.\n",
        "\n",
        "Но помимо нахождения наименьшей стоимости маршрута, разумеется, хотелось бы найти и сам маршрут минимальной стоимости. Такая задача называется задачей «восстановления ответа».\n",
        "\n",
        "Для восстановления ответа будем для каждой точки запоминать номер точки prev[i], из которой кузнечик попал в точку i, если он будет передвигаться по пути минимальной стоимости. То есть prev[i] — это точка, предшествующая точке с номером i на пути минимальной стоимости (также говорят, что Prev — это массив предшественников). Как определить prev[i]? Если C[i-1] < C[i-2], то кузнечик попал в точку i из точки (i-1), поэтому prev[i] = i - 1, иначе prev[i] = i - 2.\n",
        "\n",
        "Для восстановления пути необходимо начать с точки n и переходить от каждой точки к ее предшественнику, пока путь не дойдет до начальной точки с номером 0. Номера всех вершин будем добавлять в список path. В конце в список path добавляется начальная вершина номер 1, которая не была обработана в основном цикле, а затем весь список path разворачивается в обратном порядке (т. к. вершины добавляются в обратном порядке, от конечной к начальной).\n",
        "\n",
        "Модифицируйте алгоритм вычисления значений целевой функции так, чтобы вычислить значения prev[i], и восстановите траекторию наименьшей стоимости из точки 1 в точку n."
      ]
    },
    {
      "cell_type": "code",
      "execution_count": 42,
      "metadata": {
        "id": "RGbIYR0M0iL7"
      },
      "outputs": [],
      "source": [
        "def grasshopperWithCostAndPath(n, prices):\n",
        "    if len(prices) < 2:\n",
        "        print('')\n",
        "        return\n",
        "    if n == 1:\n",
        "        return 0, []\n",
        "    elif n == 2:\n",
        "        return prices[0], [1]\n",
        "    paths = []\n",
        "    costs = [0] * max(2, n + 1)\n",
        "    costs[0] = 0\n",
        "    costs[1] = prices[0]\n",
        "    paths.append([])\n",
        "    paths.append([1])\n",
        "    for i in range(2, n):\n",
        "        if costs[i - 1] >= costs[i - 2]:\n",
        "            costs[i] = costs[i - 2] + prices[i - 1]\n",
        "            paths.append(paths[i - 2] + [i - 1])\n",
        "        else:\n",
        "            costs[i] = costs[i - 1] + prices[i - 1]\n",
        "            paths.append(paths[i - 1] + [i])\n",
        "    return costs[n - 1], paths[n - 1]"
      ]
    },
    {
      "cell_type": "code",
      "source": [
        "prices = list(map(float, input('Введите через пробел стоимости попадания в точки 2 - N: ').split()))"
      ],
      "metadata": {
        "colab": {
          "base_uri": "https://localhost:8080/"
        },
        "id": "eIhtzzKBA47c",
        "outputId": "856c3c64-de4a-4005-8043-b2829a503e83"
      },
      "execution_count": 44,
      "outputs": [
        {
          "name": "stdout",
          "output_type": "stream",
          "text": [
            "Введите через пробел стоимости попадания в точки 2 - N: 6 2 5 1 4\n"
          ]
        }
      ]
    },
    {
      "cell_type": "code",
      "source": [
        "try:\n",
        "    k = int(input('Введите точку, в которую нужно рассчитать маршрут минимальной стоимости: '))\n",
        "    if not 0 < k <= len(prices) + 1:\n",
        "        print('Не назначена стоимость пути до точки.')\n",
        "    else:\n",
        "        cost, path = grasshopperWithCostAndPath(k, prices)\n",
        "        print('Стоимость пути равна ' + str(cost) + '.')\n",
        "        print('Путь: ', end='')\n",
        "        for i in range(len(path)):\n",
        "            print(path[i], end=' -> ')\n",
        "        print(k)\n",
        "except:\n",
        "    print('Точка должна быть обозначена целым числом от 1 до N.')"
      ],
      "metadata": {
        "colab": {
          "base_uri": "https://localhost:8080/"
        },
        "id": "y2nXJewpA40E",
        "outputId": "dd254377-cf40-40a6-dc2b-f93ddca10e35"
      },
      "execution_count": 50,
      "outputs": [
        {
          "output_type": "stream",
          "name": "stdout",
          "text": [
            "Введите точку, в которую нужно рассчитать маршрут минимальной стоимости: 5\n",
            "Стоимость пути равна 3.0.\n",
            "Путь: 1 -> 3 -> 5\n"
          ]
        }
      ]
    },
    {
      "cell_type": "code",
      "source": [
        "def onlyPathDefinderForOptimalCost(dot, prices):\n",
        "    # по условию путь оптимален, так как его стоимость минимальна\n",
        "    prices = [0] + prices\n",
        "    price = prices[dot]\n",
        "    while dot > 1:\n",
        "        if prices[dot - 1] >= prices[dot - 2]:\n",
        "            price += prices[dot - 2]\n",
        "            dot -= 2\n",
        "        else:\n",
        "            price += prices[dot - 1]\n",
        "            dot -= 1\n",
        "    return price"
      ],
      "metadata": {
        "id": "UbJC1Og5A4p0"
      },
      "execution_count": 46,
      "outputs": []
    },
    {
      "cell_type": "code",
      "source": [
        "print('Стоимость пути равна:', \n",
        "      onlyPathDefinderForOptimalCost(int(input('Введите точку, из которой хотите ' +\n",
        "                                               'рассчитать оптимальную стоимость: ')) - 1, prices))"
      ],
      "metadata": {
        "colab": {
          "base_uri": "https://localhost:8080/"
        },
        "id": "IT3m3QZ9BX3M",
        "outputId": "f4b322a4-7882-455b-8ba2-c30763330451"
      },
      "execution_count": 49,
      "outputs": [
        {
          "output_type": "stream",
          "name": "stdout",
          "text": [
            "Введите точку, из которой хотите рассчитать оптимальную стоимость: 4\n",
            "Стоимость пути равна: 7.0\n"
          ]
        }
      ]
    },
    {
      "cell_type": "markdown",
      "metadata": {
        "id": "9UAqdHDJ0iL7"
      },
      "source": [
        "# Пример №5. Расстояние редактирования\n",
        "\n",
        "Часто текстовый редактор, подозревая опечатку, предлагает заменить написанное слово на близкое. Что значит «близкое»? \n",
        "\n",
        "Количество операций для превращения одного слова в другое называется расстоянием редактирования или расстоянием Левенштейна (ИПМ им. Келдыша). Это расстояние — мера различия между двумя строками. Этой мерой измеряют сходство или различие двух генных последовательностей и т.д.\n",
        "Задача. Определить минимальное количество операций для преобразования одного слова в другое, при следующих допустимых операциях:\n",
        "- замена одной буквы на другую;\n",
        "- вставка одной буквы;\n",
        "- удаление одной буквы.\n",
        "\n",
        "Например, сколько нужно операций, чтобы превратить слово СЛОН в слово ОГОНЬ? Например, это можно сделать следующей последовательностью:\n",
        "СЛОН → СГОН → СГОНЬ → ОГОНЬ.\n",
        "Последовательность переходов, которую мы описали, не обладает нужными свойствами (последовательным увеличением сложности задачи).А есть ли нужная нам последовательность, в которой каждая подзадача решается на подстроке всё более возрастающей длины? Конечно:\n",
        "1. В префиксах строк длины 1 С и О меняем букву С на О. СЛОН → ОЛОН.\n",
        "2. В префиксах длины 2 меняем Л на Г. ОЛОН → ОГОН.\n",
        "3. В префиксах длины 4 добавляем букву Ь. ОГОН → ОГОНЬ.\n",
        "\n",
        "И так, необходимо найти расстояние редактирования между $x[1...m]$ и $y[1...n]$. Будем искать расстояние редактирования между префиксами первой строки, $x[1...i]$, и префиксами второй, $y[1...j]$, обозначив эти расстояния $E[i,j]$. Конечная цель – вычисление $E[m, n]$.\n",
        "\n",
        "Например, $E[7,5]$:\n",
        "$$ \\fbox{E X P O N E N} T I A L $$\n",
        "$$ \\fbox{P O L Y N} O M I A L $$\n",
        "\n",
        "Значения $E[i,j]$ удобно представлять в виде таблицы. Для удобства добавим один лишний левый столбеци одну лишнюю верхнюю строку к этой таблице. Заполним их последовательно возрастающими числами. Эти числа означают, что пустая строка может превратиться в образец за число операций, равное длине образца. \n",
        "\n",
        "Очевидно, что при такой записи в каждуюследующую клетку можно попасть только из левой, верхне или по диагонали из левой верхне. При этом из этих вариантов выбирается минимальный и к нему прибавляются затраты на новое редактирование: 0 - если на пересечении текущего столбца и строки стоят одинаковые буквы и 1 - если разные. Т.е. ур. Беллмана:\n",
        "\n",
        "$$ E[i,j] = min(1 + E[i-1, j], 1 + E[i, j-1], d(i, j) + E[i-1, j-1]), $$\n",
        "$$ d(i, j) = \\begin{cases}\n",
        "                 0, x[i] = y[j] \\\\\n",
        "                 1, x[i] \\neq y[j]\n",
        "                 \\end{cases} $$"
      ]
    },
    {
      "cell_type": "code",
      "execution_count": null,
      "metadata": {
        "id": "8mXVOA_p0iL7",
        "outputId": "d807faf2-9539-4747-a598-7f91f516d599"
      },
      "outputs": [
        {
          "data": {
            "image/png": "[encoded data removed]",
            "text/plain": [
              "<IPython.core.display.Image object>"
            ]
          },
          "execution_count": 16,
          "metadata": {},
          "output_type": "execute_result"
        }
      ],
      "source": [
        "# Так можно добавлять картинки\n",
        "\n",
        "from IPython.display import Image             # вызов из библиотеки определённой функции\n",
        "Image(\"Расстояние редактирования.png\")        # вызов функции и передача ей в качестве аргумента пути к файлу \n",
        "\n",
        "# (в данном случае фаил находится в той же папке)"
      ]
    },
    {
      "cell_type": "markdown",
      "metadata": {
        "id": "mgM71M8H0iL8"
      },
      "source": [
        "# Упражнение №4.\n",
        "\n",
        "Напишите программу вычисляющую расстояние редактирования."
      ]
    },
    {
      "cell_type": "code",
      "execution_count": 51,
      "metadata": {
        "id": "QOaSbMbN0iL8"
      },
      "outputs": [],
      "source": [
        "def IDONTKNOWWHATISTHISBUTIMAFRAIDOFTHISBULLSHIT(first, second):\n",
        "    E = np.zeros((len(first) + 1, len(second) + 1))\n",
        "    # начальное заполнение матрицы\n",
        "    for i in range(1, len(first) + 1):\n",
        "        E[i][0] = i\n",
        "    for j in range(1, len(second) + 1):\n",
        "        E[0][j] = j\n",
        "    for j in range(1, len(second) + 1):\n",
        "        for i in range(1, len(first) + 1):\n",
        "            E[i][j] = min(1 + E[i - 1][j],\n",
        "                          1 + E[i][j - 1],\n",
        "                          int(not first[i - 1] == second[j - 1]) + E[i - 1][j - 1])\n",
        "    print(E)\n",
        "    return E[len(first)][len(second)]"
      ]
    },
    {
      "cell_type": "code",
      "source": [
        "print(IDONTKNOWWHATISTHISBUTIMAFRAIDOFTHISBULLSHIT('фонарь', 'улица'))"
      ],
      "metadata": {
        "colab": {
          "base_uri": "https://localhost:8080/"
        },
        "id": "jb6_YNOnB080",
        "outputId": "896da105-1b4d-4301-a6b6-dcd829fcbc79"
      },
      "execution_count": 52,
      "outputs": [
        {
          "output_type": "stream",
          "name": "stdout",
          "text": [
            "[[0. 1. 2. 3. 4. 5.]\n",
            " [1. 1. 2. 3. 4. 5.]\n",
            " [2. 2. 2. 3. 4. 5.]\n",
            " [3. 3. 3. 3. 4. 5.]\n",
            " [4. 4. 4. 4. 4. 4.]\n",
            " [5. 5. 5. 5. 5. 5.]\n",
            " [6. 6. 6. 6. 6. 6.]]\n",
            "6.0\n"
          ]
        }
      ]
    },
    {
      "cell_type": "code",
      "source": [
        ""
      ],
      "metadata": {
        "id": "IIN-WRkzB8nk"
      },
      "execution_count": null,
      "outputs": []
    },
    {
      "cell_type": "markdown",
      "metadata": {
        "id": "FIX4j6DN0iL8"
      },
      "source": [
        "# Домашнее задание (базовое):"
      ]
    },
    {
      "cell_type": "markdown",
      "metadata": {
        "id": "RRzP0fPK0iL8"
      },
      "source": [
        "# Задание №1. Гиперкузнечик.\n",
        "\n",
        "Решите задачу о количестве способов достичь точки n из точки 1, если кузнечик умеет прыгать +1, +2 и *3."
      ]
    },
    {
      "cell_type": "code",
      "execution_count": 53,
      "metadata": {
        "id": "fzvFR7ly0iL8"
      },
      "outputs": [],
      "source": [
        "def HYPERgrasshopper(n):\n",
        "    GH = [None] + ([0] * max(3, n))\n",
        "    GH[1] = 1\n",
        "    GH[2] = 1\n",
        "    for i in range(3, n + 1):\n",
        "        GH[i] = GH[i - 1] + GH[i - 2]\n",
        "        if i % 3 == 0:\n",
        "            GH[i] += GH[i // 3]\n",
        "    return GH[n]"
      ]
    },
    {
      "cell_type": "code",
      "source": [
        "print('Количество способов достичь её:',\n",
        "      HYPERgrasshopper(int(input('Введите конечную точку: '))))"
      ],
      "metadata": {
        "colab": {
          "base_uri": "https://localhost:8080/"
        },
        "id": "eWrYiGb6CBos",
        "outputId": "0b7e205c-e4ea-4536-f770-cb36e142f49d"
      },
      "execution_count": 55,
      "outputs": [
        {
          "output_type": "stream",
          "name": "stdout",
          "text": [
            "Введите конечную точку: 6\n",
            "Количество способов достичь её: 12\n"
          ]
        }
      ]
    },
    {
      "cell_type": "markdown",
      "metadata": {
        "id": "RH1-QHnk0iL8"
      },
      "source": [
        "# Задание №2. Наибольшая общая подпоследовательность.\n",
        "\n",
        "Рассмотрим две строки (или числовые последовательности) A и B. Пусть первая строка состоит из n символов $a_0, ... a_n$, вторая строка состоит из m символов $b_0, ..., b_m$. Подпоследовательностью данной строки (последовательности) называется некоторое подмножество символов исходной строки, следующих в том же порядке, в котором они идут в исходной строке, но не обязательно подряд. Если в строке n символов, то у нее $2^n$ различных подпоследовательностей: каждый из n символов строки может либо входить, либо не входить в любую выбранную подпоследовательность. Пустая подпоследовательность не содержит ни одного элемента и также является подпоследовательностью любой строки.\n",
        "\n",
        "Рассмотрим задачу для двух данных строк найти такую строку наибольшей длины, которая была бы подпоследовательностью каждой из них. Например, если A='abcabaac', B='baccbca' то у строк A и B них есть общая подпоследовательность длины 4, например, 'acba' или 'acbc'.\n",
        "\n",
        "Данную задачу можно решить перебором  например, перебрав все $2^n$ подпоследовательностей первой строки и для каждой их них проверив, является ли она подпоследовательностью второй строки. Но при помощи динамического программирования эту же задачу можно решить за сложность O(nm).\n",
        "\n",
        "Напишите программу решающую данную задачу с помощью алгоритма, полученного на основе динамического программирования. "
      ]
    },
    {
      "cell_type": "code",
      "execution_count": 56,
      "metadata": {
        "id": "gc6JRKwB0iL9"
      },
      "outputs": [],
      "source": [
        "def maxCommonSequence(first, second):\n",
        "    commonSequences = []\n",
        "    i = 0\n",
        "    while i < len(first) - 1:\n",
        "        j = 0\n",
        "        while j < len(second) - 1:\n",
        "            if first[i] == second[j]:\n",
        "                if first[i + 1] == second[j + 1]:\n",
        "                    commonSequences.append(first[i])\n",
        "                    commonSequences[-1] += first[i + 1]\n",
        "                    i1 = i + 2\n",
        "                    j1 = j + 2\n",
        "                    while (i1 < len(first)) and (j1 < len(second)):\n",
        "                        if first[i1] == second[j1]:\n",
        "                            commonSequences[-1] += first[i1]\n",
        "                        else:\n",
        "                            break\n",
        "                        i1 += 1\n",
        "                        j1 += 1\n",
        "            j += 1\n",
        "        i += 1\n",
        "    if len(commonSequences) == 0:\n",
        "        return ''\n",
        "    else:\n",
        "        mx = 0\n",
        "        for i in range(1, len(commonSequences)):\n",
        "            if len(commonSequences[mx]) < len(commonSequences[i]):\n",
        "                mx = i\n",
        "        return commonSequences[mx]"
      ]
    },
    {
      "cell_type": "code",
      "source": [
        "def maxCommonSequence_Dynamically(first, second):\n",
        "    first.insert(0, '1')\n",
        "    second.insert(0, '2')\n",
        "    E = np.zeros((len(first) + 1, len(second) + 1))\n",
        "    H = np.zeros((len(first) + 1, len(second) + 1))\n",
        "    for j in range(1, len(second) + 1):\n",
        "        for i in range(1, len(first) + 1):\n",
        "            if first[i - 1] == second[j - 1]:\n",
        "                E[i][j] = 1 + E[i - 1][j - 1]\n",
        "                H[i][j] = -1\n",
        "            else:\n",
        "                if E[i - 1][j] >= E[i][j - 1]:\n",
        "                    E[i][j] = E[i - 1][j]\n",
        "                    H[i][j] = 2 #l\n",
        "                else:\n",
        "                    E[i][j] = E[i][j - 1]\n",
        "                    H[i][j] = 1 #u\n",
        "    # теперь восстановим подпоследовательность с помощью H:\n",
        "    i = len(first)\n",
        "    j = len(second)\n",
        "    commonSequences = []\n",
        "    commonSequence = ''\n",
        "    while H[i][j] != 0:\n",
        "        if H[i][j] == -1:\n",
        "            commonSequence += first[i - 1]\n",
        "            i -= 1\n",
        "            j -= 1\n",
        "        elif H[i][j] == 1:\n",
        "            if commonSequence != '':\n",
        "                commonSequence\n",
        "                commonSequences.append(commonSequence)\n",
        "                commonSequence = ''\n",
        "            j -= 1\n",
        "        elif H[i][j] == 2:\n",
        "            if commonSequence != '':\n",
        "                commonSequences.append(commonSequence)\n",
        "                commonSequence = ''\n",
        "            i -= 1\n",
        "    # ну, отберём \n",
        "    if len(commonSequences) == 0:\n",
        "        return\n",
        "    else:\n",
        "        mx = 0\n",
        "        for i in range(1, len(commonSequences)):\n",
        "            if len(commonSequences[mx]) < len(commonSequences[i]):\n",
        "                mx = i\n",
        "        CS = list(commonSequences[mx])\n",
        "        CS.reverse()\n",
        "        CS = ''.join(CS)\n",
        "        return CS"
      ],
      "metadata": {
        "id": "XWaOdpXFChEt"
      },
      "execution_count": 57,
      "outputs": []
    },
    {
      "cell_type": "code",
      "source": [
        "print(maxCommonSequence(list(str(input('Введите первую последовательность: '))), \n",
        "                        list(str(input('Введите вторую последовательность: ')))))"
      ],
      "metadata": {
        "colab": {
          "base_uri": "https://localhost:8080/"
        },
        "id": "RNBz8_84CnM0",
        "outputId": "c5125f92-3a69-4df2-ee2d-052a774ab517"
      },
      "execution_count": 58,
      "outputs": [
        {
          "output_type": "stream",
          "name": "stdout",
          "text": [
            "Введите первую последовательность: wwwtrtt\n",
            "Введите вторую последовательность: efwwwqtrt\n",
            "www\n"
          ]
        }
      ]
    },
    {
      "cell_type": "code",
      "source": [
        "print(maxCommonSequence_Dynamically(list(str(input('Введите первую последовательность: '))),\n",
        "                                    list(str(input('Введите вторую последовательность: ')))))"
      ],
      "metadata": {
        "colab": {
          "base_uri": "https://localhost:8080/"
        },
        "id": "ynOG5N0FCnD9",
        "outputId": "7b3f89fd-10ce-40e1-acae-52cbfe7f4e4c"
      },
      "execution_count": 59,
      "outputs": [
        {
          "output_type": "stream",
          "name": "stdout",
          "text": [
            "Введите первую последовательность: wwwtrtt\n",
            "Введите вторую последовательность: efwwwqtrt\n",
            "www\n"
          ]
        }
      ]
    },
    {
      "cell_type": "markdown",
      "metadata": {
        "id": "hdKAYYuR0iL9"
      },
      "source": [
        "# Задание №3. \n",
        "\n",
        "Даны две последовательности целых чисел $a_0, ... a_n$ и $b_0, ..., b_m$. Выяснить, является ли вторая последовательность подпоследовательностью первой, то есть можно ли из первой вычеркнуть некоторые члены так, чтобы осталась вторая."
      ]
    },
    {
      "cell_type": "code",
      "execution_count": 60,
      "metadata": {
        "id": "L11fRtj30iL9"
      },
      "outputs": [],
      "source": [
        "def isSecondSequenceASubsequence(first, second):\n",
        "    l, k = 0, 0 # length of curr subseq and index of last found char\n",
        "    j = 0\n",
        "    i = 0\n",
        "    while i < len(first):\n",
        "        if first[i] == second[j]:\n",
        "            k = i\n",
        "            l += 1\n",
        "            i += 1\n",
        "            if j < len(second) - 1:\n",
        "                j += 1\n",
        "            elif l < len(second):\n",
        "                return False\n",
        "        else:\n",
        "            i += 1\n",
        "        if l == len(second):\n",
        "            return True\n",
        "    return False"
      ]
    },
    {
      "cell_type": "code",
      "source": [
        "print('Является ли вторая последовательность подпоследовательностью первой? Ответ:', \n",
        "      isSecondSequenceASubsequence(str(input('Введите первую последовательность: ')), \n",
        "                                   str(input('Введите вторую последовательность: '))))"
      ],
      "metadata": {
        "colab": {
          "base_uri": "https://localhost:8080/"
        },
        "id": "OvxoJZ9tDGGW",
        "outputId": "18ff025d-ccce-4235-bfc9-dfd8e9611598"
      },
      "execution_count": 63,
      "outputs": [
        {
          "output_type": "stream",
          "name": "stdout",
          "text": [
            "Введите первую последовательность: ew466jjl\n",
            "Введите вторую последовательность: 466\n",
            "Является ли вторая последовательность подпоследовательностью первой? Ответ: True\n"
          ]
        }
      ]
    },
    {
      "cell_type": "markdown",
      "metadata": {
        "id": "IsZ1AoiZ0iL9"
      },
      "source": [
        "# Задание №4. Мячик на лесенке.\n",
        "\n",
        "На вершине лесенки, содержащей N ступенек, находится мячик, который начинает прыгать по ним вниз, к основанию. Сначала мячик может прыгнуть максимум на N/2, но с каждым ударом о ступеньку эта величина сокращается вдвое пока он не начинает катиться, перекатываясь с одной ступеньке на другую. Так мячик может прокатиться ещё N/16 ступенек. \n",
        "\n",
        "Определите число всевозможных \"маршрутов\" мячика и найдите максимально возможную длину лестницы N."
      ]
    },
    {
      "cell_type": "code",
      "execution_count": 64,
      "metadata": {
        "id": "y6AyhxWQ0iL9"
      },
      "outputs": [],
      "source": [
        "def ballOnStairs(init, n, step, show = False):\n",
        "    if init >= n:\n",
        "        return 0\n",
        "    if n // 2 ** step < 1:\n",
        "        return min(n // 16, n - init)\n",
        "    routes = min(n // 2 ** step, n - init)\n",
        "    for i in range(init + 1, min(init + n // 2 ** step, n) + 1):\n",
        "        if show: print(init, '->', i)\n",
        "        routes += ballOnStairs(i, n, step + 1, show)\n",
        "    return routes"
      ]
    },
    {
      "cell_type": "code",
      "source": [
        "ballOnStairs(1, 4, 1, show = True)"
      ],
      "metadata": {
        "colab": {
          "base_uri": "https://localhost:8080/"
        },
        "id": "-isB7aPGDftE",
        "outputId": "91c96153-e148-4a3c-cd59-31f0e2445e4b"
      },
      "execution_count": 65,
      "outputs": [
        {
          "output_type": "stream",
          "name": "stdout",
          "text": [
            "1 -> 2\n",
            "2 -> 3\n",
            "1 -> 3\n",
            "3 -> 4\n"
          ]
        },
        {
          "output_type": "execute_result",
          "data": {
            "text/plain": [
              "4"
            ]
          },
          "metadata": {},
          "execution_count": 65
        }
      ]
    },
    {
      "cell_type": "code",
      "source": [
        "ballOnStairs(1, 8, 1)"
      ],
      "metadata": {
        "colab": {
          "base_uri": "https://localhost:8080/"
        },
        "id": "pLiPKZqUDp7k",
        "outputId": "e5c5c930-85da-4862-e962-ede590712918"
      },
      "execution_count": 66,
      "outputs": [
        {
          "output_type": "execute_result",
          "data": {
            "text/plain": [
              "20"
            ]
          },
          "metadata": {},
          "execution_count": 66
        }
      ]
    },
    {
      "cell_type": "code",
      "source": [
        "ballOnStairs(1, 16, 1)"
      ],
      "metadata": {
        "colab": {
          "base_uri": "https://localhost:8080/"
        },
        "id": "7uJFanzyDs_l",
        "outputId": "47d46297-b0a8-43eb-c496-b856dfdb2b62"
      },
      "execution_count": 67,
      "outputs": [
        {
          "output_type": "execute_result",
          "data": {
            "text/plain": [
              "231"
            ]
          },
          "metadata": {},
          "execution_count": 67
        }
      ]
    },
    {
      "cell_type": "code",
      "source": [
        "print(ballOnStairs(1, int(input('Введите n: ')), 1, \n",
        "                   show = (True if input('Показывать все возможные ходы? (y/n) ') == 'y' \n",
        "                           else False)))"
      ],
      "metadata": {
        "colab": {
          "base_uri": "https://localhost:8080/"
        },
        "id": "AAVh_jVaDwgM",
        "outputId": "69872252-7854-44ef-d14e-e46512705975"
      },
      "execution_count": 68,
      "outputs": [
        {
          "output_type": "stream",
          "name": "stdout",
          "text": [
            "Введите n: 4\n",
            "Показывать все возможные ходы? (y/n) y\n",
            "1 -> 2\n",
            "2 -> 3\n",
            "1 -> 3\n",
            "3 -> 4\n",
            "4\n"
          ]
        }
      ]
    },
    {
      "cell_type": "markdown",
      "metadata": {
        "id": "xCZU4rIU0iL9"
      },
      "source": [
        "# Домашнее задание (дополнительное):"
      ]
    },
    {
      "cell_type": "code",
      "execution_count": null,
      "metadata": {
        "id": "4nwBJ2Ru0iL9",
        "outputId": "a1ebe77a-e1e5-4e22-8dda-ae2991572f5d"
      },
      "outputs": [
        {
          "data": {
            "image/png": "[encoded data removed]",
            "text/plain": [
              "<IPython.core.display.Image object>"
            ]
          },
          "execution_count": 17,
          "metadata": {},
          "output_type": "execute_result"
        }
      ],
      "source": [
        "# Так можно добавлять картинки\n",
        "\n",
        "from IPython.display import Image # вызов из библиотеки определённой функции\n",
        "Image(\"официант.png\")             # вызов функции и передача ей в качестве аргумента пути к файлу \n",
        "\n",
        "# (в данном случае фаил находится в той же папке)"
      ]
    },
    {
      "cell_type": "markdown",
      "metadata": {
        "id": "fDl_SDGf0iL9"
      },
      "source": [
        "# Задача о рюкзаке.\n",
        "\n",
        "Решите задачу о рюкзаке методом динамического программирования.\n",
        "\n",
        "Естественно важно правильно выбрать подзадачи. В данном случае есть два естественных способа: рассмотреть рюкзак меньшей ёмкости или же меньшее число предметов. \n",
        "\n",
        "Для того чтобы понять, какой подход действительно работает, обычно приходится немного поэкспериментировать."
      ]
    },
    {
      "cell_type": "code",
      "source": [
        "stuffdict = {'couch_s':(300,75), \n",
        "             'couch_b':(500,80), \n",
        "             'bed':(400,100), \n",
        "             'closet':(200,50), \n",
        "             'bed_s':(200,40), \n",
        "             'desk':(200,70), \n",
        "             'table':(300,80),\n",
        "             'tv_table':(200,30),\n",
        "             'armchair':(100,30),\n",
        "             'bookshelf':(200,60), \n",
        "             'cabinet':(150,20),\n",
        "             'game_table':(150,30),\n",
        "             'hammock':(250,45),\n",
        "             'diner_table_with_chairs':(250,70),\n",
        "             'stools':(150,30),\n",
        "             'mirror':(100,20),\n",
        "             'instrument':(300,70),\n",
        "             'plant_1':(25,10),\n",
        "             'plant_2':(30,20),\n",
        "             'plant_3':(45,25),\n",
        "             'sideboard':(175,30),\n",
        "             'chest_of_drawers':(25,40),\n",
        "             'guest_bed':(250,40),\n",
        "             'standing_lamp':(20,30), \n",
        "             'garbage_can':(30,35), \n",
        "             'bar_with_stools':(200,40), \n",
        "             'bike_stand':(100,80),\n",
        "             'chest':(150,25),\n",
        "             'heater':(100,25)\n",
        "            }\n",
        "\n",
        "\n",
        "\n"
      ],
      "metadata": {
        "id": "RVZRPUY-EzyN"
      },
      "execution_count": 75,
      "outputs": []
    },
    {
      "cell_type": "code",
      "source": [
        "def get_area_and_value(stuffdict):\n",
        "    area = [stuffdict[item][0] for item in stuffdict]\n",
        "    value = [stuffdict[item][1] for item in stuffdict]        \n",
        "    return area, value"
      ],
      "metadata": {
        "id": "A17UG7hkE7wt"
      },
      "execution_count": 76,
      "outputs": []
    },
    {
      "cell_type": "code",
      "source": [
        "def get_memtable(stuffdict, A=2000):\n",
        "      area, value = get_area_and_value(stuffdict)\n",
        "      n = len(value) # находим размеры таблицы\n",
        "      \n",
        "      # создаём таблицу из нулевых значений\n",
        "      V = [[0 for a in range(A+1)] for i in range(n+1)]\n",
        "\n",
        "      for i in range(n+1):\n",
        "            for a in range(A+1):\n",
        "                  # базовый случай\n",
        "                  if i == 0 or a == 0:\n",
        "                        V[i][a] = 0\n",
        "\n",
        "                  # если площадь предмета меньше площади столбца,\n",
        "                  # максимизируем значение суммарной ценности\n",
        "                  elif area[i-1] <= a:\n",
        "                        V[i][a] = max(value[i-1] + V[i-1][a-area[i-1]], V[i-1][a])\n",
        "\n",
        "                  # если площадь предмета больше площади столбца,\n",
        "                  # забираем значение ячейки из предыдущей строки\n",
        "                  else:\n",
        "                        V[i][a] = V[i-1][a]       \n",
        "      return V, area, value"
      ],
      "metadata": {
        "id": "yuqkGncxE9ON"
      },
      "execution_count": 77,
      "outputs": []
    },
    {
      "cell_type": "code",
      "source": [
        "def get_selected_items_list(stuffdict, A=2000):\n",
        "      V, area, value = get_memtable(stuffdict)\n",
        "      n = len(value)\n",
        "      res = V[n][A]      # начинаем с последнего элемента таблицы\n",
        "      a = A              # начальная площадь - максимальная\n",
        "      items_list = []    # список площадей и ценностей\n",
        "    \n",
        "      for i in range(n, 0, -1):  # идём в обратном порядке\n",
        "            if res <= 0:  # условие прерывания - собрали \"рюкзак\" \n",
        "                  break\n",
        "            if res == V[i-1][a]:  # ничего не делаем, двигаемся дальше\n",
        "                  continue\n",
        "            else:\n",
        "                  # \"забираем\" предмет\n",
        "                  items_list.append((area[i-1], value[i-1]))\n",
        "                  res -= value[i-1]   # отнимаем значение ценности от общей\n",
        "                  a -= area[i-1]  # отнимаем площадь от общей\n",
        "            \n",
        "      selected_stuff = []\n",
        "\n",
        "      # находим ключи исходного словаря - названия предметов\n",
        "      for search in items_list:\n",
        "            for key, value in stuffdict.items():\n",
        "                  if value == search:\n",
        "                        selected_stuff.append(key)\n",
        "            \n",
        "      return selected_stuff"
      ],
      "metadata": {
        "id": "sLAqDnCQFAd0"
      },
      "execution_count": 79,
      "outputs": []
    },
    {
      "cell_type": "code",
      "source": [
        "#мы нашли список:\n",
        "stuff = get_selected_items_list(stuffdict)\n",
        "print(stuff)"
      ],
      "metadata": {
        "colab": {
          "base_uri": "https://localhost:8080/"
        },
        "id": "Z31Uvt37FMG0",
        "outputId": "c81711db-047d-4f82-9dd5-6d025cac919e"
      },
      "execution_count": 82,
      "outputs": [
        {
          "output_type": "stream",
          "name": "stdout",
          "text": [
            "['bike_stand', 'garbage_can', 'standing_lamp', 'chest_of_drawers', 'plant_3', 'plant_2', 'diner_table_with_chairs', 'bookshelf', 'armchair', 'table', 'desk', 'bed', 'couch_s']\n"
          ]
        }
      ]
    },
    {
      "cell_type": "code",
      "source": [
        "#Проверим суммарные площадь и ценность собранных предметов:\n",
        "totarea = sum([stuffdict[item][0] for item in stuff])\n",
        "totvalue = sum([stuffdict[item][1] for item in stuff])\n",
        "\n",
        "totarea, totvalue"
      ],
      "metadata": {
        "colab": {
          "base_uri": "https://localhost:8080/"
        },
        "id": "9E4Jpom5FT7N",
        "outputId": "618ae279-9181-4c06-e829-18e86660482a"
      },
      "execution_count": 81,
      "outputs": [
        {
          "output_type": "execute_result",
          "data": {
            "text/plain": [
              "(2000, 715)"
            ]
          },
          "metadata": {},
          "execution_count": 81
        }
      ]
    },
    {
      "cell_type": "markdown",
      "metadata": {
        "id": "Jub_S6dk0iL-"
      },
      "source": [
        "# Задача коммивояжёра.\n",
        "\n",
        "Коммивояжёр должен посетить по разу каждый город из большого списка и вернуться в свой родной город. Он знает расстояния между всеми парами городов. В каком порядке лучше всего посещать города, чтобы минимизировать пройденное расстояние?\n",
        "\n",
        "Если перебирать все маршруты (их $(n-1)!$), потребуется время $O(n!)$ (вычисление длины маршрута производится за время $O(n)$). Однако, динамическое программирование позволяет решить эту задачу быстрее, хоть и не слишком.\n",
        "\n",
        "При испотльзовании динамического программирования поскольку мы ищем маршрут, естественной подзадачей является нахождение начальной части маршрута. Предположим, мы вышли из города 1, посетили несколько городов и сейчас находимся в городе j. Существенной информацией об этом частичном маршруте является где мы находимся (j), а также где мы уже побывали (чтобы не идти туда второй раз). Это и приводит нас к необходимой подзадаче.\n",
        "\n",
        "Всего есть не более $2^nn$ подзадач, и решение для каждой из них находится за линейное время. Поэтому общее время работы есть $O(n^22^n)$."
      ]
    },
    {
      "cell_type": "markdown",
      "source": [
        "Долгое решение"
      ],
      "metadata": {
        "id": "wbK3VXRcMXAG"
      }
    },
    {
      "cell_type": "code",
      "source": [
        "#Функция нахождения минимального элемента, исключая текущий элемент\n",
        "def Min(lst,myindex):\n",
        "    return min(x for idx, x in enumerate(lst) if idx != myindex)\n",
        "\n",
        "#функция удаления нужной строки и столбцах\n",
        "def Delete(matrix,index1,index2):\n",
        "    del matrix[index1]\n",
        "    for i in matrix:\n",
        "        del i[index2]\n",
        "    return matrix\n",
        "\n",
        "#Функция вывода матрицы\n",
        "def PrintMatrix(matrix):\n",
        "    print(\"---------------\")\n",
        "    for i in range(len(matrix)):\n",
        "        print(matrix[i])\n",
        "    print(\"---------------\")\n",
        "\n",
        "n=int(input())\n",
        "matrix=[]\n",
        "H=0\n",
        "PathLenght=0\n",
        "Str=[]\n",
        "Stb=[]\n",
        "res=[]\n",
        "result=[]\n",
        "StartMatrix=[]\n",
        "\n",
        "#Инициализируем массивы для сохранения индексов\n",
        "for i in range(n):\n",
        "    Str.append(i)\n",
        "    Stb.append(i)\n",
        "\n",
        "#Вводим матрицу\n",
        "for i in range(n): matrix.append(list(map(int, input().split())))\n",
        "\t\n",
        "#Сохраняем изначальную матрицу\n",
        "for i in range(n):StartMatrix.append(matrix[i].copy())\n",
        "\n",
        "#Присваеваем главной диагонали float(inf)\n",
        "for i in range(n): matrix[i][i]=float('inf')\n",
        "\n",
        "while True:\n",
        "    #Редуцируем\n",
        "    #--------------------------------------\n",
        "    #Вычитаем минимальный элемент в строках\n",
        "    for i in range(len(matrix)):\n",
        "        temp=min(matrix[i])\n",
        "        H+=temp\n",
        "        for j in range(len(matrix)):\n",
        "            matrix[i][j]-=temp\n",
        "\n",
        "    #Вычитаем минимальный элемент в столбцах    \n",
        "    for i in range(len(matrix)):\n",
        "        temp = min(row[i] for row in matrix)\n",
        "        H+=temp\n",
        "        for j in range(len(matrix)):\n",
        "            matrix[j][i]-=temp\n",
        "    #--------------------------------------\n",
        "\t\n",
        "    #Оцениваем нулевые клетки и ищем нулевую клетку с максимальной оценкой\n",
        "    #--------------------------------------\n",
        "    NullMax=0\n",
        "    index1=0\n",
        "    index2=0\n",
        "    tmp=0\n",
        "    for i in range(len(matrix)):\n",
        "        for j in range(len(matrix)):\n",
        "            if matrix[i][j]==0:\n",
        "                tmp=Min(matrix[i],j)+Min((row[j] for row in matrix),i)\n",
        "                if tmp>=NullMax:\n",
        "                    NullMax=tmp\n",
        "                    index1=i\n",
        "                    index2=j\n",
        "    #--------------------------------------\n",
        "\n",
        "\t#Находим нужный нам путь, записываем его в res и удаляем все ненужное\n",
        "    res.append(Str[index1]+1)\n",
        "    res.append(Stb[index2]+1)\n",
        "\t\n",
        "    oldIndex1=Str[index1]\n",
        "    oldIndex2=Stb[index2]\n",
        "    if oldIndex2 in Str and oldIndex1 in Stb:\n",
        "        NewIndex1=Str.index(oldIndex2)\n",
        "        NewIndex2=Stb.index(oldIndex1)\n",
        "        matrix[NewIndex1][NewIndex2]=float('inf')\n",
        "    del Str[index1]\n",
        "    del Stb[index2]\n",
        "    matrix=Delete(matrix,index1,index2)\n",
        "    if len(matrix)==1:break\n",
        "\t\n",
        "#Формируем порядок пути\n",
        "for i in range(0,len(res)-1,2):\n",
        "\tif res.count(res[i])<2:\n",
        "\t\tresult.append(res[i])\n",
        "\t\tresult.append(res[i+1])\n",
        "for i in range(0,len(res)-1,2):\n",
        "\tfor j in range(0,len(res)-1,2):\n",
        "\t\tif result[len(result)-1]==res[j]:\n",
        "\t\t\tresult.append(res[j])\n",
        "\t\t\tresult.append(res[j+1])\n",
        "print(\"----------------------------------\")\n",
        "print(result)\n",
        "\n",
        "#Считаем длину пути\n",
        "for i in range(0,len(result)-1,2):\n",
        "    if i==len(result)-2:\n",
        "        PathLenght+=StartMatrix[result[i]-1][result[i+1]-1]\n",
        "        PathLenght+=StartMatrix[result[i+1]-1][result[0]-1]\n",
        "    else: PathLenght+=StartMatrix[result[i]-1][result[i+1]-1]\n",
        "print(PathLenght)\n",
        "print(\"----------------------------------\")\n",
        "input()"
      ],
      "metadata": {
        "colab": {
          "base_uri": "https://localhost:8080/",
          "height": 209
        },
        "id": "IFRmtBzaGMYG",
        "outputId": "0c469be5-7d4f-47cc-89b8-f0a7ca6a3476"
      },
      "execution_count": 84,
      "outputs": [
        {
          "name": "stdout",
          "output_type": "stream",
          "text": [
            "4\n",
            "0 10 1 1\n",
            "10 0 1 5\n",
            "1 1 0 10\n",
            "1 5 10 0\n",
            "----------------------------------\n",
            "[3, 2, 2, 4, 4, 1]\n",
            "8\n",
            "----------------------------------\n",
            "3\n"
          ]
        },
        {
          "output_type": "execute_result",
          "data": {
            "text/plain": [
              "'3'"
            ],
            "application/vnd.google.colaboratory.intrinsic+json": {
              "type": "string"
            }
          },
          "metadata": {},
          "execution_count": 84
        }
      ]
    },
    {
      "cell_type": "code",
      "source": [
        "#!pip install python-tsp"
      ],
      "metadata": {
        "colab": {
          "base_uri": "https://localhost:8080/"
        },
        "id": "yjET1hDKK18V",
        "outputId": "bcac9dd7-673a-491d-8768-e9b15321da41"
      },
      "execution_count": 97,
      "outputs": [
        {
          "output_type": "stream",
          "name": "stdout",
          "text": [
            "Collecting python-tsp\n",
            "  Downloading python_tsp-0.2.1-py3-none-any.whl (14 kB)\n",
            "Collecting tsplib95<0.8.0,>=0.7.1\n",
            "  Downloading tsplib95-0.7.1-py2.py3-none-any.whl (25 kB)\n",
            "Requirement already satisfied: numpy<2.0.0,>=1.18.5 in /usr/local/lib/python3.7/dist-packages (from python-tsp) (1.21.6)\n",
            "Collecting Deprecated~=1.2.9\n",
            "  Downloading Deprecated-1.2.13-py2.py3-none-any.whl (9.6 kB)\n",
            "Requirement already satisfied: tabulate~=0.8.7 in /usr/local/lib/python3.7/dist-packages (from tsplib95<0.8.0,>=0.7.1->python-tsp) (0.8.9)\n",
            "Requirement already satisfied: networkx~=2.1 in /usr/local/lib/python3.7/dist-packages (from tsplib95<0.8.0,>=0.7.1->python-tsp) (2.6.3)\n",
            "Requirement already satisfied: Click>=6.0 in /usr/local/lib/python3.7/dist-packages (from tsplib95<0.8.0,>=0.7.1->python-tsp) (7.1.2)\n",
            "Requirement already satisfied: wrapt<2,>=1.10 in /usr/local/lib/python3.7/dist-packages (from Deprecated~=1.2.9->tsplib95<0.8.0,>=0.7.1->python-tsp) (1.14.1)\n",
            "Installing collected packages: Deprecated, tsplib95, python-tsp\n",
            "Successfully installed Deprecated-1.2.13 python-tsp-0.2.1 tsplib95-0.7.1\n"
          ]
        }
      ]
    },
    {
      "cell_type": "markdown",
      "source": [
        "Решение штатными средствами"
      ],
      "metadata": {
        "id": "wDg0b9p3McPr"
      }
    },
    {
      "cell_type": "code",
      "source": [
        "import numpy as np\n",
        "from python_tsp.exact import solve_tsp_dynamic_programming"
      ],
      "metadata": {
        "id": "oDSRwOGBLDkG"
      },
      "execution_count": 98,
      "outputs": []
    },
    {
      "cell_type": "code",
      "source": [
        "dist_matr = np.array([[0, 10, 1, 1],\n",
        "                      [10, 0, 1, 5],\n",
        "                      [1, 1, 0, 10],\n",
        "                      [1, 5, 10, 0]])\n",
        "\n",
        "path, dist = solve_tsp_dynamic_programming(dist_matr)\n",
        "path, dist"
      ],
      "metadata": {
        "colab": {
          "base_uri": "https://localhost:8080/"
        },
        "id": "R-Gm4Mw0LVtV",
        "outputId": "25f611c7-4a14-4f21-f2bf-693549f224ce"
      },
      "execution_count": 100,
      "outputs": [
        {
          "output_type": "execute_result",
          "data": {
            "text/plain": [
              "([0, 2, 1, 3], 8)"
            ]
          },
          "metadata": {},
          "execution_count": 100
        }
      ]
    },
    {
      "cell_type": "markdown",
      "source": [
        "Решение с красотой и соседями))) "
      ],
      "metadata": {
        "id": "YuP9k2MDMkHF"
      }
    },
    {
      "cell_type": "code",
      "source": [
        "import matplotlib.pyplot as plt\n",
        "import numpy as np\n",
        "from numpy import exp,sqrt\n",
        "n=50;m=100;ib=3;way=[];a=0\n",
        "X=np.random.uniform(a,m,n)\n",
        "Y=np.random.uniform(a,m,n)\n",
        "#X=[10, 10, 100,100 ,30, 20, 20, 50, 50, 85, 85, 75, 35, 25, 30, 47, 50]\n",
        "#Y=[5, 85, 0,90,50, 55,50,75 ,25,50,20,80,25,70,10,50,100]\n",
        "#n=len(X)\n",
        "M = np.zeros([n,n]) # Шаблон матрицы относительных расстояний между пунктами\n",
        "for i in np.arange(0,n,1):\n",
        "         for j in np.arange(0,n,1):\n",
        "                  if i!=j:\n",
        "                           M[i,j]=sqrt((X[i]-X[j])**2+(Y[i]-Y[j])**2)# Заполнение матрицы\n",
        "                  else:\n",
        "                           M[i,j]=float('inf')#Заполнение главной диагонали матрицы           \n",
        "way.append(ib)\n",
        "for i in np.arange(1,n,1):\n",
        "         s=[]\n",
        "         for j in np.arange(0,n,1):                  \n",
        "                  s.append(M[way[i-1],j])\n",
        "         way.append(s.index(min(s)))# Индексы пунктов ближайших городов соседей\n",
        "         for j in np.arange(0,i,1):\n",
        "                  M[way[i],way[j]]=float('inf')\n",
        "                  M[way[i],way[j]]=float('inf')\n",
        "S=sum([sqrt((X[way[i]]-X[way[i+1]])**2+(Y[way[i]]-Y[way[i+1]])**2) for i in np.arange(0,n-1,1)])+ sqrt((X[way[n-1]]-X[way[0]])**2+(Y[way[n-1]]-Y[way[0]])**2)                      \n",
        "plt.title('Общий путь-%s.Номер города-%i.Всего городов -%i.\\n Координаты X,Y случайные числа от %i до %i'%(round(S,3),ib,n,a,m), size=14)\n",
        "X1=[X[way[i]] for i in np.arange(0,n,1)]\n",
        "Y1=[Y[way[i]] for i in np.arange(0,n,1)]    \n",
        "plt.plot(X1, Y1, color='r', linestyle=' ', marker='o')\n",
        "plt.plot(X1, Y1, color='b', linewidth=1)   \n",
        "X2=[X[way[n-1]],X[way[0]]]\n",
        "Y2=[Y[way[n-1]],Y[way[0]]]\n",
        "plt.plot(X2, Y2, color='g', linewidth=2,  linestyle='-', label='Путь от  последнего \\n к первому городу') \n",
        "plt.legend(loc='best')\n",
        "plt.grid(True)\n",
        "plt.show()  "
      ],
      "metadata": {
        "colab": {
          "base_uri": "https://localhost:8080/",
          "height": 299
        },
        "id": "nyyRvrC8HH4q",
        "outputId": "b7cf770a-a177-4b31-eb62-46c3a62bea57"
      },
      "execution_count": 85,
      "outputs": [
        {
          "output_type": "display_data",
          "data": {
            "text/plain": [
              "<Figure size 432x288 with 1 Axes>"
            ],
            "image/png": "[encoded data removed]"
          },
          "metadata": {
            "needs_background": "light"
          }
        }
      ]
    },
    {
      "cell_type": "code",
      "source": [
        "import matplotlib.pyplot as plt\n",
        "import numpy as np\n",
        "from numpy import exp,sqrt\n",
        "n=50;m=100;way=[];a=0\n",
        "X=np.random.uniform(a,m,n)\n",
        "Y=np.random.uniform(a,m,n)\n",
        "X=[10, 10, 100,100 ,30, 20, 20, 50, 50, 85, 85, 75, 35, 25, 30, 47, 50]\n",
        "Y=[5, 85, 0,90,50, 55,50,75 ,25,50,20,80,25,70,10,50,100]\n",
        "n=len(X)\n",
        "RS=[];RW=[];RIB=[]\n",
        "s=[]\n",
        "for ib in np.arange(0,n,1):\n",
        "         M = np.zeros([n,n])\n",
        "         for i in np.arange(0,n,1):\n",
        "                  for j in np.arange(0,n,1):\n",
        "                           if i!=j:\n",
        "                                    M[i,j]=sqrt((X[i]-X[j])**2+(Y[i]-Y[j])**2)\n",
        "                           else:\n",
        "                                    M[i,j]=float('inf')\n",
        "         way=[]\n",
        "         way.append(ib)\n",
        "         for i in np.arange(1,n,1):\n",
        "                  s=[]\n",
        "                  for j in np.arange(0,n,1):                  \n",
        "                           s.append(M[way[i-1],j])\n",
        "                  way.append(s.index(min(s)))\n",
        "                  for j in np.arange(0,i,1):\n",
        "                           M[way[i],way[j]]=float('inf')\n",
        "                           M[way[i],way[j]]=float('inf')         \n",
        "         S=sum([sqrt((X[way[i]]-X[way[i+1]])**2+(Y[way[i]]-Y[way[i+1]])**2) for i in np.arange(0,n-1,1)])+ sqrt((X[way[n-1]]-X[way[0]])**2+(Y[way[n-1]]-Y[way[0]])**2)                      \n",
        "         RS.append(S)\n",
        "         RW.append(way)\n",
        "         RIB.append(ib)\n",
        "S=min(RS)\n",
        "way=RW[RS.index(min(RS))]\n",
        "ib=RIB[RS.index(min(RS))]       \n",
        "X1=[X[way[i]] for i in np.arange(0,n,1)]\n",
        "Y1=[Y[way[i]] for i in np.arange(0,n,1)]\n",
        "plt.title('Общий путь-%s.Номер города-%i.Всего городов -%i.\\n Координаты X,Y заданы'%(round(S,3),ib,n), size=14)\n",
        "plt.plot(X1, Y1, color='r', linestyle=' ', marker='o')\n",
        "plt.plot(X1, Y1, color='b', linewidth=1)   \n",
        "X2=[X[way[n-1]],X[way[0]]]\n",
        "Y2=[Y[way[n-1]],Y[way[0]]]\n",
        "plt.plot(X2, Y2, color='g', linewidth=2,  linestyle='-', label='Путь от  последнего \\n к первому городу')\n",
        "plt.legend(loc='best')\n",
        "plt.grid(True)\n",
        "plt.show()  \n",
        "Z=sqrt((X[way[n-1]]-X[way[0]])**2+(Y[way[n-1]]-Y[way[0]])**2)\n",
        "Y3=[sqrt((X[way[i+1]]-X[way[i]])**2+(Y[way[i+1]]-Y[way[i]])**2) for i in np.arange(0,n-1,1)]\n",
        "X3=[i for i in np.arange(0,n-1,1)]\n",
        "plt.title('Пути от города к городу')\n",
        "plt.plot(X3, Y3, color='b', linestyle=' ', marker='o')\n",
        "plt.plot(X3, Y3, color='r',  linewidth=1,  linestyle='-', label='Без учёта замыкающего пути - %s'%str(round(Z,3)))\n",
        "plt.legend(loc='best')\n",
        "plt.grid(True)\n",
        "plt.show ()         "
      ],
      "metadata": {
        "colab": {
          "base_uri": "https://localhost:8080/",
          "height": 563
        },
        "id": "28QkuVNjHUOO",
        "outputId": "f0768b36-6eb4-4bca-8183-74a997799c72"
      },
      "execution_count": 86,
      "outputs": [
        {
          "output_type": "display_data",
          "data": {
            "text/plain": [
              "<Figure size 432x288 with 1 Axes>"
            ],
            "image/png": "[encoded data removed]"
          },
          "metadata": {
            "needs_background": "light"
          }
        },
        {
          "output_type": "display_data",
          "data": {
            "text/plain": [
              "<Figure size 432x288 with 1 Axes>"
            ],
            "image/png": "[encoded data removed]"
          },
          "metadata": {
            "needs_background": "light"
          }
        }
      ]
    },
    {
      "cell_type": "code",
      "source": [
        "import matplotlib.pyplot as plt\n",
        "def mnkLIN(x,y):                             \n",
        "              a=round((len(x)*sum([x[i]*y[i] for i in range(0,len(x))])-sum(x)*sum(y))/(len(x)*sum([x[i]**2 for i in range(0,len(x))])-sum(x)**2),3)\n",
        "              b=round((sum(y)-a*sum(x))/len(x) ,3)\n",
        "              y1=[round(a*w+b ,3) for w in x]         \n",
        "              s=[round((y1[i]-y[i])**2,3) for i in range(0,len(x))]                          \n",
        "              sko=round((sum(s)/(len(x)-1))**0.5,3)\n",
        "              p=(sko*len(x)*100)/sum(y1)\n",
        "              plt.title('Аппроксимация методом наименьших \\n квадратов Y=%s*x+%s с погрешностью  -%i -проц.'%(str(a),str(b),int(p)), size=14)\n",
        "              plt.xlabel('Количество  городов', size=14)\n",
        "              plt.ylabel('Длина маршрутов', size=14)\n",
        "              plt.plot(x, y, color='r', linestyle=' ', marker='o', label='Данные метода ближайшего соседа')\n",
        "              plt.plot(x, y1, color='b',linewidth=1, label='Аппроксимирующая прямая')\n",
        "              plt.legend(loc='best')\n",
        "              plt.grid(True)\n",
        "              plt.show()\n",
        "y=[933.516, 1282.842, 1590.256, 1767.327 ,1949.975, 2212.668, 2433.955, 2491.954, 2549.579, 2748.672]\n",
        "x=[100,200,300,400,500,600,\t700,800, 900,1000]  \n",
        "mnkLIN(x,y)       "
      ],
      "metadata": {
        "colab": {
          "base_uri": "https://localhost:8080/",
          "height": 317
        },
        "id": "8PA_S9JdHfR1",
        "outputId": "a3e5cabe-df95-4002-824f-b6a67705688f"
      },
      "execution_count": 87,
      "outputs": [
        {
          "output_type": "display_data",
          "data": {
            "text/plain": [
              "<Figure size 432x288 with 1 Axes>"
            ],
            "image/png": "[encoded data removed]"
          },
          "metadata": {
            "needs_background": "light"
          }
        }
      ]
    }
  ],
  "metadata": {
    "kernelspec": {
      "display_name": "Python 3",
      "language": "python",
      "name": "python3"
    },
    "language_info": {
      "codemirror_mode": {
        "name": "ipython",
        "version": 3
      },
      "file_extension": ".py",
      "mimetype": "text/x-python",
      "name": "python",
      "nbconvert_exporter": "python",
      "pygments_lexer": "ipython3",
      "version": "3.8.8"
    },
    "colab": {
      "name": "Laba 10.ipynb",
      "provenance": [],
      "collapsed_sections": []
    }
  },
  "nbformat": 4,
  "nbformat_minor": 0
}
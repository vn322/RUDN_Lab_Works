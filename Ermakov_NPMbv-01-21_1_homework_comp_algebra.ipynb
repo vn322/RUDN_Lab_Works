{
 "cells": [
  {
   "cell_type": "markdown",
   "metadata": {},
   "source": [
    "**Студент:  Ермаков А.В.**                                  \n",
    "\n",
    "\tГруппа: НПMбд-01-21\n",
    "\n",
    "№ ст. билета: 1032213202                                   \n"
   ]
  },
  {
   "cell_type": "markdown",
   "metadata": {},
   "source": [
    "# Теоретические задания 1."
   ]
  },
  {
   "cell_type": "markdown",
   "metadata": {},
   "source": [
    "## **1)\tДайте определение кольца.**\n",
    "\n",
    "\n",
    "*Кольцо (ring) ⟘ множество A, на котором заданы две бинарные операции, называемые сложение (+) и умножение (·), со следующими свойствами, выполняющимися для любых a,b,c ∈ A:*\n",
    "\n",
    "\n",
    "1) a + b = b + a (коммутативность сложения);\n",
    "\n",
    "2) a · b = b · a (коммутативность умножения);\n",
    "\n",
    "3) a + (b + c) = (a + b) + c (ассоциативность сложения);\n",
    "\n",
    "4) (a · b) · c = a · (b · c) (ассоциативность умножения);\n",
    "\n",
    "5) a·(b+c) = (a·b)+(a·c) и (b+c)·a = (b·a)+(c·a) (дистрибутивность);\n",
    "\n",
    "6) существует такой элемент 0 ∈ A, что a+0 = 0+a = a (существование нуля);\n",
    "\n",
    "7) существует такой элемент 1 ∈ A, что a · 1 = 1 · a = a (существование единицы);\n",
    "\n",
    "8) для любого a ∈ A существует такой элемент b ∈ A, что a+b = b+a = 0 (существование противоположного элемента относительно сложения). "
   ]
  },
  {
   "cell_type": "markdown",
   "metadata": {},
   "source": [
    "## **2) Дайте определение поля.**\n",
    "\n",
    "*Поле (ﬁeld) кольцо K, обладающее дополнительнымсвойством: для любого его элемента a а!= 0 существует такой элемент b ∈ K,\n",
    "что ab = ba = 1.*\n",
    "\n",
    "Базовые примеры:\n",
    "\n",
    "1) Множество натуральных чисел N не является кольцом, поскольку не содержит 0.\n",
    "\n",
    "2) Множество целых чисел Z является кольцом, но не является полем.\n",
    "\n",
    "3) Множество рациональных чисел Q является полем.\n",
    "\n",
    "4) Множество вещественных чисел R является полем. "
   ]
  },
  {
   "cell_type": "markdown",
   "metadata": {},
   "source": [
    "## **3) Элемент e кольца A называется единицей, если ae = ea = a. Докажите, что e = 1.**\n",
    "\n",
    "По свойству кольца  существует такой элемент 1 ∈ A, что a · 1 = 1 · a = a (существование единицы), значит если \n",
    " ae = ea = a, то е = 1"
   ]
  },
  {
   "cell_type": "markdown",
   "metadata": {},
   "source": [
    "## **4) Является ли реализация поля вещественных чисел в Sage кольцом? Полем?**"
   ]
  },
  {
   "cell_type": "code",
   "execution_count": 6,
   "metadata": {},
   "outputs": [
    {
     "data": {
      "text/plain": [
       "True"
      ]
     },
     "execution_count": 6,
     "metadata": {},
     "output_type": "execute_result"
    }
   ],
   "source": [
    "RR. is_ring()"
   ]
  },
  {
   "cell_type": "code",
   "execution_count": 7,
   "metadata": {},
   "outputs": [
    {
     "data": {
      "text/plain": [
       "True"
      ]
     },
     "execution_count": 7,
     "metadata": {},
     "output_type": "execute_result"
    }
   ],
   "source": [
    "RR. is_field()"
   ]
  },
  {
   "cell_type": "markdown",
   "metadata": {},
   "source": [
    "# Практические задания 2.\n",
    "\n",
    "## **1)\tПреобразуйте $π^2$ в десятичную дробь.** "
   ]
  },
  {
   "cell_type": "code",
   "execution_count": 8,
   "metadata": {},
   "outputs": [
    {
     "data": {
      "text/plain": [
       "9.86960440108936"
      ]
     },
     "execution_count": 8,
     "metadata": {},
     "output_type": "execute_result"
    }
   ],
   "source": [
    "RR(pi^2)"
   ]
  },
  {
   "cell_type": "code",
   "execution_count": 9,
   "metadata": {},
   "outputs": [
    {
     "data": {
      "text/plain": [
       "9.86960440108936"
      ]
     },
     "execution_count": 9,
     "metadata": {},
     "output_type": "execute_result"
    }
   ],
   "source": [
    "n(pi^2)"
   ]
  },
  {
   "cell_type": "code",
   "execution_count": 10,
   "metadata": {},
   "outputs": [
    {
     "data": {
      "text/plain": [
       "True"
      ]
     },
     "execution_count": 10,
     "metadata": {},
     "output_type": "execute_result"
    }
   ],
   "source": [
    "RR(pi^2)==n(pi^2)"
   ]
  },
  {
   "cell_type": "markdown",
   "metadata": {},
   "source": [
    "## **2)\tСовпадает ли QQ(RR(pi)) с числом π? Совпадает ли QQ(RR(1/3)) с числом 1/3?**"
   ]
  },
  {
   "cell_type": "code",
   "execution_count": 11,
   "metadata": {},
   "outputs": [
    {
     "data": {
      "text/plain": [
       "(245850922/78256779) == pi"
      ]
     },
     "execution_count": 11,
     "metadata": {},
     "output_type": "execute_result"
    }
   ],
   "source": [
    "QQ(RR(pi))==pi"
   ]
  },
  {
   "cell_type": "code",
   "execution_count": 12,
   "metadata": {},
   "outputs": [
    {
     "data": {
      "text/plain": [
       "True"
      ]
     },
     "execution_count": 12,
     "metadata": {},
     "output_type": "execute_result"
    }
   ],
   "source": [
    "QQ(RR(pi))==n(pi)"
   ]
  },
  {
   "cell_type": "code",
   "execution_count": 13,
   "metadata": {},
   "outputs": [
    {
     "data": {
      "text/plain": [
       "True"
      ]
     },
     "execution_count": 13,
     "metadata": {},
     "output_type": "execute_result"
    }
   ],
   "source": [
    "QQ(RR(1/3))==1/3"
   ]
  },
  {
   "cell_type": "code",
   "execution_count": 3,
   "metadata": {},
   "outputs": [
    {
     "data": {
      "text/plain": [
       "y^4 - y^3 + 7*y^2 - 3*y + 9"
      ]
     },
     "execution_count": 3,
     "metadata": {},
     "output_type": "execute_result"
    }
   ],
   "source": [
    "var('x,y')\n",
    "x = y^2+3 \n",
    "(x^2+y^2-x*y).full_simplify() "
   ]
  },
  {
   "cell_type": "markdown",
   "metadata": {},
   "source": [
    "## **3)\tКак интерпретирует Sage числа, введенные с клавиатуры как $1/3$ и $1.0/3$? Совпадают ли $1/3$ и $1.0/3$ как элементы поля $Q$?**"
   ]
  },
  {
   "cell_type": "code",
   "execution_count": 14,
   "metadata": {},
   "outputs": [
    {
     "data": {
      "text/plain": [
       "(1/3, 0.333333333333333)"
      ]
     },
     "execution_count": 14,
     "metadata": {},
     "output_type": "execute_result"
    }
   ],
   "source": [
    "1/3, 1.0/3"
   ]
  },
  {
   "cell_type": "code",
   "execution_count": 15,
   "metadata": {},
   "outputs": [
    {
     "data": {
      "text/plain": [
       "True"
      ]
     },
     "execution_count": 15,
     "metadata": {},
     "output_type": "execute_result"
    }
   ],
   "source": [
    "1/3 == 1.0/3"
   ]
  },
  {
   "cell_type": "code",
   "execution_count": 17,
   "metadata": {},
   "outputs": [
    {
     "data": {
      "text/plain": [
       "(0.333333333333333, 0.333333333333333)"
      ]
     },
     "execution_count": 17,
     "metadata": {},
     "output_type": "execute_result"
    }
   ],
   "source": [
    "RR(1/3), RR(1.0/3)"
   ]
  },
  {
   "cell_type": "code",
   "execution_count": 16,
   "metadata": {},
   "outputs": [
    {
     "data": {
      "text/plain": [
       "True"
      ]
     },
     "execution_count": 16,
     "metadata": {},
     "output_type": "execute_result"
    }
   ],
   "source": [
    "RR(1/3) == RR(1.0/3)"
   ]
  },
  {
   "cell_type": "markdown",
   "metadata": {},
   "source": [
    "## **4)\tУпростите выражение $5*(n − 2)^3 − 6*(n + 3)^3 − 3*(2*n − 9)^3$.**"
   ]
  },
  {
   "cell_type": "code",
   "execution_count": 23,
   "metadata": {},
   "outputs": [
    {
     "data": {
      "text/plain": [
       "-3*(2*n - 9)^3 - 6*(n + 3)^3 + 5*(n - 2)^3"
      ]
     },
     "execution_count": 23,
     "metadata": {},
     "output_type": "execute_result"
    }
   ],
   "source": [
    "var('n')\n",
    "(5*(n - 2)^3 - 6*(n + 3)^3 - 3*(2*n - 9)^3).simplify()"
   ]
  },
  {
   "cell_type": "code",
   "execution_count": 27,
   "metadata": {},
   "outputs": [
    {
     "data": {
      "text/plain": [
       "-25*n^3 + 240*n^2 - 1560*n + 1985"
      ]
     },
     "execution_count": 27,
     "metadata": {},
     "output_type": "execute_result"
    }
   ],
   "source": [
    "(5*(n - 2)^3 - 6*(n + 3)^3 - 3*(2*n - 9)^3).full_simplify()"
   ]
  },
  {
   "cell_type": "markdown",
   "metadata": {},
   "source": [
    "## **5)\tПодставьте x = π в выражение $sin(x^2+2*x)+x^3$ и вычислите его приближенно.**"
   ]
  },
  {
   "cell_type": "code",
   "execution_count": 31,
   "metadata": {},
   "outputs": [
    {
     "data": {
      "text/plain": [
       "30.5759754632997"
      ]
     },
     "execution_count": 31,
     "metadata": {},
     "output_type": "execute_result"
    }
   ],
   "source": [
    "var('x')\n",
    "x=pi\n",
    "\n",
    "RR(sin(x^2+2*x)+x^3)"
   ]
  },
  {
   "cell_type": "markdown",
   "metadata": {},
   "source": [
    "## **6)\tПодставьте $x = y2+3$ в выражение $x2+y2−xy$ и упростите полученный результат.** \n"
   ]
  },
  {
   "cell_type": "code",
   "execution_count": 33,
   "metadata": {},
   "outputs": [
    {
     "data": {
      "text/plain": [
       "y^4 - y^3 + 7*y^2 - 3*y + 9"
      ]
     },
     "execution_count": 33,
     "metadata": {},
     "output_type": "execute_result"
    }
   ],
   "source": [
    "var('x,y')\n",
    "x = y^2+3 \n",
    "\n",
    "(x^2+y^2-x*y).full_simplify()"
   ]
  },
  {
   "cell_type": "markdown",
   "metadata": {},
   "source": [
    "# Теоретические задания 2."
   ]
  },
  {
   "cell_type": "markdown",
   "metadata": {},
   "source": [
    "## **1)\tДайте определение нормальной формы многочлена.**\n",
    "\n",
    " Представление многочлена в виде линейной комбинации мономов с ненулевыми коэффициентами называют нормальной формой многочлена.\n",
    " \n",
    " Элементы полиномиального кольца A[x1, . . . , xn], представляющие собой произведение переменных x1, . . . , xn называют мономами."
   ]
  },
  {
   "cell_type": "markdown",
   "metadata": {},
   "source": [
    "## **2) Дайте определение степени многочлена.**\n",
    "\n",
    " Степенью монома\n",
    "$x1k1 . . . xknn$\n",
    "называют число\n",
    "$degree(x1k1 . . . xknn) = k1 + · · · + kn$.\n",
    "\n",
    "Степенью многочлена $f$ называют максимальную из степеней мономов,\n",
    "входящих в $m(f)$. Степень многочлена p обозначают как $degree(p)$.\n"
   ]
  },
  {
   "cell_type": "markdown",
   "metadata": {},
   "source": [
    "## **3) Дайте определение линейного порядка и мономиального порядка.**\n",
    "\n",
    "Линейным порядком (linear order) на множестве M на-\n",
    "зывают бинарное отношение ≤, определенное для любых двух элементов\n",
    "этого множества и удовлетворяющее следующим условиям. Для любых\n",
    "$a, b, c ∈ M$ верно\n",
    "\n",
    "1) $a ≤ a$ (рефлексивность);\n",
    "\n",
    "2) $a ≤ b$ и $b ≤ c$ влечет $a ≤ c$ (транзитивность);\n",
    "\n",
    "\n",
    "3) $a ≤ b$ и $b ≤ a$ влечет $a = b$ (антисимметричность).\n",
    "\n",
    "Множество, на котором задан линейный порядок, называется линейно упо-\n",
    "рядоченным. Если $a \\neq b$ и $a ≤ b$, то пишут $a < b$.\n",
    "\n",
    "Напр., сравнение больше-меньше в поле R является линейным порядком.\n",
    "\n",
    "Мономиальный порядок (monomial order) - линейный\n",
    "порядок на множестве M мономов полиномиального кольца, удовлетво-\n",
    "ряющий условиям. Для любых $u,v,w ∈ M$ верно\n",
    "\n",
    "1) $u ≤ v$ влечет $uw ≤ vw$;\n",
    "\n",
    "2) $1 ≤ u$.\n",
    "\n",
    "Мономиальный порядок можно вводить несколькими способами.\n"
   ]
  },
  {
   "cell_type": "markdown",
   "metadata": {},
   "source": [
    "##  **4) Опишите лексикографический порядок на мономах.**\n",
    "\n",
    "Лексикографический порядок (lexicographic order, lex)\n",
    "на множестве мономов кольца $A[x1, . . . , xn]$ - это линейный порядок, при\n",
    "котором\n",
    "$x_1^{k_1} . . . x_n^{k_n} > xl11 . . . x_n^{l_n}$\n",
    "означает, что существует такой номер i, что\n",
    "$k_1 = l_1, . . . , k_{i−1} = l_{i−1}, k_i > l_i$.\n",
    "\n"
   ]
  },
  {
   "cell_type": "markdown",
   "metadata": {},
   "source": [
    "##  **5) Опишите градуированный лексикографический порядок на мономах.**\n",
    "\n",
    " Градуированный лексикографический порядок (degree\n",
    "lexicographic order, deglex) на множестве мономов кольца $A[x1, . . . , xn]$ -\n",
    "это мономиальный порядок, при котором\n",
    "$x_1^{k1} . . . x_n^{k_n} > x_1^{l_1} . . . x_n^{l_n}$\n",
    "означает, что\n",
    "$k_1 + · · · + k_n > l_1 + · · · + l_n$\n",
    "или\n",
    "$k_1 + · · · + k_n = l_1 + · · · + l_n$\n",
    "и существует такой номер $i$, что\n",
    "$k_1 = l_1, . . . , k_{i−1} = l_{i−1}, k_i > l_i$.\n"
   ]
  },
  {
   "cell_type": "markdown",
   "metadata": {},
   "source": [
    "## **6) Дайте определение старшего члена.**\n",
    "\n",
    "Старшим членом (leading term) многочлена называют\n",
    "первый член в его нормальной форме, этот член представляет собой про-\n",
    "изведение старшего коэффициента на старший моном."
   ]
  },
  {
   "cell_type": "markdown",
   "metadata": {},
   "source": [
    "# Практические вопросы 2.\n",
    "\n",
    "## **1) Найдите степень многочлена $x(x + y)(x^2 + y^2)$ кольца $Z[x, y]$.**\n"
   ]
  },
  {
   "cell_type": "code",
   "execution_count": 35,
   "metadata": {},
   "outputs": [
    {
     "data": {
      "text/plain": [
       "[x^3, x*y^2, x*y]"
      ]
     },
     "execution_count": 35,
     "metadata": {},
     "output_type": "execute_result"
    }
   ],
   "source": [
    "var('x,y')\n",
    "\n",
    "f = (x*(x + y)(x^2 + y^2))\n",
    "\n",
    "ZZ[x,y](f).monomials()"
   ]
  },
  {
   "cell_type": "code",
   "execution_count": 36,
   "metadata": {},
   "outputs": [
    {
     "data": {
      "text/plain": [
       "[3, 3, 2]"
      ]
     },
     "execution_count": 36,
     "metadata": {},
     "output_type": "execute_result"
    }
   ],
   "source": [
    "M = ZZ[x,y](f).monomials()\n",
    "\n",
    "[ZZ[x,y](m).degree() for m in M]\n"
   ]
  },
  {
   "cell_type": "code",
   "execution_count": 38,
   "metadata": {},
   "outputs": [
    {
     "data": {
      "text/plain": [
       "3"
      ]
     },
     "execution_count": 38,
     "metadata": {},
     "output_type": "execute_result"
    }
   ],
   "source": [
    "max([ZZ[x,y](m).degree() for m in M])"
   ]
  },
  {
   "cell_type": "code",
   "execution_count": 39,
   "metadata": {},
   "outputs": [
    {
     "data": {
      "text/plain": [
       "3"
      ]
     },
     "execution_count": 39,
     "metadata": {},
     "output_type": "execute_result"
    }
   ],
   "source": [
    "ZZ[x,y](f).degree()"
   ]
  },
  {
   "cell_type": "markdown",
   "metadata": {},
   "source": [
    "##  **2) Составьте список всех мономов, входящих в многочлен  $x(x + y)(x^2 + y^2)$ кольца $Z[x, y]$.**"
   ]
  },
  {
   "cell_type": "code",
   "execution_count": 40,
   "metadata": {},
   "outputs": [
    {
     "data": {
      "text/plain": [
       "[x^3, x*y^2, x*y]"
      ]
     },
     "execution_count": 40,
     "metadata": {},
     "output_type": "execute_result"
    }
   ],
   "source": [
    "var('x,y')\n",
    "\n",
    "f = (x*(x + y)(x^2 + y^2))\n",
    "\n",
    "ZZ[x,y](f).monomials()"
   ]
  },
  {
   "cell_type": "markdown",
   "metadata": {},
   "source": [
    "## **3) Составьте список всех мономов, входящих в многочлен $x*(x+2)(x^2+3)$ кольца $Z[x]$.**\n"
   ]
  },
  {
   "cell_type": "code",
   "execution_count": 42,
   "metadata": {},
   "outputs": [
    {
     "data": {
      "text/plain": [
       "[x^4, x^3, x^2, x]"
      ]
     },
     "execution_count": 42,
     "metadata": {},
     "output_type": "execute_result"
    }
   ],
   "source": [
    "f = (x*(x+2)*(x^2+3))\n",
    "ZZ[x,y](f).monomials()"
   ]
  },
  {
   "cell_type": "markdown",
   "metadata": {},
   "source": [
    "## **4) Сравните мономы $x*y*z^3$ и $x*y^2*z$ при лексикографическом и градуированном лексикографическом порядках на мономах.**\n"
   ]
  },
  {
   "cell_type": "code",
   "execution_count": 1,
   "metadata": {},
   "outputs": [],
   "source": [
    "var('x,y,z')\n",
    "A = PolynomialRing(QQ,[x,y,z], order = 'lex')\n",
    "B = PolynomialRing(QQ,[x,y,z], order = 'deglex')"
   ]
  },
  {
   "cell_type": "code",
   "execution_count": 47,
   "metadata": {},
   "outputs": [
    {
     "data": {
      "text/plain": [
       "False"
      ]
     },
     "execution_count": 47,
     "metadata": {},
     "output_type": "execute_result"
    }
   ],
   "source": [
    "A(x*y*z^3) > A(x*y^2*z)"
   ]
  },
  {
   "cell_type": "code",
   "execution_count": 48,
   "metadata": {},
   "outputs": [
    {
     "data": {
      "text/plain": [
       "True"
      ]
     },
     "execution_count": 48,
     "metadata": {},
     "output_type": "execute_result"
    }
   ],
   "source": [
    "B(x*y*z^3) > B(x*y^2*z)"
   ]
  },
  {
   "cell_type": "code",
   "execution_count": 50,
   "metadata": {},
   "outputs": [
    {
     "data": {
      "text/plain": [
       "True"
      ]
     },
     "execution_count": 50,
     "metadata": {},
     "output_type": "execute_result"
    }
   ],
   "source": [
    "B(x*y*z^3) > A(x*y^2*z)"
   ]
  },
  {
   "cell_type": "markdown",
   "metadata": {},
   "source": [
    "## **5) Найдите нормальную форму многочлена $(x + 2*y − 3*z)^3$ при лекси-кографическом и градуированном лексикографическом порядках на мономах. Чем они отличаются?**\n"
   ]
  },
  {
   "cell_type": "code",
   "execution_count": 19,
   "metadata": {},
   "outputs": [],
   "source": [
    "var('x,y,z')\n",
    "f = (x+2*y-3*z)^3\n",
    "\n",
    "A = PolynomialRing(QQ,[x,y,z], order = 'lex')\n",
    "B = PolynomialRing(QQ,[x,y,z], order = 'deglex')"
   ]
  },
  {
   "cell_type": "code",
   "execution_count": 20,
   "metadata": {},
   "outputs": [
    {
     "data": {
      "text/plain": [
       "x^3 + 6*x^2*y - 9*x^2*z + 12*x*y^2 - 36*x*y*z + 27*x*z^2 + 8*y^3 - 36*y^2*z + 54*y*z^2 - 27*z^3"
      ]
     },
     "execution_count": 20,
     "metadata": {},
     "output_type": "execute_result"
    }
   ],
   "source": [
    "A(f)"
   ]
  },
  {
   "cell_type": "code",
   "execution_count": 21,
   "metadata": {},
   "outputs": [
    {
     "data": {
      "text/plain": [
       "x^3 + 6*x^2*y - 9*x^2*z + 12*x*y^2 - 36*x*y*z + 27*x*z^2 + 8*y^3 - 36*y^2*z + 54*y*z^2 - 27*z^3"
      ]
     },
     "execution_count": 21,
     "metadata": {},
     "output_type": "execute_result"
    }
   ],
   "source": [
    "B(f)"
   ]
  },
  {
   "cell_type": "code",
   "execution_count": 23,
   "metadata": {},
   "outputs": [
    {
     "data": {
      "text/plain": [
       "True"
      ]
     },
     "execution_count": 23,
     "metadata": {},
     "output_type": "execute_result"
    }
   ],
   "source": [
    "A(f)==B(f)"
   ]
  },
  {
   "cell_type": "code",
   "execution_count": 24,
   "metadata": {},
   "outputs": [
    {
     "data": {
      "text/plain": [
       "[x^3, x^2*y, x^2*z, x*y^2, x*y*z, x*z^2, y^3, y^2*z, y*z^2, z^3]"
      ]
     },
     "execution_count": 24,
     "metadata": {},
     "output_type": "execute_result"
    }
   ],
   "source": [
    "A(f).monomials()"
   ]
  },
  {
   "cell_type": "code",
   "execution_count": 25,
   "metadata": {},
   "outputs": [
    {
     "data": {
      "text/plain": [
       "[x^3, x^2*y, x^2*z, x*y^2, x*y*z, x*z^2, y^3, y^2*z, y*z^2, z^3]"
      ]
     },
     "execution_count": 25,
     "metadata": {},
     "output_type": "execute_result"
    }
   ],
   "source": [
    "B(f).monomials()"
   ]
  },
  {
   "cell_type": "markdown",
   "metadata": {},
   "source": [
    "## **6) Найдите главный член многочлена  $(x + 2*y − 3*z)^3$ при лексикографическом порядке на мономах.**\n"
   ]
  },
  {
   "cell_type": "code",
   "execution_count": 26,
   "metadata": {},
   "outputs": [
    {
     "data": {
      "text/plain": [
       "x^3"
      ]
     },
     "execution_count": 26,
     "metadata": {},
     "output_type": "execute_result"
    }
   ],
   "source": [
    "A(f).lt()"
   ]
  },
  {
   "cell_type": "code",
   "execution_count": 27,
   "metadata": {},
   "outputs": [
    {
     "data": {
      "text/plain": [
       "x^3"
      ]
     },
     "execution_count": 27,
     "metadata": {},
     "output_type": "execute_result"
    }
   ],
   "source": [
    "A(f).lm()"
   ]
  },
  {
   "cell_type": "code",
   "execution_count": 28,
   "metadata": {},
   "outputs": [
    {
     "data": {
      "text/plain": [
       "1"
      ]
     },
     "execution_count": 28,
     "metadata": {},
     "output_type": "execute_result"
    }
   ],
   "source": [
    "A(f).lc()"
   ]
  },
  {
   "cell_type": "markdown",
   "metadata": {},
   "source": [
    "## **7) Найдите главный коэффициент многочлена $(x + 2y − 3z)^4$ при градуированном лексикографическом порядке на мономах.**\n"
   ]
  },
  {
   "cell_type": "code",
   "execution_count": 32,
   "metadata": {},
   "outputs": [],
   "source": [
    "f = (x+2*y-3*z)^4"
   ]
  },
  {
   "cell_type": "code",
   "execution_count": 33,
   "metadata": {},
   "outputs": [
    {
     "data": {
      "text/plain": [
       "x^4"
      ]
     },
     "execution_count": 33,
     "metadata": {},
     "output_type": "execute_result"
    }
   ],
   "source": [
    "B(f).lt()"
   ]
  },
  {
   "cell_type": "code",
   "execution_count": 34,
   "metadata": {},
   "outputs": [
    {
     "data": {
      "text/plain": [
       "x^4"
      ]
     },
     "execution_count": 34,
     "metadata": {},
     "output_type": "execute_result"
    }
   ],
   "source": [
    "B(f).lm()"
   ]
  },
  {
   "cell_type": "code",
   "execution_count": 35,
   "metadata": {},
   "outputs": [
    {
     "data": {
      "text/plain": [
       "1"
      ]
     },
     "execution_count": 35,
     "metadata": {},
     "output_type": "execute_result"
    }
   ],
   "source": [
    "B(f).lc()"
   ]
  },
  {
   "cell_type": "code",
   "execution_count": 49,
   "metadata": {},
   "outputs": [
    {
     "data": {
      "text/plain": [
       "[x^3, x^2*y, x^2*z, x*y^2, x*y*z, x*z^2, y^3, y^2*z, y*z^2, z^3]"
      ]
     },
     "execution_count": 49,
     "metadata": {},
     "output_type": "execute_result"
    }
   ],
   "source": [
    "B(f).monomials()"
   ]
  },
  {
   "cell_type": "markdown",
   "metadata": {},
   "source": [
    "## **8) Многочлен $(x + y)^2 + x^2y^5$ можно рассматривать не только как элемент кольца $Q[x, y]$, но и как элемент кольца $Q[x][y]$, то есть кольца всех многочленов от y над кольцом $Q[x]$. Найдите нормальные формы многочлена $(x + 2*y − 3*z)^3$ как элемента колец $Q[x, y], Q[x, y][z]$ и $Q[y, z][x]$. В каком случае главный коэффициент не будет рациональным числом?**\n"
   ]
  },
  {
   "cell_type": "code",
   "execution_count": 37,
   "metadata": {},
   "outputs": [],
   "source": [
    "f = (x + y)^2 + x^2*y^5"
   ]
  },
  {
   "cell_type": "code",
   "execution_count": 40,
   "metadata": {},
   "outputs": [
    {
     "data": {
      "text/plain": [
       "x^2*y^5 + x^2 + 2*x*y + y^2"
      ]
     },
     "execution_count": 40,
     "metadata": {},
     "output_type": "execute_result"
    }
   ],
   "source": [
    "QQ[x, y](f)"
   ]
  },
  {
   "cell_type": "code",
   "execution_count": 41,
   "metadata": {},
   "outputs": [
    {
     "data": {
      "text/plain": [
       "x^2*y^5 + y^2 + 2*x*y + x^2"
      ]
     },
     "execution_count": 41,
     "metadata": {},
     "output_type": "execute_result"
    }
   ],
   "source": [
    "QQ[x][y](f)"
   ]
  },
  {
   "cell_type": "code",
   "execution_count": 43,
   "metadata": {},
   "outputs": [],
   "source": [
    "f=(x + 2*y - 3*z)^3"
   ]
  },
  {
   "cell_type": "code",
   "execution_count": 45,
   "metadata": {},
   "outputs": [
    {
     "data": {
      "text/plain": [
       "-27*z^3 + (27*x + 54*y)*z^2 + (-9*x^2 - 36*x*y - 36*y^2)*z + x^3 + 6*x^2*y + 12*x*y^2 + 8*y^3"
      ]
     },
     "execution_count": 45,
     "metadata": {},
     "output_type": "execute_result"
    }
   ],
   "source": [
    "QQ[x,y][z](f)"
   ]
  },
  {
   "cell_type": "code",
   "execution_count": 46,
   "metadata": {},
   "outputs": [
    {
     "data": {
      "text/plain": [
       "x^3 + (6*y - 9*z)*x^2 + (12*y^2 - 36*y*z + 27*z^2)*x + 8*y^3 - 36*y^2*z + 54*y*z^2 - 27*z^3"
      ]
     },
     "execution_count": 46,
     "metadata": {},
     "output_type": "execute_result"
    }
   ],
   "source": [
    "QQ[y,z][x](f)"
   ]
  },
  {
   "cell_type": "code",
   "execution_count": 47,
   "metadata": {},
   "outputs": [
    {
     "data": {
      "text/plain": [
       "[x^3 + 6*x^2*y + 12*x*y^2 + 8*y^3, -9*x^2 - 36*x*y - 36*y^2, 27*x + 54*y, -27]"
      ]
     },
     "execution_count": 47,
     "metadata": {},
     "output_type": "execute_result"
    }
   ],
   "source": [
    "QQ[x,y][z](f).coefficients()"
   ]
  },
  {
   "cell_type": "code",
   "execution_count": 48,
   "metadata": {},
   "outputs": [
    {
     "data": {
      "text/plain": [
       "[8*y^3 - 36*y^2*z + 54*y*z^2 - 27*z^3, 12*y^2 - 36*y*z + 27*z^2, 6*y - 9*z, 1]"
      ]
     },
     "execution_count": 48,
     "metadata": {},
     "output_type": "execute_result"
    }
   ],
   "source": [
    "QQ[y,z][x](f).coefficients()"
   ]
  },
  {
   "cell_type": "markdown",
   "metadata": {},
   "source": [
    "## **9) Вычислите значение многочлена x^2(x−y) при x = 1/2,y = 2/3. Какие из приведенных ниже конструкций можно использовать?**\n",
    "\n",
    "а) (x^2*(x-y)).subs(x=1/2).subs(y=2/3)\n",
    "\n",
    "б) (x^2*(x-y)).subs(x==1/2).subs(y==2/3)\n",
    "\n",
    "в) (x^2*(x-y)).subs([x=1/2, y=2/3])\n",
    "\n",
    "г) (x^2*(x-y)).subs([x==1/2, y==2/3])\n",
    "\n",
    "д) (x^2*(x-y)).subs({0:1/2, 1:2/3})\n",
    "\n",
    "е) (x^2*(x-y)).subs({x:1/2, y:2/3})\n",
    "\n",
    "ж) QQ[x,y](x^2*(x-y)).subs(x=1/2).subs(y=2/3)\n",
    "\n",
    "з) QQ[x,y](x^2*(x-y)).subs(x==1/2).subs(y==2/3)\n",
    "\n",
    "и) QQ[x,y](x^2*(x-y)).subs([x=1/2, y=2/3])\n",
    "\n",
    "к) QQ[x,y](x^2*(x-y)).subs([x==1/2, y==2/3])\n",
    "\n",
    "л) QQ[x,y](x^2*(x-y)).subs({0:1/2, 1:2/3})\n",
    "\n",
    "м) QQ[x,y](x^2*(x-y)).subs({x:1/2, y:2/3})\n",
    "\n"
   ]
  },
  {
   "cell_type": "code",
   "execution_count": 50,
   "metadata": {},
   "outputs": [
    {
     "data": {
      "text/plain": [
       "-1/24"
      ]
     },
     "execution_count": 50,
     "metadata": {},
     "output_type": "execute_result"
    }
   ],
   "source": [
    "(x^2*(x-y)).subs(x=1/2).subs(y=2/3)"
   ]
  },
  {
   "cell_type": "code",
   "execution_count": 51,
   "metadata": {},
   "outputs": [
    {
     "data": {
      "text/plain": [
       "-1/24"
      ]
     },
     "execution_count": 51,
     "metadata": {},
     "output_type": "execute_result"
    }
   ],
   "source": [
    "(x^2*(x-y)).subs(x==1/2).subs(y==2/3)"
   ]
  },
  {
   "cell_type": "markdown",
   "metadata": {},
   "source": [
    "Ошибка - $(x^2*(x-y)).subs([x=1/2, y=2/3])$"
   ]
  },
  {
   "cell_type": "code",
   "execution_count": 53,
   "metadata": {},
   "outputs": [
    {
     "data": {
      "text/plain": [
       "-1/24"
      ]
     },
     "execution_count": 53,
     "metadata": {},
     "output_type": "execute_result"
    }
   ],
   "source": [
    "(x^2*(x-y)).subs([x==1/2, y==2/3])"
   ]
  },
  {
   "cell_type": "code",
   "execution_count": 54,
   "metadata": {},
   "outputs": [
    {
     "data": {
      "text/plain": [
       "(x - y)*x^2"
      ]
     },
     "execution_count": 54,
     "metadata": {},
     "output_type": "execute_result"
    }
   ],
   "source": [
    "(x^2*(x-y)).subs({0:1/2, 1:2/3})"
   ]
  },
  {
   "cell_type": "code",
   "execution_count": 55,
   "metadata": {},
   "outputs": [
    {
     "data": {
      "text/plain": [
       "-1/24"
      ]
     },
     "execution_count": 55,
     "metadata": {},
     "output_type": "execute_result"
    }
   ],
   "source": [
    "(x^2*(x-y)).subs({x:1/2, y:2/3})"
   ]
  },
  {
   "cell_type": "code",
   "execution_count": 56,
   "metadata": {},
   "outputs": [
    {
     "data": {
      "text/plain": [
       "-1/24"
      ]
     },
     "execution_count": 56,
     "metadata": {},
     "output_type": "execute_result"
    }
   ],
   "source": [
    "QQ[x,y](x^2*(x-y)).subs(x=1/2).subs(y=2/3)"
   ]
  },
  {
   "cell_type": "markdown",
   "metadata": {},
   "source": [
    "Ошибка - $QQ[x,y](x^2*(x-y)).subs(x==1/2).subs(y==2/3)$"
   ]
  },
  {
   "cell_type": "markdown",
   "metadata": {},
   "source": [
    "Ошибка - $QQ[x,y](x^2*(x-y)).subs([x=1/2, y=2/3])$"
   ]
  },
  {
   "cell_type": "markdown",
   "metadata": {},
   "source": [
    "Ошибка - $QQ[x,y](x^2*(x-y)).subs([x==1/2, y==2/3])$"
   ]
  },
  {
   "cell_type": "code",
   "execution_count": 60,
   "metadata": {},
   "outputs": [
    {
     "data": {
      "text/plain": [
       "-1/24"
      ]
     },
     "execution_count": 60,
     "metadata": {},
     "output_type": "execute_result"
    }
   ],
   "source": [
    "QQ[x,y](x^2*(x-y)).subs({0:1/2, 1:2/3})"
   ]
  },
  {
   "cell_type": "markdown",
   "metadata": {},
   "source": [
    "Ошибка - $QQ[x,y](x^2*(x-y)).subs({x:1/2, y:2/3})$"
   ]
  },
  {
   "cell_type": "markdown",
   "metadata": {},
   "source": [
    "## **10) Вычислите значение многочлена x2(x − 3) при x = 1/2. Какие из приведенных ниже конструкций можно использовать?**\n",
    "\n",
    "а) QQ[x](x^2*(x-3)).subs(x=1/2)\n",
    "\n",
    "б) QQ[x](x^2*(x-3)).subs(x==1/2)\n",
    "\n",
    "в) QQ[x](x^2*(x-3)).subs([x=1/2])\n",
    "\n",
    "г) QQ[x](x^2*(x-3)).subs([x==1/2])\n",
    "\n",
    "д) QQ[x](x^2*(x-3)).subs({0:1/2})\n",
    "\n",
    "е) QQ[x](x^2*(x-3)).subs({x:1/2}) "
   ]
  },
  {
   "cell_type": "code",
   "execution_count": 62,
   "metadata": {},
   "outputs": [
    {
     "data": {
      "text/plain": [
       "-5/8"
      ]
     },
     "execution_count": 62,
     "metadata": {},
     "output_type": "execute_result"
    }
   ],
   "source": [
    "QQ[x](x^2*(x-3)).subs(x=1/2)"
   ]
  },
  {
   "cell_type": "code",
   "execution_count": 63,
   "metadata": {},
   "outputs": [
    {
     "data": {
      "text/plain": [
       "2*(0 == 0) + (-3*x^2 == (-3/4)) + (x^3 == (1/8))"
      ]
     },
     "execution_count": 63,
     "metadata": {},
     "output_type": "execute_result"
    }
   ],
   "source": [
    "QQ[x](x^2*(x-3)).subs(x==1/2)"
   ]
  },
  {
   "cell_type": "markdown",
   "metadata": {},
   "source": [
    "Ошибка - $QQ[x](x^2*(x-3)).subs([x=1/2])$"
   ]
  },
  {
   "cell_type": "code",
   "execution_count": 65,
   "metadata": {},
   "outputs": [
    {
     "data": {
      "text/plain": [
       "2*(0 == 0) + (-3*x^2 == (-3/4)) + (x^3 == (1/8))"
      ]
     },
     "execution_count": 65,
     "metadata": {},
     "output_type": "execute_result"
    }
   ],
   "source": [
    "QQ[x](x^2*(x-3)).subs([x==1/2])"
   ]
  },
  {
   "cell_type": "markdown",
   "metadata": {},
   "source": [
    "Ошибка - $QQ[x](x^2*(x-3)).subs({0:1/2})$"
   ]
  },
  {
   "cell_type": "markdown",
   "metadata": {},
   "source": [
    "Ошибка - $QQ[x](x^2*(x-3)).subs({x:1/2})$"
   ]
  },
  {
   "cell_type": "code",
   "execution_count": 68,
   "metadata": {},
   "outputs": [
    {
     "name": "stdout",
     "output_type": "stream",
     "text": [
      "Collecting pandoc\n",
      "  Downloading pandoc-2.3.tar.gz (33 kB)\n",
      "Collecting plumbum\n",
      "  Downloading plumbum-1.8.2-py3-none-any.whl (127 kB)\n",
      "\u001b[K     |████████████████████████████████| 127 kB 1.0 MB/s eta 0:00:01\n",
      "\u001b[?25hCollecting ply\n",
      "  Downloading ply-3.11-py2.py3-none-any.whl (49 kB)\n",
      "\u001b[K     |████████████████████████████████| 49 kB 708 kB/s eta 0:00:01\n",
      "\u001b[?25hBuilding wheels for collected packages: pandoc\n",
      "  Building wheel for pandoc (setup.py) ... \u001b[?25ldone\n",
      "\u001b[?25h  Created wheel for pandoc: filename=pandoc-2.3-py3-none-any.whl size=33269 sha256=3cffc7527e55759417d733e1dae79ea248eb5a971bef9a31437fe6418510a01c\n",
      "  Stored in directory: /home/sage/.cache/pip/wheels/85/34/09/ef86f63d472f58915f67e86a5dde62f9eaf82e03b0804aa018\n",
      "Successfully built pandoc\n",
      "Installing collected packages: ply, plumbum, pandoc\n",
      "Successfully installed pandoc-2.3 plumbum-1.8.2 ply-3.11\n",
      "\u001b[33mWARNING: You are using pip version 21.0.1; however, version 23.2.1 is available.\n",
      "You should consider upgrading via the '/opt/sagemath-9.3/local/bin/python3 -m pip install --upgrade pip' command.\u001b[0m\n",
      "Note: you may need to restart the kernel to use updated packages.\n"
     ]
    }
   ],
   "source": [
    "pip install pandoc "
   ]
  }
 ],
 "metadata": {
  "kernelspec": {
   "display_name": "SageMath 9.3",
   "language": "sage",
   "name": "sagemath"
  },
  "language_info": {
   "codemirror_mode": {
    "name": "ipython",
    "version": 3
   },
   "file_extension": ".py",
   "mimetype": "text/x-python",
   "name": "python",
   "nbconvert_exporter": "python",
   "pygments_lexer": "ipython3",
   "version": "3.7.10"
  }
 },
 "nbformat": 4,
 "nbformat_minor": 4
}

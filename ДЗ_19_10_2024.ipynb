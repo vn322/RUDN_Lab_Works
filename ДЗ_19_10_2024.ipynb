{
  "nbformat": 4,
  "nbformat_minor": 0,
  "metadata": {
    "colab": {
      "provenance": [],
      "authorship_tag": "ABX9TyMK+u65yGPXSWUPFkHBDBo3",
      "include_colab_link": true
    },
    "kernelspec": {
      "name": "python3",
      "display_name": "Python 3"
    },
    "language_info": {
      "name": "python"
    }
  },
  "cells": [
    {
      "cell_type": "markdown",
      "metadata": {
        "id": "view-in-github",
        "colab_type": "text"
      },
      "source": [
        "<a href=\"https://colab.research.google.com/github/vn322/RUDN_Lab_Works/blob/main/%D0%94%D0%97_19_10_2024.ipynb\" target=\"_parent\"><img src=\"https://colab.research.google.com/assets/colab-badge.svg\" alt=\"Open In Colab\"/></a>"
      ]
    },
    {
      "cell_type": "markdown",
      "source": [
        "# 1.4. метод вращений, найти собственные значения А, и собственные векторы симметрических матриц с погрешностью е - 0.01."
      ],
      "metadata": {
        "id": "G6ZVDqjSntcX"
      }
    },
    {
      "cell_type": "code",
      "source": [
        "import numpy as np\n",
        "def jacobi_rotation(A, eps=0.001):\n",
        "    n = A.shape[0]\n",
        "    V = np.eye(n)\n",
        "    max_val = 1\n",
        "    while max_val >= eps:\n",
        "        max_val = -np.inf\n",
        "        p, q = 0, 0\n",
        "\n",
        "        for i in range(n):\n",
        "            for j in range(i+1, n):\n",
        "                if abs(A[i, j]) > max_val:\n",
        "                    max_val = abs(A[i, j])\n",
        "                    p, q = i, j\n",
        "\n",
        "        d = np.sqrt((A[p, p] - A[q, q])**2 + 4 * A[p, q]**2)\n",
        "        c = np.sqrt(0.5 * (1 + abs(A[p, p] - A[q, q]) / d))\n",
        "        s = np.sign(A[p, q] * (A[p, p] - A[q, q])) * np.sqrt(0.5 * (1 - abs(A[p, p] - A[q, q]) / d))\n",
        "\n",
        "        R = np.eye(n)\n",
        "        R[p, p] = c\n",
        "        R[q, q] = c\n",
        "        R[p, q] = s\n",
        "        R[q, p] = -s\n",
        "\n",
        "        A = R.T @ A @ R\n",
        "        V = V @ R\n",
        "\n",
        "    eigvals = np.diag(A)\n",
        "    eigvecs = V\n",
        "\n",
        "    return eigvals, eigvecs\n",
        "# Пример использования\n",
        "A = np.array([[-7,-5,-9],[-5,5,2],[-9,2,9]])  # Пример симметричной матрицы\n",
        "eigenvalues, eigenvectors = jacobi_rotation(A)\n",
        "\n",
        "print(\"Собственные числа:\", eigenvalues)\n",
        "print(\"Собственные векторы:\")\n",
        "for i in range(len(eigenvalues)):\n",
        "    print(f\"lambda = {eigenvalues[i]}, x = {eigenvectors[:, i]}\")"
      ],
      "metadata": {
        "colab": {
          "base_uri": "https://localhost:8080/"
        },
        "id": "xcp_niRN-JFK",
        "outputId": "45d28b33-d04b-4023-ee52-9641117d19b4"
      },
      "execution_count": 67,
      "outputs": [
        {
          "output_type": "stream",
          "name": "stdout",
          "text": [
            "Собственные числа: [-11.9006325    4.21782225  14.68281025]\n",
            "Собственные векторы:\n",
            "lambda = -11.900632498891499, x = [-0.90280272 -0.22360651 -0.36735184]\n",
            "lambda = 4.217822245051243, x = [ 0.03927525 -0.89349732  0.44734774]\n",
            "lambda = 14.68281025384011, x = [-0.42825775  0.38943892  0.81543401]\n"
          ]
        }
      ]
    },
    {
      "cell_type": "markdown",
      "source": [
        "# 2.1 Методами простой итерации и Ньютона найти положительный корень нелинейного уравнении"
      ],
      "metadata": {
        "id": "6hvjv2NGvnAg"
      }
    },
    {
      "cell_type": "code",
      "source": [
        "def y(x):\n",
        "    return ((x + .2)*x + .5)*x - 1.2\n",
        "\n",
        "def dy(x):\n",
        "    return x**3-2*x**2-10*x+15\n",
        "\n",
        "def newton(eps = .001):\n",
        "    cnt = tmp = 0\n",
        "    xo = 1\n",
        "    while abs(xo - tmp) > eps:\n",
        "        tmp = xo\n",
        "        xo -= y(xo) / dy(xo)\n",
        "        cnt += 1\n",
        "    # для проверки\n",
        "    print(round(y(xo), 6))\n",
        "\n",
        "    return round(xo, 6), cnt\n",
        "\n",
        "\n",
        "def fun_F(x):\n",
        "    return (1.2 - (.2*x + .5)*x) ** (1/3)\n",
        "\n",
        "def iter_(eps=.001):\n",
        "    xo = 1\n",
        "    tmp = cnt = 0\n",
        "    while abs(y(xo) - y(tmp)) > eps:\n",
        "        tmp = xo\n",
        "        xo = fun_F(xo)\n",
        "        cnt += 1\n",
        "    # для проверки\n",
        "    print(round(y(xo), 6))\n",
        "\n",
        "    return round(xo, 6), cnt\n",
        "\n",
        "\n",
        "\n",
        "\n",
        "print('Метод Ньютона')\n",
        "print(*newton(), '\\n')\n",
        "print('Метод итераций')\n",
        "print(*iter_(), '\\n')"
      ],
      "metadata": {
        "colab": {
          "base_uri": "https://localhost:8080/"
        },
        "id": "_yrcC_tGGDa8",
        "outputId": "bfcc3db3-5b95-426c-e889-28839d46a8b4"
      },
      "execution_count": 64,
      "outputs": [
        {
          "output_type": "stream",
          "name": "stdout",
          "text": [
            "Метод Ньютона\n",
            "0.002328\n",
            "0.856184 5 \n",
            "\n",
            "Метод итераций\n",
            "0.000223\n",
            "0.855491 8 \n",
            "\n"
          ]
        }
      ]
    }
  ]
}
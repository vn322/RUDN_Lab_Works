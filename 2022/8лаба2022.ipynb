{
  "nbformat": 4,
  "nbformat_minor": 0,
  "metadata": {
    "colab": {
      "provenance": [],
      "collapsed_sections": []
    },
    "kernelspec": {
      "name": "python3",
      "display_name": "Python 3"
    },
    "language_info": {
      "name": "python"
    }
  },
  "cells": [
    {
      "cell_type": "markdown",
      "source": [
        "![задание](https://github.com/vn322/RUDN_Lab_Works/raw/main/8.png)"
      ],
      "metadata": {
        "id": "IOBtyvEU5qmI"
      }
    },
    {
      "cell_type": "markdown",
      "source": [
        "8.1"
      ],
      "metadata": {
        "id": "zPereDUH6xw2"
      }
    },
    {
      "cell_type": "markdown",
      "source": [
        "# Gauss"
      ],
      "metadata": {
        "id": "4kr6RUYJbSDo"
      }
    },
    {
      "cell_type": "markdown",
      "source": [
        "**Загрузка данных из файла**"
      ],
      "metadata": {
        "id": "II2tKdn1XzBs"
      }
    },
    {
      "cell_type": "code",
      "source": [
        "data = [line.strip().splitlines() for line in open(\"/content/input1.txt\", 'r')]\n",
        "\n",
        "matrix = []\n",
        "for i in range(len(data)):\n",
        "  matrix.append([float(x) for x in str(data[i][0]).split()])\n",
        "\n",
        "\n",
        "matrix"
      ],
      "metadata": {
        "colab": {
          "base_uri": "https://localhost:8080/"
        },
        "id": "gDa37ReuD4KS",
        "outputId": "c50d2537-1ab8-4564-e081-7e4ab9a68c8e"
      },
      "execution_count": 9,
      "outputs": [
        {
          "output_type": "execute_result",
          "data": {
            "text/plain": [
              "[[1.0, -2.0, 3.0, -4.0, 2.0],\n",
              " [3.0, 3.0, -5.0, -1.0, -3.0],\n",
              " [3.0, 0.0, 3.0, -10.0, 8.0],\n",
              " [-2.0, 1.0, 2.0, -3.0, 5.0]]"
            ]
          },
          "metadata": {},
          "execution_count": 9
        }
      ]
    },
    {
      "cell_type": "markdown",
      "source": [
        "Само решение методом Гаусса-Жордана."
      ],
      "metadata": {
        "id": "QNEJH72wX7SU"
      }
    },
    {
      "cell_type": "markdown",
      "source": [
        "https://en.wikipedia.org/wiki/Pivot_element "
      ],
      "metadata": {
        "id": "Rz4iGzqYuUmF"
      }
    },
    {
      "cell_type": "code",
      "source": [
        "#matrix printing\n",
        "def displaymatrix ():\n",
        "    for a in range (nr):\n",
        "        for b in range (nc):\n",
        "            print (\"%10.3f\" %(matrix[a][b]), end=\" \")\n",
        "        print(\"\\n\")\n",
        "'''\n",
        "# Taking Matrix Input\n",
        "matrix=[]\n",
        "nr=int(input(\"Enter Number of rows :\"))\n",
        "nc=int(input(\"Enter Number of coulums :\"))\n",
        "for i in range (nr):\n",
        "    pseudomatrix = []\n",
        "    for j in range (nc):\n",
        "        num= float(input(f\"Enter Numbers in Matrix {str(i+1) + str(j+1)} :\"))\n",
        "        0.append(num)\n",
        "    matrix.append(pseudomatrix)    \n",
        "displaymatrix ()\n",
        "'''\n",
        "nr = len(matrix) #количество строк\n",
        "nc= nr+1  #количество столбцов\n",
        "displaymatrix ()\n",
        "\n",
        "# #ведущая строка  ведущий элемент\n",
        "pivotelementrow = int(input(\"Введите номер строки ведущего элемента :\"))\n",
        "pivotelementcolumn = int(input(\"Введите номер столбца ведущего элемента :\"))\n",
        " \n",
        "\n",
        "while pivotelementrow > 0 and pivotelementcolumn > 0:\n",
        "    pivotelementrow -= 1\n",
        "    pivotelementcolumn-= 1\n",
        "    \n",
        "    #Solving for pivot element\n",
        "    for p in range (nc): \n",
        "        pivotelement=(matrix[pivotelementrow][pivotelementcolumn])\n",
        "        matrix[pivotelementrow][pivotelementcolumn]= (matrix[pivotelementrow][pivotelementcolumn])/pivotelement\n",
        "        for r in range(nc):\n",
        "            if r != pivotelementcolumn:\n",
        "                matrix[pivotelementrow][r]=(matrix[pivotelementrow][r])/pivotelement\n",
        "        #Solving for pivot value\n",
        "        for z in range (nr):\n",
        "            if z != pivotelementrow:\n",
        "                pivotvalue= matrix[z][pivotelementcolumn]\n",
        "                for c in range (nc):\n",
        "                    matrix[z][c]= matrix[z][c]- pivotvalue * matrix[pivotelementrow][c]\n",
        "\n",
        "    displaymatrix()\n",
        "    pivotelementrow = int(input(\"Введите номер строки ведущего элемента :\"))\n",
        "    pivotelementcolumn = int(input(\"Введите номер столбца ведущего элемента :\"))"
      ],
      "metadata": {
        "colab": {
          "base_uri": "https://localhost:8080/"
        },
        "id": "p3WjPq0mBcKK",
        "outputId": "9e1a8151-94ee-44ef-8f7c-a9090cd6a77e"
      },
      "execution_count": 10,
      "outputs": [
        {
          "name": "stdout",
          "output_type": "stream",
          "text": [
            "     1.000     -2.000      3.000     -4.000      2.000 \n",
            "\n",
            "     3.000      3.000     -5.000     -1.000     -3.000 \n",
            "\n",
            "     3.000      0.000      3.000    -10.000      8.000 \n",
            "\n",
            "    -2.000      1.000      2.000     -3.000      5.000 \n",
            "\n",
            "Введите номер строки ведущего элемента :1\n",
            "Введите номер столбца ведущего элемента :1\n",
            "     1.000     -2.000      3.000     -4.000      2.000 \n",
            "\n",
            "     0.000      9.000    -14.000     11.000     -9.000 \n",
            "\n",
            "     0.000      6.000     -6.000      2.000      2.000 \n",
            "\n",
            "     0.000     -3.000      8.000    -11.000      9.000 \n",
            "\n",
            "Введите номер строки ведущего элемента :2\n",
            "Введите номер столбца ведущего элемента :2\n",
            "     1.000      0.000     -0.111     -1.556      0.000 \n",
            "\n",
            "     0.000      1.000     -1.556      1.222     -1.000 \n",
            "\n",
            "     0.000      0.000      3.333     -5.333      8.000 \n",
            "\n",
            "     0.000      0.000      3.333     -7.333      6.000 \n",
            "\n",
            "Введите номер строки ведущего элемента :3\n",
            "Введите номер столбца ведущего элемента :3\n",
            "     1.000      0.000      0.000     -1.733      0.267 \n",
            "\n",
            "     0.000      1.000      0.000     -1.267      2.733 \n",
            "\n",
            "     0.000      0.000      1.000     -1.600      2.400 \n",
            "\n",
            "     0.000      0.000      0.000     -2.000     -2.000 \n",
            "\n",
            "Введите номер строки ведущего элемента :4\n",
            "Введите номер столбца ведущего элемента :4\n",
            "     1.000      0.000      0.000      0.000      2.000 \n",
            "\n",
            "     0.000      1.000      0.000      0.000      4.000 \n",
            "\n",
            "     0.000      0.000      1.000      0.000      4.000 \n",
            "\n",
            "    -0.000     -0.000     -0.000      1.000      1.000 \n",
            "\n",
            "Введите номер строки ведущего элемента :0\n",
            "Введите номер столбца ведущего элемента :0\n"
          ]
        }
      ]
    },
    {
      "cell_type": "markdown",
      "source": [
        "# Cramer's rule"
      ],
      "metadata": {
        "id": "NUp1UU1N6tQW"
      }
    },
    {
      "cell_type": "markdown",
      "source": [
        "Загрузка данных"
      ],
      "metadata": {
        "id": "SIwS73vJYQok"
      }
    },
    {
      "cell_type": "code",
      "source": [
        "matrix = []\n",
        "for i in range(len(data)):\n",
        "  matrix.append([float(x) for x in str(data[i][0]).split()])\n",
        "\n",
        "\n",
        "matrix"
      ],
      "metadata": {
        "colab": {
          "base_uri": "https://localhost:8080/"
        },
        "outputId": "373a5dab-f367-4d6f-c5cf-b81ca145cfce",
        "id": "cbt7gzIFbxzg"
      },
      "execution_count": 12,
      "outputs": [
        {
          "output_type": "execute_result",
          "data": {
            "text/plain": [
              "[[1.0, -2.0, 3.0, -4.0, 2.0],\n",
              " [3.0, 3.0, -5.0, -1.0, -3.0],\n",
              " [3.0, 0.0, 3.0, -10.0, 8.0],\n",
              " [-2.0, 1.0, 2.0, -3.0, 5.0]]"
            ]
          },
          "metadata": {},
          "execution_count": 12
        }
      ]
    },
    {
      "cell_type": "markdown",
      "source": [
        "Разделение данных на квадратную матрицу и матрицу-столбец свободных членов"
      ],
      "metadata": {
        "id": "Nkx6CPMGYY8D"
      }
    },
    {
      "cell_type": "code",
      "source": [
        "a = []\n",
        "b = []\n",
        "for i in range(len(matrix)):\n",
        "  a.append(matrix[i][:-1])\n",
        "  b.append(matrix[i][-1])\n",
        "\n",
        "a,b"
      ],
      "metadata": {
        "colab": {
          "base_uri": "https://localhost:8080/"
        },
        "id": "VmPKblX-b0cn",
        "outputId": "b3ce8910-c7a2-469a-c49f-59f0c478e27b"
      },
      "execution_count": 13,
      "outputs": [
        {
          "output_type": "execute_result",
          "data": {
            "text/plain": [
              "([[1.0, -2.0, 3.0, -4.0],\n",
              "  [3.0, 3.0, -5.0, -1.0],\n",
              "  [3.0, 0.0, 3.0, -10.0],\n",
              "  [-2.0, 1.0, 2.0, -3.0]],\n",
              " [2.0, -3.0, 8.0, 5.0])"
            ]
          },
          "metadata": {},
          "execution_count": 13
        }
      ]
    },
    {
      "cell_type": "markdown",
      "source": [
        "Само решение методом Крамера"
      ],
      "metadata": {
        "id": "fGgm2MvHZXXc"
      }
    },
    {
      "cell_type": "code",
      "source": [
        "import copy\n",
        " \n",
        "#вначале нужно посчитать определитель \n",
        "def minor(a,c_): #столбец \n",
        "    res = []\n",
        "    for r in range(1,len(a)): # первую строку вычеркиваем , поэтому с единицы начинаем \n",
        "        \n",
        "        res.append([])\n",
        "        for c in range(len(a[0])):\n",
        "            if c != c_: \n",
        "                res[-1].append(a[r][c]) # добавляем в последнюю строку \n",
        "    return res\n",
        " \n",
        "def determinant(a):\n",
        "    if len(a) == 1:\n",
        "        return a[0][0]\n",
        "    res = 0\n",
        "    k = 1\n",
        "    for c in range(len(a[0])):\n",
        "        res += k*a[0][c]*determinant(minor(a,c))\n",
        "        k *= -1\n",
        "    return res\n",
        "     \n",
        "    \n",
        " \n",
        "\n",
        "''' \n",
        "a = []\n",
        "n = int(input())\n",
        "for i in range(n):\n",
        "    a.append(list(map(int,input().split())))\n",
        "\n",
        "b = list(map(int,input().split()))\n",
        "'''\n",
        "print(a)\n",
        "print('b>>', b, sep ='\\n')\n",
        "\n",
        " \n",
        "D = determinant(a)\n",
        "#D = determinant(a)\n",
        "print('Определитель =', D)\n",
        " \n",
        " \n",
        "def Kramer(a,b):\n",
        "    res = []\n",
        "    for c in range(len(a)):\n",
        "        aa = copy.deepcopy(a)\n",
        "        #aa = a\n",
        "        for r in range(len(a)):\n",
        "            aa[r][c] = b[r]\n",
        "        d = determinant(aa)\n",
        "        res.append(d/D) \n",
        "    return res\n",
        "    \n",
        "    \n",
        "print(Kramer(a,b))"
      ],
      "metadata": {
        "colab": {
          "base_uri": "https://localhost:8080/"
        },
        "id": "aou_7LqX9unt",
        "outputId": "38d00d7a-0574-436c-d8ab-ed3203d28d90"
      },
      "execution_count": 14,
      "outputs": [
        {
          "output_type": "stream",
          "name": "stdout",
          "text": [
            "[[1.0, -2.0, 3.0, -4.0], [3.0, 3.0, -5.0, -1.0], [3.0, 0.0, 3.0, -10.0], [-2.0, 1.0, 2.0, -3.0]]\n",
            "b>>\n",
            "[2.0, -3.0, 8.0, 5.0]\n",
            "Определитель = -60.0\n",
            "[2.0, 4.0, 4.0, 1.0]\n"
          ]
        }
      ]
    }
  ]
}
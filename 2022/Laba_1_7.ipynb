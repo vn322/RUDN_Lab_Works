{
  "nbformat": 4,
  "nbformat_minor": 0,
  "metadata": {
    "colab": {
      "provenance": []
    },
    "kernelspec": {
      "name": "python3",
      "display_name": "Python 3"
    },
    "language_info": {
      "name": "python"
    }
  },
  "cells": [
    {
      "cell_type": "markdown",
      "source": [
        "**Лабораторная работа №1**. Проверка числа на простоту.\n",
        "\n",
        "\n",
        "Написать программу, которая принимает на вход с клавиатуры целое число и проверяет, является\n",
        "ли оно простым. \n"
      ],
      "metadata": {
        "id": "9RjNHbyAAkez"
      }
    },
    {
      "cell_type": "code",
      "execution_count": 5,
      "metadata": {
        "id": "G3D5rZdWAaco"
      },
      "outputs": [],
      "source": [
        "def prime(number):\n",
        "    n = number\n",
        "    counter = 0\n",
        "    for i in range(1, n + 1):\n",
        "        if n % i == 0:\n",
        "            counter += 1\n",
        "    return 'Простое число' if counter == 2 else 'Составное число'\n",
        "\n",
        "            \n",
        "         "
      ]
    },
    {
      "cell_type": "code",
      "source": [
        "prime(199)"
      ],
      "metadata": {
        "colab": {
          "base_uri": "https://localhost:8080/",
          "height": 35
        },
        "id": "6Q4hBmO3AeVy",
        "outputId": "5b14b1fe-ec89-4d9c-9036-0dc11a655be4"
      },
      "execution_count": 7,
      "outputs": [
        {
          "output_type": "execute_result",
          "data": {
            "text/plain": [
              "'Простое число'"
            ],
            "application/vnd.google.colaboratory.intrinsic+json": {
              "type": "string"
            }
          },
          "metadata": {},
          "execution_count": 7
        }
      ]
    },
    {
      "cell_type": "markdown",
      "source": [
        "**Лабораторная работа №2.** \n",
        "\n",
        "Сортировка массива.\n",
        "Написать программу, которая принимает на вход массив произвольной длины, состоящий из\n",
        "действительных чисел, и сортирует его по возрастанию и убыванию (без использования команды\n",
        ".sort()). \n"
      ],
      "metadata": {
        "id": "W7DJbjAIA_uS"
      }
    },
    {
      "cell_type": "code",
      "source": [
        "data_list = [-5, -23, 5, 0, 23, -6, 23, 67]"
      ],
      "metadata": {
        "id": "11lc94rkB9G5"
      },
      "execution_count": 25,
      "outputs": []
    },
    {
      "cell_type": "code",
      "source": [
        "def verx(data_list):\n",
        "  new_list = []\n",
        "\n",
        "  while data_list:\n",
        "      minimum = data_list[0]  # arbitrary number in list \n",
        "      for x in data_list: \n",
        "          if x < minimum:\n",
        "              minimum = x\n",
        "      new_list.append(minimum)\n",
        "      data_list.remove(minimum)    \n",
        "\n",
        "  return (new_list)"
      ],
      "metadata": {
        "id": "cbu7kOYBB2oH"
      },
      "execution_count": 21,
      "outputs": []
    },
    {
      "cell_type": "code",
      "source": [
        "verx(data_list)"
      ],
      "metadata": {
        "colab": {
          "base_uri": "https://localhost:8080/"
        },
        "id": "gdeRBWG1CGrJ",
        "outputId": "4df66acc-b84c-41b2-9b10-c8930cc899b1"
      },
      "execution_count": 22,
      "outputs": [
        {
          "output_type": "execute_result",
          "data": {
            "text/plain": [
              "[-23, -6, -5, 0, 5, 23, 23, 67]"
            ]
          },
          "metadata": {},
          "execution_count": 22
        }
      ]
    },
    {
      "cell_type": "code",
      "source": [
        "def niz(data_list):\n",
        "  new_list = []\n",
        "\n",
        "  while data_list:\n",
        "      maximum = data_list[0]  # arbitrary number in list \n",
        "      for x in data_list: \n",
        "          if x > maximum:\n",
        "              maximum = x\n",
        "      new_list.append(maximum)\n",
        "      data_list.remove(maximum)    \n",
        "\n",
        "  return (new_list)"
      ],
      "metadata": {
        "id": "SUEIIjgsCxIz"
      },
      "execution_count": 23,
      "outputs": []
    },
    {
      "cell_type": "code",
      "source": [
        "niz(data_list)"
      ],
      "metadata": {
        "colab": {
          "base_uri": "https://localhost:8080/"
        },
        "id": "J3xtyE0oDCMR",
        "outputId": "a1109c4d-46c7-4dc4-9f3c-c64e3f87f608"
      },
      "execution_count": 26,
      "outputs": [
        {
          "output_type": "execute_result",
          "data": {
            "text/plain": [
              "[67, 23, 23, 5, 0, -5, -6, -23]"
            ]
          },
          "metadata": {},
          "execution_count": 26
        }
      ]
    },
    {
      "cell_type": "markdown",
      "source": [
        "**Лабораторная работа №3**. Коровы.\n",
        "\n",
        "\n",
        "Написать программу, которая принимает на вход целое число и выводит фразу: «n коров» с\n",
        "правильным окончанием (в зависимости от введенного числа). \n"
      ],
      "metadata": {
        "id": "_yDyC0MmDLZ5"
      }
    },
    {
      "cell_type": "code",
      "source": [
        "n = int(input())\n",
        "if n in range(11, 15):\n",
        "        print(n, 'коров')\n",
        "else:\n",
        "        temp = n % 10\n",
        "        if temp in list(range(5,10))+[0]:\n",
        "                print(n, 'коров')\n",
        "        if temp == 1:\n",
        "                print(n, 'коровa')\n",
        "        if temp in range(2,5):\n",
        "                print(n, 'коровы')"
      ],
      "metadata": {
        "colab": {
          "base_uri": "https://localhost:8080/"
        },
        "id": "0zcRJUokDmXv",
        "outputId": "52ef6993-5f11-4ed2-915f-2cf8a6ebc265"
      },
      "execution_count": 28,
      "outputs": [
        {
          "output_type": "stream",
          "name": "stdout",
          "text": [
            "3\n",
            "3 коровы\n"
          ]
        }
      ]
    },
    {
      "cell_type": "markdown",
      "source": [
        "**Лабораторная работа №4**. Факториал\n",
        "\n",
        "Написать программу, которая принимает на вход целое число и выводит факториал этого числа\n",
        "(факториал – это число $𝑛! = 2 ∗ 3 ∗ 4 ∗ 5 ∗ … ∗ (𝑛 − 2) ∗ (𝑛 − 1) ∗ 𝑛)$. "
      ],
      "metadata": {
        "id": "e45551YcD7tm"
      }
    },
    {
      "cell_type": "code",
      "source": [
        "n = int(input())\n",
        " \n",
        "factorial = 1\n",
        "while n > 1:\n",
        "    factorial *= n\n",
        "    n -= 1\n",
        "    #print(factorial)\n",
        " \n",
        "print(factorial)"
      ],
      "metadata": {
        "colab": {
          "base_uri": "https://localhost:8080/"
        },
        "id": "KX69myt8EFQo",
        "outputId": "e9a0b4ba-1537-41e9-91f5-3db4e5f2e4ca"
      },
      "execution_count": 31,
      "outputs": [
        {
          "output_type": "stream",
          "name": "stdout",
          "text": [
            "9\n",
            "362880\n"
          ]
        }
      ]
    },
    {
      "cell_type": "markdown",
      "source": [
        "**Лабораторная работа №5**. Решение квадратного уравнения.\n",
        "\n",
        "\n",
        "Написать программу, которая принимает на вход параметры 𝑎, 𝑏, 𝑐 квадратного уравнения $𝑎𝑥^2 +\n",
        "𝑏𝑥 + 𝑐 = 0$ и решает его. Если дискриминант уравнения меньше нуля, то вывести «корней нет»,\n",
        "если равен нулю, то вывести только один корень, если больше нуля – то вывести два корня. "
      ],
      "metadata": {
        "id": "XlikItxpEnW2"
      }
    },
    {
      "cell_type": "code",
      "source": [
        "print(\"Введите коэффициенты для уравнения\")\n",
        "print(\"ax^2 + bx + c = 0:\")\n",
        "a = float(input(\"a = \"))\n",
        "b = float(input(\"b = \"))\n",
        "c = float(input(\"c = \"))\n",
        " \n",
        "discr = b ** 2 - 4 * a * c\n",
        "print(\"Дискриминант D = %.2f\" % discr)\n",
        " \n",
        "if discr > 0:\n",
        "    x1 = (-b + (discr)**0.5) / (2 * a)\n",
        "    x2 = (-b - (discr)**5) / (2 * a)\n",
        "    print(\"x1 = %.2f \\nx2 = %.2f\" % (x1, x2))\n",
        "elif discr == 0:\n",
        "    x = -b / (2 * a)\n",
        "    print(\"x = %.2f\" % x)\n",
        "else:\n",
        "    print(\"Корней нет\")"
      ],
      "metadata": {
        "colab": {
          "base_uri": "https://localhost:8080/"
        },
        "id": "h1hpXYRyFBeZ",
        "outputId": "ba959473-3150-432c-bdc9-203cc9075c52"
      },
      "execution_count": 32,
      "outputs": [
        {
          "output_type": "stream",
          "name": "stdout",
          "text": [
            "Введите коэффициенты для уравнения\n",
            "ax^2 + bx + c = 0:\n",
            "a = 2\n",
            "b = 3\n",
            "c = 4\n",
            "Дискриминант D = -23.00\n",
            "Корней нет\n"
          ]
        }
      ]
    },
    {
      "cell_type": "markdown",
      "source": [
        "**Лабораторная работа №6.** Количество слов в предложении.\n",
        "\n",
        "\n",
        "Написать программу, которая принимает на вход предложение (строковую переменную)\n",
        "произвольной длины и выводит количество слов во введенном предложении. \n"
      ],
      "metadata": {
        "id": "KDhWsTihFTLI"
      }
    },
    {
      "cell_type": "code",
      "source": [
        "a = input(\"Ввведите строку    \")\n",
        "b = a\n",
        "for i in a:\n",
        "    if i in ';:.,()!?*^ % @ -':\n",
        "        b = b.replace(i, ' ')\n",
        "        print(b)\n",
        "c = b.split()\n",
        "n = len(c) - c.count('-')\n",
        "print(n)"
      ],
      "metadata": {
        "colab": {
          "base_uri": "https://localhost:8080/"
        },
        "id": "zIuxCGNbFdSu",
        "outputId": "e9b0052c-3c3b-45bf-ad46-9babe7a7dfeb"
      },
      "execution_count": 59,
      "outputs": [
        {
          "output_type": "stream",
          "name": "stdout",
          "text": [
            "Ввведите строку    print(len(input().split()))\n",
            "print len input ).split )))\n",
            "print len input ).split )))\n",
            "print len input ).split )))\n",
            "print len input  .split    \n",
            "print len input   split    \n",
            "print len input   split    \n",
            "print len input   split    \n",
            "print len input   split    \n",
            "print len input   split    \n",
            "4\n"
          ]
        }
      ]
    },
    {
      "cell_type": "code",
      "source": [
        "a = input(\"Ввведите строку    \")\n",
        "b = a.lower()\n",
        "for i in a:\n",
        "    if i not in set('abcdefghijklmnopqrstuvwxy абвгдеёжзийклмнопрстуфхцчшщъыьэюя'):\n",
        "        b = b.replace(i, ' ')\n",
        "        print(b)\n",
        "c = b.split()\n",
        "n = len(c) - c.count('-')\n",
        "print('Длина = ', n)"
      ],
      "metadata": {
        "colab": {
          "base_uri": "https://localhost:8080/"
        },
        "outputId": "80ac3f30-c611-4980-afba-95a1d5707302",
        "id": "XQvEGQKOP224"
      },
      "execution_count": 79,
      "outputs": [
        {
          "output_type": "stream",
          "name": "stdout",
          "text": [
            "Ввведите строку    программу, вычисляющую производную функции 𝑓(𝑥) = √𝑥 sin 𝑥 в точке, определенной\n",
            "программу  вычисляющую производную функции 𝑓(𝑥) = √𝑥 sin 𝑥 в точке  определенной\n",
            "программу  вычисляющую производную функции  (𝑥) = √𝑥 sin 𝑥 в точке  определенной\n",
            "программу  вычисляющую производную функции   𝑥) = √𝑥 sin 𝑥 в точке  определенной\n",
            "программу  вычисляющую производную функции    ) = √  sin   в точке  определенной\n",
            "программу  вычисляющую производную функции      = √  sin   в точке  определенной\n",
            "программу  вычисляющую производную функции        √  sin   в точке  определенной\n",
            "программу  вычисляющую производную функции           sin   в точке  определенной\n",
            "программу  вычисляющую производную функции           sin   в точке  определенной\n",
            "программу  вычисляющую производную функции           sin   в точке  определенной\n",
            "программу  вычисляющую производную функции           sin   в точке  определенной\n",
            "Длина =  8\n"
          ]
        }
      ]
    },
    {
      "cell_type": "code",
      "source": [],
      "metadata": {
        "id": "7j0OAqy_P0Ep"
      },
      "execution_count": null,
      "outputs": []
    },
    {
      "cell_type": "code",
      "source": [
        "whitelist = set('abcdefghijklmnopqrstuvwxy ABCDEFGHIJKLMNOPQRSTUVWXYZ абвгдеёжзийклмнопрстуфхцчшщъыьэюя')\n",
        "myStr = \"(факториал – это число 𝑛! = 2 ∗ 3 ∗ 4 ∗ 5 ∗ … ∗ (𝑛 − 2) ∗ (𝑛 − 1) ∗ 𝑛).\"\n",
        "x = ''.join(filter(whitelist.__contains__, myStr))\n",
        "\n",
        "print(x )\n",
        "print('Длина = ', len(x.split()))"
      ],
      "metadata": {
        "colab": {
          "base_uri": "https://localhost:8080/"
        },
        "id": "7A65eopoNllk",
        "outputId": "50e7d53f-d044-42af-f37c-6e38b2de975a"
      },
      "execution_count": 78,
      "outputs": [
        {
          "output_type": "stream",
          "name": "stdout",
          "text": [
            "факториал  это число                     \n",
            "Длина =  3\n"
          ]
        }
      ]
    },
    {
      "cell_type": "markdown",
      "source": [
        "**Лабораторная работа №7**. Вычисление производной в точке.\n",
        "\n",
        "\n",
        "Написать программу, вычисляющую производную функции $𝑓(𝑥) = √𝑥 sin 𝑥$ в точке, определенной\n",
        "пользователем. На вход подается точка 𝑥଴ и погрешность вычислений 𝜀, программа должна\n",
        "вывести значение производной, посчитанной с заданной погрешностью по формуле\n"
      ],
      "metadata": {
        "id": "wlKzB0fzFxiX"
      }
    },
    {
      "cell_type": "code",
      "source": [
        "from math import sin\n",
        " \n",
        "x = float(input(\"Введите значение угла \"))\n",
        "e = float(input(\"Введите значение погрешности \"))\n",
        "if e>0:\n",
        "  print(((sin(x+e)*(x+e)**0.5)-(sin(x)*x**0.5))/e)\n",
        "\n"
      ],
      "metadata": {
        "colab": {
          "base_uri": "https://localhost:8080/"
        },
        "id": "6pXuz3MIGzkF",
        "outputId": "1482ba2f-af6b-4c5f-f228-7d651681bbd0"
      },
      "execution_count": 45,
      "outputs": [
        {
          "output_type": "stream",
          "name": "stdout",
          "text": [
            "Введите значение угла 45\n",
            "Введите значение погрешности 0.000000001\n",
            "3.5873766179861373\n"
          ]
        }
      ]
    }
  ]
}
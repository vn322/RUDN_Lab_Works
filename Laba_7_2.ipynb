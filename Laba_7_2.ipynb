{
  "cells": [
    {
      "cell_type": "markdown",
      "metadata": {
        "id": "xPMLC3rBNfst"
      },
      "source": [
        "# Лабораторная работа 7. Библиотеки. Научный Python 1.\n",
        "# Линейные и нелинейные уравнения."
      ]
    },
    {
      "cell_type": "markdown",
      "metadata": {
        "id": "mQ3CZ6EjNfsz"
      },
      "source": [
        "Загрузим необходимые для работы библиотеки: "
      ]
    },
    {
      "cell_type": "code",
      "execution_count": 1,
      "metadata": {
        "id": "l38hK0yJNfs1"
      },
      "outputs": [],
      "source": [
        "import numpy as np\n",
        "import sympy as sm\n",
        "import matplotlib.pyplot as plt\n",
        "\n",
        "from scipy import linalg\n",
        "from scipy.optimize import root # описание библиотеки: https://docs.scipy.org/doc/scipy/reference/optimize.html\n",
        "from scipy.optimize import minimize, rosen, rosen_der\n",
        "import math\n",
        "import time\n",
        "import pylab\n",
        "from sympy import pi, symbols, expand, collect, factor, cancel, together, simplify, apart, together, degree, limit, oo, diff\n",
        "sm.init_printing()\n",
        "%matplotlib notebook"
      ]
    },
    {
      "cell_type": "markdown",
      "metadata": {
        "id": "dBbFza2kNfs2"
      },
      "source": [
        "# 1. Линейная алгебра"
      ]
    },
    {
      "cell_type": "markdown",
      "metadata": {
        "id": "vraqU9VYNfs3"
      },
      "source": [
        "Массивы бывают 1-мерные (вектора) 2-мерные (матрицы) и многомерные.\n",
        "\n",
        "Все элементы массива должны принадлежать к одному типу данных.\n",
        "\n",
        "Создадим одномерный массив из списка при помощи функции array:"
      ]
    },
    {
      "cell_type": "code",
      "execution_count": 2,
      "metadata": {
        "colab": {
          "base_uri": "https://localhost:8080/"
        },
        "id": "_CEC52VkNfs3",
        "outputId": "8684250f-30a1-47de-cd16-6c26f3751381"
      },
      "outputs": [
        {
          "output_type": "execute_result",
          "data": {
            "text/plain": [
              "array([1, 2, 3])"
            ]
          },
          "metadata": {},
          "execution_count": 2
        }
      ],
      "source": [
        "np.array([1, 2, 3])"
      ]
    },
    {
      "cell_type": "markdown",
      "metadata": {
        "id": "Qj_vy_2BNfs4"
      },
      "source": [
        "Создадим двумерный массив из списка при помощи функции array. Обратите внимание на скобки."
      ]
    },
    {
      "cell_type": "code",
      "execution_count": 3,
      "metadata": {
        "colab": {
          "base_uri": "https://localhost:8080/"
        },
        "id": "SSsHwDTCNfs5",
        "outputId": "b5a3ad25-6134-47c7-cf28-292683712cf4"
      },
      "outputs": [
        {
          "output_type": "execute_result",
          "data": {
            "text/plain": [
              "array([[1, 2, 3],\n",
              "       [4, 5, 6],\n",
              "       [7, 8, 9]])"
            ]
          },
          "metadata": {},
          "execution_count": 3
        }
      ],
      "source": [
        "np.array([[1, 2, 3], [4, 5, 6], [7, 8, 9]])"
      ]
    },
    {
      "cell_type": "markdown",
      "metadata": {
        "id": "0xTEY64YNfs5"
      },
      "source": [
        "Для создания специфических массивов надо использовать специальные методы. Нарпимер, zeros создаёт массив нулей."
      ]
    },
    {
      "cell_type": "code",
      "execution_count": 4,
      "metadata": {
        "colab": {
          "base_uri": "https://localhost:8080/"
        },
        "id": "3BFoodQlNfs6",
        "outputId": "2ab9b836-a28b-45f2-f998-1a88635766b1"
      },
      "outputs": [
        {
          "output_type": "execute_result",
          "data": {
            "text/plain": [
              "array([[0., 0., 0., 0.],\n",
              "       [0., 0., 0., 0.],\n",
              "       [0., 0., 0., 0.]])"
            ]
          },
          "metadata": {},
          "execution_count": 4
        }
      ],
      "source": [
        "np.zeros((3,4), order='F')"
      ]
    },
    {
      "cell_type": "code",
      "source": [
        "np.zeros((2,), dtype=[('x', 'i4'), ('y', 'i4')])"
      ],
      "metadata": {
        "colab": {
          "base_uri": "https://localhost:8080/"
        },
        "id": "GN4vNdtiRobD",
        "outputId": "c8590743-5758-42c7-de63-c3c3519aa0d1"
      },
      "execution_count": 5,
      "outputs": [
        {
          "output_type": "execute_result",
          "data": {
            "text/plain": [
              "array([(0, 0), (0, 0)], dtype=[('x', '<i4'), ('y', '<i4')])"
            ]
          },
          "metadata": {},
          "execution_count": 5
        }
      ]
    },
    {
      "cell_type": "code",
      "source": [
        "np.zeros((2,3))# AAAAAAAAA"
      ],
      "metadata": {
        "colab": {
          "base_uri": "https://localhost:8080/"
        },
        "id": "xatA58VBSEX9",
        "outputId": "25ac96d0-5f9a-4e67-c5f5-e978364d20ac"
      },
      "execution_count": 6,
      "outputs": [
        {
          "output_type": "execute_result",
          "data": {
            "text/plain": [
              "array([[0., 0., 0.],\n",
              "       [0., 0., 0.]])"
            ]
          },
          "metadata": {},
          "execution_count": 6
        }
      ]
    },
    {
      "cell_type": "markdown",
      "metadata": {
        "id": "NxVu_qQbNfs7"
      },
      "source": [
        "Для создания единично матрицы используется функция eye."
      ]
    },
    {
      "cell_type": "code",
      "execution_count": 7,
      "metadata": {
        "colab": {
          "base_uri": "https://localhost:8080/"
        },
        "id": "uedFwJtxNfs9",
        "outputId": "1ba9518e-a24b-4a8e-f86b-db56fb740734"
      },
      "outputs": [
        {
          "output_type": "execute_result",
          "data": {
            "text/plain": [
              "array([[1., 0., 0., 0., 0.],\n",
              "       [0., 1., 0., 0., 0.],\n",
              "       [0., 0., 1., 0., 0.],\n",
              "       [0., 0., 0., 1., 0.],\n",
              "       [0., 0., 0., 0., 1.]])"
            ]
          },
          "metadata": {},
          "execution_count": 7
        }
      ],
      "source": [
        "np.eye(5)"
      ]
    },
    {
      "cell_type": "code",
      "source": [
        "np.eye(3, k= -1)"
      ],
      "metadata": {
        "colab": {
          "base_uri": "https://localhost:8080/"
        },
        "id": "LX2e-BmyTzFL",
        "outputId": "5a5234f8-e0d9-4673-93e1-0a8e1a484a03"
      },
      "execution_count": 8,
      "outputs": [
        {
          "output_type": "execute_result",
          "data": {
            "text/plain": [
              "array([[0., 0., 0.],\n",
              "       [1., 0., 0.],\n",
              "       [0., 1., 0.]])"
            ]
          },
          "metadata": {},
          "execution_count": 8
        }
      ]
    },
    {
      "cell_type": "code",
      "source": [
        "np.empty([2, 3], dtype=int)"
      ],
      "metadata": {
        "colab": {
          "base_uri": "https://localhost:8080/"
        },
        "id": "eEiplW-cVhlz",
        "outputId": "7bd30715-8988-4cd9-97b8-fbeaff40dd95"
      },
      "execution_count": 9,
      "outputs": [
        {
          "output_type": "execute_result",
          "data": {
            "text/plain": [
              "array([[0, 0, 0],\n",
              "       [0, 0, 0]])"
            ]
          },
          "metadata": {},
          "execution_count": 9
        }
      ]
    },
    {
      "cell_type": "markdown",
      "metadata": {
        "id": "57jkGOj2Nfs-"
      },
      "source": [
        "Для получения случайных чисел из нормального распределения используем функцию randn() из модуля random. Для создания матрицы случайных чисел надо передать функции два числа задающих диапазон случайных значений [10, 100] и размерность матрицы (3, 3)"
      ]
    },
    {
      "cell_type": "code",
      "execution_count": 10,
      "metadata": {
        "colab": {
          "base_uri": "https://localhost:8080/"
        },
        "id": "GIG9Z-3qNfs_",
        "outputId": "1fb79b6f-c2c2-4f8d-d366-ace8a0e30eae"
      },
      "outputs": [
        {
          "output_type": "execute_result",
          "data": {
            "text/plain": [
              "array([[32.42747063, 97.91476617, 62.81703973, 63.53473865, 79.48898528],\n",
              "       [61.12266378, 10.4775815 , 40.88528555, 11.63184654, 40.88720813],\n",
              "       [67.12724847, 61.60038478, 54.15334353, 95.38147019, 32.02512245]])"
            ]
          },
          "metadata": {},
          "execution_count": 10
        }
      ],
      "source": [
        "arr = np.random.uniform(10, 100, (3, 5))\n",
        "arr"
      ]
    },
    {
      "cell_type": "markdown",
      "metadata": {
        "id": "NbsYAac8Nfs_"
      },
      "source": [
        "К эллементам массива можно обращаться по индексу "
      ]
    },
    {
      "cell_type": "code",
      "execution_count": 11,
      "metadata": {
        "colab": {
          "base_uri": "https://localhost:8080/"
        },
        "id": "bXRobOOZNftA",
        "outputId": "8d22ad15-1750-475c-9c3e-71281eccca2c"
      },
      "outputs": [
        {
          "output_type": "execute_result",
          "data": {
            "text/plain": [
              "array([97.91476617, 63.53473865])"
            ]
          },
          "metadata": {},
          "execution_count": 11
        }
      ],
      "source": [
        "arr[0,1:5:2]  #  arr[номер строки , от столбца : до столбца : шаг]"
      ]
    },
    {
      "cell_type": "markdown",
      "metadata": {
        "id": "-lnjIgkRNftA"
      },
      "source": [
        "Чтобы вывести все элементы строки или столбца можно написать [:]"
      ]
    },
    {
      "cell_type": "code",
      "execution_count": 12,
      "metadata": {
        "colab": {
          "base_uri": "https://localhost:8080/"
        },
        "id": "AvjXuIi6NftB",
        "outputId": "ea9cdbb5-d520-49c0-f805-6ce3ebc24d51"
      },
      "outputs": [
        {
          "output_type": "execute_result",
          "data": {
            "text/plain": [
              "array([[98.91476617, 64.53473865],\n",
              "       [11.4775815 , 12.63184654],\n",
              "       [62.60038478, 96.38147019]])"
            ]
          },
          "metadata": {},
          "execution_count": 12
        }
      ],
      "source": [
        "arr[:,1:5:2]+1"
      ]
    },
    {
      "cell_type": "markdown",
      "metadata": {
        "id": "_I0pIGnkNftC"
      },
      "source": [
        "К массиву можно применять арифметические и логические операции (при этом эта операция будет применина к каждому эллементу):"
      ]
    },
    {
      "cell_type": "code",
      "execution_count": 13,
      "metadata": {
        "colab": {
          "base_uri": "https://localhost:8080/"
        },
        "id": "z9zutJwXNftC",
        "outputId": "98847c85-6bb9-4d5e-8c31-34735a2779f7"
      },
      "outputs": [
        {
          "output_type": "execute_result",
          "data": {
            "text/plain": [
              "array([[ True, False, False, False, False],\n",
              "       [False,  True,  True,  True,  True],\n",
              "       [False, False, False, False,  True]])"
            ]
          },
          "metadata": {},
          "execution_count": 13
        }
      ],
      "source": [
        "arr < 50"
      ]
    },
    {
      "cell_type": "markdown",
      "metadata": {
        "id": "26AMcfQ1NftD"
      },
      "source": [
        "# Основные операции над матрицами и решение СЛАУ"
      ]
    },
    {
      "cell_type": "code",
      "execution_count": 14,
      "metadata": {
        "colab": {
          "base_uri": "https://localhost:8080/"
        },
        "id": "TDYK7CDUNftD",
        "outputId": "ed919954-b836-4c02-e85e-362127de0949"
      },
      "outputs": [
        {
          "output_type": "stream",
          "name": "stdout",
          "text": [
            "x = \n",
            " [5.6 6.1]\n"
          ]
        }
      ],
      "source": [
        "# определение матрицы\n",
        "A = np.array([[1, 2], [3, 4]])\n",
        "x0 = [5.6, 6.1]\n",
        "b = np.dot(A,x0)\n",
        "\n",
        "\n",
        "# вычисление определителя матрицы\n",
        "detA = linalg.det(A)\n",
        "\n",
        "# вычисление ранга матрицы\n",
        "rankA = np.linalg.matrix_rank(A)\n",
        "\n",
        "# вычисление обратной матрицы\n",
        "B = linalg.inv(A)\n",
        "\n",
        "# вычисление суммы матриц\n",
        "C = A + B\n",
        "\n",
        "# вычисление произведения матриц\n",
        "D = np.dot(A,B)\n",
        "\n",
        "# решение СЛАУ A*x=b с помощью обратной матрицы \n",
        "x = np.dot(linalg.inv(A),b) \n",
        "print('x = \\n', x)\n",
        "\n",
        "# проверка решения\n",
        "errx = np.dot(A,x) - b"
      ]
    },
    {
      "cell_type": "markdown",
      "metadata": {
        "id": "GeZ6bZBfNftE"
      },
      "source": [
        "# Упражнение 1. Норма в норме."
      ]
    },
    {
      "cell_type": "markdown",
      "metadata": {
        "id": "xXnTr6cyNftF"
      },
      "source": [
        "Напишите программу для вычисления норм вещественных матриц:\n",
        "\n",
        "$$ \\|A\\|_1 = \\underset{1 \\leq j \\leq n}{max}\\overset{n}{\\underset{i=1}{\\sum}}|a_{ij}|, \\quad\n",
        "\\|A\\|_E = \\left( \\overset{n}{\\underset{i,j=1}{\\sum}}|a_{ij}|^2 \\right)^{1/2}, \\quad\n",
        "\\|A\\|_\\infty = \\underset{1 \\leq i \\leq n}{max}\\overset{n}{\\underset{j=1}{\\sum}}|a_{ij}|. $$\n",
        "\n",
        "На основе экспериментов со случайными матрицами при различных $n$ убедитесь в выполнении неравенств \n",
        "\n",
        "\n",
        "$$ \\frac{1}{\\sqrt{n}} \\|A\\|_\\alpha \\leq \\|A\\|_E \\leq \\sqrt{n}\\|A\\|_\\alpha, \\quad \\alpha = 1, \\infty.$$"
      ]
    },
    {
      "cell_type": "code",
      "execution_count": 15,
      "metadata": {
        "colab": {
          "base_uri": "https://localhost:8080/",
          "height": 38
        },
        "id": "KQW5gyzcNftF",
        "outputId": "d7a820ac-35ea-4ae4-cb65-edf9b0f72901"
      },
      "outputs": [
        {
          "output_type": "execute_result",
          "data": {
            "text/plain": [
              "(170.54805538141494, 231.5618866547178, 336.18300045506015)"
            ],
            "image/png": "[encoded data removed]",
            "text/latex": "$\\displaystyle \\left( 170.548055381415, \\  231.561886654718, \\  336.18300045506\\right)$"
          },
          "metadata": {},
          "execution_count": 15
        }
      ],
      "source": [
        "from numpy import linalg as LA\n",
        "\n",
        "LA.norm(arr, 1),LA.norm(arr, 'fro'),LA.norm(arr, np.inf) #https://numpy.org/doc/stable/reference/generated/numpy.linalg.norm.html"
      ]
    },
    {
      "cell_type": "markdown",
      "metadata": {
        "id": "JdEkHMJnNftF"
      },
      "source": [
        "# 2. Символьные вычисления и исследование функций."
      ]
    },
    {
      "cell_type": "code",
      "execution_count": 16,
      "metadata": {
        "id": "Wl7Cx12XNftF"
      },
      "outputs": [],
      "source": [
        "from sympy import pi, symbols, expand, collect, factor, cancel, together, simplify, apart, together, degree, limit, oo, diff"
      ]
    },
    {
      "cell_type": "markdown",
      "metadata": {
        "id": "XWpFcwUINftG"
      },
      "source": [
        "# 2.1. Число $\\pi$"
      ]
    },
    {
      "cell_type": "code",
      "execution_count": 17,
      "metadata": {
        "colab": {
          "base_uri": "https://localhost:8080/"
        },
        "id": "tJRyEDqxNftG",
        "outputId": "0baea477-cb36-4ab8-b470-7fda6c5a81a2"
      },
      "outputs": [
        {
          "output_type": "stream",
          "name": "stdout",
          "text": [
            "\n",
            " Выведем 70 знаков числа пи: 3.141592653589793238462643383279502884197169399375105820974944592307816\n"
          ]
        }
      ],
      "source": [
        "# Выыедем заданное колличество знаков числа pi\n",
        "npi=70;\n",
        "print('\\n Выведем %i знаков числа пи:' %npi ,pi.n(npi));"
      ]
    },
    {
      "cell_type": "markdown",
      "metadata": {
        "id": "OcGJ-wX8NftG"
      },
      "source": [
        "# 2.2. Многочлены и рациональные функции"
      ]
    },
    {
      "cell_type": "code",
      "execution_count": 18,
      "metadata": {
        "id": "-X652mUYNftH"
      },
      "outputs": [],
      "source": [
        "# Создадим несколько символьных переменных\n",
        "x,y,z,a,b=symbols('x y z a b')"
      ]
    },
    {
      "cell_type": "markdown",
      "metadata": {
        "id": "ror3vsy2NftH"
      },
      "source": [
        "Проверим фомулу бинома Ньютона, пусть $x=(a+b)^n$\n",
        "\n",
        "SymPy умеет раскрывать скобки, для этого используется функция expand"
      ]
    },
    {
      "cell_type": "code",
      "execution_count": 19,
      "metadata": {
        "colab": {
          "base_uri": "https://localhost:8080/",
          "height": 57
        },
        "id": "Lriavdg5NftH",
        "outputId": "05cb67e5-a5a2-4921-8c17-b59c67619a3c"
      },
      "outputs": [
        {
          "output_type": "stream",
          "name": "stdout",
          "text": [
            "(a + b)**6 = a**6 + 6*a**5*b + 15*a**4*b**2 + 20*a**3*b**3 + 15*a**2*b**4 + 6*a*b**5 + b**6\n"
          ]
        },
        {
          "output_type": "execute_result",
          "data": {
            "text/plain": [
              " 6      5         4  2       3  3       2  4        5    6\n",
              "a  + 6⋅a ⋅b + 15⋅a ⋅b  + 20⋅a ⋅b  + 15⋅a ⋅b  + 6⋅a⋅b  + b "
            ],
            "image/png": "[encoded data removed]",
            "text/latex": "$\\displaystyle a^{6} + 6 a^{5} b + 15 a^{4} b^{2} + 20 a^{3} b^{3} + 15 a^{2} b^{4} + 6 a b^{5} + b^{6}$"
          },
          "metadata": {},
          "execution_count": 19
        }
      ],
      "source": [
        "n=6\n",
        "x=(a+b)**n\n",
        "y=expand(x)\n",
        "print(x, '=', y)\n",
        "y"
      ]
    },
    {
      "cell_type": "code",
      "execution_count": 20,
      "metadata": {
        "colab": {
          "base_uri": "https://localhost:8080/",
          "height": 75
        },
        "id": "BFcwCBK5NftH",
        "outputId": "961fb8d7-1532-445d-dd0a-3a3196bb58b8"
      },
      "outputs": [
        {
          "output_type": "stream",
          "name": "stdout",
          "text": [
            "Полином имеет порядок 6 по переменной b\n",
            "Члены с этой переменной имеют вид:\n"
          ]
        },
        {
          "output_type": "execute_result",
          "data": {
            "text/plain": [
              "⎛ 6      5         4  2       3  3       2  4        5    6   6      5        \n",
              "⎝a  + 6⋅a ⋅b + 15⋅a ⋅b  + 20⋅a ⋅b  + 15⋅a ⋅b  + 6⋅a⋅b  + b , a  + 6⋅a ⋅b + 15⋅\n",
              "\n",
              " 4  2       3  3       2  4        5    6⎞\n",
              "a ⋅b  + 20⋅a ⋅b  + 15⋅a ⋅b  + 6⋅a⋅b  + b ⎠"
            ],
            "image/png": "[encoded data removed]",
            "text/latex": "$\\displaystyle \\left( a^{6} + 6 a^{5} b + 15 a^{4} b^{2} + 20 a^{3} b^{3} + 15 a^{2} b^{4} + 6 a b^{5} + b^{6}, \\  a^{6} + 6 a^{5} b + 15 a^{4} b^{2} + 20 a^{3} b^{3} + 15 a^{2} b^{4} + 6 a b^{5} + b^{6}\\right)$"
          },
          "metadata": {},
          "execution_count": 20
        }
      ],
      "source": [
        "# определим степень многочлена  по b\n",
        "print ('Полином имеет порядок %i по переменной b' %(degree(y,b)))\n",
        "# и сгрупируем члены со степенями  b\n",
        "print('Члены с этой переменной имеют вид:')\n",
        "collect(y,b),  collect(y,a)"
      ]
    },
    {
      "cell_type": "code",
      "execution_count": 21,
      "metadata": {
        "colab": {
          "base_uri": "https://localhost:8080/",
          "height": 38
        },
        "id": "xSFUdaU9NftH",
        "outputId": "66ed9d8f-49e5-4f3b-923f-415868a377ce"
      },
      "outputs": [
        {
          "output_type": "execute_result",
          "data": {
            "text/plain": [
              "       6\n",
              "(a + b) "
            ],
            "image/png": "[encoded data removed]",
            "text/latex": "$\\displaystyle \\left(a + b\\right)^{6}$"
          },
          "metadata": {},
          "execution_count": 21
        }
      ],
      "source": [
        "# раскрытое вырожение можно свернуть обратно\n",
        "z=factor(y)\n",
        "z"
      ]
    },
    {
      "cell_type": "markdown",
      "metadata": {
        "id": "gSQAWy8mNftI"
      },
      "source": [
        "SymPy умеет сокращать символьное отношение, для этого используется функция cancel"
      ]
    },
    {
      "cell_type": "code",
      "execution_count": 22,
      "metadata": {
        "colab": {
          "base_uri": "https://localhost:8080/",
          "height": 77
        },
        "id": "TJYKPXtxNftI",
        "outputId": "ed1892fc-7cb7-4cf8-82f2-f0e180fe69e5"
      },
      "outputs": [
        {
          "output_type": "stream",
          "name": "stdout",
          "text": [
            "(a**3 - b**3)/(a**2 - b**2) = (a**2 + a*b + b**2)/(a + b)\n"
          ]
        },
        {
          "output_type": "execute_result",
          "data": {
            "text/plain": [
              "⎛ 3    3   2          2⎞\n",
              "⎜a  - b   a  + a⋅b + b ⎟\n",
              "⎜───────, ─────────────⎟\n",
              "⎜ 2    2      a + b    ⎟\n",
              "⎝a  - b                ⎠"
            ],
            "image/png": "[encoded data removed]",
            "text/latex": "$\\displaystyle \\left( \\frac{a^{3} - b^{3}}{a^{2} - b^{2}}, \\  \\frac{a^{2} + a b + b^{2}}{a + b}\\right)$"
          },
          "metadata": {},
          "execution_count": 22
        }
      ],
      "source": [
        "x,y,z,a,b=symbols('x y z a b')\n",
        "x=(a**3-b**3)/(a**2-b**2)\n",
        "print(x,'=',cancel(x))\n",
        "x, cancel(x)"
      ]
    },
    {
      "cell_type": "markdown",
      "metadata": {
        "id": "Dlu0hieVNftI"
      },
      "source": [
        "Можно приводить дроби к общему знаменателю, для этого используется функция together"
      ]
    },
    {
      "cell_type": "code",
      "execution_count": 23,
      "metadata": {
        "colab": {
          "base_uri": "https://localhost:8080/",
          "height": 51
        },
        "id": "lSJjcDa8NftI",
        "outputId": "854c2af3-f2d5-4319-f9e7-21f7480e7144"
      },
      "outputs": [
        {
          "output_type": "execute_result",
          "data": {
            "text/plain": [
              "  x       y  \n",
              "───── + ─────\n",
              "x + y   x - y"
            ],
            "image/png": "[encoded data removed]",
            "text/latex": "$\\displaystyle \\frac{x}{x + y} + \\frac{y}{x - y}$"
          },
          "metadata": {},
          "execution_count": 23
        }
      ],
      "source": [
        "x,y,z,a,b=symbols('x y z a b')\n",
        "a=y/(x-y)+x/(x+y)\n",
        "a"
      ]
    },
    {
      "cell_type": "code",
      "execution_count": 24,
      "metadata": {
        "colab": {
          "base_uri": "https://localhost:8080/",
          "height": 57
        },
        "id": "K7htCuRmNftJ",
        "outputId": "265aea0b-e2b5-4722-bb41-e713f4285620"
      },
      "outputs": [
        {
          "output_type": "execute_result",
          "data": {
            "text/plain": [
              "x⋅(x - y) + y⋅(x + y)\n",
              "─────────────────────\n",
              "   (x - y)⋅(x + y)   "
            ],
            "image/png": "[encoded data removed]",
            "text/latex": "$\\displaystyle \\frac{x \\left(x - y\\right) + y \\left(x + y\\right)}{\\left(x - y\\right) \\left(x + y\\right)}$"
          },
          "metadata": {},
          "execution_count": 24
        }
      ],
      "source": [
        "together(a)"
      ]
    },
    {
      "cell_type": "markdown",
      "metadata": {
        "id": "VnSiEBL_NftJ"
      },
      "source": [
        "Можно попытаться переписать выражение в наиболее простом виде, для этого используется функция simplify"
      ]
    },
    {
      "cell_type": "code",
      "execution_count": 25,
      "metadata": {
        "colab": {
          "base_uri": "https://localhost:8080/",
          "height": 57
        },
        "id": "AJVoexcWNftJ",
        "outputId": "e7345d32-d7be-41a8-ccb9-74c75b5d0cef"
      },
      "outputs": [
        {
          "output_type": "execute_result",
          "data": {
            "text/plain": [
              " 2    2\n",
              "x  + y \n",
              "───────\n",
              " 2    2\n",
              "x  - y "
            ],
            "image/png": "[encoded data removed]",
            "text/latex": "$\\displaystyle \\frac{x^{2} + y^{2}}{x^{2} - y^{2}}$"
          },
          "metadata": {},
          "execution_count": 25
        }
      ],
      "source": [
        "simplify(a)"
      ]
    },
    {
      "cell_type": "markdown",
      "metadata": {
        "id": "ykhWN7rjNftJ"
      },
      "source": [
        "Разложить на элементарные дроби по отношению к x "
      ]
    },
    {
      "cell_type": "code",
      "execution_count": 26,
      "metadata": {
        "colab": {
          "base_uri": "https://localhost:8080/",
          "height": 51
        },
        "id": "oB8iI3xqNftJ",
        "outputId": "631bf214-f4b7-486e-d415-b54a9dbce0be"
      },
      "outputs": [
        {
          "output_type": "execute_result",
          "data": {
            "text/plain": [
              "    y       y      \n",
              "- ───── + ───── + 1\n",
              "  x + y   x - y    "
            ],
            "image/png": "[encoded data removed]",
            "text/latex": "$\\displaystyle - \\frac{y}{x + y} + \\frac{y}{x - y} + 1$"
          },
          "metadata": {},
          "execution_count": 26
        }
      ],
      "source": [
        "b=apart(a,x)\n",
        "b"
      ]
    },
    {
      "cell_type": "markdown",
      "metadata": {
        "id": "HarI4WPJNftJ"
      },
      "source": [
        "т.к."
      ]
    },
    {
      "cell_type": "code",
      "execution_count": 27,
      "metadata": {
        "colab": {
          "base_uri": "https://localhost:8080/",
          "height": 57
        },
        "id": "n6kNzuN5NftK",
        "outputId": "a8e2e5f5-c9bf-4132-eb40-ac34dab617f2"
      },
      "outputs": [
        {
          "output_type": "execute_result",
          "data": {
            "text/plain": [
              "-y⋅(x - y) + y⋅(x + y) + (x - y)⋅(x + y)\n",
              "────────────────────────────────────────\n",
              "            (x - y)⋅(x + y)             "
            ],
            "image/png": "[encoded data removed]",
            "text/latex": "$\\displaystyle \\frac{- y \\left(x - y\\right) + y \\left(x + y\\right) + \\left(x - y\\right) \\left(x + y\\right)}{\\left(x - y\\right) \\left(x + y\\right)}$"
          },
          "metadata": {},
          "execution_count": 27
        }
      ],
      "source": [
        "together(b)"
      ]
    },
    {
      "cell_type": "code",
      "execution_count": 28,
      "metadata": {
        "colab": {
          "base_uri": "https://localhost:8080/",
          "height": 57
        },
        "id": "UcPcNBD_NftK",
        "outputId": "85b1aec0-c62e-446d-8013-0fa5f05677db"
      },
      "outputs": [
        {
          "output_type": "execute_result",
          "data": {
            "text/plain": [
              " 2    2\n",
              "x  + y \n",
              "───────\n",
              " 2    2\n",
              "x  - y "
            ],
            "image/png": "[encoded data removed]",
            "text/latex": "$\\displaystyle \\frac{x^{2} + y^{2}}{x^{2} - y^{2}}$"
          },
          "metadata": {},
          "execution_count": 28
        }
      ],
      "source": [
        "cancel(together(b))"
      ]
    },
    {
      "cell_type": "code",
      "source": [
        "x=(a**3+a+2)/(a**3 + 1)\n",
        "expand(x) \n",
        "apart(x,a), together(apart(x,a))\n",
        "\n"
      ],
      "metadata": {
        "colab": {
          "base_uri": "https://localhost:8080/",
          "height": 68
        },
        "id": "kSJcvJY8N6RR",
        "outputId": "c8fd5683-a63e-4163-b0c6-1e8ff30f131b"
      },
      "execution_count": 29,
      "outputs": [
        {
          "output_type": "execute_result",
          "data": {
            "text/plain": [
              "⎛   4      2  2      4    ⎛ 4    2  2      4⎞⎞\n",
              "⎜2⋅x  - 2⋅x ⋅y  + 4⋅y   2⋅⎝x  - x ⋅y  + 2⋅y ⎠⎟\n",
              "⎜─────────────────────, ─────────────────────⎟\n",
              "⎜       4      4               4      4      ⎟\n",
              "⎝      x  + 3⋅y               x  + 3⋅y       ⎠"
            ],
            "image/png": "[encoded data removed]",
            "text/latex": "$\\displaystyle \\left( \\frac{2 x^{4} - 2 x^{2} y^{2} + 4 y^{4}}{x^{4} + 3 y^{4}}, \\  \\frac{2 \\left(x^{4} - x^{2} y^{2} + 2 y^{4}\\right)}{x^{4} + 3 y^{4}}\\right)$"
          },
          "metadata": {},
          "execution_count": 29
        }
      ]
    },
    {
      "cell_type": "markdown",
      "metadata": {
        "id": "aV1Dv75INftK"
      },
      "source": [
        "# 2.3 Решение алгебраических уравнений"
      ]
    },
    {
      "cell_type": "code",
      "execution_count": 30,
      "metadata": {
        "id": "1gitJABXNftK"
      },
      "outputs": [],
      "source": [
        "a,b,c,d,e,f,x = symbols('a b c d e f x')"
      ]
    },
    {
      "cell_type": "markdown",
      "metadata": {
        "id": "8Av6RubENftK"
      },
      "source": [
        "Как известно, алгеброические уравнения до 4 степени включительно имеют решение в радикалах:"
      ]
    },
    {
      "cell_type": "code",
      "execution_count": 31,
      "metadata": {
        "colab": {
          "base_uri": "https://localhost:8080/",
          "height": 68
        },
        "id": "0a_pH-w9NftK",
        "outputId": "82ad4a7f-1d22-4e5a-9c92-fb9d5471187d"
      },
      "outputs": [
        {
          "output_type": "execute_result",
          "data": {
            "text/plain": [
              "⎡        _____________   ⎛       _____________⎞ ⎤\n",
              "⎢       ╱           2    ⎜      ╱           2 ⎟ ⎥\n",
              "⎢-b + ╲╱  -4⋅a⋅c + b    -⎝b + ╲╱  -4⋅a⋅c + b  ⎠ ⎥\n",
              "⎢─────────────────────, ────────────────────────⎥\n",
              "⎣         2⋅a                     2⋅a           ⎦"
            ],
            "image/png": "[encoded data removed]",
            "text/latex": "$\\displaystyle \\left[ \\frac{- b + \\sqrt{- 4 a c + b^{2}}}{2 a}, \\  - \\frac{b + \\sqrt{- 4 a c + b^{2}}}{2 a}\\right]$"
          },
          "metadata": {},
          "execution_count": 31
        }
      ],
      "source": [
        "sm.solve(a*x**2+b*x+c,x)"
      ]
    },
    {
      "cell_type": "code",
      "execution_count": 32,
      "metadata": {
        "colab": {
          "base_uri": "https://localhost:8080/",
          "height": 149
        },
        "id": "_YUC0x1yNftL",
        "outputId": "d29a1bcb-801b-4aae-e7b2-7166fb64fb9d"
      },
      "outputs": [
        {
          "output_type": "execute_result",
          "data": {
            "text/plain": [
              "⎡                                                                             \n",
              "⎢                                                                             \n",
              "⎢                                                                             \n",
              "⎢                                                                             \n",
              "⎢                                                                             \n",
              "⎢                                                                             \n",
              "⎢                                                 2                           \n",
              "⎢                                          3⋅c   b                            \n",
              "⎢                                        - ─── + ──                           \n",
              "⎢                                           a     2                           \n",
              "⎢                                                a                            \n",
              "⎢- ───────────────────────────────────────────────────────────────────────────\n",
              "⎢               ______________________________________________________________\n",
              "⎢              ╱        ____________________________________________          \n",
              "⎢             ╱        ╱                 3                        2           \n",
              "⎢            ╱        ╱      ⎛         2⎞    ⎛                  3⎞            \n",
              "⎢           ╱        ╱       ⎜  3⋅c   b ⎟    ⎜27⋅d   9⋅b⋅c   2⋅b ⎟            \n",
              "⎢          ╱        ╱    - 4⋅⎜- ─── + ──⎟  + ⎜──── - ───── + ────⎟            \n",
              "⎢         ╱        ╱         ⎜   a     2⎟    ⎜ a        2      3 ⎟            \n",
              "⎢        ╱       ╲╱          ⎝        a ⎠    ⎝         a      a  ⎠     27⋅d   \n",
              "⎢  3⋅   ╱        ─────────────────────────────────────────────────── + ──── - \n",
              "⎢    3 ╱                                  2                            2⋅a    \n",
              "⎣    ╲╱                                                                       \n",
              "\n",
              "                         _____________________________________________________\n",
              "                        ╱        ____________________________________________ \n",
              "                       ╱        ╱                 3                        2  \n",
              "                      ╱        ╱      ⎛         2⎞    ⎛                  3⎞   \n",
              "                     ╱        ╱       ⎜  3⋅c   b ⎟    ⎜27⋅d   9⋅b⋅c   2⋅b ⎟   \n",
              "                    ╱        ╱    - 4⋅⎜- ─── + ──⎟  + ⎜──── - ───── + ────⎟   \n",
              "                   ╱        ╱         ⎜   a     2⎟    ⎜ a        2      3 ⎟   \n",
              "                  ╱       ╲╱          ⎝        a ⎠    ⎝         a      a  ⎠   \n",
              "                 ╱        ─────────────────────────────────────────────────── \n",
              "              3 ╱                                  2                          \n",
              "              ╲╱                                                              \n",
              "─────────── - ────────────────────────────────────────────────────────────────\n",
              "___________                                            3                      \n",
              "                                                                              \n",
              "                                                                              \n",
              "                                                                              \n",
              "                                                                              \n",
              "                                                                              \n",
              "         3                                                                    \n",
              "9⋅b⋅c   b                                                                     \n",
              "───── + ──                                                                    \n",
              "    2    3                                                                    \n",
              " 2⋅a    a                                                                     \n",
              "\n",
              "____________________                                                          \n",
              "                                                                              \n",
              "                                                                              \n",
              "                                                                              \n",
              "                                                                              \n",
              "                                                                              \n",
              "                  3                                                           \n",
              "  27⋅d   9⋅b⋅c   b                                                           3\n",
              "+ ──── - ───── + ──                                                        - ─\n",
              "  2⋅a        2    3                                                           \n",
              "          2⋅a    a      b                                                     \n",
              "──────────────────── - ───, - ────────────────────────────────────────────────\n",
              "                       3⋅a                              ______________________\n",
              "                                                       ╱        ______________\n",
              "                                                      ╱        ╱              \n",
              "                                                     ╱        ╱      ⎛        \n",
              "                                                    ╱        ╱       ⎜  3⋅c   \n",
              "                                                   ╱        ╱    - 4⋅⎜- ─── + \n",
              "                                                  ╱        ╱         ⎜   a    \n",
              "                                ⎛  1   √3⋅ⅈ⎞     ╱       ╲╱          ⎝        \n",
              "                              3⋅⎜- ─ - ────⎟⋅   ╱        ─────────────────────\n",
              "                                ⎝  2    2  ⎠ 3 ╱                              \n",
              "                                             ╲╱                               \n",
              "\n",
              "                                                                              \n",
              "                                                                             ╱\n",
              "                                                                            ╱ \n",
              "                                                                           ╱  \n",
              "                                                                          ╱   \n",
              "                                                                         ╱    \n",
              "      2                                                                 ╱     \n",
              "⋅c   b                                                ⎛  1   √3⋅ⅈ⎞     ╱      \n",
              "── + ──                                               ⎜- ─ - ────⎟⋅   ╱       \n",
              "a     2                                               ⎝  2    2  ⎠ 3 ╱        \n",
              "     a                                                             ╲╱         \n",
              "─────────────────────────────────────────────────── - ────────────────────────\n",
              "___________________________________________________                           \n",
              "______________________________                                                \n",
              "   3                        2                                                 \n",
              " 2⎞    ⎛                  3⎞                                                  \n",
              "b ⎟    ⎜27⋅d   9⋅b⋅c   2⋅b ⎟                                                  \n",
              "──⎟  + ⎜──── - ───── + ────⎟                                                  \n",
              " 2⎟    ⎜ a        2      3 ⎟                     3                            \n",
              "a ⎠    ⎝         a      a  ⎠     27⋅d   9⋅b⋅c   b                             \n",
              "────────────────────────────── + ──── - ───── + ──                            \n",
              "    2                            2⋅a        2    3                            \n",
              "                                         2⋅a    a                             \n",
              "\n",
              "_________________________________________________________________________     \n",
              "        ____________________________________________                          \n",
              "       ╱                 3                        2                           \n",
              "      ╱      ⎛         2⎞    ⎛                  3⎞                            \n",
              "     ╱       ⎜  3⋅c   b ⎟    ⎜27⋅d   9⋅b⋅c   2⋅b ⎟                            \n",
              "    ╱    - 4⋅⎜- ─── + ──⎟  + ⎜──── - ───── + ────⎟                            \n",
              "   ╱         ⎜   a     2⎟    ⎜ a        2      3 ⎟                     3      \n",
              " ╲╱          ⎝        a ⎠    ⎝         a      a  ⎠     27⋅d   9⋅b⋅c   b       \n",
              " ─────────────────────────────────────────────────── + ──── - ───── + ──      \n",
              "                          2                            2⋅a        2    3      \n",
              "                                                               2⋅a    a      b\n",
              "───────────────────────────────────────────────────────────────────────── - ──\n",
              "                        3                                                   3⋅\n",
              "                                                                              \n",
              "                                                                              \n",
              "                                                                              \n",
              "                                                                              \n",
              "                                                                              \n",
              "                                                                              \n",
              "                                                                              \n",
              "                                                                              \n",
              "                                                                              \n",
              "                                                                              \n",
              "\n",
              "                                                                              \n",
              "                                                                              \n",
              "                                                                              \n",
              "                                                                              \n",
              "                                                                              \n",
              "                                                                              \n",
              "                                                           2                  \n",
              "                                                    3⋅c   b                   \n",
              "                                                  - ─── + ──                  \n",
              "                                                     a     2                  \n",
              "                                                          a                   \n",
              "─, - ─────────────────────────────────────────────────────────────────────────\n",
              "a                              _______________________________________________\n",
              "                              ╱        _______________________________________\n",
              "                             ╱        ╱                 3                     \n",
              "                            ╱        ╱      ⎛         2⎞    ⎛                 \n",
              "                           ╱        ╱       ⎜  3⋅c   b ⎟    ⎜27⋅d   9⋅b⋅c   2⋅\n",
              "                          ╱        ╱    - 4⋅⎜- ─── + ──⎟  + ⎜──── - ───── + ──\n",
              "                         ╱        ╱         ⎜   a     2⎟    ⎜ a        2      \n",
              "       ⎛  1   √3⋅ⅈ⎞     ╱       ╲╱          ⎝        a ⎠    ⎝         a      a\n",
              "     3⋅⎜- ─ + ────⎟⋅   ╱        ──────────────────────────────────────────────\n",
              "       ⎝  2    2  ⎠ 3 ╱                                  2                    \n",
              "                    ╲╱                                                        \n",
              "\n",
              "                                                     _________________________\n",
              "                                                    ╱        _________________\n",
              "                                                   ╱        ╱                 \n",
              "                                                  ╱        ╱      ⎛         2⎞\n",
              "                                                 ╱        ╱       ⎜  3⋅c   b ⎟\n",
              "                                                ╱        ╱    - 4⋅⎜- ─── + ──⎟\n",
              "                                               ╱        ╱         ⎜   a     2⎟\n",
              "                             ⎛  1   √3⋅ⅈ⎞     ╱       ╲╱          ⎝        a ⎠\n",
              "                             ⎜- ─ + ────⎟⋅   ╱        ────────────────────────\n",
              "                             ⎝  2    2  ⎠ 3 ╱                                 \n",
              "                                          ╲╱                                  \n",
              "────────────────────────── - ─────────────────────────────────────────────────\n",
              "__________________________                                                   3\n",
              "_____                                                                         \n",
              "   2                                                                          \n",
              " 3⎞                                                                           \n",
              "b ⎟                                                                           \n",
              "──⎟                                                                           \n",
              "3 ⎟                     3                                                     \n",
              "  ⎠     27⋅d   9⋅b⋅c   b                                                      \n",
              "───── + ──── - ───── + ──                                                     \n",
              "        2⋅a        2    3                                                     \n",
              "                2⋅a    a                                                      \n",
              "\n",
              "________________________________________________      ⎤\n",
              "___________________________                           ⎥\n",
              "3                        2                            ⎥\n",
              "    ⎛                  3⎞                             ⎥\n",
              "    ⎜27⋅d   9⋅b⋅c   2⋅b ⎟                             ⎥\n",
              "  + ⎜──── - ───── + ────⎟                             ⎥\n",
              "    ⎜ a        2      3 ⎟                     3       ⎥\n",
              "    ⎝         a      a  ⎠     27⋅d   9⋅b⋅c   b        ⎥\n",
              "─────────────────────────── + ──── - ───── + ──       ⎥\n",
              " 2                            2⋅a        2    3       ⎥\n",
              "                                      2⋅a    a      b ⎥\n",
              "──────────────────────────────────────────────── - ───⎥\n",
              "                                                   3⋅a⎥\n",
              "                                                      ⎥\n",
              "                                                      ⎥\n",
              "                                                      ⎥\n",
              "                                                      ⎥\n",
              "                                                      ⎥\n",
              "                                                      ⎥\n",
              "                                                      ⎥\n",
              "                                                      ⎥\n",
              "                                                      ⎥\n",
              "                                                      ⎦"
            ],
            "image/png": "[encoded data removed]",
            "text/latex": "$\\displaystyle \\left[ - \\frac{- \\frac{3 c}{a} + \\frac{b^{2}}{a^{2}}}{3 \\sqrt[3]{\\frac{\\sqrt{- 4 \\left(- \\frac{3 c}{a} + \\frac{b^{2}}{a^{2}}\\right)^{3} + \\left(\\frac{27 d}{a} - \\frac{9 b c}{a^{2}} + \\frac{2 b^{3}}{a^{3}}\\right)^{2}}}{2} + \\frac{27 d}{2 a} - \\frac{9 b c}{2 a^{2}} + \\frac{b^{3}}{a^{3}}}} - \\frac{\\sqrt[3]{\\frac{\\sqrt{- 4 \\left(- \\frac{3 c}{a} + \\frac{b^{2}}{a^{2}}\\right)^{3} + \\left(\\frac{27 d}{a} - \\frac{9 b c}{a^{2}} + \\frac{2 b^{3}}{a^{3}}\\right)^{2}}}{2} + \\frac{27 d}{2 a} - \\frac{9 b c}{2 a^{2}} + \\frac{b^{3}}{a^{3}}}}{3} - \\frac{b}{3 a}, \\  - \\frac{- \\frac{3 c}{a} + \\frac{b^{2}}{a^{2}}}{3 \\left(- \\frac{1}{2} - \\frac{\\sqrt{3} i}{2}\\right) \\sqrt[3]{\\frac{\\sqrt{- 4 \\left(- \\frac{3 c}{a} + \\frac{b^{2}}{a^{2}}\\right)^{3} + \\left(\\frac{27 d}{a} - \\frac{9 b c}{a^{2}} + \\frac{2 b^{3}}{a^{3}}\\right)^{2}}}{2} + \\frac{27 d}{2 a} - \\frac{9 b c}{2 a^{2}} + \\frac{b^{3}}{a^{3}}}} - \\frac{\\left(- \\frac{1}{2} - \\frac{\\sqrt{3} i}{2}\\right) \\sqrt[3]{\\frac{\\sqrt{- 4 \\left(- \\frac{3 c}{a} + \\frac{b^{2}}{a^{2}}\\right)^{3} + \\left(\\frac{27 d}{a} - \\frac{9 b c}{a^{2}} + \\frac{2 b^{3}}{a^{3}}\\right)^{2}}}{2} + \\frac{27 d}{2 a} - \\frac{9 b c}{2 a^{2}} + \\frac{b^{3}}{a^{3}}}}{3} - \\frac{b}{3 a}, \\  - \\frac{- \\frac{3 c}{a} + \\frac{b^{2}}{a^{2}}}{3 \\left(- \\frac{1}{2} + \\frac{\\sqrt{3} i}{2}\\right) \\sqrt[3]{\\frac{\\sqrt{- 4 \\left(- \\frac{3 c}{a} + \\frac{b^{2}}{a^{2}}\\right)^{3} + \\left(\\frac{27 d}{a} - \\frac{9 b c}{a^{2}} + \\frac{2 b^{3}}{a^{3}}\\right)^{2}}}{2} + \\frac{27 d}{2 a} - \\frac{9 b c}{2 a^{2}} + \\frac{b^{3}}{a^{3}}}} - \\frac{\\left(- \\frac{1}{2} + \\frac{\\sqrt{3} i}{2}\\right) \\sqrt[3]{\\frac{\\sqrt{- 4 \\left(- \\frac{3 c}{a} + \\frac{b^{2}}{a^{2}}\\right)^{3} + \\left(\\frac{27 d}{a} - \\frac{9 b c}{a^{2}} + \\frac{2 b^{3}}{a^{3}}\\right)^{2}}}{2} + \\frac{27 d}{2 a} - \\frac{9 b c}{2 a^{2}} + \\frac{b^{3}}{a^{3}}}}{3} - \\frac{b}{3 a}\\right]$"
          },
          "metadata": {},
          "execution_count": 32
        }
      ],
      "source": [
        "sm.solve(a*x**3+b*x**2+c*x+d,x)"
      ]
    },
    {
      "cell_type": "markdown",
      "metadata": {
        "id": "WhtDq7SbNftL"
      },
      "source": [
        "Функция roots возвращает численное значение корней многочлена с их множественностями."
      ]
    },
    {
      "cell_type": "code",
      "execution_count": 33,
      "metadata": {
        "colab": {
          "base_uri": "https://localhost:8080/",
          "height": 38
        },
        "id": "3mtyZrF4NftL",
        "outputId": "3619f794-cc3c-4091-cda1-b68767792d28"
      },
      "outputs": [
        {
          "output_type": "execute_result",
          "data": {
            "text/plain": [
              "{-2: 1, 1: 2}"
            ],
            "image/png": "[encoded data removed]",
            "text/latex": "$\\displaystyle \\left\\{ -2 : 1, \\  1 : 2\\right\\}$"
          },
          "metadata": {},
          "execution_count": 33
        }
      ],
      "source": [
        "sol = sm.roots(x**3-3*x+2,x)\n",
        "sol"
      ]
    },
    {
      "cell_type": "code",
      "execution_count": 34,
      "metadata": {
        "colab": {
          "base_uri": "https://localhost:8080/"
        },
        "id": "uJvg76RwNftL",
        "outputId": "930b42f0-5ded-4598-b8c4-01d5d162a12e"
      },
      "outputs": [
        {
          "output_type": "execute_result",
          "data": {
            "text/plain": [
              "dict"
            ]
          },
          "metadata": {},
          "execution_count": 34
        }
      ],
      "source": [
        "# обратите внимание на тип:\n",
        "type(sol)"
      ]
    },
    {
      "cell_type": "markdown",
      "metadata": {
        "id": "B7bFkpRmNftM"
      },
      "source": [
        "# 2.4. Пределы"
      ]
    },
    {
      "cell_type": "markdown",
      "metadata": {
        "id": "LMSqMCylNftM"
      },
      "source": [
        "Пусть задана числовая последовательность\n",
        "$$x_{n}=\\frac{5n^2+2n}{7n^2-3n}$$"
      ]
    },
    {
      "cell_type": "code",
      "execution_count": 35,
      "metadata": {
        "colab": {
          "base_uri": "https://localhost:8080/",
          "height": 55
        },
        "id": "MqAtz-W2NftM",
        "outputId": "5d610103-021b-41fb-d92a-0b807a038aaf"
      },
      "outputs": [
        {
          "output_type": "execute_result",
          "data": {
            "text/plain": [
              "   2      \n",
              "5⋅n  + 2⋅n\n",
              "──────────\n",
              "   2      \n",
              "7⋅n  - 3⋅n"
            ],
            "image/png": "[encoded data removed]",
            "text/latex": "$\\displaystyle \\frac{5 n^{2} + 2 n}{7 n^{2} - 3 n}$"
          },
          "metadata": {},
          "execution_count": 35
        }
      ],
      "source": [
        "n=symbols('n')\n",
        "xn = (5*n**2+2*n)/(7*n**2-3*n)\n",
        "xn"
      ]
    },
    {
      "cell_type": "markdown",
      "metadata": {
        "id": "qWsoxNowNftM"
      },
      "source": [
        "Рассмотрим разность двух членов последовательности $x_{n+1}-x_{n}$"
      ]
    },
    {
      "cell_type": "code",
      "execution_count": 36,
      "metadata": {
        "colab": {
          "base_uri": "https://localhost:8080/",
          "height": 52
        },
        "id": "EBRluyJLNftN",
        "outputId": "a90f1dce-dc2a-49ad-d82d-8e46e2292687"
      },
      "outputs": [
        {
          "output_type": "execute_result",
          "data": {
            "text/plain": [
              "      -29       \n",
              "────────────────\n",
              "    2           \n",
              "49⋅n  + 7⋅n - 12"
            ],
            "image/png": "[encoded data removed]",
            "text/latex": "$\\displaystyle - \\frac{29}{49 n^{2} + 7 n - 12}$"
          },
          "metadata": {},
          "execution_count": 36
        }
      ],
      "source": [
        "xnn=simplify(xn.subs({n:n+1})-xn)\n",
        "xnn"
      ]
    },
    {
      "cell_type": "markdown",
      "metadata": {
        "id": "6bSdXlxDNftN"
      },
      "source": [
        "или, что то же самое"
      ]
    },
    {
      "cell_type": "code",
      "execution_count": 37,
      "metadata": {
        "colab": {
          "base_uri": "https://localhost:8080/",
          "height": 55
        },
        "id": "yg-6jFL4NftN",
        "outputId": "95a68594-628c-4afa-9e0a-9a12bd29abcd"
      },
      "outputs": [
        {
          "output_type": "execute_result",
          "data": {
            "text/plain": [
              "     29            29    \n",
              "─────────── - ───────────\n",
              "7⋅(7⋅n + 4)   7⋅(7⋅n - 3)"
            ],
            "image/png": "[encoded data removed]",
            "text/latex": "$\\displaystyle \\frac{29}{7 \\left(7 n + 4\\right)} - \\frac{29}{7 \\left(7 n - 3\\right)}$"
          },
          "metadata": {},
          "execution_count": 37
        }
      ],
      "source": [
        "xnn=apart(xnn,n)\n",
        "xnn"
      ]
    },
    {
      "cell_type": "code",
      "execution_count": 38,
      "metadata": {
        "colab": {
          "base_uri": "https://localhost:8080/"
        },
        "id": "7w8HyY6KNftN",
        "outputId": "62fb8114-0cd2-4c71-e48e-02b7f4fdeb77"
      },
      "outputs": [
        {
          "output_type": "stream",
          "name": "stdout",
          "text": [
            "Последовательность является убывающей\n"
          ]
        }
      ],
      "source": [
        "print('Последовательность '+'не '*int(bool(xnn.subs({n:1}) > 0)) +'является убывающей')"
      ]
    },
    {
      "cell_type": "markdown",
      "metadata": {
        "id": "E325BU1qNftN"
      },
      "source": [
        "Вычислим предел последовательности"
      ]
    },
    {
      "cell_type": "code",
      "execution_count": 39,
      "metadata": {
        "colab": {
          "base_uri": "https://localhost:8080/"
        },
        "id": "XZnbUG3tNftN",
        "outputId": "8c58cc1b-f973-4e25-b9b6-f7a054737a08"
      },
      "outputs": [
        {
          "output_type": "stream",
          "name": "stdout",
          "text": [
            "\n",
            " Предел последовательности xn равен: 5/7\n"
          ]
        }
      ],
      "source": [
        "LimXn = limit(xn,n,oo);\n",
        "print('\\n Предел последовательности xn равен:', LimXn);"
      ]
    },
    {
      "cell_type": "markdown",
      "metadata": {
        "id": "5jy8J_vMNftO"
      },
      "source": [
        "# Пример. Вычисление предела с помощью критерия Коши\n",
        "\n",
        "Критерий Коши: последовательность сходится если для любого $\\epsilon$ существует такое N, что для двух любых номеров $m,n>N$ верно $|x_{n}-x_{m}|<\\epsilon$."
      ]
    },
    {
      "cell_type": "code",
      "execution_count": 40,
      "metadata": {
        "id": "1wYc3PX-NftO"
      },
      "outputs": [],
      "source": [
        "def Cauchy_convergence(xn, eps):\n",
        "    for j in range(100,1000): \n",
        "        xn1=xn.subs({n:j-1}).n()\n",
        "        xn2=xn.subs({n:j}).n()\n",
        "        if (abs(xn2-xn1)<eps): \n",
        "            break\n",
        "    return abs(xn2-xn1), j"
      ]
    },
    {
      "cell_type": "code",
      "execution_count": 41,
      "metadata": {
        "colab": {
          "base_uri": "https://localhost:8080/",
          "height": 38
        },
        "id": "CPUoWvNhNftO",
        "outputId": "9f6880e8-abca-47df-91f8-e7a2e1f98eaf"
      },
      "outputs": [
        {
          "output_type": "execute_result",
          "data": {
            "text/plain": [
              "(0.71505376344086, 9.98021920550762e-7, 771)"
            ],
            "image/png": "[encoded data removed]",
            "text/latex": "$\\displaystyle \\left( 0.71505376344086, \\  9.98021920550762 \\cdot 10^{-7}, \\  771\\right)$"
          },
          "metadata": {},
          "execution_count": 41
        }
      ],
      "source": [
        "# зададимся величиной эпсилон\n",
        "eps = 1.e-6\n",
        "\n",
        "XnXn, N = Cauchy_convergence(xn, eps)\n",
        "        \n",
        "LimXnNum = xn.subs({n:N}).n()\n",
        "LimXnNum, XnXn, N"
      ]
    },
    {
      "cell_type": "code",
      "execution_count": 42,
      "metadata": {
        "colab": {
          "base_uri": "https://localhost:8080/"
        },
        "id": "Y51a4NAuNftO",
        "outputId": "48191d5b-bf3c-4680-8fef-51b1f2ced2e6"
      },
      "outputs": [
        {
          "output_type": "stream",
          "name": "stdout",
          "text": [
            "Предел числовой последовательности xn (аналитически) равен: 0.7142857142857143\n",
            "Предел числовой последовательности xn (по кр. Коши при eps = 1.00000e-06, N=771) равен: 0.715053763440860\n",
            "Разность этих значений равна: 0.000768049155145945\n"
          ]
        }
      ],
      "source": [
        "print('Предел числовой последовательности xn (аналитически) равен:', float(LimXn));\n",
        "print('Предел числовой последовательности xn (по кр. Коши при eps =%12.5e, N=%i) равен:' %(eps, N), LimXnNum);\n",
        "print('Разность этих значений равна:', abs(float(LimXn)-LimXnNum));"
      ]
    },
    {
      "cell_type": "markdown",
      "metadata": {
        "id": "2NSoQXniNftO"
      },
      "source": [
        "# 2.5. Произвадная"
      ]
    },
    {
      "cell_type": "markdown",
      "metadata": {
        "id": "DjSnGbNqNftO"
      },
      "source": [
        "Рассмотрим функцию $y = x^2$, и приращение аргумента $dx$, приводящее к приращению функции $dy$:"
      ]
    },
    {
      "cell_type": "code",
      "execution_count": 43,
      "metadata": {
        "colab": {
          "base_uri": "https://localhost:8080/",
          "height": 66
        },
        "id": "-_W50bVTNftO",
        "outputId": "405180cb-eeb6-4021-dbea-571e107f2d96"
      },
      "outputs": [
        {
          "output_type": "stream",
          "name": "stdout",
          "text": [
            "y = x**2 ,  dy = -x**2 + (dx + x)**2\n"
          ]
        },
        {
          "output_type": "execute_result",
          "data": {
            "text/plain": [
              "⎛ 2     2           2⎞\n",
              "⎝x , - x  + (dx + x) ⎠"
            ],
            "image/png": "[encoded data removed]",
            "text/latex": "$\\displaystyle \\left( x^{2}, \\  - x^{2} + \\left(dx + x\\right)^{2}\\right)$"
          },
          "metadata": {},
          "execution_count": 43
        }
      ],
      "source": [
        "x,y,dx,dy=symbols('x y dx dy')\n",
        "y=x**2\n",
        "dy=y.subs({x:x+dx})-y.subs({x:x})\n",
        "print('y =', y,',  dy =', dy)\n",
        "y, dy"
      ]
    },
    {
      "cell_type": "markdown",
      "metadata": {
        "id": "6ivuLhWfNftP"
      },
      "source": [
        "Найдём предел отношения $dy/dx$ при $dx$ стремящемся к 0:"
      ]
    },
    {
      "cell_type": "code",
      "execution_count": 44,
      "metadata": {
        "colab": {
          "base_uri": "https://localhost:8080/",
          "height": 57
        },
        "id": "-3WNVl0NNftP",
        "outputId": "2a3c68db-1e6f-475a-f0a5-326613dc6d92"
      },
      "outputs": [
        {
          "output_type": "stream",
          "name": "stdout",
          "text": [
            "dydx = 2*x\n"
          ]
        },
        {
          "output_type": "execute_result",
          "data": {
            "text/plain": [
              "2⋅x"
            ],
            "image/png": "[encoded data removed]",
            "text/latex": "$\\displaystyle 2 x$"
          },
          "metadata": {},
          "execution_count": 44
        }
      ],
      "source": [
        "dydx = limit(dy/dx,dx,0)\n",
        "print('dydx =', dydx)\n",
        "dydx"
      ]
    },
    {
      "cell_type": "markdown",
      "metadata": {
        "id": "gl_5Q9ryNftP"
      },
      "source": [
        "Определение. Такой предел называют производной функции $y(x)$ по $x$."
      ]
    },
    {
      "cell_type": "markdown",
      "metadata": {
        "id": "UedzTSbmNftP"
      },
      "source": [
        "# Упражнение 2. Производные как предел\n",
        "\n",
        "Найдите с помощью предела производные следующих функций:\n",
        "\n",
        "$$ y = sin(x), \\quad y=ln(x), \\quad y=6sin(3x)-tan(x^2)+e^{6x} $$"
      ]
    },
    {
      "cell_type": "code",
      "source": [
        "\n",
        "sm.cos(pi/4),sm.tan(5*pi/6)"
      ],
      "metadata": {
        "colab": {
          "base_uri": "https://localhost:8080/",
          "height": 68
        },
        "id": "ekvTn-dS1Qvh",
        "outputId": "a1968194-049c-452e-d991-fefac0f05796"
      },
      "execution_count": 45,
      "outputs": [
        {
          "output_type": "execute_result",
          "data": {
            "text/plain": [
              "⎛√2  -√3 ⎞\n",
              "⎜──, ────⎟\n",
              "⎝2    3  ⎠"
            ],
            "image/png": "[encoded data removed]",
            "text/latex": "$\\displaystyle \\left( \\frac{\\sqrt{2}}{2}, \\  - \\frac{\\sqrt{3}}{3}\\right)$"
          },
          "metadata": {},
          "execution_count": 45
        }
      ]
    },
    {
      "cell_type": "code",
      "execution_count": 46,
      "metadata": {
        "colab": {
          "base_uri": "https://localhost:8080/",
          "height": 47
        },
        "outputId": "a95161ac-d4f6-4a3f-8940-9ceffe4295d4",
        "id": "QR7Y7w48xMq2"
      },
      "outputs": [
        {
          "output_type": "execute_result",
          "data": {
            "text/plain": [
              "⎛ 6⋅x                   ⎛ 2⎞     6⋅x    6⋅dx + 6⋅x                            \n",
              "⎝e    + 6⋅sin(3⋅x) - tan⎝x ⎠, - e    + e           - 6⋅sin(3⋅x) + 6⋅sin(3⋅dx +\n",
              "\n",
              "           ⎛ 2⎞      ⎛        2⎞⎞\n",
              " 3⋅x) + tan⎝x ⎠ - tan⎝(dx + x) ⎠⎠"
            ],
            "image/png": "[encoded data removed]",
            "text/latex": "$\\displaystyle \\left( e^{6 x} + 6 \\sin{\\left(3 x \\right)} - \\tan{\\left(x^{2} \\right)}, \\  - e^{6 x} + e^{6 dx + 6 x} - 6 \\sin{\\left(3 x \\right)} + 6 \\sin{\\left(3 dx + 3 x \\right)} + \\tan{\\left(x^{2} \\right)} - \\tan{\\left(\\left(dx + x\\right)^{2} \\right)}\\right)$"
          },
          "metadata": {},
          "execution_count": 46
        }
      ],
      "source": [
        "\n",
        "x,y,dx,dy=symbols('x y dx dy')\n",
        "#y = math.sin(x)\n",
        "#y = np.sin(np.pi/2.)\n",
        "#y = np.sin(x)\n",
        "y = 6*sm.sin(3*x) - sm.tan(x**2) + e**(6*x)\n",
        "dy=y.subs({x:x+dx})-y.subs({x:x})\n",
        "\n",
        "y, dy"
      ]
    },
    {
      "cell_type": "code",
      "execution_count": 47,
      "metadata": {
        "colab": {
          "base_uri": "https://localhost:8080/",
          "height": 38
        },
        "outputId": "6220c407-6225-4c49-9364-e36b5f961316",
        "id": "LbH9toNA13YC"
      },
      "outputs": [
        {
          "output_type": "execute_result",
          "data": {
            "text/plain": [
              "   6⋅x                 2⎛ 2⎞                    \n",
              "6⋅e   ⋅log(e) - 2⋅x⋅tan ⎝x ⎠ - 2⋅x + 18⋅cos(3⋅x)"
            ],
            "image/png": "[encoded data removed]",
            "text/latex": "$\\displaystyle 6 e^{6 x} \\log{\\left(e \\right)} - 2 x \\tan^{2}{\\left(x^{2} \\right)} - 2 x + 18 \\cos{\\left(3 x \\right)}$"
          },
          "metadata": {},
          "execution_count": 47
        }
      ],
      "source": [
        "dydx = limit(dy/dx,dx,0)\n",
        "\n",
        "dydx"
      ]
    },
    {
      "cell_type": "markdown",
      "metadata": {
        "id": "AM5drreeNftP"
      },
      "source": [
        "В пакете символьных вычислений можно находить производную напрямую:"
      ]
    },
    {
      "cell_type": "markdown",
      "source": [
        ""
      ],
      "metadata": {
        "id": "69xEIR3C9Eu9"
      }
    },
    {
      "cell_type": "code",
      "execution_count": 48,
      "metadata": {
        "colab": {
          "base_uri": "https://localhost:8080/"
        },
        "id": "o-TdEbuwNftP",
        "outputId": "3f8b05f6-df51-40c1-d4ce-dde69bc6aae7"
      },
      "outputs": [
        {
          "output_type": "stream",
          "name": "stdout",
          "text": [
            "\n",
            " Производные функции f(x,y) по x: x*cos(x + y) + sin(x + y)\n",
            "\n",
            " Производные функции f(x,y) по y: x*cos(x + y)\n",
            "\n",
            " Производные функции f(x,y) по xx и y: 0\n"
          ]
        }
      ],
      "source": [
        "x,y=symbols('x y')\n",
        "\n",
        "f=x*sm.sin(x+y);\n",
        "\n",
        "# Вычислим частные производные функции:\n",
        "fx=diff(f,x);\n",
        "fy=diff(f,y);\n",
        "print('\\n Производные функции f(x,y) по x:', fx);\n",
        "print('\\n Производные функции f(x,y) по y:', fy);\n",
        "\n",
        "# Вторая производная по x и первая по y\n",
        "fxxy=diff(a,x,2,y);\n",
        "print('\\n Производные функции f(x,y) по xx и y:', fxxy);"
      ]
    },
    {
      "cell_type": "markdown",
      "metadata": {
        "id": "9SvcjLfuNftQ"
      },
      "source": [
        "# Упражнение 3. Производные\n",
        "\n",
        "Проверьте правильность найденных ранее с помощью предела производных."
      ]
    },
    {
      "cell_type": "code",
      "execution_count": 49,
      "metadata": {
        "colab": {
          "base_uri": "https://localhost:8080/",
          "height": 75
        },
        "outputId": "12c5990e-6b22-464a-d134-69a035ff1292",
        "id": "ZK7_astC9Rpz"
      },
      "outputs": [
        {
          "output_type": "stream",
          "name": "stdout",
          "text": [
            "\n",
            " Производные функции f(x,y) по x: 6*e**(6*x)*log(e) - 2*x*(tan(x**2)**2 + 1) + 18*cos(3*x)\n"
          ]
        },
        {
          "output_type": "execute_result",
          "data": {
            "text/plain": [
              "⎛ 6⋅x                   ⎛ 2⎞     6⋅x              ⎛   2⎛ 2⎞    ⎞              \n",
              "⎝e    + 6⋅sin(3⋅x) - tan⎝x ⎠, 6⋅e   ⋅log(e) - 2⋅x⋅⎝tan ⎝x ⎠ + 1⎠ + 18⋅cos(3⋅x)\n",
              "\n",
              "⎞\n",
              "⎠"
            ],
            "image/png": "[encoded data removed]",
            "text/latex": "$\\displaystyle \\left( e^{6 x} + 6 \\sin{\\left(3 x \\right)} - \\tan{\\left(x^{2} \\right)}, \\  6 e^{6 x} \\log{\\left(e \\right)} - 2 x \\left(\\tan^{2}{\\left(x^{2} \\right)} + 1\\right) + 18 \\cos{\\left(3 x \\right)}\\right)$"
          },
          "metadata": {},
          "execution_count": 49
        }
      ],
      "source": [
        "x,y=symbols('x y')\n",
        "\n",
        "f = 6*sm.sin(3*x) - sm.tan(x**2) + e**(6*x);\n",
        "\n",
        "# Вычислим частные производные функции:\n",
        "fx=diff(f,x);\n",
        "#fy=diff(f,y);\n",
        "print('\\n Производные функции f(x,y) по x:', fx);\n",
        "f, fx"
      ]
    },
    {
      "cell_type": "markdown",
      "metadata": {
        "id": "lNbaekhtNftQ"
      },
      "source": [
        "# 3. Нелинейные уравнения и системы."
      ]
    },
    {
      "cell_type": "markdown",
      "metadata": {
        "id": "TqSp2AsoNftQ"
      },
      "source": [
        "# 3.1. Алгоритмы для решения нелинейного уравнения "
      ]
    },
    {
      "cell_type": "markdown",
      "metadata": {
        "id": "PYzhOkmkNftQ"
      },
      "source": [
        "Нас интересуют задачи вида: $f(x) = 0$."
      ]
    },
    {
      "cell_type": "markdown",
      "metadata": {
        "id": "B5lVQv92NftQ"
      },
      "source": [
        "Пусть есть некоторая функция $f(x)=(1+x+x^2) \\cdot e^{-x}+sin(x+0.1)-1$."
      ]
    },
    {
      "cell_type": "code",
      "execution_count": 50,
      "metadata": {
        "id": "gEU1zv3ANftQ"
      },
      "outputs": [],
      "source": [
        "def f(x):\n",
        "    return ((1.0 + x + x**2) * math.exp(-x) + math.sin(x+0.1) - 1.0)"
      ]
    },
    {
      "cell_type": "markdown",
      "metadata": {
        "id": "KpzDChD8NftQ"
      },
      "source": [
        "Построим график этой функции"
      ]
    },
    {
      "cell_type": "code",
      "execution_count": 51,
      "metadata": {
        "colab": {
          "base_uri": "https://localhost:8080/",
          "height": 1000
        },
        "id": "Ur3XGmnfNftQ",
        "outputId": "5e11eafb-474a-488f-e6c4-d0f6aba8102f"
      },
      "outputs": [
        {
          "output_type": "display_data",
          "data": {
            "text/plain": [
              "<Figure size 576x360 with 1 Axes>"
            ],
            "image/png": "[encoded data removed]"
          },
          "metadata": {
            "needs_background": "light"
          }
        },
        {
          "output_type": "execute_result",
          "data": {
            "text/plain": [
              "array([-1.00000000e+00, -9.44723618e-01, -8.89447236e-01, -8.34170854e-01,\n",
              "       -7.78894472e-01, -7.23618090e-01, -6.68341709e-01, -6.13065327e-01,\n",
              "       -5.57788945e-01, -5.02512563e-01, -4.47236181e-01, -3.91959799e-01,\n",
              "       -3.36683417e-01, -2.81407035e-01, -2.26130653e-01, -1.70854271e-01,\n",
              "       -1.15577889e-01, -6.03015075e-02, -5.02512563e-03,  5.02512563e-02,\n",
              "        1.05527638e-01,  1.60804020e-01,  2.16080402e-01,  2.71356784e-01,\n",
              "        3.26633166e-01,  3.81909548e-01,  4.37185930e-01,  4.92462312e-01,\n",
              "        5.47738693e-01,  6.03015075e-01,  6.58291457e-01,  7.13567839e-01,\n",
              "        7.68844221e-01,  8.24120603e-01,  8.79396985e-01,  9.34673367e-01,\n",
              "        9.89949749e-01,  1.04522613e+00,  1.10050251e+00,  1.15577889e+00,\n",
              "        1.21105528e+00,  1.26633166e+00,  1.32160804e+00,  1.37688442e+00,\n",
              "        1.43216080e+00,  1.48743719e+00,  1.54271357e+00,  1.59798995e+00,\n",
              "        1.65326633e+00,  1.70854271e+00,  1.76381910e+00,  1.81909548e+00,\n",
              "        1.87437186e+00,  1.92964824e+00,  1.98492462e+00,  2.04020101e+00,\n",
              "        2.09547739e+00,  2.15075377e+00,  2.20603015e+00,  2.26130653e+00,\n",
              "        2.31658291e+00,  2.37185930e+00,  2.42713568e+00,  2.48241206e+00,\n",
              "        2.53768844e+00,  2.59296482e+00,  2.64824121e+00,  2.70351759e+00,\n",
              "        2.75879397e+00,  2.81407035e+00,  2.86934673e+00,  2.92462312e+00,\n",
              "        2.97989950e+00,  3.03517588e+00,  3.09045226e+00,  3.14572864e+00,\n",
              "        3.20100503e+00,  3.25628141e+00,  3.31155779e+00,  3.36683417e+00,\n",
              "        3.42211055e+00,  3.47738693e+00,  3.53266332e+00,  3.58793970e+00,\n",
              "        3.64321608e+00,  3.69849246e+00,  3.75376884e+00,  3.80904523e+00,\n",
              "        3.86432161e+00,  3.91959799e+00,  3.97487437e+00,  4.03015075e+00,\n",
              "        4.08542714e+00,  4.14070352e+00,  4.19597990e+00,  4.25125628e+00,\n",
              "        4.30653266e+00,  4.36180905e+00,  4.41708543e+00,  4.47236181e+00,\n",
              "        4.52763819e+00,  4.58291457e+00,  4.63819095e+00,  4.69346734e+00,\n",
              "        4.74874372e+00,  4.80402010e+00,  4.85929648e+00,  4.91457286e+00,\n",
              "        4.96984925e+00,  5.02512563e+00,  5.08040201e+00,  5.13567839e+00,\n",
              "        5.19095477e+00,  5.24623116e+00,  5.30150754e+00,  5.35678392e+00,\n",
              "        5.41206030e+00,  5.46733668e+00,  5.52261307e+00,  5.57788945e+00,\n",
              "        5.63316583e+00,  5.68844221e+00,  5.74371859e+00,  5.79899497e+00,\n",
              "        5.85427136e+00,  5.90954774e+00,  5.96482412e+00,  6.02010050e+00,\n",
              "        6.07537688e+00,  6.13065327e+00,  6.18592965e+00,  6.24120603e+00,\n",
              "        6.29648241e+00,  6.35175879e+00,  6.40703518e+00,  6.46231156e+00,\n",
              "        6.51758794e+00,  6.57286432e+00,  6.62814070e+00,  6.68341709e+00,\n",
              "        6.73869347e+00,  6.79396985e+00,  6.84924623e+00,  6.90452261e+00,\n",
              "        6.95979899e+00,  7.01507538e+00,  7.07035176e+00,  7.12562814e+00,\n",
              "        7.18090452e+00,  7.23618090e+00,  7.29145729e+00,  7.34673367e+00,\n",
              "        7.40201005e+00,  7.45728643e+00,  7.51256281e+00,  7.56783920e+00,\n",
              "        7.62311558e+00,  7.67839196e+00,  7.73366834e+00,  7.78894472e+00,\n",
              "        7.84422111e+00,  7.89949749e+00,  7.95477387e+00,  8.01005025e+00,\n",
              "        8.06532663e+00,  8.12060302e+00,  8.17587940e+00,  8.23115578e+00,\n",
              "        8.28643216e+00,  8.34170854e+00,  8.39698492e+00,  8.45226131e+00,\n",
              "        8.50753769e+00,  8.56281407e+00,  8.61809045e+00,  8.67336683e+00,\n",
              "        8.72864322e+00,  8.78391960e+00,  8.83919598e+00,  8.89447236e+00,\n",
              "        8.94974874e+00,  9.00502513e+00,  9.06030151e+00,  9.11557789e+00,\n",
              "        9.17085427e+00,  9.22613065e+00,  9.28140704e+00,  9.33668342e+00,\n",
              "        9.39195980e+00,  9.44723618e+00,  9.50251256e+00,  9.55778894e+00,\n",
              "        9.61306533e+00,  9.66834171e+00,  9.72361809e+00,  9.77889447e+00,\n",
              "        9.83417085e+00,  9.88944724e+00,  9.94472362e+00,  1.00000000e+01])"
            ]
          },
          "metadata": {},
          "execution_count": 51
        }
      ],
      "source": [
        "A = -1.0\n",
        "B =  10.0\n",
        "N =  200\n",
        "Y = np.zeros((N))\n",
        "X = np.linspace(A, B, N)\n",
        "for i in range(N): \n",
        "    Y[i] = f(X[i])\n",
        "\n",
        "plt.figure(figsize=(8,5))      \n",
        "plt.plot(X, Y)\n",
        "plt.xlabel('x')\n",
        "plt.ylabel('y')\n",
        "plt.grid(True)\n",
        "plt.show()\n",
        "np.linspace(A, B, N)"
      ]
    },
    {
      "cell_type": "markdown",
      "metadata": {
        "id": "5WoRydnqNftR"
      },
      "source": [
        "Очевидно, что корень может находиться толькро между точками a и b, для которых справедливо: $f(a)>0, f(b)<0$ или $f(a)>0, f(b)<0$, т.е. $f(a)\\cdot f(b)<0$. Найдём такие точки a и b переберая значения x в некотором интервале"
      ]
    },
    {
      "cell_type": "code",
      "execution_count": 52,
      "metadata": {
        "colab": {
          "base_uri": "https://localhost:8080/"
        },
        "id": "Pyj81xvONftR",
        "outputId": "e1452354-d8df-426a-aaec-7f7373d92766"
      },
      "outputs": [
        {
          "output_type": "stream",
          "name": "stdout",
          "text": [
            "\t 0 \t -1.0000000000e+00 \t -4.2105263158e-01\n",
            "\t 1 \t -4.2105263158e-01 \t 1.5789473684e-01\n",
            "\t 2 \t 2.4736842105e+00 \t 3.0526315789e+00\n",
            "\t 3 \t 7.1052631579e+00 \t 7.6842105263e+00\n",
            "\t 4 \t 7.6842105263e+00 \t 8.2631578947e+00\n",
            "Найдено 5 интервалов локализации корня.\n"
          ]
        }
      ],
      "source": [
        "n=20\n",
        "AB = np.zeros((2,n))\n",
        "xab = np.linspace(A, B, n)\n",
        "ia=0\n",
        "for i in range(n-1):\n",
        "    if f(xab[i])*f(xab[i+1])<0:\n",
        "        AB[0][ia]=xab[i]\n",
        "        AB[1][ia]=xab[i+1]\n",
        "        print ('\\t %i \\t %.10e \\t %.10e' %(ia, AB[0][ia], AB[1][ia]))\n",
        "        ia=ia+1\n",
        "print('Найдено %i интервалов локализации корня.' %(ia))"
      ]
    },
    {
      "cell_type": "code",
      "execution_count": 53,
      "metadata": {
        "colab": {
          "base_uri": "https://localhost:8080/",
          "height": 334
        },
        "id": "6Y8ChJB9NftR",
        "outputId": "fedc04a7-4838-4f59-e495-d9be6f3e55d7"
      },
      "outputs": [
        {
          "output_type": "display_data",
          "data": {
            "text/plain": [
              "<Figure size 576x360 with 1 Axes>"
            ],
            "image/png": "[encoded data removed]"
          },
          "metadata": {
            "needs_background": "light"
          }
        }
      ],
      "source": [
        "plt.figure(figsize=(8,5))  \n",
        "plt.plot(X, Y, '-')\n",
        "for i in range(ia): \n",
        "    plt.plot(AB[0][i], 0, 'o')\n",
        "    plt.plot(AB[1][i], 0, 'o')\n",
        "plt.xlabel('x')\n",
        "plt.ylabel('y')\n",
        "plt.grid(True)\n",
        "plt.show()"
      ]
    },
    {
      "cell_type": "markdown",
      "metadata": {
        "id": "CCLabdEbNftR"
      },
      "source": [
        "# 3.2 Метод деления отрезка пополам (Метод бисекции)"
      ]
    },
    {
      "cell_type": "code",
      "execution_count": 54,
      "metadata": {
        "id": "sUlvSwIQNftR"
      },
      "outputs": [],
      "source": [
        "def bisection(f, x1, x2, pr=0, tol=1.0e-10):\n",
        "    \"\"\"\n",
        "    Ищет корень уравнения f(x)=0\n",
        "    на отрезке [x1, x2] методом дихотомии (бисекции).\n",
        "    Значения функций на концах отрезка не могут иметь один знак.\n",
        "    :param f: - функция\n",
        "    :param x1: - левая точка мнтервала\n",
        "    :param x2: - правая точка мнтервала\n",
        "    :param pr: - параметр выдачи итераций (pr=0 - не выводить итерации, pr=1 - выводить итерации)\n",
        "    :param tol: - точность\n",
        "    :return:\n",
        "    \"\"\"\n",
        "    f1 = f(x1)\n",
        "    f2 = f(x2)\n",
        "    if f1*f2 > 0.:\n",
        "        print('f(x1) and f(x2) can not have the same signs')\n",
        "    n = int(math.ceil(np.log(abs(x2-x1)/tol)/np.log(2.)))\n",
        "    \n",
        "    Error=abs(x1-x2)\n",
        "    for i in range(n):\n",
        "        Error0=Error\n",
        "        x3 = 0.5*(x1+x2)\n",
        "        f3 = f(x3)\n",
        "        if f2*f3 < 0.:\n",
        "            x1=x3\n",
        "            f1=f3\n",
        "        else:\n",
        "            x2=x3\n",
        "            f2=f3\n",
        "        Error=abs(x1-x2)\n",
        "        k=np.log(Error)/np.log(Error0)\n",
        "        if pr>0:\n",
        "            print('итерация:\\t%i \\t%.6e \\t%.3f' %(i, Error, k))\n",
        "    return (x1+x2)/2"
      ]
    },
    {
      "cell_type": "code",
      "execution_count": 55,
      "metadata": {
        "colab": {
          "base_uri": "https://localhost:8080/"
        },
        "id": "cm4RdnykNftR",
        "outputId": "19177120-62de-4aec-bca5-1894bd7597d3"
      },
      "outputs": [
        {
          "output_type": "stream",
          "name": "stdout",
          "text": [
            "\t 0 \t root[0] =  -6.8256428205e-01 \t f(root[0]) =   4.0557335268e-11\n",
            "\t 1 \t root[1] =  -1.0653060478e-01 \t f(root[1]) =  -1.6943224601e-11\n",
            "\t 2 \t root[2] =   2.7584180781e+00 \t f(root[2]) =  -3.5366154449e-11\n",
            "\t 3 \t root[3] =   7.4839086268e+00 \t f(root[3]) =   2.9021229864e-13\n",
            "\t 4 \t root[4] =   7.9776600799e+00 \t f(root[4]) =  -1.9744206270e-12\n"
          ]
        }
      ],
      "source": [
        "xRoot = np.zeros((2,ia))\n",
        "\n",
        "for i in range(ia): \n",
        "    xRoot[0][i] = bisection(f, AB[0][i], AB[1][i], pr=0)\n",
        "    xRoot[1][i] = f(xRoot[0][i])\n",
        "    print('\\t %i \\t root[%i] = %18.10e \\t f(root[%i]) = %18.10e' %(i, i, xRoot[0][i], i, xRoot[1][i]))    "
      ]
    },
    {
      "cell_type": "code",
      "execution_count": 56,
      "metadata": {
        "colab": {
          "base_uri": "https://localhost:8080/",
          "height": 334
        },
        "id": "IVqrIi8aNftS",
        "outputId": "3689f74f-3479-4803-e5fa-953b73294570"
      },
      "outputs": [
        {
          "output_type": "display_data",
          "data": {
            "text/plain": [
              "<Figure size 576x360 with 1 Axes>"
            ],
            "image/png": "[encoded data removed]"
          },
          "metadata": {
            "needs_background": "light"
          }
        }
      ],
      "source": [
        "plt.figure(figsize=(8,5))  \n",
        "plt.plot(X, Y, '-')\n",
        "plt.plot(xRoot[0,:], xRoot[1,:], 'o')\n",
        "plt.xlabel('x')\n",
        "plt.ylabel('y')\n",
        "plt.grid(True)\n",
        "plt.show()"
      ]
    },
    {
      "cell_type": "markdown",
      "metadata": {
        "id": "BP0XmDOvNftS"
      },
      "source": [
        "# 3.3 Метод Ньютона"
      ]
    },
    {
      "cell_type": "markdown",
      "metadata": {
        "id": "yesDWsNTNftS"
      },
      "source": [
        "Вычислим производную заданной функции"
      ]
    },
    {
      "cell_type": "code",
      "execution_count": 57,
      "metadata": {
        "colab": {
          "base_uri": "https://localhost:8080/",
          "height": 38
        },
        "id": "x2eQcdOYNftS",
        "outputId": "abb84917-7c0e-4d23-ee1c-50b622ddc010"
      },
      "outputs": [
        {
          "output_type": "execute_result",
          "data": {
            "text/plain": [
              "           -x   ⎛ 2          ⎞  -x               \n",
              "(2⋅x + 1)⋅ℯ   - ⎝x  + x + 1.0⎠⋅ℯ   + cos(x + 0.1)"
            ],
            "image/png": "[encoded data removed]",
            "text/latex": "$\\displaystyle \\left(2 x + 1\\right) e^{- x} - \\left(x^{2} + x + 1.0\\right) e^{- x} + \\cos{\\left(x + 0.1 \\right)}$"
          },
          "metadata": {},
          "execution_count": 57
        }
      ],
      "source": [
        "x=symbols('x')\n",
        "\n",
        "F = (1.0 + x + x**2) * sm.exp(-x) + sm.sin(x + 0.1) - 1.0;\n",
        "\n",
        "FX = diff(F,x)\n",
        "FX"
      ]
    },
    {
      "cell_type": "code",
      "execution_count": 58,
      "metadata": {
        "id": "M6ZfTnC-NftS"
      },
      "outputs": [],
      "source": [
        "def fx(a):\n",
        "    return FX.subs({x:a}).n()"
      ]
    },
    {
      "cell_type": "code",
      "execution_count": 59,
      "metadata": {
        "id": "EZkvRWpiNftS"
      },
      "outputs": [],
      "source": [
        "def newton(f, x, pr=0, tol=1.0e-10):   \n",
        "    Error=2\n",
        "    i=0\n",
        "    while Error>tol:\n",
        "        Error0=Error\n",
        "        x0=x\n",
        "        x = x0 - f(x0)/fx(x0)\n",
        "        Error=math.fabs(x-x0)\n",
        "        k=np.log(Error)/np.log(Error0)\n",
        "        i=i+1\n",
        "        if pr>0:\n",
        "            if i>1: print('итерация:\\t%i \\t%.6e \\t ' %(i, Error), k)\n",
        "            else:   print('итерация:\\t%i \\t%.6e \\t ' %(i, Error))\n",
        "    return x"
      ]
    },
    {
      "cell_type": "markdown",
      "metadata": {
        "id": "QHdO5p0WNftT"
      },
      "source": [
        "Рассмотрим в качестве начального приближения левые точки отрезков локализации:"
      ]
    },
    {
      "cell_type": "code",
      "execution_count": 60,
      "metadata": {
        "colab": {
          "base_uri": "https://localhost:8080/"
        },
        "id": "kesE_LR4NftT",
        "outputId": "cd59c915-c3ab-44d9-ee05-c6662052a417"
      },
      "outputs": [
        {
          "output_type": "stream",
          "name": "stdout",
          "text": [
            "\t 0 \t root(0) =  -6.8256428202e-01 \t f(root[0]) =  -3.3306690739e-16\n",
            "\t 1 \t root(1) =   2.7584180781e+00 \t f(root[1]) =   0.0000000000e+00\n",
            "\t 2 \t root(2) =   2.7584180781e+00 \t f(root[2]) =   0.0000000000e+00\n",
            "\t 3 \t root(3) =   7.4839086268e+00 \t f(root[3]) =   2.2204460493e-16\n",
            "\t 4 \t root(4) =   7.4839086268e+00 \t f(root[4]) =  -1.1102230246e-16\n"
          ]
        },
        {
          "output_type": "stream",
          "name": "stderr",
          "text": [
            "/usr/local/lib/python3.7/dist-packages/ipykernel_launcher.py:9: RuntimeWarning: divide by zero encountered in log\n",
            "  if __name__ == '__main__':\n"
          ]
        }
      ],
      "source": [
        "xRootA = np.zeros((2,ia))\n",
        "\n",
        "for i in range(ia): \n",
        "    xRootA[0][i] = newton(f, AB[0][i], pr=0)\n",
        "    xRootA[1][i] = f(xRootA[0][i])\n",
        "    print('\\t %i \\t root(%i) = %18.10e \\t f(root[%i]) = %18.10e' %(i, i, xRootA[0][i], i, xRootA[1][i]))   "
      ]
    },
    {
      "cell_type": "code",
      "execution_count": 61,
      "metadata": {
        "colab": {
          "base_uri": "https://localhost:8080/",
          "height": 334
        },
        "id": "Ox1iTMEcNftT",
        "outputId": "71ac659d-4ddc-45f3-c005-398b019f5c81"
      },
      "outputs": [
        {
          "output_type": "display_data",
          "data": {
            "text/plain": [
              "<Figure size 576x360 with 1 Axes>"
            ],
            "image/png": "[encoded data removed]"
          },
          "metadata": {
            "needs_background": "light"
          }
        }
      ],
      "source": [
        "plt.figure(figsize=(8,5))  \n",
        "plt.plot(X, Y, '-')\n",
        "for i in range(ia): \n",
        "    plt.plot(xRootA[0][i], 0, 'o')\n",
        "plt.xlabel('x')\n",
        "plt.ylabel('y')\n",
        "plt.grid(True)\n",
        "plt.show()"
      ]
    },
    {
      "cell_type": "markdown",
      "metadata": {
        "id": "fviVZcmHNftT"
      },
      "source": [
        "Рассмотрим в качестве начального приближения правые точки отрезков локализации:"
      ]
    },
    {
      "cell_type": "code",
      "execution_count": 62,
      "metadata": {
        "colab": {
          "base_uri": "https://localhost:8080/"
        },
        "id": "E1iIF1G-NftT",
        "outputId": "cd2edd86-4b56-4856-a4b8-7f180441c912"
      },
      "outputs": [
        {
          "output_type": "stream",
          "name": "stdout",
          "text": [
            "\t 0 \t root(0) =   2.7584180781e+00 \t f(root[0]) =   0.0000000000e+00\n",
            "\t 1 \t root(1) =  -1.0653060476e-01 \t f(root[1]) =  -1.1102230246e-16\n",
            "\t 2 \t root(2) =   2.7584180781e+00 \t f(root[2]) =   0.0000000000e+00\n",
            "\t 3 \t root(3) =   7.4839086268e+00 \t f(root[3]) =  -1.1102230246e-16\n",
            "\t 4 \t root(4) =   7.9776600799e+00 \t f(root[4]) =   2.2204460493e-16\n"
          ]
        },
        {
          "output_type": "stream",
          "name": "stderr",
          "text": [
            "/usr/local/lib/python3.7/dist-packages/ipykernel_launcher.py:9: RuntimeWarning: divide by zero encountered in log\n",
            "  if __name__ == '__main__':\n"
          ]
        }
      ],
      "source": [
        "xRootB = np.zeros((2,ia))\n",
        "\n",
        "for i in range(ia): \n",
        "    xRootB[0][i] = newton(f, AB[1][i], pr=0)\n",
        "    xRootB[1][i] = f(xRootB[0][i])\n",
        "    print('\\t %i \\t root(%i) = %18.10e \\t f(root[%i]) = %18.10e' %(i, i, xRootB[0][i], i, xRootB[1][i])) "
      ]
    },
    {
      "cell_type": "code",
      "execution_count": 63,
      "metadata": {
        "colab": {
          "base_uri": "https://localhost:8080/",
          "height": 442
        },
        "id": "HodTSHU9NftT",
        "outputId": "9930ea4d-d525-44cb-8c3f-d6511b8ba815"
      },
      "outputs": [
        {
          "output_type": "display_data",
          "data": {
            "text/plain": [
              "<Figure size 720x504 with 1 Axes>"
            ],
            "image/png": "[encoded data removed]"
          },
          "metadata": {
            "needs_background": "light"
          }
        }
      ],
      "source": [
        "plt.figure(figsize=(10,7))  \n",
        "plt.plot(X, Y, '-')\n",
        "for i in range(ia): \n",
        "    plt.plot(xRootB[0][i], 0, 'o')\n",
        "plt.xlabel('x')\n",
        "plt.ylabel('y')\n",
        "plt.grid(True)\n",
        "plt.show()"
      ]
    },
    {
      "cell_type": "markdown",
      "metadata": {
        "id": "eCxCf-NgNftU"
      },
      "source": [
        "Видно, что решение из крайних точек отрезков локализации корня сходится к разным решениям. Это обусловленно локальными свойствами функции - поведением производной. "
      ]
    },
    {
      "cell_type": "markdown",
      "metadata": {
        "id": "Qgx1RE4wNftU"
      },
      "source": [
        "# Решение системы нелинейных уравнений"
      ]
    },
    {
      "cell_type": "markdown",
      "metadata": {
        "id": "WTEUSL2gNftU"
      },
      "source": [
        "# 3.4. Методом Ньютона "
      ]
    },
    {
      "cell_type": "markdown",
      "metadata": {
        "collapsed": true,
        "id": "5om9LalcNftU"
      },
      "source": [
        "Нас интересуют задачи вида:\n",
        "\\begin{cases}\n",
        "   f(x_1,x_2) = 0\n",
        "   \\\\\n",
        "   g(x_1,x_2) = 0\n",
        "\\end{cases}"
      ]
    },
    {
      "cell_type": "markdown",
      "metadata": {
        "id": "l-CiQlhQNftU"
      },
      "source": [
        "Рассмотрим систему:\n",
        "\\begin{cases}\n",
        "   4(x_2-1)^2+(x_1-1)^2-1 = 0\n",
        "   \\\\\n",
        "   x_2 - x_1 sin(25x_1) = 0\n",
        "\\end{cases}"
      ]
    },
    {
      "cell_type": "markdown",
      "metadata": {
        "id": "wEhjjpOUNftU"
      },
      "source": [
        "Построим график этой функции"
      ]
    },
    {
      "cell_type": "code",
      "execution_count": 64,
      "metadata": {
        "id": "ES6oX6hINftV"
      },
      "outputs": [],
      "source": [
        "def f1(x1, x2):\n",
        "    return (4.0*(x2 - 1.0)**2 + (x1 - 1.0)**2 - 1.0)\n",
        "\n",
        "def f2(x1, x2):\n",
        "    return (x2 - x1*math.sin(25.0*x1))\n",
        "\n",
        "def X22(x1):\n",
        "    return x1*math.sin(25.0*x1)\n",
        "\n",
        "def X21p(x1):\n",
        "    return (math.sqrt((1.0 - (x1 - 1.0)**2)/4.0)+1.0)\n",
        "\n",
        "def X21m(x1):\n",
        "    return (-math.sqrt((1.0 - (x1 - 1.0)**2)/4.0)+1.0)"
      ]
    },
    {
      "cell_type": "code",
      "execution_count": 65,
      "metadata": {
        "colab": {
          "base_uri": "https://localhost:8080/",
          "height": 337
        },
        "id": "qT3-k4dKNftV",
        "outputId": "4b043de7-d15b-4e9d-b922-4e4e759ba6c6"
      },
      "outputs": [
        {
          "output_type": "display_data",
          "data": {
            "text/plain": [
              "<Figure size 720x360 with 1 Axes>"
            ],
            "image/png": "[encoded data removed]"
          },
          "metadata": {
            "needs_background": "light"
          }
        }
      ],
      "source": [
        "A = 0.0\n",
        "B = 2.0\n",
        "N = 500\n",
        "y21p = np.zeros((N))\n",
        "y21m = np.zeros((N))\n",
        "y22 = np.zeros((N))\n",
        "x = np.linspace(A, B, N)\n",
        "for i in range(N): \n",
        "    y21p[i] = X21p(x[i])\n",
        "    y21m[i] = X21m(x[i])\n",
        "    y22[i]  =  X22(x[i])\n",
        "    \n",
        "plt.figure(figsize=(10,5))  \n",
        "plt.plot(x, y21p, x, y21m, x, y22)\n",
        "plt.xlabel('x1')\n",
        "plt.ylabel('x2')\n",
        "plt.grid(True)\n",
        "plt.show()"
      ]
    },
    {
      "cell_type": "markdown",
      "metadata": {
        "id": "byCfEDCONftV"
      },
      "source": [
        "Вычислим производные этих функций и сформируем матрицу Якоби:"
      ]
    },
    {
      "cell_type": "code",
      "execution_count": 66,
      "metadata": {
        "id": "_SAmEoSwNftV"
      },
      "outputs": [],
      "source": [
        "x1, x2 = symbols('x1, x2')\n",
        "\n",
        "F1 = 4.0*(x2 - 1.0)**2 + (x1 - 1.0)**2 - 1.0;\n",
        "\n",
        "F2 = x2 - x1*sm.sin(25.0*x1)"
      ]
    },
    {
      "cell_type": "markdown",
      "metadata": {
        "id": "p7oGVpwvNftV"
      },
      "source": [
        "Найдём частные производные: \n",
        "$$\\frac{\\partial f_1(x_1,x_2)}{\\partial x_1}, \\frac{\\partial f_1(x_1,x_2)}{\\partial x_2}, \\frac{\\partial f_2(x_1,x_2)}{\\partial x_1}, \\frac{\\partial f_2(x_1,x_2)}{\\partial x_2}$$"
      ]
    },
    {
      "cell_type": "code",
      "execution_count": 67,
      "metadata": {
        "colab": {
          "base_uri": "https://localhost:8080/",
          "height": 38
        },
        "id": "MXxvJgO4NftV",
        "outputId": "b4b6cf6f-97ff-4e0a-ce0c-0141479c48ec"
      },
      "outputs": [
        {
          "output_type": "execute_result",
          "data": {
            "text/plain": [
              "2⋅x₁ - 2.0"
            ],
            "image/png": "[encoded data removed]",
            "text/latex": "$\\displaystyle 2 x_{1} - 2.0$"
          },
          "metadata": {},
          "execution_count": 67
        }
      ],
      "source": [
        "F1X1 = diff(F1,x1)\n",
        "F1X1"
      ]
    },
    {
      "cell_type": "code",
      "execution_count": 68,
      "metadata": {
        "colab": {
          "base_uri": "https://localhost:8080/",
          "height": 38
        },
        "id": "dtOcLa_QNftV",
        "outputId": "8e6a2d28-158a-46e1-f13c-217352641b8f"
      },
      "outputs": [
        {
          "output_type": "execute_result",
          "data": {
            "text/plain": [
              "8.0⋅x₂ - 8.0"
            ],
            "image/png": "[encoded data removed]",
            "text/latex": "$\\displaystyle 8.0 x_{2} - 8.0$"
          },
          "metadata": {},
          "execution_count": 68
        }
      ],
      "source": [
        "F1X2 = diff(F1,x2)\n",
        "F1X2"
      ]
    },
    {
      "cell_type": "code",
      "execution_count": 69,
      "metadata": {
        "colab": {
          "base_uri": "https://localhost:8080/",
          "height": 38
        },
        "id": "vwLwZIDuNftW",
        "outputId": "99e5bac2-71e6-4bf5-ad06-b23a344e886b"
      },
      "outputs": [
        {
          "output_type": "execute_result",
          "data": {
            "text/plain": [
              "-25.0⋅x₁⋅cos(25.0⋅x₁) - sin(25.0⋅x₁)"
            ],
            "image/png": "[encoded data removed]",
            "text/latex": "$\\displaystyle - 25.0 x_{1} \\cos{\\left(25.0 x_{1} \\right)} - \\sin{\\left(25.0 x_{1} \\right)}$"
          },
          "metadata": {},
          "execution_count": 69
        }
      ],
      "source": [
        "F2X1 = diff(F2,x1)\n",
        "F2X1"
      ]
    },
    {
      "cell_type": "code",
      "execution_count": 70,
      "metadata": {
        "colab": {
          "base_uri": "https://localhost:8080/",
          "height": 38
        },
        "id": "64hn-O6YNftW",
        "outputId": "1c2d351f-8d01-4f73-b854-8e92bbcc667d"
      },
      "outputs": [
        {
          "output_type": "execute_result",
          "data": {
            "text/plain": [
              "1"
            ],
            "image/png": "[encoded data removed]",
            "text/latex": "$\\displaystyle 1$"
          },
          "metadata": {},
          "execution_count": 70
        }
      ],
      "source": [
        "F2X2 = diff(F2,x2)\n",
        "F2X2"
      ]
    },
    {
      "cell_type": "markdown",
      "metadata": {
        "id": "2kjFj4xDNftW"
      },
      "source": [
        "Сформируем иэ них матрицу Якоби:\n",
        "$$J = \n",
        "\\begin{pmatrix}\n",
        "  \\frac{\\partial f_1(x_1,x_2)}{\\partial x_1} \\frac{\\partial f_1(x_1,x_2)}{\\partial x_2}\\\\\n",
        "  \\frac{\\partial f_2(x_1,x_2)}{\\partial x_1} \\frac{\\partial f_2(x_1,x_2)}{\\partial x_2}\n",
        "\\end{pmatrix}\n",
        "$$"
      ]
    },
    {
      "cell_type": "code",
      "execution_count": 71,
      "metadata": {
        "colab": {
          "base_uri": "https://localhost:8080/",
          "height": 58
        },
        "id": "IVpYRlYMNftW",
        "outputId": "3c30eeb0-0b0c-4327-96e6-fc91e392417f"
      },
      "outputs": [
        {
          "output_type": "execute_result",
          "data": {
            "text/plain": [
              "⎡             2⋅x₁ - 2.0               8.0⋅x₂ - 8.0⎤\n",
              "⎢                                                  ⎥\n",
              "⎣-25.0⋅x₁⋅cos(25.0⋅x₁) - sin(25.0⋅x₁)       1      ⎦"
            ],
            "text/latex": "$\\displaystyle \\left[\\begin{matrix}2 x_{1} - 2.0 & 8.0 x_{2} - 8.0\\\\- 25.0 x_{1} \\cos{\\left(25.0 x_{1} \\right)} - \\sin{\\left(25.0 x_{1} \\right)} & 1\\end{matrix}\\right]$"
          },
          "metadata": {},
          "execution_count": 71
        }
      ],
      "source": [
        "J=sm.Matrix([[F1X1,F1X2],[F2X1,F2X2]])\n",
        "J"
      ]
    },
    {
      "cell_type": "markdown",
      "metadata": {
        "id": "nUFMPlcUNftW"
      },
      "source": [
        "Программа для решения систем нелинейных уравнений методом Ньютона:"
      ]
    },
    {
      "cell_type": "code",
      "execution_count": 72,
      "metadata": {
        "id": "X-pa8SJMNftW"
      },
      "outputs": [],
      "source": [
        "def NEWTON(n, fun, Jac, x0, pr=0, tol=1.0e-10): \n",
        "    x = np.zeros(n)\n",
        "    b = np.zeros(n)\n",
        "    A = np.zeros((n,n)) \n",
        "    dx = np.zeros(n)\n",
        "    xStep = np.zeros((1000,n))\n",
        "    Error=2\n",
        "    i=0\n",
        "    x[:]=x0[:]\n",
        "    xStep[i][:]=x[:]\n",
        "    while Error>tol and i<999:\n",
        "        Error0=Error \n",
        "#        x0[:]=x[:]\n",
        "        b=-fun(x)\n",
        "        A=Jac(x)\n",
        "        dx = np.dot(linalg.pinv(A),b)\n",
        "        x[:]=x[:]+dx[:]\n",
        "        Error=math.sqrt(np.dot(dx.T,dx))\n",
        "        k=np.log(Error)/np.log(Error0)\n",
        "        i=i+1\n",
        "        xStep[i][:]=x[:]\n",
        "        if pr>0:\n",
        "            if i>1: print('итерация:\\t%i \\t%.6e \\t ' %(i, Error), k)\n",
        "            else:   print('итерация:\\t%i \\t%.6e \\t ' %(i, Error))\n",
        "    return x, xStep, i"
      ]
    },
    {
      "cell_type": "markdown",
      "metadata": {
        "id": "Yr9hLX39NftX"
      },
      "source": [
        "Программы для вычсления значения функций и Якобиана:"
      ]
    },
    {
      "cell_type": "code",
      "execution_count": 73,
      "metadata": {
        "id": "QiHTMCf6NftX"
      },
      "outputs": [],
      "source": [
        "def fun(x):\n",
        "    f = np.zeros(2)\n",
        "    f[0] = f1(x[0],x[1])\n",
        "    f[1] = f2(x[0],x[1])\n",
        "    return f \n",
        "\n",
        "def jac(x):\n",
        "    JJ = J.subs({x1:x[0],x2:x[1]}).n()\n",
        "    M = np.array( [[float(JJ[0,0]), float(JJ[0,1])], [float(JJ[1,0]), float(JJ[1,1])]] )\n",
        "    return M"
      ]
    },
    {
      "cell_type": "markdown",
      "metadata": {
        "id": "kroiBQlCNftX"
      },
      "source": [
        "Выберем начальное приближение:"
      ]
    },
    {
      "cell_type": "code",
      "execution_count": 74,
      "metadata": {
        "colab": {
          "base_uri": "https://localhost:8080/",
          "height": 337
        },
        "id": "n2dmmb4aNftX",
        "outputId": "a6286e16-3fc5-4a2d-f00f-2ba0fa7a356b"
      },
      "outputs": [
        {
          "output_type": "display_data",
          "data": {
            "text/plain": [
              "<Figure size 720x360 with 1 Axes>"
            ],
            "image/png": "[encoded data removed]"
          },
          "metadata": {
            "needs_background": "light"
          }
        }
      ],
      "source": [
        "x10=1.8\n",
        "x20=1.1\n",
        "\n",
        "# попробуйте:\n",
        "# x10=1.0\n",
        "# x20=1.0\n",
        "\n",
        "plt.figure(figsize=(10,5))\n",
        "plt.plot(x, y21p, x, y21m, x, y22)\n",
        "plt.plot(x10, x20, 'o')\n",
        "plt.xlabel('x1')\n",
        "plt.ylabel('x2')\n",
        "plt.grid(True)\n",
        "plt.show()"
      ]
    },
    {
      "cell_type": "markdown",
      "metadata": {
        "id": "doHg_qibNftX"
      },
      "source": [
        "Значение Якобиана в начальное точке"
      ]
    },
    {
      "cell_type": "code",
      "execution_count": 75,
      "metadata": {
        "colab": {
          "base_uri": "https://localhost:8080/"
        },
        "id": "mNb078Y7NftX",
        "outputId": "611b41dd-37cf-4ca4-f2d4-d972f6d23530"
      },
      "outputs": [
        {
          "output_type": "execute_result",
          "data": {
            "text/plain": [
              "array([[  1.6       ,   0.8       ],\n",
              "       [-24.49039302,   1.        ]])"
            ]
          },
          "metadata": {},
          "execution_count": 75
        }
      ],
      "source": [
        "jac([x10, x20])"
      ]
    },
    {
      "cell_type": "code",
      "execution_count": 76,
      "metadata": {
        "colab": {
          "base_uri": "https://localhost:8080/",
          "height": 466
        },
        "id": "65F3jUnuNftY",
        "outputId": "a201d68f-b060-4a70-8f45-85d95875f5aa"
      },
      "outputs": [
        {
          "output_type": "stream",
          "name": "stdout",
          "text": [
            "итерация:\t1 \t4.023895e-01 \t \n",
            "итерация:\t2 \t1.588120e-01 \t  2.0212721369631175\n",
            "итерация:\t3 \t3.628891e-02 \t  1.8022726495201313\n",
            "итерация:\t4 \t2.102438e-03 \t  1.8589280899170557\n",
            "итерация:\t5 \t7.120488e-06 \t  1.9226589841743564\n",
            "итерация:\t6 \t8.159902e-11 \t  1.959851229426387\n",
            " x1 = 1.791933e+00 \t x2 = 1.305304e+00 \t f1(x1,x2) = 0.000000e+00 \t f1(x1,x2) = 4.662937e-15\n"
          ]
        },
        {
          "output_type": "display_data",
          "data": {
            "text/plain": [
              "<Figure size 720x360 with 1 Axes>"
            ],
            "image/png": "[encoded data removed]"
          },
          "metadata": {
            "needs_background": "light"
          }
        }
      ],
      "source": [
        "X0 = np.array([x10, x20])\n",
        "sol, xStep, iStep = NEWTON(2, fun, jac, X0, pr=1, tol=1.0e-10)\n",
        "\n",
        "print(' x1 = %12.6e \\t x2 = %12.6e \\t f1(x1,x2) = %12.6e \\t f1(x1,x2) = %12.6e' \n",
        "      %(sol[0],sol[1], f1(sol[0],sol[1]), f2(sol[0],sol[1]))) \n",
        "\n",
        "plt.figure(figsize=(10,5))\n",
        "plt.plot(x, y21p, x, y21m, x, y22)\n",
        "plt.plot(sol[0], sol[1], 'o')\n",
        "plt.xlabel('x1')\n",
        "plt.ylabel('x2')\n",
        "plt.grid(True)\n",
        "plt.show()"
      ]
    },
    {
      "cell_type": "code",
      "execution_count": 77,
      "metadata": {
        "colab": {
          "base_uri": "https://localhost:8080/",
          "height": 334
        },
        "id": "_euUtt4PNftY",
        "outputId": "742ecc06-1269-48a4-e190-90c7fdf770ce"
      },
      "outputs": [
        {
          "output_type": "display_data",
          "data": {
            "text/plain": [
              "<Figure size 720x360 with 1 Axes>"
            ],
            "image/png": "[encoded data removed]"
          },
          "metadata": {
            "needs_background": "light"
          }
        }
      ],
      "source": [
        "r = sol[:] - X0[:]\n",
        "R = 1.1*math.sqrt(np.dot(r.T,r))\n",
        "\n",
        "plt.figure(figsize=(10,5))\n",
        "plt.plot(x, y21p, x, y21m, x, y22)\n",
        "plt.plot(xStep[0:iStep+1,0], xStep[0:iStep+1,1], '-o')\n",
        "plt.xlim(sol[0]-R, sol[0]+R)\n",
        "plt.ylim(sol[1]-R, sol[1]+R)\n",
        "plt.xlabel('x1')\n",
        "plt.ylabel('x2')\n",
        "plt.grid(True)\n",
        "plt.show()"
      ]
    },
    {
      "cell_type": "markdown",
      "metadata": {
        "id": "yCglelT4NftY"
      },
      "source": [
        "# 3.5 Функция root "
      ]
    },
    {
      "cell_type": "code",
      "execution_count": 78,
      "metadata": {
        "colab": {
          "base_uri": "https://localhost:8080/",
          "height": 540
        },
        "id": "V_enEJHbNftY",
        "outputId": "2ac03781-8c34-4286-dabc-c0b7707ef5a4"
      },
      "outputs": [
        {
          "output_type": "stream",
          "name": "stdout",
          "text": [
            "    fjac: array([[-0.05025335,  0.9987365 ],\n",
            "       [-0.9987365 , -0.05025335]])\n",
            "     fun: array([4.44089210e-16, 3.21964677e-14])\n",
            " message: 'The solution converged.'\n",
            "    nfev: 10\n",
            "    njev: 1\n",
            "     qtf: array([-9.79928722e-11,  5.98241088e-12])\n",
            "       r: array([-31.50774661,   0.80310234,  -2.48516491])\n",
            "  status: 1\n",
            " success: True\n",
            "       x: array([1.79193318, 1.30530388])\n"
          ]
        },
        {
          "output_type": "display_data",
          "data": {
            "text/plain": [
              "<Figure size 720x360 with 1 Axes>"
            ],
            "image/png": "[encoded data removed]"
          },
          "metadata": {
            "needs_background": "light"
          }
        }
      ],
      "source": [
        "SOL = root(fun, X0, jac=jac, method='hybr')\n",
        "\n",
        "print(SOL)\n",
        "\n",
        "plt.figure(figsize=(10,5))\n",
        "plt.plot(x, y21p, x, y21m, x, y22)\n",
        "plt.plot(SOL.x[0], SOL.x[1], 'o')\n",
        "plt.xlabel('x1')\n",
        "plt.ylabel('x2')\n",
        "plt.grid(True)\n",
        "plt.show()"
      ]
    },
    {
      "cell_type": "markdown",
      "metadata": {
        "id": "OXup5ndpNftY"
      },
      "source": [
        "# 4. Алгоритмы минимизации нелинейной функции одной переменной "
      ]
    },
    {
      "cell_type": "markdown",
      "metadata": {
        "id": "D9eT7jLdNftY"
      },
      "source": [
        "Нас интересуют задачи вида: $f(x) -> min$."
      ]
    },
    {
      "cell_type": "markdown",
      "metadata": {
        "id": "lP7wcQdWNftZ"
      },
      "source": [
        "Пусть есть некоторая функция $f(x)=(1+x+x^2) \\cdot e^{-x}+sin(x+0.1)-1$."
      ]
    },
    {
      "cell_type": "code",
      "execution_count": 79,
      "metadata": {
        "id": "18kuWVuhNftZ"
      },
      "outputs": [],
      "source": [
        "def f(x):\n",
        "    return ((1.0 + x + x**2) * math.exp(-x) + math.sin(x+0.1) - 1.0)"
      ]
    },
    {
      "cell_type": "markdown",
      "metadata": {
        "id": "82euXugkNftZ"
      },
      "source": [
        "Построим график этой функции"
      ]
    },
    {
      "cell_type": "code",
      "execution_count": 80,
      "metadata": {
        "colab": {
          "base_uri": "https://localhost:8080/",
          "height": 334
        },
        "id": "ONGIqVtBNftZ",
        "outputId": "c9c4139e-4b2a-4a64-8ee9-ee195945f056"
      },
      "outputs": [
        {
          "output_type": "display_data",
          "data": {
            "text/plain": [
              "<Figure size 576x360 with 1 Axes>"
            ],
            "image/png": "[encoded data removed]"
          },
          "metadata": {
            "needs_background": "light"
          }
        }
      ],
      "source": [
        "A = -1.0\n",
        "B =  10.0\n",
        "N =  200\n",
        "Y = np.zeros((N))\n",
        "X = np.linspace(A, B, N)\n",
        "for i in range(N): \n",
        "    Y[i] = f(X[i])\n",
        "    \n",
        "plt.figure(figsize=(8,5))  \n",
        "plt.plot(X, Y)\n",
        "plt.xlabel('x')\n",
        "plt.ylabel('y')\n",
        "plt.grid(True)\n",
        "plt.show()"
      ]
    },
    {
      "cell_type": "markdown",
      "metadata": {
        "id": "hLuwvyZ4NftZ"
      },
      "source": [
        "Очевидно, что экстремум может находиться толькро между точками a и b, для которых справедливо: $f'(a)>0, f'(b)<0$ - для максимума или $f'(a)>0, f(b)'<0$ - для минимума, т.е. $f'(a)\\cdot f'(b)<0$. Найдём такие точки a и b переберая значения x в некотором интервале"
      ]
    },
    {
      "cell_type": "markdown",
      "metadata": {
        "id": "8fpKtnzbNftZ"
      },
      "source": [
        "Вычислим производную:"
      ]
    },
    {
      "cell_type": "code",
      "execution_count": 81,
      "metadata": {
        "colab": {
          "base_uri": "https://localhost:8080/",
          "height": 38
        },
        "id": "tbqbG7GKNftZ",
        "outputId": "a1cc49dc-1cb1-4db2-8fee-0f3d00a1df27"
      },
      "outputs": [
        {
          "output_type": "execute_result",
          "data": {
            "text/plain": [
              "           -x   ⎛ 2          ⎞  -x               \n",
              "(2⋅x + 1)⋅ℯ   - ⎝x  + x + 1.0⎠⋅ℯ   + cos(x + 0.1)"
            ],
            "image/png": "[encoded data removed]",
            "text/latex": "$\\displaystyle \\left(2 x + 1\\right) e^{- x} - \\left(x^{2} + x + 1.0\\right) e^{- x} + \\cos{\\left(x + 0.1 \\right)}$"
          },
          "metadata": {},
          "execution_count": 81
        }
      ],
      "source": [
        "x=symbols('x')\n",
        "\n",
        "F = (1.0 + x + x**2) * sm.exp(-x) + sm.sin(x+0.1) - 1.0\n",
        "\n",
        "FX = diff(F,x)\n",
        "FX"
      ]
    },
    {
      "cell_type": "code",
      "execution_count": 82,
      "metadata": {
        "id": "XW9sYOFiNfta"
      },
      "outputs": [],
      "source": [
        "def fx(a):\n",
        "    return FX.subs({x:a}).n()"
      ]
    },
    {
      "cell_type": "code",
      "execution_count": 83,
      "metadata": {
        "colab": {
          "base_uri": "https://localhost:8080/"
        },
        "id": "yjZWn608Nfta",
        "outputId": "c6490b76-b35c-41ff-ae68-1371c4a59fb7"
      },
      "outputs": [
        {
          "output_type": "stream",
          "name": "stdout",
          "text": [
            "\t 0 \t -6.2068965517e-01 \t -2.4137931034e-01\n",
            "\t 1 \t 1.2758620690e+00 \t 1.6551724138e+00\n",
            "\t 2 \t 4.6896551724e+00 \t 5.0689655172e+00\n",
            "\t 3 \t 7.7241379310e+00 \t 8.1034482759e+00\n",
            "Найдено 4 интервалов локализации экстремума.\n"
          ]
        }
      ],
      "source": [
        "n=30\n",
        "AB = np.zeros((2,n))\n",
        "xab = np.linspace(A, B, n)\n",
        "ia=0\n",
        "for i in range(n-1):\n",
        "    if fx(xab[i])*fx(xab[i+1])<0:\n",
        "        AB[0][ia]=xab[i]\n",
        "        AB[1][ia]=xab[i+1]\n",
        "        print ('\\t %i \\t %.10e \\t %.10e' %(ia, AB[0][ia], AB[1][ia]))\n",
        "        ia=ia+1\n",
        "print('Найдено %i интервалов локализации экстремума.' %(ia))"
      ]
    },
    {
      "cell_type": "code",
      "execution_count": 84,
      "metadata": {
        "colab": {
          "base_uri": "https://localhost:8080/",
          "height": 334
        },
        "id": "ZBrLOaYRNfta",
        "outputId": "a0ac1111-ce14-4bed-e9ce-5f7104ef5a27"
      },
      "outputs": [
        {
          "output_type": "display_data",
          "data": {
            "text/plain": [
              "<Figure size 576x360 with 1 Axes>"
            ],
            "image/png": "[encoded data removed]"
          },
          "metadata": {
            "needs_background": "light"
          }
        }
      ],
      "source": [
        "plt.figure(figsize=(8,5))  \n",
        "plt.plot(X, Y, '-')\n",
        "for i in range(ia): \n",
        "    plt.plot(AB[0][i], 0, 'o')\n",
        "    plt.plot(AB[1][i], 0, 'o')\n",
        "plt.xlabel('x')\n",
        "plt.ylabel('y')\n",
        "plt.grid(True)\n",
        "plt.show()"
      ]
    },
    {
      "cell_type": "code",
      "execution_count": 85,
      "metadata": {
        "colab": {
          "base_uri": "https://localhost:8080/",
          "height": 334
        },
        "id": "vRQSGmCHNfta",
        "outputId": "cefa584f-745d-4c67-e0c2-2f19d06e558b"
      },
      "outputs": [
        {
          "output_type": "display_data",
          "data": {
            "text/plain": [
              "<Figure size 576x360 with 1 Axes>"
            ],
            "image/png": "[encoded data removed]"
          },
          "metadata": {
            "needs_background": "light"
          }
        }
      ],
      "source": [
        "Yx = np.zeros((N))\n",
        "for i in range(N): \n",
        "    Yx[i] = fx(X[i])\n",
        "\n",
        "plt.figure(figsize=(8,5))      \n",
        "plt.plot(X, Yx, '-')\n",
        "for i in range(ia): \n",
        "    plt.plot(AB[0][i], 0, 'o')\n",
        "    plt.plot(AB[1][i], 0, 'o')\n",
        "plt.xlabel('x')\n",
        "plt.ylabel('y')\n",
        "plt.grid(True)\n",
        "plt.show()"
      ]
    },
    {
      "cell_type": "markdown",
      "metadata": {
        "id": "i5nXm-DINfta"
      },
      "source": [
        "# 4.1 Метод дихотомии"
      ]
    },
    {
      "cell_type": "code",
      "execution_count": 86,
      "metadata": {
        "id": "fTLLO72WNfta"
      },
      "outputs": [],
      "source": [
        "def bisectionMin(f, x1, x2, mm=0, tol=1.0e-10):\n",
        "    \"\"\"\n",
        "    Ищет корень уравнения f(x)=0\n",
        "    на отрезке [x1, x2] методом дихотомии (бисекции).\n",
        "    Значения функций на концах отрезка не могут иметь один знак.\n",
        "    :param f: - функция\n",
        "    :param x1: - левая точка мнтервала\n",
        "    :param x2: - правая точка мнтервала\n",
        "    :param mm: - параметр типа экстремума (pr=0 - mim, pr=1 - max)\n",
        "    :param tol: - точность\n",
        "    :return:\n",
        "    \"\"\"\n",
        "    f1 = f(x1)\n",
        "    f2 = f(x2)\n",
        "    a = (1.0 + np.sqrt(5.0))/2.0\n",
        "    \n",
        "    Error=abs(x1-x2)\n",
        "    for i in range(n):\n",
        "        Error0=Error\n",
        "        d = (x2-x1)*(1.0/a - 1.0/2.0)\n",
        "        x3 = 0.5*(x1+x2)+d\n",
        "        x4 = 0.5*(x1+x2)-d\n",
        "        f3 = f(x3)\n",
        "        f4 = f(x4)\n",
        "        if mm==0:\n",
        "            if f3 > f4:\n",
        "                x2=x3\n",
        "                f2=f3\n",
        "            else:\n",
        "                x1=x4\n",
        "                f1=f4\n",
        "        else:\n",
        "            if f3 < f4:\n",
        "                x2=x3\n",
        "                f2=f3\n",
        "            else:\n",
        "                x1=x4\n",
        "                f1=f4\n",
        "        Error=abs(x1-x2)\n",
        "    return (x1+x2)/2"
      ]
    },
    {
      "cell_type": "code",
      "execution_count": 87,
      "metadata": {
        "colab": {
          "base_uri": "https://localhost:8080/"
        },
        "id": "PjCir67WNftb",
        "outputId": "6d4eca01-741b-44c9-95ce-2997526e2ad0"
      },
      "outputs": [
        {
          "output_type": "stream",
          "name": "stdout",
          "text": [
            "\t 0 \t root[0] =  -4.3018957759e-01 \t f(root[0]) =  -1.6356739805e-01\n",
            "\t 1 \t root[1] =   1.6551723119e+00 \t f(root[1]) =   1.0137704728e+00\n",
            "\t 2 \t root[2] =   4.7658265912e+00 \t f(root[2]) =  -1.7457293412e+00\n",
            "\t 3 \t root[3] =   8.1034481739e+00 \t f(root[3]) =  -3.7827206420e-02\n"
          ]
        }
      ],
      "source": [
        "xRoot = np.zeros((2,ia))\n",
        "\n",
        "for i in range(ia): \n",
        "    xRoot[0][i] = bisectionMin(f, AB[0][i], AB[1][i])\n",
        "    xRoot[1][i] = f(xRoot[0][i])\n",
        "    print('\\t %i \\t root[%i] = %18.10e \\t f(root[%i]) = %18.10e' %(i, i, xRoot[0][i], i, xRoot[1][i]))    "
      ]
    },
    {
      "cell_type": "code",
      "execution_count": 88,
      "metadata": {
        "colab": {
          "base_uri": "https://localhost:8080/",
          "height": 334
        },
        "id": "Fqlogz4mNftb",
        "outputId": "80b04ac3-fa79-4c2b-85f9-aa0f20df1619"
      },
      "outputs": [
        {
          "output_type": "display_data",
          "data": {
            "text/plain": [
              "<Figure size 576x360 with 1 Axes>"
            ],
            "image/png": "[encoded data removed]"
          },
          "metadata": {
            "needs_background": "light"
          }
        }
      ],
      "source": [
        "plt.figure(figsize=(8,5))  \n",
        "plt.plot(X, Y, '-')\n",
        "plt.plot(xRoot[0,:], xRoot[1,:], 'o')\n",
        "plt.xlabel('x')\n",
        "plt.ylabel('y')\n",
        "plt.grid(True)\n",
        "plt.show()"
      ]
    },
    {
      "cell_type": "code",
      "execution_count": 89,
      "metadata": {
        "colab": {
          "base_uri": "https://localhost:8080/"
        },
        "id": "AOu6FI4ANftb",
        "outputId": "b7b800d4-47f1-4e36-f7c2-3580344bb73f"
      },
      "outputs": [
        {
          "output_type": "stream",
          "name": "stdout",
          "text": [
            "\t 0 \t root[0] =  -6.2068955323e-01 \t f(root[0]) =  -7.5224927500e-02\n",
            "\t 1 \t root[1] =   1.3484834753e+00 \t f(root[1]) =   1.0743944863e+00\n",
            "\t 2 \t root[2] =   5.0689654153e+00 \t f(root[2]) =  -1.6978096976e+00\n",
            "\t 3 \t root[3] =   7.7311372238e+00 \t f(root[3]) =   2.9807497755e-02\n"
          ]
        }
      ],
      "source": [
        "xRoot = np.zeros((2,ia))\n",
        "\n",
        "for i in range(ia): \n",
        "    xRoot[0][i] = bisectionMin(f, AB[0][i], AB[1][i], mm=1)\n",
        "    xRoot[1][i] = f(xRoot[0][i])\n",
        "    print('\\t %i \\t root[%i] = %18.10e \\t f(root[%i]) = %18.10e' %(i, i, xRoot[0][i], i, xRoot[1][i]))    "
      ]
    },
    {
      "cell_type": "code",
      "execution_count": 90,
      "metadata": {
        "colab": {
          "base_uri": "https://localhost:8080/",
          "height": 334
        },
        "id": "NYAbL8yKNftc",
        "outputId": "6f6fe298-7545-4e6e-fb44-0db61f60bb8f"
      },
      "outputs": [
        {
          "output_type": "display_data",
          "data": {
            "text/plain": [
              "<Figure size 576x360 with 1 Axes>"
            ],
            "image/png": "[encoded data removed]"
          },
          "metadata": {
            "needs_background": "light"
          }
        }
      ],
      "source": [
        "plt.figure(figsize=(8,5))  \n",
        "plt.plot(X, Y, '-')\n",
        "plt.plot(xRoot[0,:], xRoot[1,:], 'o')\n",
        "plt.xlabel('x')\n",
        "plt.ylabel('y')\n",
        "plt.grid(True)\n",
        "plt.show()"
      ]
    },
    {
      "cell_type": "markdown",
      "metadata": {
        "id": "k2pipokMNftd"
      },
      "source": [
        "# Экстремум функции несколькох переменных"
      ]
    },
    {
      "cell_type": "markdown",
      "metadata": {
        "id": "6F3LjahFNfte"
      },
      "source": [
        "Нас интересуют задачи вида:\n",
        "   $$f(x_1,x_2) -> extr$$\n"
      ]
    },
    {
      "cell_type": "markdown",
      "metadata": {
        "id": "3YEHLL6dNfte"
      },
      "source": [
        "# 4.2 Функция minimize "
      ]
    },
    {
      "cell_type": "code",
      "execution_count": 91,
      "metadata": {
        "id": "a9ms4QpZNfte"
      },
      "outputs": [],
      "source": [
        "from scipy.optimize import minimize, rosen, rosen_der"
      ]
    },
    {
      "cell_type": "code",
      "execution_count": 92,
      "metadata": {
        "colab": {
          "base_uri": "https://localhost:8080/"
        },
        "id": "iF5aqttuNfte",
        "outputId": "53a1c8fe-49df-4bfd-9e28-e9f1bc57244b"
      },
      "outputs": [
        {
          "output_type": "execute_result",
          "data": {
            "text/plain": [
              "array([1.00000002, 1.00000002, 1.00000007, 1.00000015, 1.00000028])"
            ]
          },
          "metadata": {},
          "execution_count": 92
        }
      ],
      "source": [
        "x0 = [1.3, 0.7, 0.8, 1.9, 1.2]\n",
        "res = minimize(rosen, x0, method='Nelder-Mead', tol=1e-6)\n",
        "res.x"
      ]
    },
    {
      "cell_type": "markdown",
      "metadata": {
        "id": "L7f5z4LiNfte"
      },
      "source": [
        "# Домашнее задание (базовое):"
      ]
    },
    {
      "cell_type": "markdown",
      "metadata": {
        "id": "LQHvxmIJNftf"
      },
      "source": [
        "# Задание 1. Матрица Паскаля.\n",
        "\n",
        "Напишите программу, вычисляющую матрицу Паскаля, эллементы которой определяются следующим соотношением:\n",
        "\n",
        "$$ a_{ij} = \\frac{(i+j-2)!}{(i-1)!(j-1)!}, \\quad i=1,2,..., n, \\quad j=1,2,..., n. $$"
      ]
    },
    {
      "cell_type": "code",
      "execution_count": 93,
      "metadata": {
        "id": "lo5_T5LSNftf",
        "colab": {
          "base_uri": "https://localhost:8080/"
        },
        "outputId": "7a8e699b-7a34-45f4-93b9-9be9075b3c12"
      },
      "outputs": [
        {
          "output_type": "stream",
          "name": "stdout",
          "text": [
            "3\n",
            "[1, 1, 1]\n",
            "[1, 2, 3]\n",
            "[1, 3, 6]\n"
          ]
        }
      ],
      "source": [
        "from math import factorial\n",
        "n = int(input())\n",
        "a = []\n",
        "for i in range(n):\n",
        "    a.append([])\n",
        "    for j in range(n):\n",
        "        a[i].append(factorial(i+j)//factorial(i)//factorial(j))\n",
        "    print(a[i])"
      ]
    },
    {
      "cell_type": "code",
      "source": [
        "n = int(input())\n",
        "b = [[1]*n for i in range(n)]\n",
        "print(*b[0])\n",
        "for i in range(1,n):\n",
        "    for j in range(1,n):\n",
        "        b[i][j] = b[i-1][j] + b[i][j-1]\n",
        "    print(*b[i])\n"
      ],
      "metadata": {
        "id": "2MqU9IDSBFP7",
        "colab": {
          "base_uri": "https://localhost:8080/"
        },
        "outputId": "3fe35ac4-a15a-4f28-b842-b19109471361"
      },
      "execution_count": 94,
      "outputs": [
        {
          "output_type": "stream",
          "name": "stdout",
          "text": [
            "3\n",
            "1 1 1\n",
            "1 2 3\n",
            "1 3 6\n"
          ]
        }
      ]
    },
    {
      "cell_type": "markdown",
      "metadata": {
        "id": "Ltd_pm9LNftf"
      },
      "source": [
        "# Задание 2.\n",
        "\n",
        "Напишите программу, вычисляющую обратную матрицу на основе решения матричного уравнения:\n",
        "\n",
        "$$ AX = E. $$\n",
        "\n",
        "Найдите таким образом обратную матрицу для матрицы Паскаля."
      ]
    },
    {
      "cell_type": "code",
      "execution_count": 95,
      "metadata": {
        "id": "dgqmjeewNftf",
        "colab": {
          "base_uri": "https://localhost:8080/"
        },
        "outputId": "0a4791e9-ef8a-42f8-ea6b-2ef6a53c8ee6"
      },
      "outputs": [
        {
          "output_type": "execute_result",
          "data": {
            "text/plain": [
              "(array([[32.42747063, 97.91476617, 62.81703973],\n",
              "        [63.53473865, 79.48898528, 61.12266378],\n",
              "        [10.4775815 , 40.88528555, 11.63184654]]),\n",
              " array([[-0.03139473,  0.02850234,  0.01977206],\n",
              "        [-0.00196631, -0.00560289,  0.04006085],\n",
              "        [ 0.03519082, -0.00598011, -0.07265078]]),\n",
              " array([[ 0.00162538, -0.00117276, -0.00091537],\n",
              "        [ 0.00148252, -0.00026422, -0.00317379],\n",
              "        [-0.00364969,  0.00147099,  0.00573436]]),\n",
              " (array([[-0.03139473,  0.02850234,  0.01977206],\n",
              "         [-0.00196631, -0.00560289,  0.04006085],\n",
              "         [ 0.03519082, -0.00598011, -0.07265078]]),\n",
              "  array([], dtype=float64),\n",
              "  3,\n",
              "  array([172.38599621,  27.66059097,  10.51716458])))"
            ]
          },
          "metadata": {},
          "execution_count": 95
        }
      ],
      "source": [
        "#linalg.inv(arr)\n",
        "\n",
        "a = np.reshape(arr, 15)\n",
        "a = np.reshape(a[0:9], (3,3))\n",
        "x = np.linalg.lstsq(a, np.eye(3), rcond = -1)\n",
        "\n",
        "\n",
        "a, np.linalg.inv(a), np.linalg.solve(a, np.linalg.inv(a)), x\n"
      ]
    },
    {
      "cell_type": "markdown",
      "metadata": {
        "id": "ZJU7ggCdNftf"
      },
      "source": [
        "# Задание 3\n",
        "\n",
        "Напишите программу реализующую метод секущих (https://ru.wikipedia.org/wiki/%D0%9C%D0%B5%D1%82%D0%BE%D0%B4_%D1%85%D0%BE%D1%80%D0%B4)."
      ]
    },
    {
      "cell_type": "code",
      "execution_count": 96,
      "metadata": {
        "id": "Rv6GeKoeNftf",
        "colab": {
          "base_uri": "https://localhost:8080/",
          "height": 576
        },
        "outputId": "ed9baf05-cae2-42e0-ccc4-36edc74e649b"
      },
      "outputs": [
        {
          "output_type": "stream",
          "name": "stdout",
          "text": [
            "Введите точность: 0.0001\n",
            "Введите начало отрезка: 1\n",
            "Введите конец отрезка: 5\n",
            "Введите шаг: 1\n",
            "Введите максимальное число итераций: 10\n",
            "\n",
            "\n",
            "|№ Корня|     A     |     B     |      X    |      f(x)      | Число итераций | Код ошибки |\n",
            "--------------------------------------------------------------------------------------------\n",
            "\n",
            "\n",
            "Расшифровка ошибок:\n",
            " 0 - Ошибок не обнаружено. \n",
            " 1 - Неправильное построение секущей.\n",
            " 2 - Превышен предел итераций.\n"
          ]
        },
        {
          "output_type": "display_data",
          "data": {
            "text/plain": [
              "<Figure size 432x288 with 1 Axes>"
            ],
            "image/png": "[encoded data removed]"
          },
          "metadata": {
            "needs_background": "light"
          }
        }
      ],
      "source": [
        "import matplotlib.pyplot as plt\n",
        "#from math import \n",
        "\n",
        "#Функция для функций\n",
        "def f(x):\n",
        "    a = x ** 3 - 18 * x - 83\n",
        "    return a\n",
        " \n",
        "#Функция вывода\n",
        "def out(k):\n",
        "    if k == '-':\n",
        "        return k\n",
        "    if k < 100000000 and (not 'e' in str(k)) :\n",
        "        if len(str(k))>9:\n",
        "            return str(k)[:9]\n",
        "        else:\n",
        "            return str(k)\n",
        "    else:\n",
        "        return '{:9.5e}'.format(k)\n",
        "             \n",
        "    \n",
        " \n",
        "#Метод секущих\n",
        "def sec(a, b, eps, m):\n",
        "    if f(a)*f(b) > 0 or f(a) == 0:  #наличие корня\n",
        "        return '-'\n",
        "    N = 0\n",
        "    x0 = b\n",
        "    x1 = b - (b - a)/1000\n",
        "    while(abs(x1-x0) > eps): \n",
        "        if N > m:\n",
        "            return [x1, N, '2']               # итерации закончились\n",
        "        tmp = x1\n",
        "        x1 = x1 - (x1 - x0) * f(x1)/(f(x1) - f(x0))\n",
        "        if not a <= x1 <= b:\n",
        "            x0 = a\n",
        "            x1 = a + (b-a)/1000\n",
        "            while(abs(x1-x0) > eps):\n",
        "                  tmp = x1\n",
        "                  x1 = x1 - (x1 - x0) * f(x1)/(f(x1) - f(x0))\n",
        "                  x0 = tmp\n",
        "                  N += 1\n",
        "                  if not a <= x1 <= b:\n",
        "                      return [x1, N, '1']        #секущая убежала\n",
        "            return [x1, N, '0']                         \n",
        "        x0 = tmp\n",
        "        N += 1\n",
        "    return [x1, N, '0']\n",
        " \n",
        " \n",
        "eps = float(input('Введите точность: '))\n",
        "a = float(input('Введите начало отрезка: '))\n",
        "b = float(input('Введите конец отрезка: '))\n",
        "step = float(input('Введите шаг: '))\n",
        "m = int(input('Введите максимальное число итераций: '))\n",
        " \n",
        "res = []\n",
        "tabl = []\n",
        "restabl = []\n",
        " \n",
        "#разбиение на участки\n",
        "h = a\n",
        "while h < b:\n",
        "    if h + step > b:\n",
        "        step = b - h\n",
        "        #tempA.append(h)          # массив из а\n",
        "        #tempB.append(h + step)   # массив из b\n",
        "        #roots.append(sec(h,h+step,eps,m)[0]) # массив из x\n",
        "        #froots.append(f(sec(h,h+step,eps,m)[0])) # массив из f(x)\n",
        "        #print(sec(h,h+step,eps,m))\n",
        "        \n",
        "    if sec(h,h+step,eps,m) != '-' and sec(h,h+step,eps,m)[2] != '1':\n",
        "        res = res + sec(h,h+step,eps,m)\n",
        "        tabl = [h, h + step, f(sec(h,h+step,eps,m)[0])]\n",
        "        restabl.append(tabl)\n",
        "        restabl.append(res)\n",
        "        tabl = []\n",
        "        res = []\n",
        "    \n",
        "    if sec(h,h+step,eps,m) != '-' and sec(h,h+step,eps,m)[2] == '1':\n",
        "        res = ['-','-','1']\n",
        "        tabl = [h, h + step, '-']\n",
        "        restabl.append(tabl)\n",
        "        restabl.append(res)\n",
        "        tabl = []\n",
        "        res = []\n",
        "    h += step\n",
        " \n",
        " \n",
        "#Вывод таблицы\n",
        "g = 0\n",
        "n = 0\n",
        "p = round(len(restabl)/2)\n",
        "print('\\n')\n",
        "tab = '|№ Корня|     A     |     B     |      X    |      f(x)      | Число\\\n",
        " итераций | Код ошибки |'\n",
        "print(tab)\n",
        "print('-'*len(tab))\n",
        "for i in range(p):\n",
        "    print('|  ',i + 1,'  |', out(restabl[g][n]).center(9),'|',\\\n",
        "          out(restabl[g][n + 1]).center(9),'|',out(restabl[g + 1][n]).center(9),'|',\\\n",
        "          out(restabl[g][n + 2]).center(13),' |',\\\n",
        "          out(restabl[g + 1][n + 1]).center(9),'     | ',\\\n",
        "          restabl[g + 1][n + 2].center(9),'|')\n",
        "    if restabl[g + 1][n + 2] == '0':\n",
        "        plt.scatter(restabl[g + 1][n],restabl[g][n + 2])\n",
        "    print('-'*len(tab))\n",
        "    g = g + 2\n",
        " \n",
        "print('\\n\\nРасшифровка ошибок:\\n 0 - Ошибок не обнаружено. \\n 1 - Неправильное \\\n",
        "построение секущей.\\n 2 - Превышен предел итераций.')\n",
        " \n",
        "#График\n",
        "x = np.linspace(a,b,100)\n",
        "y=[]\n",
        "for i in range(len(x)):\n",
        "    y.append(f(x[i]))\n",
        "plt.plot(x,y,'r',label = '$x^2 - 4$')\n",
        "plt.title('$x^2 - 4$')\n",
        "plt.grid(True)\n",
        "plt.xlabel('X')\n",
        "plt.ylabel('Y')\n",
        "plt.legend()\n",
        "plt.show()"
      ]
    },
    {
      "cell_type": "markdown",
      "source": [
        "#**VAR** 2"
      ],
      "metadata": {
        "id": "4GermZIbZ87-"
      }
    },
    {
      "cell_type": "code",
      "source": [
        "def f(x):\n",
        "    return x ** 3 - 18 * x - 83"
      ],
      "metadata": {
        "id": "UisiXhM4ZGAH"
      },
      "execution_count": 97,
      "outputs": []
    },
    {
      "cell_type": "code",
      "source": [
        "epsilon = float(input('Задайте точность: '))\n",
        "xs = []\n",
        "xs.append(float(input('Введите нулевую координату начального приближения: ')))\n",
        "xs.append(float(input('Введите первую координату начального приближения: ')))\n",
        "\n",
        "i = 1\n",
        "while abs(xs[i] - xs[i - 1]) >= epsilon:\n",
        "    xs.append(xs[i - 1] - f(xs[i - 1]) * (xs[i] - xs[i - 1]) / (f(xs[i]) - f(xs[i - 1])))\n",
        "    i += 1\n",
        "    \n",
        "print(xs[-1])"
      ],
      "metadata": {
        "id": "QCZRcU0KaHQh",
        "colab": {
          "base_uri": "https://localhost:8080/"
        },
        "outputId": "783f8848-e453-42ee-f434-e2ce26113804"
      },
      "execution_count": 98,
      "outputs": [
        {
          "output_type": "stream",
          "name": "stdout",
          "text": [
            "Задайте точность: 0.001\n",
            "Введите нулевую координату начального приближения: 1\n",
            "Введите первую координату начального приближения: 1\n",
            "1.0\n"
          ]
        }
      ]
    },
    {
      "cell_type": "markdown",
      "source": [
        "**#VAR3**"
      ],
      "metadata": {
        "id": "mGE8AexBaU54"
      }
    },
    {
      "cell_type": "code",
      "source": [
        ""
      ],
      "metadata": {
        "id": "6eP-O3YcZxyX"
      },
      "execution_count": 98,
      "outputs": []
    },
    {
      "cell_type": "code",
      "source": [
        "fnon= lambda x: np.sin(x-np.pi)\n",
        "\n",
        "from scipy.optimize import root_scalar\n",
        "x0=0\n",
        "x1=5\n",
        "tol=1e-8\n",
        "x= root_scalar(fnon,method='secant',x0=x0,x1=x1,rtol=tol)\n",
        "print(x)"
      ],
      "metadata": {
        "id": "4md-zNqUNa6S",
        "colab": {
          "base_uri": "https://localhost:8080/"
        },
        "outputId": "bb49e960-4433-42bd-e40e-6819f5663f58"
      },
      "execution_count": 99,
      "outputs": [
        {
          "output_type": "stream",
          "name": "stdout",
          "text": [
            "      converged: True\n",
            "           flag: 'converged'\n",
            " function_calls: 3\n",
            "     iterations: 2\n",
            "           root: 3.592664133576027e-15\n"
          ]
        }
      ]
    },
    {
      "cell_type": "markdown",
      "source": [
        "#**VAR4**"
      ],
      "metadata": {
        "id": "1qzRH2THaisG"
      }
    },
    {
      "cell_type": "code",
      "source": [
        "def secant(f, x0, x1, eps):\n",
        "        f_x0 = f(x0)\n",
        "        f_x1 = f(x1)\n",
        "        iteration_counter = 0\n",
        "        while abs(f_x1) > eps and iteration_counter < 100:\n",
        "            try:\n",
        "                denominator = float(f_x1 - f_x0)/(x1 - x0)\n",
        "                x = x1 - float(f_x1)/denominator\n",
        "            except ZeroDivisionError:\n",
        "                print(\"Error! - denominator zero for x = \", x)\n",
        "                sys.exit(1)     # Abort with error\n",
        "            x0 = x1\n",
        "            x1 = x\n",
        "            f_x0 = f_x1\n",
        "            f_x1 = f(x1)\n",
        "            iteration_counter += 1\n",
        "        # Here, either a solution is found, or too many iterations\n",
        "        if abs(f_x1) > eps:\n",
        "            iteration_counter = -1\n",
        "        return x, iteration_counter\n",
        "    \n",
        "def f(x):\n",
        "  return x ** 3 - 18 * x - 83\n",
        "        \n",
        "    \n",
        "x0 = 1000;   x1 = x0 - 1\n",
        "    \n",
        "solution, no_iterations = secant(f, x0, x1, eps=1.0e-6)\n",
        "    \n",
        "if no_iterations > 0:    # Solution found\n",
        "    print(\"Number of function calls: %d\" % (2 + no_iterations))\n",
        "    print(\"A solution is: %f\" % (solution))\n",
        "else:\n",
        "    print(\"Solution not found!\")"
      ],
      "metadata": {
        "id": "aJ6QWsIZN_cW",
        "colab": {
          "base_uri": "https://localhost:8080/"
        },
        "outputId": "0606ac87-7e16-414e-9891-5233f79baa0f"
      },
      "execution_count": 100,
      "outputs": [
        {
          "output_type": "stream",
          "name": "stdout",
          "text": [
            "Number of function calls: 26\n",
            "A solution is: 5.705116\n"
          ]
        }
      ]
    },
    {
      "cell_type": "markdown",
      "metadata": {
        "id": "eTgrBhkANftf"
      },
      "source": [
        "# Задание 4\n",
        "\n",
        "Постройте график и решить систему уравнений с помощью метода Ньютона и втроенной функции root:\n",
        "\n",
        "\\begin{cases}\n",
        "   x_1^2+(x_2-\\sqrt{|x_1|})^2 - 1 = 0\n",
        "   \\\\\n",
        "   x_1^2 x_2^3 - 7 x_1^3 x_2^3 - 7 = 0\n",
        "\\end{cases}"
      ]
    },
    {
      "cell_type": "code",
      "execution_count": 101,
      "metadata": {
        "id": "d_aXGnziNftg"
      },
      "outputs": [],
      "source": [
        "x, x1, x2 = symbols('x, x1, x2')\n",
        "\n",
        "F1 = x1**2 + (x2 - abs(x1)**0.5)**2 - 1\n",
        "F2 = x1**2*x2**3  -  7*x1**3*x2**3  -  7\n",
        "\n",
        "F1x1b = x1**4/(4*x2**2) + x1**3/(2*x2**2) + x1**2*(2*x2**2 - 1)/(4*x2**2) + x1*(-x2**2 - 1)/(2*x2**2) + (x2**4 - 2*x2**2 + 1)/(4*x2**2)\n",
        "F1x1a = x1**4/(4*x2**2) + x1**3/(2*x2**2) + x1**2*(2*x2**2 - 1)/(4*x2**2) + x1*(3*x2**2 - 1)/(2*x2**2) + (x2**4 - 2*x2**2 + 1)/(4*x2**2)\n",
        "\n",
        "def f1r(x1):\n",
        "    return (1 - x1**2)**0.5 + abs(x1)**0.5 \n",
        "\n",
        "def f2r(x1):\n",
        "    return (7 / (x1**2 - 7*x1**3)) ** (1/3)\n",
        "\n",
        "def f1(x1, x2):\n",
        "    return x1**2  +  (x2 - abs(x1))**2  -  1\n",
        "\n",
        "def f2(x1, x2):\n",
        "    return x1**2*x2**3  -  7*x1**3*x2**3  -  7"
      ]
    },
    {
      "cell_type": "code",
      "source": [
        "a = (x1**2 + x1 + x2**2 - 1)**2/(4*x2**2) + x1\n",
        "b = (x1**2 + x1 + x2**2 - 1)**2/(4*x2**2) - x1\n",
        "simplify(a),\n",
        "together(a),\n",
        "simplify(b),together(b), apart(a, x1)"
      ],
      "metadata": {
        "id": "rnv_1PA5NZVX",
        "colab": {
          "base_uri": "https://localhost:8080/",
          "height": 89
        },
        "outputId": "ae69d4d6-baf4-4c5f-e063-2be8f26c0924"
      },
      "execution_count": 102,
      "outputs": [
        {
          "output_type": "execute_result",
          "data": {
            "text/plain": [
              "⎛                          2                                   2              \n",
              "⎜      ⎛  2          2    ⎞            2   ⎛  2          2    ⎞      4       3\n",
              "⎜      ⎝x₁  + x₁ + x₂  - 1⎠   - 4⋅x₁⋅x₂  + ⎝x₁  + x₁ + x₂  - 1⎠    x₁      x₁ \n",
              "⎜-x₁ + ─────────────────────, ──────────────────────────────────, ───── + ────\n",
              "⎜                  2                            2                     2       \n",
              "⎝              4⋅x₂                         4⋅x₂                  4⋅x₂    2⋅x₂\n",
              "\n",
              "                                                      ⎞\n",
              "      2 ⎛    2    ⎞      ⎛    2    ⎞     4       2    ⎟\n",
              "    x₁ ⋅⎝2⋅x₂  - 1⎠   x₁⋅⎝3⋅x₂  - 1⎠   x₂  - 2⋅x₂  + 1⎟\n",
              "─ + ─────────────── + ────────────── + ───────────────⎟\n",
              "2            2                2                 2     ⎟\n",
              "         4⋅x₂             2⋅x₂              4⋅x₂      ⎠"
            ],
            "image/png": "[encoded data removed]",
            "text/latex": "$\\displaystyle \\left( - x_{1} + \\frac{\\left(x_{1}^{2} + x_{1} + x_{2}^{2} - 1\\right)^{2}}{4 x_{2}^{2}}, \\  \\frac{- 4 x_{1} x_{2}^{2} + \\left(x_{1}^{2} + x_{1} + x_{2}^{2} - 1\\right)^{2}}{4 x_{2}^{2}}, \\  \\frac{x_{1}^{4}}{4 x_{2}^{2}} + \\frac{x_{1}^{3}}{2 x_{2}^{2}} + \\frac{x_{1}^{2} \\left(2 x_{2}^{2} - 1\\right)}{4 x_{2}^{2}} + \\frac{x_{1} \\left(3 x_{2}^{2} - 1\\right)}{2 x_{2}^{2}} + \\frac{x_{2}^{4} - 2 x_{2}^{2} + 1}{4 x_{2}^{2}}\\right)$"
          },
          "metadata": {},
          "execution_count": 102
        }
      ]
    },
    {
      "cell_type": "code",
      "source": [
        "apart(b, x1)"
      ],
      "metadata": {
        "id": "AjXtj_8ybY6_",
        "colab": {
          "base_uri": "https://localhost:8080/",
          "height": 60
        },
        "outputId": "e1761937-6444-419d-8a09-9c0d27f674e7"
      },
      "execution_count": 103,
      "outputs": [
        {
          "output_type": "execute_result",
          "data": {
            "text/plain": [
              "   4       3      2 ⎛    2    ⎞      ⎛    2    ⎞     4       2    \n",
              " x₁      x₁     x₁ ⋅⎝2⋅x₂  - 1⎠   x₁⋅⎝- x₂  - 1⎠   x₂  - 2⋅x₂  + 1\n",
              "───── + ───── + ─────────────── + ────────────── + ───────────────\n",
              "    2       2            2                2                 2     \n",
              "4⋅x₂    2⋅x₂         4⋅x₂             2⋅x₂              4⋅x₂      "
            ],
            "image/png": "[encoded data removed]",
            "text/latex": "$\\displaystyle \\frac{x_{1}^{4}}{4 x_{2}^{2}} + \\frac{x_{1}^{3}}{2 x_{2}^{2}} + \\frac{x_{1}^{2} \\left(2 x_{2}^{2} - 1\\right)}{4 x_{2}^{2}} + \\frac{x_{1} \\left(- x_{2}^{2} - 1\\right)}{2 x_{2}^{2}} + \\frac{x_{2}^{4} - 2 x_{2}^{2} + 1}{4 x_{2}^{2}}$"
          },
          "metadata": {},
          "execution_count": 103
        }
      ]
    },
    {
      "cell_type": "code",
      "source": [
        "F1X1 = diff(F1,x1)\n",
        "F1X2 = diff(F1,x2)\n",
        "F2X1 = diff(F2,x1)\n",
        "F2X2 = diff(F2,x2)\n",
        "\n",
        "J = sm.Matrix([[F1X1,F1X2],[F2X1,F2X2]])\n",
        "J"
      ],
      "metadata": {
        "id": "K-lRRCsFbjWF",
        "colab": {
          "base_uri": "https://localhost:8080/",
          "height": 73
        },
        "outputId": "4d959d55-f52f-40ed-9eb7-a1a9039fd948"
      },
      "execution_count": 104,
      "outputs": [
        {
          "output_type": "execute_result",
          "data": {
            "text/plain": [
              "⎡       ⎛         0.5⎞ ⎛        d                    d         ⎞     -0.5     \n",
              "⎢       ⎝x₂ - │x₁│   ⎠⋅⎜re(x₁)⋅───(re(x₁)) + im(x₁)⋅───(im(x₁))⎟⋅│x₁│    ⋅sign\n",
              "⎢                      ⎝       dx₁                  dx₁        ⎠              \n",
              "⎢2⋅x₁ - ──────────────────────────────────────────────────────────────────────\n",
              "⎢                                           x₁                                \n",
              "⎢                                                                             \n",
              "⎢                                    2   3          3                         \n",
              "⎣                             - 21⋅x₁ ⋅x₂  + 2⋅x₁⋅x₂                          \n",
              "\n",
              "                              ⎤\n",
              "(x₁)                          ⎥\n",
              "                       0.5    ⎥\n",
              "────      2⋅x₂ - 2⋅│x₁│       ⎥\n",
              "                              ⎥\n",
              "                              ⎥\n",
              "             3   2       2   2⎥\n",
              "      - 21⋅x₁ ⋅x₂  + 3⋅x₁ ⋅x₂ ⎦"
            ],
            "text/latex": "$\\displaystyle \\left[\\begin{matrix}2 x_{1} - \\frac{1.0 \\left(x_{2} - \\left|{x_{1}}\\right|^{0.5}\\right) \\left(\\operatorname{re}{\\left(x_{1}\\right)} \\frac{d}{d x_{1}} \\operatorname{re}{\\left(x_{1}\\right)} + \\operatorname{im}{\\left(x_{1}\\right)} \\frac{d}{d x_{1}} \\operatorname{im}{\\left(x_{1}\\right)}\\right) \\operatorname{sign}{\\left(x_{1} \\right)}}{x_{1} \\left|{x_{1}}\\right|^{0.5}} & 2 x_{2} - 2 \\left|{x_{1}}\\right|^{0.5}\\\\- 21 x_{1}^{2} x_{2}^{3} + 2 x_{1} x_{2}^{3} & - 21 x_{1}^{3} x_{2}^{2} + 3 x_{1}^{2} x_{2}^{2}\\end{matrix}\\right]$"
          },
          "metadata": {},
          "execution_count": 104
        }
      ]
    },
    {
      "cell_type": "code",
      "source": [
        "F1X1A = diff(F1x1a,x1)\n",
        "F1X1B = diff(F1x1b,x1)\n",
        "F1X2A = diff(F1x1a, x2)\n",
        "F1X2B = diff(F1x1b, x2)\n",
        "\n",
        "Ja = sm.Matrix([[F1X1A,F1X2A],[F2X1,F2X2]])\n",
        "Ja"
      ],
      "metadata": {
        "id": "mtejwRPBb6pd",
        "colab": {
          "base_uri": "https://localhost:8080/",
          "height": 70
        },
        "outputId": "fb309662-5474-429e-debc-2debcab59000"
      },
      "execution_count": 105,
      "outputs": [
        {
          "output_type": "execute_result",
          "data": {
            "text/plain": [
              "⎡  3       2      ⎛    2    ⎞       2           4      3     2     2 ⎛    2   \n",
              "⎢x₁    3⋅x₁    x₁⋅⎝2⋅x₂  - 1⎠   3⋅x₂  - 1     x₁     x₁    x₁    x₁ ⋅⎝2⋅x₂  - \n",
              "⎢─── + ───── + ────────────── + ─────────  - ───── - ─── + ─── - ─────────────\n",
              "⎢  2       2           2              2          3     3    x₂            3   \n",
              "⎢x₂    2⋅x₂        2⋅x₂           2⋅x₂       2⋅x₂    x₂               2⋅x₂    \n",
              "⎢                                                                             \n",
              "⎢               2   3          3                                              \n",
              "⎣        - 21⋅x₁ ⋅x₂  + 2⋅x₁⋅x₂                                               \n",
              "\n",
              " ⎞             ⎛    2    ⎞       3            4       2    ⎤\n",
              "1⎠   3⋅x₁   x₁⋅⎝3⋅x₂  - 1⎠   4⋅x₂  - 4⋅x₂   x₂  - 2⋅x₂  + 1⎥\n",
              "── + ──── - ────────────── + ──────────── - ───────────────⎥\n",
              "      x₂           3                2                3     ⎥\n",
              "                 x₂             4⋅x₂             2⋅x₂      ⎥\n",
              "                                                           ⎥\n",
              "       3   2       2   2                                   ⎥\n",
              "- 21⋅x₁ ⋅x₂  + 3⋅x₁ ⋅x₂                                    ⎦"
            ],
            "text/latex": "$\\displaystyle \\left[\\begin{matrix}\\frac{x_{1}^{3}}{x_{2}^{2}} + \\frac{3 x_{1}^{2}}{2 x_{2}^{2}} + \\frac{x_{1} \\left(2 x_{2}^{2} - 1\\right)}{2 x_{2}^{2}} + \\frac{3 x_{2}^{2} - 1}{2 x_{2}^{2}} & - \\frac{x_{1}^{4}}{2 x_{2}^{3}} - \\frac{x_{1}^{3}}{x_{2}^{3}} + \\frac{x_{1}^{2}}{x_{2}} - \\frac{x_{1}^{2} \\left(2 x_{2}^{2} - 1\\right)}{2 x_{2}^{3}} + \\frac{3 x_{1}}{x_{2}} - \\frac{x_{1} \\left(3 x_{2}^{2} - 1\\right)}{x_{2}^{3}} + \\frac{4 x_{2}^{3} - 4 x_{2}}{4 x_{2}^{2}} - \\frac{x_{2}^{4} - 2 x_{2}^{2} + 1}{2 x_{2}^{3}}\\\\- 21 x_{1}^{2} x_{2}^{3} + 2 x_{1} x_{2}^{3} & - 21 x_{1}^{3} x_{2}^{2} + 3 x_{1}^{2} x_{2}^{2}\\end{matrix}\\right]$"
          },
          "metadata": {},
          "execution_count": 105
        }
      ]
    },
    {
      "cell_type": "code",
      "source": [
        "Jb = sm.Matrix([[F1X1B,F1X2B],[F2X1,F2X2]])\n",
        "Jb"
      ],
      "metadata": {
        "id": "AtRJ2DP0c9fn",
        "colab": {
          "base_uri": "https://localhost:8080/",
          "height": 70
        },
        "outputId": "d679fc5a-eafe-47a7-dfb7-4cf82359deff"
      },
      "execution_count": 106,
      "outputs": [
        {
          "output_type": "execute_result",
          "data": {
            "text/plain": [
              "⎡  3       2      ⎛    2    ⎞       2           4      3     2     2 ⎛    2   \n",
              "⎢x₁    3⋅x₁    x₁⋅⎝2⋅x₂  - 1⎠   - x₂  - 1     x₁     x₁    x₁    x₁ ⋅⎝2⋅x₂  - \n",
              "⎢─── + ───── + ────────────── + ─────────  - ───── - ─── + ─── - ─────────────\n",
              "⎢  2       2           2              2          3     3    x₂            3   \n",
              "⎢x₂    2⋅x₂        2⋅x₂           2⋅x₂       2⋅x₂    x₂               2⋅x₂    \n",
              "⎢                                                                             \n",
              "⎢               2   3          3                                              \n",
              "⎣        - 21⋅x₁ ⋅x₂  + 2⋅x₁⋅x₂                                              -\n",
              "\n",
              " ⎞           ⎛    2    ⎞       3            4       2    ⎤\n",
              "1⎠   x₁   x₁⋅⎝- x₂  - 1⎠   4⋅x₂  - 4⋅x₂   x₂  - 2⋅x₂  + 1⎥\n",
              "── - ── - ────────────── + ──────────── - ───────────────⎥\n",
              "     x₂          3                2                3     ⎥\n",
              "               x₂             4⋅x₂             2⋅x₂      ⎥\n",
              "                                                         ⎥\n",
              "      3   2       2   2                                  ⎥\n",
              " 21⋅x₁ ⋅x₂  + 3⋅x₁ ⋅x₂                                   ⎦"
            ],
            "text/latex": "$\\displaystyle \\left[\\begin{matrix}\\frac{x_{1}^{3}}{x_{2}^{2}} + \\frac{3 x_{1}^{2}}{2 x_{2}^{2}} + \\frac{x_{1} \\left(2 x_{2}^{2} - 1\\right)}{2 x_{2}^{2}} + \\frac{- x_{2}^{2} - 1}{2 x_{2}^{2}} & - \\frac{x_{1}^{4}}{2 x_{2}^{3}} - \\frac{x_{1}^{3}}{x_{2}^{3}} + \\frac{x_{1}^{2}}{x_{2}} - \\frac{x_{1}^{2} \\left(2 x_{2}^{2} - 1\\right)}{2 x_{2}^{3}} - \\frac{x_{1}}{x_{2}} - \\frac{x_{1} \\left(- x_{2}^{2} - 1\\right)}{x_{2}^{3}} + \\frac{4 x_{2}^{3} - 4 x_{2}}{4 x_{2}^{2}} - \\frac{x_{2}^{4} - 2 x_{2}^{2} + 1}{2 x_{2}^{3}}\\\\- 21 x_{1}^{2} x_{2}^{3} + 2 x_{1} x_{2}^{3} & - 21 x_{1}^{3} x_{2}^{2} + 3 x_{1}^{2} x_{2}^{2}\\end{matrix}\\right]$"
          },
          "metadata": {},
          "execution_count": 106
        }
      ]
    },
    {
      "cell_type": "code",
      "source": [
        "def fun(x):\n",
        "    f = np.zeros(2)\n",
        "    f[0] = f1(x[0],x[1])\n",
        "    f[1] = f2(x[0],x[1])\n",
        "    return f \n",
        "\n",
        "def jac(x):\n",
        "    JJ = J.subs({x1:x[0],x2:x[1]}).n()\n",
        "    print(JJ[0,0], JJ[1,0], JJ[0,1], JJ[1,1])\n",
        "    M = np.array( [[float(JJ[0,0]), float(JJ[0,1])], [float(JJ[1,0]), float(JJ[1,1])]] )\n",
        "    return M\n",
        "\n",
        "def jacA(x):\n",
        "    JJ = Ja.subs({x1:x[0],x2:x[1]}).n()\n",
        "    print(JJ[0,0], JJ[1,0], JJ[0,1], JJ[1,1])\n",
        "    M = np.array( [[float(JJ[0,0]), float(JJ[0,1])], [float(JJ[1,0]), float(JJ[1,1])]] )\n",
        "    return M\n",
        "\n",
        "def jacB(x):\n",
        "    JJ = Jb.subs({x1:x[0],x2:x[1]}).n()\n",
        "    print(JJ[0,0], JJ[1,0], JJ[0,1], JJ[1,1])\n",
        "    M = np.array( [[float(JJ[0,0]), float(JJ[0,1])], [float(JJ[1,0]), float(JJ[1,1])]] )\n",
        "    return M\n",
        "\n",
        "def NEWTON(n, fun, jac, x0, pr=0, tol=1.0e-5): \n",
        "    x = np.zeros(n)\n",
        "    b = np.zeros(n)\n",
        "    A = np.zeros((n,n)) \n",
        "    dx = np.zeros(n)\n",
        "    xStep = np.zeros((1000,n))\n",
        "    Error=2\n",
        "    i=0\n",
        "    x[:]=x0[:]\n",
        "    xStep[i][:]=x[:]\n",
        "    while Error>tol and i<999:\n",
        "        Error0=Error \n",
        "#        x0[:]=x[:]\n",
        "        b=-fun(x)\n",
        "        A=jac(x)\n",
        "        print(A)\n",
        "        dx = np.dot(linalg.pinv(A),b) # ошибка\n",
        "        x[:]=x[:]+dx[:]\n",
        "        Error=math.sqrt(np.dot(dx.T,dx))\n",
        "        k=sm.log(Error)/sm.log(Error0)\n",
        "        i=i+1\n",
        "        xStep[i][:]=x[:]\n",
        "        if pr>0:\n",
        "            if i>1: print('итерация:\\t%i \\t%.6e \\t ' %(i, Error), k)\n",
        "            else:   print('итерация:\\t%i \\t%.6e \\t ' %(i, Error))\n",
        "    return x, xStep, i"
      ],
      "metadata": {
        "id": "ptUPscHddB3o"
      },
      "execution_count": 107,
      "outputs": []
    },
    {
      "cell_type": "code",
      "source": [
        "x10=0\n",
        "x20=2\n",
        "\n",
        "X0 = np.array([x10, x20])\n",
        "#sol, xStep, iStep = NEWTON(2, fun, jac, X0, pr=1, tol=1.0e-10)\n",
        "solA, xStepA, iStepA = NEWTON(2, fun, jacA, X0, pr=1, tol=1.0e-10)\n",
        "#solB, xStepB, iStepB = NEWTON(2, fun, jacB, X0, pr=1, tol=1.0e-10)\n",
        "\n",
        "A = -2\n",
        "B = 2\n",
        "N = 1000\n",
        "f1p = np.zeros((N))\n",
        "f2p = np.zeros((N))\n",
        "x = np.linspace(A, B, N)\n",
        "for i in range(N): \n",
        "    f1p[i] = f1r(x[i])\n",
        "    f2p[i] = f2r(x[i])\n",
        "\n",
        "plt.figure(figsize=(6,5))\n",
        "plt.plot(x, f1p, x, f2p)\n",
        "plt.plot(solA[0], solA[1], 'o')\n",
        "plt.xlabel('x1')\n",
        "plt.ylabel('x2')\n",
        "plt.grid(True)\n",
        "plt.show()"
      ],
      "metadata": {
        "id": "fiiZ0MnBdaYt",
        "colab": {
          "base_uri": "https://localhost:8080/",
          "height": 1000
        },
        "outputId": "9c623543-e9d3-426a-f42c-aaae6a954817"
      },
      "execution_count": 108,
      "outputs": [
        {
          "output_type": "stream",
          "name": "stdout",
          "text": [
            "1.37500000000000 0 0.937500000000000 0\n",
            "[[1.375  0.9375]\n",
            " [0.     0.    ]]\n",
            "итерация:\t1 \t1.802678e+00 \t \n",
            "0.287274940271424 -47.2934052219580 0.453745837984261 73.6999838375793\n",
            "[[  0.28727494   0.45374584]\n",
            " [-47.29340522  73.69998384]]\n",
            "итерация:\t2 \t2.941540e+00 \t  1.83095580396573\n",
            "-59.5209132540163 143.503142385463 110.880688409973 730.848909463086\n",
            "[[-59.52091325 110.88068841]\n",
            " [143.50314239 730.84890946]]\n",
            "итерация:\t3 \t8.015290e-01 \t  -0.205048982169989\n",
            "-33.0048163565550 57.4451219004209 49.2454506603938 271.601838157538\n",
            "[[-33.00481636  49.24545066]\n",
            " [ 57.4451219  271.60183816]]\n",
            "итерация:\t4 \t7.920376e-01 \t  1.05384455381405\n",
            "-10.7496529298987 21.8919243090673 8.89526059409724 87.6296001295150\n",
            "[[-10.74965293   8.89526059]\n",
            " [ 21.89192431  87.62960013]]\n",
            "итерация:\t5 \t1.133958e+00 \t  -0.539207331144927\n",
            "1.91126274849852 6.02483320471223 1.44475028340929 12.0777662011367\n",
            "[[ 1.91126275  1.44475028]\n",
            " [ 6.0248332  12.0777662 ]]\n",
            "итерация:\t6 \t4.526424e+00 \t  12.0108261567222\n",
            "-21.7394007678105 -4170.81409765540 -17.3218866746953 10025.9237453209\n",
            "[[  -21.73940077   -17.32188667]\n",
            " [-4170.81409766 10025.92374532]]\n",
            "итерация:\t7 \t1.448613e+00 \t  0.245446042902505\n",
            "-7.21094982120492 -1846.56896429807 -2.36035889588968 3239.27383065375\n",
            "[[-7.21094982e+00 -2.36035890e+00]\n",
            " [-1.84656896e+03  3.23927383e+03]]\n",
            "итерация:\t8 \t1.662868e+00 \t  1.37219249382812\n",
            "-0.319168190502898 -757.223052716844 1.11573109067618 605.239607444270\n",
            "[[-3.19168191e-01  1.11573109e+00]\n",
            " [-7.57223053e+02  6.05239607e+02]]\n",
            "итерация:\t9 \t2.797213e+00 \t  2.02268374993309\n",
            "-355.423004201250 1.73609045664502 1861.24892669369 27.0586852270868\n",
            "[[-3.55423004e+02  1.86124893e+03]\n",
            " [ 1.73609046e+00  2.70586852e+01]]\n",
            "итерация:\t10 \t1.341799e+00 \t  0.285829737515878\n",
            "-348.955455676448 -0.00421529509637246 -1427.74409640285 0.198049882518585\n",
            "[[-3.48955456e+02 -1.42774410e+03]\n",
            " [-4.21529510e-03  1.98049883e-01]]\n",
            "итерация:\t11 \t1.368792e+02 \t  16.7309907027513\n",
            "-2418.31418908388 -13148819884.3133 -4697.17109882183 54469714405.4539\n",
            "[[-2.41831419e+03 -4.69717110e+03]\n",
            " [-1.31488199e+10  5.44697144e+10]]\n",
            "итерация:\t12 \t2.304730e+01 \t  0.637829938473184\n",
            "-2016.38692454034 -5280873782.37558 -3918.67489790225 21903966821.2294\n",
            "[[-2.01638692e+03 -3.91867490e+03]\n",
            " [-5.28087378e+09  2.19039668e+10]]\n",
            "итерация:\t13 \t1.921418e+01 \t  0.942024793035032\n",
            "-1680.67263519768 -2120855942.34930 -3267.70088242043 8808541278.47812\n",
            "[[-1.68067264e+03 -3.26770088e+03]\n",
            " [-2.12085594e+09  8.80854128e+09]]\n",
            "итерация:\t14 \t1.602006e+01 \t  0.938488276875436\n",
            "-1400.11923974366 -851744403.249761 -2722.94314717718 3542357909.74719\n",
            "[[-1.40011924e+03 -2.72294315e+03]\n",
            " [-8.51744403e+08  3.54235791e+09]]\n",
            "итерация:\t15 \t1.335844e+01 \t  0.934497700380151\n",
            "-1165.51613708056 -342065931.527789 -2266.64576000384 1424552622.53875\n",
            "[[-1.16551614e+03 -2.26664576e+03]\n",
            " [-3.42065932e+08  1.42455262e+09]]\n",
            "итерация:\t16 \t1.114060e+01 \t  0.929960538362285\n",
            "-969.187422307432 -137381082.857149 -1884.01229483827 572859474.798404\n",
            "[[-9.69187422e+02 -1.88401229e+03]\n",
            " [-1.37381083e+08  5.72859475e+08]]\n",
            "итерация:\t17 \t9.292583e+00 \t  0.924757512515951\n",
            "-804.736330380315 -55179890.4978578 -1562.71449808827 230346258.203530\n",
            "[[-8.04736330e+02 -1.56271450e+03]\n",
            " [-5.51798905e+07  2.30346258e+08]]\n",
            "итерация:\t18 \t7.752793e+00 \t  0.918732267716044\n",
            "-666.832425485584 -22166640.1821673 -1292.48391721734 92608198.1851250\n",
            "[[-6.66832425e+02 -1.29248392e+03]\n",
            " [-2.21666402e+07  9.26081982e+07]]\n",
            "итерация:\t19 \t6.469901e+00 \t  0.911675938703655\n",
            "-551.034479225103 -8906835.15456800 -1064.77312213310 37223187.5770163\n",
            "[[-5.51034479e+02 -1.06477312e+03]\n",
            " [-8.90683515e+06  3.72231876e+07]]\n",
            "итерация:\t20 \t5.401155e+00 \t  0.903303426293288\n",
            "-453.643193523759 -3580187.96584953 -872.475581807900 14956118.5668775\n",
            "[[-4.53643194e+02 -8.72475582e+02]\n",
            " [-3.58018797e+06  1.49561186e+07]]\n",
            "итерация:\t21 \t4.510956e+00 \t  0.893215765091817\n",
            "-371.578944517658 -1439866.16669983 -709.695342503242 6006057.41529031\n",
            "[[-3.71578945e+02 -7.09695343e+02]\n",
            " [-1.43986617e+06  6.00605742e+06]]\n",
            "итерация:\t22 \t3.769683e+00 \t  0.880838196302112\n",
            "-302.280606100068 -579530.380578856 -571.559512530594 2410010.69565664\n",
            "[[-3.02280606e+02 -5.71559513e+02]\n",
            " [-5.79530381e+05  2.41001070e+06]]\n",
            "итерация:\t23 \t3.152713e+00 \t  0.865313770818495\n",
            "-243.622295075732 -233514.187377639 -454.068260277404 965954.553091295\n",
            "[[-2.43622295e+02 -4.54068260e+02]\n",
            " [-2.33514187e+05  9.65954553e+05]]\n",
            "итерация:\t24 \t2.639632e+00 \t  0.845310862121027\n",
            "-193.845624633576 -94240.8850350585 -353.978674168171 386531.637273567\n",
            "[[-1.93845625e+02 -3.53978674e+02]\n",
            " [-9.42408850e+04  3.86531637e+05]]\n",
            "итерация:\t25 \t2.213591e+00 \t  0.818652259507573\n",
            "-151.505852113018 -38120.0699391352 -268.720504832862 154305.424398472\n",
            "[[-1.51505852e+02 -2.68720505e+02]\n",
            " [-3.81200699e+04  1.54305424e+05]]\n",
            "итерация:\t26 \t1.860836e+00 \t  0.781541661491693\n",
            "-115.431346997051 -15470.5494822125 -196.343582063215 61383.0022583994\n",
            "[[  -115.431347     -196.34358206]\n",
            " [-15470.54948221  61383.0022584 ]]\n",
            "итерация:\t27 \t1.570426e+00 \t  0.726776300524534\n",
            "-84.6975141240560 -6309.62350795524 -135.498489121917 24287.3770949405\n",
            "[[  -84.69751412  -135.49848912]\n",
            " [-6309.62350796 24287.37709494]]\n",
            "итерация:\t28 \t1.334303e+00 \t  0.638995831926931\n",
            "-58.6197883866468 -2593.19724235044 -85.4530052210577 9527.40979006740\n",
            "[[  -58.61978839   -85.45300522]\n",
            " [-2593.19724235  9527.40979007]]\n",
            "итерация:\t29 \t1.148185e+00 \t  0.479119636790696\n",
            "-36.7786590726163 -1079.35375439116 -46.1419821507703 3682.03605513657\n",
            "[[  -36.77865907   -46.14198215]\n",
            " [-1079.35375439  3682.03605514]]\n",
            "итерация:\t30 \t1.015299e+00 \t  0.109878029801626\n",
            "-19.1119697079758 -459.458016395944 -18.2113830468940 1381.03431144870\n",
            "[[ -19.11196971  -18.21138305]\n",
            " [-459.4580164  1381.03431145]]\n",
            "итерация:\t31 \t9.641162e-01 \t  -2.40683817313443\n",
            "-6.16955089003387 -203.794072319884 -2.79727350702555 477.476300921318\n",
            "[[  -6.16955089   -2.79727351]\n",
            " [-203.79407232  477.47630092]]\n",
            "итерация:\t32 \t1.202452e+00 \t  -5.04501902215900\n",
            "0.368606193736741 -88.5246634043448 0.582865747486535 99.6699894150456\n",
            "[[  0.36860619   0.58286575]\n",
            " [-88.5246634   99.66998942]]\n",
            "итерация:\t33 \t1.360910e+00 \t  1.67145484736562\n",
            "-82.5649420743016 -0.696301994638569 -214.135686883008 8.40598040785976\n",
            "[[ -82.56494207 -214.13568688]\n",
            " [  -0.69630199    8.40598041]]\n",
            "итерация:\t34 \t1.691538e+00 \t  1.70576607346460\n",
            "-47.5606392428407 -173.847995703616 -78.7328833323231 802.652635353366\n",
            "[[ -47.56063924  -78.73288333]\n",
            " [-173.8479957   802.65263535]]\n",
            "итерация:\t35 \t6.762251e-01 \t  -0.744293663761172\n",
            "-30.8443973160028 -73.1589650595718 -43.8559073455317 327.728727509088\n",
            "[[-30.84439732 -43.85590735]\n",
            " [-73.15896506 327.72872751]]\n",
            "итерация:\t36 \t5.918751e-01 \t  1.34054320433420\n",
            "-15.9079631177242 -33.3658880529825 -16.5129209424743 137.865114679627\n",
            "[[-15.90796312 -16.51292094]\n",
            " [-33.36588805 137.86511468]]\n",
            "итерация:\t37 \t5.814056e-01 \t  1.03402918634596\n",
            "-3.70252394289909 -18.4928752068847 -1.24529819862394 60.6573651580277\n",
            "[[ -3.70252394  -1.2452982 ]\n",
            " [-18.49287521  60.65736516]]\n",
            "итерация:\t38 \t1.172587e+00 \t  -0.293583191611357\n",
            "1.16183096941148 -9.81414402929715 -0.596143497554771 9.51990069600841\n",
            "[[ 1.16183097 -0.5961435 ]\n",
            " [-9.81414403  9.5199007 ]]\n",
            "итерация:\t39 \t1.977925e+00 \t  4.28389682574972\n",
            "1.76361253284898 -26.4593966528598 1.23332794932602 -2.89029909078285\n",
            "[[  1.76361253   1.23332795]\n",
            " [-26.45939665  -2.89029909]]\n",
            "итерация:\t40 \t2.981996e+00 \t  1.60192892447702\n",
            "-0.153842719950499 0.168281456778256 1.21207223768543 -0.0813630132634470\n",
            "[[-0.15384272  1.21207224]\n",
            " [ 0.16828146 -0.08136301]]\n",
            "итерация:\t41 \t4.472421e+01 \t  3.47843645994759\n",
            "3265.39951860744 -6380336.40783239 -13584.8867631223 -53238522.9695937\n",
            "[[ 3.26539952e+03 -1.35848868e+04]\n",
            " [-6.38033641e+06 -5.32385230e+07]]\n",
            "итерация:\t42 \t5.775463e+00 \t  0.461415994771218\n",
            "3456.00972691721 -2431401.71034210 -15875.7416768982 -22310112.0941657\n",
            "[[ 3.45600973e+03 -1.58757417e+04]\n",
            " [-2.43140171e+06 -2.23101121e+07]]\n",
            "итерация:\t43 \t4.934975e+00 \t  0.910316392237015\n",
            "3713.86076906425 -923218.216698432 -18943.7712576872 -9369742.08836121\n",
            "[[ 3.71386077e+03 -1.89437713e+04]\n",
            " [-9.23218217e+05 -9.36974209e+06]]\n",
            "итерация:\t44 \t4.237139e+00 \t  0.904494862155640\n",
            "4045.20487593329 -349433.914476460 -23025.0428375205 -3942494.32795573\n",
            "[[    4045.20487593   -23025.04283752]\n",
            " [ -349433.91447646 -3942494.32795573]]\n",
            "итерация:\t45 \t3.655372e+00 \t  0.897713536099031\n",
            "4457.96885771134 -131895.926769172 -28434.2708060386 -1661500.08015977\n",
            "[[    4457.96885771   -28434.27080604]\n",
            " [ -131895.92676917 -1661500.08015977]]\n",
            "итерация:\t46 \t3.167855e+00 \t  0.889566830873668\n",
            "4961.87117135439 -49670.3291171841 -35589.3566837576 -701116.446128224\n",
            "[[   4961.87117135  -35589.35668376]\n",
            " [ -49670.32911718 -701116.44612822]]\n",
            "итерация:\t47 \t2.756871e+00 \t  0.879486643586146\n",
            "5568.59744601453 -18670.0329068465 -45043.7267286941 -296158.286787615\n",
            "[[   5568.59744601  -45043.72672869]\n",
            " [ -18670.03290685 -296158.28678761]]\n",
            "итерация:\t48 \t2.408191e+00 \t  0.866659255854997\n",
            "6292.04720639873 -7007.06040379768 -57529.0536908308 -125196.252660651\n",
            "[[   6292.0472064   -57529.05369083]\n",
            " [  -7007.0604038  -125196.25266065]]\n",
            "итерация:\t49 \t2.110515e+00 \t  0.849872172408029\n",
            "7148.68819567754 -2626.55946664959 -74012.2761049431 -52951.1503965763\n",
            "[[  7148.68819568 -74012.27610494]\n",
            " [ -2626.55946665 -52951.15039658]]\n",
            "итерация:\t50 \t1.855013e+00 \t  0.827239582662911\n",
            "8158.13505724051 -983.388624246989 -95774.1628706236 -22398.0558143120\n",
            "[[  8158.13505724 -95774.16287062]\n",
            " [  -983.38862425 -22398.05581431]]\n",
            "итерация:\t51 \t1.635074e+00 \t  0.795750632324306\n",
            "9344.34540198589 -367.568887430370 -124527.418659730 -9467.93527803891\n",
            "[[   9344.34540199 -124527.41865973]\n",
            " [   -367.56888743   -9467.93527804]]\n",
            "итерация:\t52 \t1.446501e+00 \t  0.750776162328749\n",
            "10738.7973836457 -136.879864738305 -162632.147884870 -3991.27880946240\n",
            "[[ 1.07387974e+04 -1.62632148e+05]\n",
            " [-1.36879865e+02 -3.99127881e+03]]\n",
            "итерация:\t53 \t1.288831e+00 \t  0.687354568683796\n",
            "12390.5632073927 -50.4430536504140 -213626.338370846 -1667.81758268562\n",
            "[[ 1.23905632e+04 -2.13626338e+05]\n",
            " [-5.04430537e+01 -1.66781758e+03]]\n",
            "итерация:\t54 \t1.169839e+00 \t  0.618227930769766\n",
            "14402.4952379386 -18.0045276287701 -283997.916234221 -677.985299464205\n",
            "[[ 1.44024952e+04 -2.83997916e+05]\n",
            " [-1.80045276e+01 -6.77985299e+02]]\n",
            "итерация:\t55 \t1.121408e+00 \t  0.730460880574199\n",
            "17086.5757418570 -5.78633395217955 -391082.856717620 -251.754346240631\n",
            "[[ 1.70865757e+04 -3.91082857e+05]\n",
            " [-5.78633395e+00 -2.51754346e+02]]\n",
            "итерация:\t56 \t1.276501e+00 \t  2.13049927010652\n",
            "22023.3254633025 -1.22396659500987 -621887.789922229 -65.3091571518111\n",
            "[[ 2.20233255e+04 -6.21887790e+05]\n",
            " [-1.22396660e+00 -6.53091572e+01]]\n",
            "итерация:\t57 \t2.693408e+00 \t  4.05864823220063\n",
            "146274.888389902 -0.00207916644665337 -13407987.1944713 -0.356723792279972\n",
            "[[ 1.46274888e+05 -1.34079872e+07]\n",
            " [-2.07916645e-03 -3.56723792e-01]]\n",
            "итерация:\t58 \t1.172833e+03 \t  7.13274782147597\n",
            "-9784857.92033789 59849419480.4274 447572289.276634 5478406837675.82\n",
            "[[-9.78485792e+06  4.47572289e+08]\n",
            " [ 5.98494195e+10  5.47840684e+12]]\n",
            "итерация:\t59 \t1.300902e+02 \t  0.688850376884580\n",
            "-11349946.7114906 22253763974.2298 593141041.309861 2327377051762.31\n",
            "[[-1.13499467e+07  5.93141041e+08]\n",
            " [ 2.22537640e+10  2.32737705e+12]]\n",
            "итерация:\t60 \t1.155723e+02 \t  0.975693111411747\n",
            "-13168309.1316374 8274066745.92138 786295198.654274 988765329642.445\n",
            "[[-1.31683091e+07  7.86295199e+08]\n",
            " [ 8.27406675e+09  9.88765330e+11]]\n",
            "итерация:\t61 \t1.026878e+02 \t  0.975114628860656\n",
            "-15280619.2202115 3076182131.03994 1042595927.08552 420079008020.423\n",
            "[[-1.52806192e+07  1.04259593e+09]\n",
            " [ 3.07618213e+09  4.20079008e+11]]\n",
            "итерация:\t62 \t9.124873e+01 \t  0.974500795205008\n",
            "-17734125.3463492 1143632810.27572 1382694610.68135 178475236244.596\n",
            "[[-1.77341253e+07  1.38269461e+09]\n",
            " [ 1.14363281e+09  1.78475236e+11]]\n",
            "итерация:\t63 \t8.109002e+01 \t  0.973850266222827\n",
            "-20583709.8901522 425153394.787165 1833998562.73904 75828542847.5781\n",
            "[[-2.05837099e+07  1.83399856e+09]\n",
            " [ 4.25153395e+08  7.58285428e+10]]\n",
            "итерация:\t64 \t7.206644e+01 \t  0.973161213703209\n",
            "-23893120.7560566 158048820.358624 2432882148.05956 32217673267.3484\n",
            "[[-2.38931208e+07  2.43288215e+09]\n",
            " [ 1.58048820e+08  3.22176733e+10]]\n",
            "итерация:\t65 \t6.404981e+01 \t  0.972431338449648\n",
            "-27736402.6523921 58752293.2471399 3227622063.91308 13688682620.6366\n",
            "[[-2.77364027e+07  3.22762206e+09]\n",
            " [ 5.87522932e+07  1.36886826e+10]]\n",
            "итерация:\t66 \t5.692686e+01 \t  0.971657867445623\n",
            "-32199560.6719277 21839726.0991941 4282294187.78321 5816138389.49956\n",
            "[[-3.21995607e+07  4.28229419e+09]\n",
            " [ 2.18397261e+07  5.81613839e+09]]\n",
            "итерация:\t67 \t5.059736e+01 \t  0.970837535759213\n",
            "-37382494.0807809 8118181.31243373 5681947351.88185 2471230219.27531\n",
            "[[-3.73824941e+07  5.68194735e+09]\n",
            " [ 8.11818131e+06  2.47123022e+09]]\n",
            "итерация:\t68 \t4.497250e+01 \t  0.969966553289478\n",
            "-43401244.5049206 3017585.04294613 7539473012.33996 1050018777.96036\n",
            "[[-4.34012445e+07  7.53947301e+09]\n",
            " [ 3.01758504e+06  1.05001878e+09]]\n",
            "итерация:\t69 \t3.997355e+01 \t  0.969040555977952\n",
            "-50390610.0643954 1121628.90804142 10004727523.2036 446155712.783832\n",
            "[[-5.03906101e+07  1.00047275e+10]\n",
            " [ 1.12162891e+06  4.46155713e+08]]\n",
            "итерация:\t70 \t3.553067e+01 \t  0.968054540850549\n",
            "-58507185.6708103 416895.461686594 13276646910.7721 189575263.185720\n",
            "[[-5.85071857e+07  1.32766469e+10]\n",
            " [ 4.16895462e+05  1.89575263e+08]]\n",
            "итерация:\t71 \t3.158187e+01 \t  0.967002784875872\n",
            "-67932900.0246889 154950.342347047 17619337806.7512 80553254.1262445\n",
            "[[-6.79329000e+07  1.76193378e+10]\n",
            " [ 1.54950342e+05  8.05532541e+07]]\n",
            "итерация:\t72 \t2.807211e+01 \t  0.965878751221021\n",
            "-78879132.5348861 57589.6021910384 23383452974.4525 34228761.1792399\n",
            "[[-7.88791325e+07  2.33834530e+10]\n",
            " [ 5.75896022e+04  3.42287612e+07]]\n",
            "итерация:\t73 \t2.495254e+01 \t  0.964674999741559\n",
            "-91591510.2941638 21403.2664819856 31034593941.7095 14544752.2615358\n",
            "[[-9.15915103e+07  3.10345939e+10]\n",
            " [ 2.14032665e+04  1.45447523e+07]]\n",
            "итерация:\t74 \t2.217976e+01 \t  0.963383162717551\n",
            "-106355512.173330 7954.22338514239 41191068530.3139 6180568.75153373\n",
            "[[-1.06355512e+08  4.11910685e+10]\n",
            " [ 7.95422339e+03  6.18056875e+06]]\n",
            "итерация:\t75 \t1.971527e+01 \t  0.961994189457453\n",
            "-123503063.487022 2955.91629567895 54674140076.8011 2626368.97328808\n",
            "[[-1.23503063e+08  5.46741401e+10]\n",
            " [ 2.95591630e+03  2.62636897e+06]]\n",
            "итерация:\t76 \t1.752497e+01 \t  0.960499519000544\n",
            "-143420457.826079 1098.37638958466 72575101406.5240 1116043.29568177\n",
            "[[-1.43420458e+08  7.25751014e+10]\n",
            " [ 1.09837639e+03  1.11604330e+06]]\n",
            "итерация:\t77 \t1.557891e+01 \t  0.958895291810529\n",
            "-166558428.019386 408.077881688276 96345576620.6631 474220.752418444\n",
            "[[-1.66558428e+08  9.63455766e+10]\n",
            " [ 4.08077882e+02  4.74220752e+05]]\n",
            "итерация:\t78 \t1.385135e+01 \t  0.957196338589907\n",
            "-193446834.338071 151.556982542802 127922127277.629 201455.829619915\n",
            "[[-1.93446834e+08  1.27922127e+11]\n",
            " [ 1.51556983e+02  2.01455830e+05]]\n",
            "итерация:\t79 \t1.232181e+01 \t  0.955481460958566\n",
            "-224722178.862229 56.2311871369141 169910202319.783 85516.6397975681\n",
            "[[-2.24722179e+08  1.69910202e+11]\n",
            " [ 5.62311871e+01  8.55166398e+04]]\n",
            "итерация:\t80 \t1.097857e+01 \t  0.954038828002542\n",
            "-261196537.854492 20.8029689799361 225902651587.911 36215.6823557547\n",
            "[[-2.61196538e+08  2.25902652e+11]\n",
            " [ 2.08029690e+01  3.62156824e+04]]\n",
            "итерация:\t81 \t9.828930e+00 \t  0.953832212469565\n",
            "-304071107.962795 7.62983745351311 301207774233.415 15226.0189438984\n",
            "[[-3.04071108e+08  3.01207774e+11]\n",
            " [ 7.62983745e+00  1.52260189e+04]]\n",
            "итерация:\t82 \t8.929323e+00 \t  0.957997508831539\n",
            "-355693360.005272 2.72483498362490 405138083045.666 6258.49226571537\n",
            "[[-3.55693360e+08  4.05138083e+11]\n",
            " [ 2.72483498e+00  6.25849227e+03]]\n",
            "итерация:\t83 \t8.484288e+00 \t  0.976648444985274\n",
            "-422707306.170851 0.892668057854153 560703750403.184 2390.60067442557\n",
            "[[-4.22707306e+08  5.60703750e+11]\n",
            " [ 8.92668058e-01  2.39060067e+03]]\n",
            "итерация:\t84 \t9.287232e+00 \t  1.04228967803668\n",
            "-535398873.584868 0.210718886665450 869261272948.828 691.954169789277\n",
            "[[-5.35398874e+08  8.69261273e+11]\n",
            " [ 2.10718887e-01  6.91954170e+02]]\n",
            "итерация:\t85 \t1.664808e+01 \t  1.26188804431033\n",
            "-1374944579.43723 0.00390147083331115 4362710956513.24 25.1833212497160\n",
            "[[-1.37494458e+09  4.36271096e+12]\n",
            " [ 3.90147083e-03  2.51833212e+01]]\n",
            "итерация:\t86 \t5.951127e+02 \t  2.27172158015820\n",
            "5319537556.11160 -39889.2454125455 -8190217211942.36 -122711420.803056\n",
            "[[ 5.31953756e+09 -8.19021721e+12]\n",
            " [-3.98892454e+04 -1.22711421e+08]]\n",
            "итерация:\t87 \t6.231389e+01 \t  0.646790665407020\n",
            "6175576508.10548 -14830.8928382718 -10865958881300.4 -52133020.7226813\n",
            "[[ 6.17557651e+09 -1.08659589e+13]\n",
            " [-1.48308928e+04 -5.21330207e+07]]\n",
            "итерация:\t88 \t5.539018e+01 \t  0.971496400119615\n",
            "7169320341.14809 -5514.22007334627 -14415669892332.9 -22148121.1881645\n",
            "[[ 7.16932034e+09 -1.44156699e+13]\n",
            " [-5.51422007e+03 -2.21481212e+07]]\n",
            "итерация:\t89 \t4.923594e+01 \t  0.970661010119594\n",
            "8322910305.20487 -2050.24207236811 -19124739417675.7 -9409250.11167803\n",
            "[[ 8.32291031e+09 -1.91247394e+13]\n",
            " [-2.05024207e+03 -9.40925011e+06]]\n",
            "итерация:\t90 \t4.376595e+01 \t  0.969777013081829\n",
            "9662059535.74306 -762.299616215346 -25371787385083.1 -3997256.53029862\n",
            "[[ 9.66205954e+09 -2.53717874e+13]\n",
            " [-7.62299616e+02 -3.99725653e+06]]\n",
            "итерация:\t91 \t3.890495e+01 \t  0.968843856164184\n",
            "11216670258.1832 -283.419534661303 -33659364589012.6 -1698020.42266908\n",
            "[[ 1.12166703e+10 -3.36593646e+13]\n",
            " [-2.83419535e+02 -1.69802042e+06]]\n",
            "итерация:\t92 \t3.458732e+01 \t  0.967869271350292\n",
            "13021663514.2666 -105.357900822464 -44655558019619.5 -721195.816989614\n",
            "[[ 1.30216635e+10 -4.46555580e+13]\n",
            " [-1.05357901e+02 -7.21195817e+05]]\n",
            "итерация:\t93 \t3.075817e+01 \t  0.966888162797239\n",
            "15118342698.7831 -39.1456390906682 -59252786380585.7 -306167.622769704\n",
            "[[ 1.51183427e+10 -5.92527864e+13]\n",
            " [-3.91456391e+01 -3.06167623e+05]]\n",
            "итерация:\t94 \t2.737807e+01 \t  0.966022134214257\n",
            "17557392297.6341 -14.5214006213331 -78660431528052.2 -129794.764000580\n",
            "[[ 1.75573923e+10 -7.86604315e+13]\n",
            " [-1.45214006e+01 -1.29794764e+05]]\n",
            "итерация:\t95 \t2.443726e+01 \t  0.965667066362147\n",
            "20407413433.4718 -5.36054817908987 -104587477525301. -54792.2469056101\n",
            "[[ 2.04074134e+10 -1.04587478e+14]\n",
            " [-5.36054818e+00 -5.47922469e+04]]\n",
            "итерация:\t96 \t2.199709e+01 \t  0.967085351480906\n",
            "23783445610.3703 -1.94925991917359 -139735629459935. -22833.2307787468\n",
            "[[ 2.37834456e+10 -1.39735629e+14]\n",
            " [-1.94925992e+00 -2.28332308e+04]]\n",
            "итерация:\t97 \t2.031636e+01 \t  0.974284663450492\n",
            "27955260593.7796 -0.675927172870204 -189601682746713. -9136.16007080129\n",
            "[[ 2.79552606e+10 -1.89601683e+14]\n",
            " [-6.75927173e-01 -9.13616007e+03]]\n",
            "итерация:\t98 \t2.031960e+01 \t  1.00005301192029\n",
            "33867801900.8463 -0.199113213230491 -271645021511038. -3181.01061118947\n",
            "[[ 3.38678019e+10 -2.71645022e+14]\n",
            " [-1.99113213e-01 -3.18101061e+03]]\n",
            "итерация:\t99 \t2.635219e+01 \t  1.08632172927591\n",
            "48203960096.8367 -0.0273816240515173 -515770625181392. -582.970242937191\n",
            "[[ 4.82039601e+10 -5.15770625e+14]\n",
            " [-2.73816241e-02 -5.82970243e+02]]\n",
            "итерация:\t100 \t4.254505e-11 \t  -7.29942911765808\n"
          ]
        },
        {
          "output_type": "stream",
          "name": "stderr",
          "text": [
            "/usr/local/lib/python3.7/dist-packages/ipykernel_launcher.py:10: RuntimeWarning: invalid value encountered in double_scalars\n",
            "  # Remove the CWD from sys.path while we load stuff.\n",
            "/usr/local/lib/python3.7/dist-packages/ipykernel_launcher.py:13: RuntimeWarning: invalid value encountered in double_scalars\n",
            "  del sys.path[0]\n"
          ]
        },
        {
          "output_type": "display_data",
          "data": {
            "text/plain": [
              "<Figure size 432x360 with 1 Axes>"
            ],
            "image/png": "[encoded data removed]"
          },
          "metadata": {
            "needs_background": "light"
          }
        }
      ]
    },
    {
      "cell_type": "code",
      "source": [
        "x10=-10\n",
        "x20=-1\n",
        "\n",
        "X0 = np.array([x10, x20])\n",
        "\n",
        "solB, xStepB, iStepB = NEWTON(2, fun, jacB, X0, pr=1, tol=1.0e-10)\n",
        "\n",
        "A = -2\n",
        "B = 2\n",
        "N = 1000\n",
        "f1p = np.zeros((N))\n",
        "f2p = np.zeros((N))\n",
        "x = np.linspace(A, B, N)\n",
        "for i in range(N): \n",
        "    f1p[i] = f1r(x[i])\n",
        "    f2p[i] = f2r(x[i])\n",
        "\n",
        "plt.figure(figsize=(6,5))\n",
        "plt.plot(x, f1p, x, f2p)\n",
        "plt.plot(solB[0], solB[1], 'o')\n",
        "plt.xlabel('x1')\n",
        "plt.ylabel('x2')\n",
        "plt.grid(True)\n",
        "plt.show()"
      ],
      "metadata": {
        "id": "IBX3oFN0d4BS",
        "colab": {
          "base_uri": "https://localhost:8080/",
          "height": 1000
        },
        "outputId": "2d785888-dc1e-4228-b1c8-f34f5c44b25a"
      },
      "execution_count": 109,
      "outputs": [
        {
          "output_type": "stream",
          "name": "stdout",
          "text": [
            "-856.000000000000 2120.00000000000 3960.00000000000 21300.0000000000\n",
            "[[ -856.  3960.]\n",
            " [ 2120. 21300.]]\n",
            "итерация:\t1 \t1.250819e+00 \t \n",
            "-900.177872569010 801.559875508160 4581.40922216266 8953.95516942199\n",
            "[[-900.17787257 4581.40922216]\n",
            " [ 801.55987551 8953.95516942]]\n",
            "итерация:\t2 \t1.063588e+00 \t  0.275461131073017\n",
            "-965.029792490363 300.637070483214 5441.61751371878 3769.45049688705\n",
            "[[-965.02979249 5441.61751372]\n",
            " [ 300.63707048 3769.45049689]]\n",
            "итерация:\t3 \t9.118638e-01 \t  -1.49664117293612\n",
            "-1053.78072749797 111.369238781211 6628.60096993795 1582.73602350960\n",
            "[[-1053.7807275   6628.60096994]\n",
            " [  111.36923878  1582.73602351]]\n",
            "итерация:\t4 \t7.937325e-01 \t  2.50376374153665\n",
            "-1173.21016015701 40.1831234632528 8298.16295633635 654.939015586432\n",
            "[[-1173.21016016  8298.16295634]\n",
            " [   40.18312346   654.93901559]]\n",
            "итерация:\t5 \t7.169031e-01 \t  1.44070120902889\n",
            "-1341.76862919670 13.4841691498235 10818.8212335290 257.019510700093\n",
            "[[-1341.7686292  10818.82123353]\n",
            " [   13.48416915   257.0195107 ]]\n",
            "итерация:\t6 \t7.215138e-01 \t  0.980737489306750\n",
            "-1634.32120027350 3.52419119231052 15620.2496873338 82.7301210625622\n",
            "[[-1.63432120e+03  1.56202497e+04]\n",
            " [ 3.52419119e+00  8.27301211e+01]]\n",
            "итерация:\t7 \t1.047224e+00 \t  -0.141366401952349\n",
            "-2951.34741058680 0.211243941802733 42572.7350950261 8.30056565926903\n",
            "[[-2.95134741e+03  4.25727351e+04]\n",
            " [ 2.11243942e-01  8.30056566e+00]]\n",
            "итерация:\t8 \t9.249262e+00 \t  48.2102699276137\n",
            "762.519801194348 -108.715194368211 -4126.54784629726 -1116.10175217114\n",
            "[[  762.51980119 -4126.5478463 ]\n",
            " [ -108.71519437 -1116.10175217]]\n",
            "итерация:\t9 \t7.277148e-01 \t  -0.142881452426888\n",
            "848.506514123656 -39.7020882886271 -5140.45545534624 -454.035810644568\n",
            "[[  848.50651412 -5140.45545535]\n",
            " [  -39.70208829  -454.03581064]]\n",
            "итерация:\t10 \t6.682062e-01 \t  1.26840777384871\n",
            "968.635680770804 -13.3313712062767 -6658.37061910372 -172.312241473740\n",
            "[[  968.63568077 -6658.3706191 ]\n",
            " [  -13.33137121  -172.31224147]]\n",
            "итерация:\t11 \t7.018933e-01 \t  0.878002129759617\n",
            "1183.78292436052 -3.29026278512801 -9644.75260668964 -50.2991695132823\n",
            "[[ 1.18378292e+03 -9.64475261e+03]\n",
            " [-3.29026279e+00 -5.02991695e+01]]\n",
            "итерация:\t12 \t1.171645e+00 \t  -0.447514356561606\n",
            "2569.75034762778 -0.0912690247516882 -35131.9919816553 -2.37475865461363\n",
            "[[ 2.56975035e+03 -3.51319920e+04]\n",
            " [-9.12690248e-02 -2.37475865e+00]]\n",
            "итерация:\t13 \t2.676514e+01 \t  20.7507939848362\n",
            "-3892.01830983625 79964.2258068069 24638.8188620721 1044750.96786866\n",
            "[[  -3892.01830984   24638.81886207]\n",
            " [  79964.22580681 1044750.96786866]]\n",
            "итерация:\t14 \t2.892761e+00 \t  0.323145388629347\n",
            "-4293.15988604864 30045.2089925196 30486.7029544432 441411.698286342\n",
            "[[ -4293.15988605  30486.70295444]\n",
            " [ 30045.20899252 441411.69828634]]\n",
            "итерация:\t15 \t2.503529e+00 \t  0.863953652753055\n",
            "-4788.91272497550 11252.5471343211 38307.0357906787 186817.585749660\n",
            "[[ -4788.91272498  38307.03579068]\n",
            " [ 11252.54713432 186817.58574966]]\n",
            "итерация:\t16 \t2.176895e+00 \t  0.847660976219050\n",
            "-5391.75849562028 4202.28125246039 48750.1385402369 79177.3703038226\n",
            "[[-5391.75849562 48750.13854024]\n",
            " [ 4202.28125246 79177.37030382]]\n",
            "итерация:\t17 \t1.900790e+00 \t  0.825645841206998\n",
            "-6117.19418258178 1565.19659618113 62693.5071029555 33592.7472358635\n",
            "[[-6117.19418258 62693.50710296]\n",
            " [ 1565.19659618 33592.74723586]]\n",
            "итерация:\t18 \t1.665975e+00 \t  0.794698481835838\n",
            "-6984.57994188779 581.339034385936 81328.9996725845 14259.8035025803\n",
            "[[-6984.57994189 81328.99967258]\n",
            " [  581.33903439 14259.80350258]]\n",
            "итерация:\t19 \t1.465867e+00 \t  0.749292492589175\n",
            "-8019.02995175472 215.061226115867 106306.509116598 6048.54905158888\n",
            "[[ -8019.02995175 106306.5091166 ]\n",
            " [   215.06122612   6048.54905159]]\n",
            "итерация:\t20 \t1.297048e+00 \t  0.680071125696434\n",
            "-9256.71232649384 78.9237611506879 140032.174662966 2554.42962824786\n",
            "[[-9.25671233e+03  1.40032175e+05]\n",
            " [ 7.89237612e+01  2.55442963e+03]]\n",
            "итерация:\t21 \t1.161636e+00 \t  0.576063305283211\n",
            "-10762.5049126830 28.3632731936196 186512.745721509 1062.39252801628\n",
            "[[-1.07625049e+04  1.86512746e+05]\n",
            " [ 2.83632732e+01  1.06239253e+03]]\n",
            "итерация:\t22 \t1.075504e+00 \t  0.485816502809932\n",
            "-12699.0876601610 9.56954468382442 254606.216625678 420.028576399860\n",
            "[[-1.26990877e+04  2.54606217e+05]\n",
            " [ 9.56954468e+00  4.20028576e+02]]\n",
            "итерация:\t23 \t1.101794e+00 \t  1.33178010563437\n",
            "-15693.4821771795 2.58792192991268 376398.294078621 138.421417288639\n",
            "[[-1.56934822e+04  3.76398294e+05]\n",
            " [ 2.58792193e+00  1.38421417e+02]]\n",
            "итерация:\t24 \t1.582434e+00 \t  4.73454336263599\n",
            "-26041.2130477630 0.208193135670194 912723.219826523 17.0221421470514\n",
            "[[-2.60412130e+04  9.12723220e+05]\n",
            " [ 2.08193136e-01  1.70221421e+01]]\n",
            "итерация:\t25 \t1.065275e+01 \t  5.15469349887482\n",
            "3068.31102675332 -7.03677262135830 -35069.2596774837 -151.359059415902\n",
            "[[ 3.06831103e+03 -3.50692597e+04]\n",
            " [-7.03677262e+00 -1.51359059e+02]]\n",
            "итерация:\t26 \t9.449096e-01 \t  -0.0239519788100997\n",
            "4031.39065162114 -1.31753311744110 -57410.7325666507 -35.1622281269521\n",
            "[[ 4.03139065e+03 -5.74107326e+04]\n",
            " [-1.31753312e+00 -3.51622281e+01]]\n",
            "итерация:\t27 \t2.337821e+00 \t  -14.9863890924889\n",
            "131012.785967159 4.42159689488866e-5 13616057.4860213 -0.00910908609396246\n",
            "[[ 1.31012786e+05  1.36160575e+07]\n",
            " [ 4.42159689e-05 -9.10908609e-03]]\n",
            "итерация:\t28 \t5.308766e+04 \t  12.8114149137082\n",
            "573497810.179126 7.88724404687436e+18 29799639649.9098 -8.19728906240137e+20\n",
            "[[ 5.73497810e+08  2.97996396e+10]\n",
            " [ 7.88724405e+18 -8.19728906e+20]]\n",
            "итерация:\t29 \t5.905922e+03 \t  0.798157199402024\n",
            "665349890.825194 2.93271136564264e+18 39500944011.8954 -3.48243053823734e+20\n",
            "[[ 6.65349891e+08  3.95009440e+10]\n",
            " [ 2.93271137e+18 -3.48243054e+20]]\n",
            "итерация:\t30 \t5.247500e+03 \t  0.986387877778447\n",
            "772042276.895090 1.09042144945481e+18 52372458270.7254 -1.47946323913464e+20\n",
            "[[ 7.72042277e+08  5.23724583e+10]\n",
            " [ 1.09042145e+18 -1.47946324e+20]]\n",
            "итерация:\t31 \t4.662928e+03 \t  0.986211192034695\n",
            "895959657.550921 4.05419596067251e+17 69450486745.9186 -6.28540488647317e+19\n",
            "[[ 8.95959658e+08  6.94504867e+10]\n",
            " [ 4.05419596e+17 -6.28540489e+19]]\n",
            "итерация:\t32 \t4.143794e+03 \t  0.986027425559513\n",
            "1039869815.49995 1.50731440964553e+17 92109925042.3148 -2.67034861313908e+19\n",
            "[[ 1.03986982e+09  9.21099250e+10]\n",
            " [ 1.50731441e+17 -2.67034861e+19]]\n",
            "итерация:\t33 \t3.682672e+03 \t  0.985836481173368\n",
            "1206986434.72965 5.60395221923861e+16 122175011477.343 -1.13450637034714e+19\n",
            "[[ 1.20698643e+09  1.22175011e+11]\n",
            " [ 5.60395222e+16 -1.13450637e+19]]\n",
            "итерация:\t34 \t3.273010e+03 \t  0.985638412817542\n",
            "1401041476.02358 2.08342795238846e+16 162066276401.583 -4.82002368332594e+18\n",
            "[[ 1.40104148e+09  1.62066276e+11]\n",
            " [ 2.08342795e+16 -4.82002368e+18]]\n",
            "итерация:\t35 \t2.909018e+03 \t  0.985433379153937\n",
            "1626368060.57301 7.74564536900428e+15 214995374945.149 -2.04782988520325e+18\n",
            "[[ 1.62636806e+09  2.14995375e+11]\n",
            " [ 7.74564537e+15 -2.04782989e+18]]\n",
            "итерация:\t36 \t2.585573e+03 \t  0.985221336312891\n",
            "1887997334.74995 2.87960550894036e+15 285223678876.864 -8.70042463901116e+17\n",
            "[[ 1.88799733e+09  2.85223679e+11]\n",
            " [ 2.87960551e+15 -8.70042464e+17]]\n",
            "итерация:\t37 \t2.298137e+03 \t  0.985002196699918\n",
            "2191770796.59079 1.07054658896936e+15 378405369771.665 -3.69648057308287e+17\n",
            "[[ 2.19177080e+09  3.78405370e+11]\n",
            " [ 1.07054659e+15 -3.69648057e+17]]\n",
            "итерация:\t38 \t2.042687e+03 \t  0.984775815956301\n",
            "2544470674.91941 397993567244236. 502042658961.547 -1.57049824215938e+17\n",
            "[[ 2.54447067e+09  5.02042659e+11]\n",
            " [ 3.97993567e+14 -1.57049824e+17]]\n",
            "итерация:\t39 \t1.815652e+03 \t  0.984541994023628\n",
            "2953971337.15065 147960227696199. 666089795164.450 -6.67247956537859e+16\n",
            "[[ 2.95397134e+09  6.66089795e+11]\n",
            " [ 1.47960228e+14 -6.67247957e+16]]\n",
            "итерация:\t40 \t1.613866e+03 \t  0.984300487218059\n",
            "3429415056.60815 55006348785389.9 883754475609.260 -2.83489909838706e+16\n",
            "[[ 3.42941506e+09  8.83754476e+11]\n",
            " [ 5.50063488e+13 -2.83489910e+16]]\n",
            "итерация:\t41 \t1.434515e+03 \t  0.984051010221891\n",
            "3981416081.47093 20449367187600.9 1172561180733.90 -1.20444880601615e+16\n",
            "[[ 3.98141608e+09  1.17256118e+12]\n",
            " [ 2.04493672e+13 -1.20444881e+16]]\n",
            "итерация:\t42 \t1.275103e+03 \t  0.983793239704877\n",
            "4622297549.39988 7602324872034.01 1555762029492.48 -5.11728184004398e+15\n",
            "[[ 4.62229755e+09  1.55576203e+12]\n",
            " [ 7.60232487e+12 -5.11728184e+15]]\n",
            "итерация:\t43 \t1.133410e+03 \t  0.983526815676382\n",
            "5366366534.72168 2826263754339.35 2064208727491.49 -2.17415484573808e+15\n",
            "[[ 5.36636653e+09  2.06420873e+12]\n",
            " [ 2.82626375e+12 -2.17415485e+15]]\n",
            "итерация:\t44 \t1.007465e+03 \t  0.983251342095649\n",
            "6230233362.97129 1050700271753.55 2738836292803.90 -923722795197974.\n",
            "[[ 6.23023336e+09  2.73883629e+12]\n",
            " [ 1.05070027e+12 -9.23722795e+14]]\n",
            "итерация:\t45 \t8.955179e+02 \t  0.982966386663024\n",
            "7233182314.06181 390611514835.619 3633958483784.97 -392457677670554.\n",
            "[[ 7.23318231e+09  3.63395848e+12]\n",
            " [ 3.90611515e+11 -3.92457678e+14]]\n",
            "итерация:\t46 \t7.960112e+02 \t  0.982671479901683\n",
            "8397601980.30313 145214977134.104 4821640180680.14 -166741579905471.\n",
            "[[ 8.39760198e+09  4.82164018e+12]\n",
            " [ 1.45214977e+11 -1.66741580e+14]]\n",
            "итерация:\t47 \t7.075623e+02 \t  0.982366113608160\n",
            "9749484874.28060 53985616999.1353 6397498643657.85 -70842658425061.3\n",
            "[[ 9.74948487e+09  6.39749864e+12]\n",
            " [ 5.39856170e+10 -7.08426584e+13]]\n",
            "итерация:\t48 \t6.289421e+02 \t  0.982049738721712\n",
            "11319007423.6519 20069896216.3987 8488400555743.33 -30098551004056.4\n",
            "[[ 1.13190074e+10  8.48840056e+12]\n",
            " [ 2.00698962e+10 -3.00985510e+13]]\n",
            "итерация:\t49 \t5.590582e+02 \t  0.981721762637558\n",
            "13141203279.3799 7461268851.05328 11262674308088.0 -12787807034853.6\n",
            "[[ 1.31412033e+10  1.12626743e+13]\n",
            " [ 7.46126885e+09 -1.27878070e+13]]\n",
            "итерация:\t50 \t4.969396e+02 \t  0.981381545968437\n",
            "15256744940.3939 2773836526.18906 14943659364675.5 -5433081933900.11\n",
            "[[ 1.52567449e+10  1.49436594e+13]\n",
            " [ 2.77383653e+09 -5.43308193e+12]]\n",
            "итерация:\t51 \t4.417234e+02 \t  0.981028398741759\n",
            "17712851107.0168 1031216270.24678 19827683026240.5 -2308320319242.34\n",
            "[[ 1.77128511e+10  1.98276830e+13]\n",
            " [ 1.03121627e+09 -2.30832032e+12]]\n",
            "итерация:\t52 \t3.926426e+02 \t  0.980661576002840\n",
            "20564339970.8744 383371201.490606 26307911082440.3 -980721004220.747\n",
            "[[ 2.05643400e+10  2.63079111e+13]\n",
            " [ 3.83371201e+08 -9.80721004e+11]]\n",
            "итерация:\t53 \t3.490153e+02 \t  0.980280272778718\n",
            "23874851892.0041 142524712.755518 34905991324348.7 -416672078792.772\n",
            "[[ 2.38748519e+10  3.49059913e+13]\n",
            " [ 1.42524713e+08 -4.16672079e+11]]\n",
            "итерация:\t54 \t3.102356e+02 \t  0.979883618340678\n",
            "27718268675.8205 52986100.2004032 46314035653688.5 -177028331075.241\n",
            "[[ 2.77182687e+10  4.63140357e+13]\n",
            " [ 5.29861002e+07 -1.77028331e+11]]\n",
            "итерация:\t55 \t2.757648e+02 \t  0.979470669685882\n",
            "32180361026.0157 19698582.6894253 61450317923470.1 -75212587558.3561\n",
            "[[ 3.21803610e+10  6.14503179e+13]\n",
            " [ 1.96985827e+07 -7.52125876e+10]]\n",
            "итерация:\t56 \t2.451242e+02 \t  0.979040404137540\n",
            "37360700809.8167 7323343.55371800 81533167449876.0 -31954908815.2571\n",
            "[[ 3.73607008e+10  8.15331674e+13]\n",
            " [ 7.32334355e+06 -3.19549088e+10]]\n",
            "итерация:\t57 \t2.178881e+02 \t  0.978591710934813\n",
            "43374880639.2541 2722609.92870287 108179000887433. -13576375519.4526\n",
            "[[ 4.33748806e+10  1.08179001e+14]\n",
            " [ 2.72260993e+06 -1.35763755e+10]]\n",
            "итерация:\t58 \t1.936782e+02 \t  0.978123381636721\n",
            "50357090071.9181 1012192.76966114 143532375243936. -5768052537.39900\n",
            "[[ 5.03570901e+10  1.43532375e+14]\n",
            " [ 1.01219277e+06 -5.76805254e+09]]\n",
            "итерация:\t59 \t1.721584e+02 \t  0.977634099064967\n",
            "58463105606.9678 376307.659734305 190438517807612. -2450606425.60691\n",
            "[[ 5.84631056e+10  1.90438518e+14]\n",
            " [ 3.76307660e+05 -2.45060643e+09]]\n",
            "итерация:\t60 \t1.530297e+02 \t  0.977122424255996\n",
            "67873760739.6104 139902.401754886 252672200707840. -1041158391.16617\n",
            "[[ 6.78737607e+10  2.52672201e+14]\n",
            " [ 1.39902402e+05 -1.04115839e+09]]\n",
            "итерация:\t61 \t1.360263e+02 \t  0.976586780165401\n",
            "78798972737.8884 52012.7573574068 335241351011456. -442342628.730835\n",
            "[[ 7.87989727e+10  3.35241351e+14]\n",
            " [ 5.20127574e+04 -4.42342629e+08]]\n",
            "итерация:\t62 \t1.209122e+02 \t  0.976025428683767\n",
            "91482414397.9555 19337.3777361118 444789779180734. -187931443.134048\n",
            "[[ 9.14824144e+10  4.44789779e+14]\n",
            " [ 1.93373777e+04 -1.87931443e+08]]\n",
            "итерация:\t63 \t1.074775e+02 \t  0.975436430823970\n",
            "106206930853.608 7189.33765223797 590131329662722. -79843357.9065477\n",
            "[[ 1.06206931e+11  5.90131330e+14]\n",
            " [ 7.18933765e+03 -7.98433579e+07]]\n",
            "итерация:\t64 \t9.553529e+01 \t  0.974817559208078\n",
            "123300809554.020 2672.91356066107 782958163017291. -33921672.1834854\n",
            "[[ 1.23300810e+11  7.82958163e+14]\n",
            " [ 2.67291356e+03 -3.39216722e+07]]\n",
            "итерация:\t65 \t8.491969e+01 \t  0.974166067566970\n",
            "143145000984.207 993.775648137069 1.03877928792734e+15 -14411742.5445281\n",
            "[[ 1.43145001e+11  1.03877929e+15]\n",
            " [ 9.93775648e+02 -1.44117425e+07]]\n",
            "итерация:\t66 \t7.548268e+01 \t  0.973478021409240\n",
            "166181305796.048 369.493161733276 1.37816168740879e+15 -6122968.14413925\n",
            "[[ 1.66181306e+11  1.37816169e+15]\n",
            " [ 3.69493162e+02 -6.12296814e+06]]\n",
            "итерация:\t67 \t6.709172e+01 \t  0.972746268742950\n",
            "192921204467.984 137.391524996545 1.82836167656784e+15 -2601541.94429514\n",
            "[[ 1.92921204e+11  1.82836168e+15]\n",
            " [ 1.37391525e+02 -2.60154194e+06]]\n",
            "итерация:\t68 \t5.962639e+01 \t  0.971954178272581\n",
            "223953754125.917 51.0988353323143 2.42542948496624e+15 -1105541.79219013\n",
            "[[ 2.23953754e+11  2.42542948e+15]\n",
            " [ 5.10988353e+01 -1.10554179e+06]]\n",
            "итерация:\t69 \t5.297251e+01 \t  0.971056176768562\n",
            "259946525984.532 19.0171718743479 3.21676425555054e+15 -470060.077367945\n",
            "[[ 2.59946526e+11  3.21676426e+15]\n",
            " [ 1.90171719e+01 -4.70060077e+05]]\n",
            "итерация:\t70 \t4.700954e+01 \t  0.969917066544164\n",
            "301617992665.977 7.09130206670949 4.26356072611837e+15 -200190.884643541\n",
            "[[ 3.01617993e+11  4.26356073e+15]\n",
            " [ 7.09130207e+00 -2.00190885e+05]]\n",
            "итерация:\t71 \t4.157968e+01 \t  0.968122594521876\n",
            "349606598524.364 2.65972257745559 5.64034126206253e+15 -85681.6939579163\n",
            "[[ 3.49606599e+11  5.64034126e+15]\n",
            " [ 2.65972258e+00 -8.56816940e+04]]\n",
            "итерация:\t72 \t3.641080e+01 \t  0.964388473406840\n",
            "403991174341.716 1.01500940165217 7.42021495993598e+15 -37218.2171044104\n",
            "[[ 4.03991174e+11  7.42021496e+15]\n",
            " [ 1.01500940e+00 -3.72182171e+04]]\n",
            "итерация:\t73 \t2.407710e-11 \t  -6.80130021192960\n"
          ]
        },
        {
          "output_type": "stream",
          "name": "stderr",
          "text": [
            "/usr/local/lib/python3.7/dist-packages/ipykernel_launcher.py:10: RuntimeWarning: invalid value encountered in double_scalars\n",
            "  # Remove the CWD from sys.path while we load stuff.\n",
            "/usr/local/lib/python3.7/dist-packages/ipykernel_launcher.py:13: RuntimeWarning: invalid value encountered in double_scalars\n",
            "  del sys.path[0]\n"
          ]
        },
        {
          "output_type": "display_data",
          "data": {
            "text/plain": [
              "<Figure size 432x360 with 1 Axes>"
            ],
            "image/png": "[encoded data removed]"
          },
          "metadata": {
            "needs_background": "light"
          }
        }
      ]
    },
    {
      "cell_type": "code",
      "source": [
        "jacB(x)\n"
      ],
      "metadata": {
        "id": "-RE3iBwdLBo8",
        "colab": {
          "base_uri": "https://localhost:8080/"
        },
        "outputId": "3ec437cb-d6d5-439a-dad1-63083b6a8b34"
      },
      "execution_count": 110,
      "outputs": [
        {
          "output_type": "stream",
          "name": "stdout",
          "text": [
            "-2.87650602258128 699.780231044220 -0.935121114587984 717.120002885769\n"
          ]
        },
        {
          "output_type": "execute_result",
          "data": {
            "text/plain": [
              "array([[ -2.87650602,  -0.93512111],\n",
              "       [699.78023104, 717.12000289]])"
            ]
          },
          "metadata": {},
          "execution_count": 110
        }
      ]
    },
    {
      "cell_type": "code",
      "source": [
        "\n",
        "SOLB = root(fun, X0, jac = jacB, method='hybr')\n",
        "#SOLB = root(fun, X0)\n",
        "print(SOLB)\n",
        "\n",
        "plt.figure(figsize=(6,5))\n",
        "plt.plot(x, f1p, x, f2p)\n",
        "plt.plot(SOL.x[0], SOL.x[1], 'o')\n",
        "plt.xlabel('x1')\n",
        "plt.ylabel('x2')\n",
        "plt.grid(True)\n",
        "plt.show()"
      ],
      "metadata": {
        "id": "35WFlaCHeEQd",
        "colab": {
          "base_uri": "https://localhost:8080/",
          "height": 705
        },
        "outputId": "dff68dd6-ef46-45ca-cd32-8f3b23996568"
      },
      "execution_count": 111,
      "outputs": [
        {
          "output_type": "stream",
          "name": "stdout",
          "text": [
            "-856.000000000000 2120.00000000000 3960.00000000000 21300.0000000000\n",
            "-856.000000000000 2120.00000000000 3960.00000000000 21300.0000000000\n",
            "87.8642949630796 0.0241425781935049 213.055406749909 -0.185705117621948\n",
            "61.4916240308842 0.0266504334629697 119.407341398034 -0.180693172369241\n",
            "-1.52640469798188 0.318788737582753 0.297144801439695 -0.307081242519296\n",
            "4.42046570700838 3.78794168013239 1.80955699730501 -5.91616743599028\n",
            "2.92442305767688 12.7420086962638 0.594419456580125 -14.7823116906800\n",
            "1.26300449325518 20.4712460294724 -0.346178751020507 -15.9401596169642\n",
            "    fjac: array([[-0.27181517, -0.96234948],\n",
            "       [ 0.96234948, -0.27181517]])\n",
            "     fun: array([ 3.86574763, -1.09272031])\n",
            " message: 'The iteration is not making good progress, as measured by the \\n  improvement from the last ten iterations.'\n",
            "    nfev: 62\n",
            "    njev: 7\n",
            "     qtf: array([-0.02444307,  4.01754282])\n",
            "       r: array([-21.44863437,  16.07960429,   0.31195044])\n",
            "  status: 5\n",
            " success: False\n",
            "       x: array([ 0.91061546, -1.09849556])\n"
          ]
        },
        {
          "output_type": "display_data",
          "data": {
            "text/plain": [
              "<Figure size 432x360 with 1 Axes>"
            ],
            "image/png": "[encoded data removed]"
          },
          "metadata": {
            "needs_background": "light"
          }
        }
      ]
    },
    {
      "cell_type": "markdown",
      "metadata": {
        "id": "2lsE3WnYNftj"
      },
      "source": [
        "# Задание 5\n",
        "\n",
        "Напишите программу реализующую метод золотого сечения (https://ru.wikipedia.org/wiki/%D0%9C%D0%B5%D1%82%D0%BE%D0%B4_%D0%B7%D0%BE%D0%BB%D0%BE%D1%82%D0%BE%D0%B3%D0%BE_%D1%81%D0%B5%D1%87%D0%B5%D0%BD%D0%B8%D1%8F)."
      ]
    },
    {
      "cell_type": "code",
      "execution_count": 112,
      "metadata": {
        "id": "Ru_Qjdv-Nftj"
      },
      "outputs": [],
      "source": [
        "def f(x):\n",
        "    return x ** 2\n",
        "\n",
        "def lf(a, b, epsilon, phi):\n",
        "    while abs(b - a) >= epsilon:\n",
        "        x1 = b - (b - a) / phi\n",
        "        x2 = a + (b - a) / phi\n",
        "        y1 = f(x1)\n",
        "        y2 = f(x2)\n",
        "        if y1 >= y2:\n",
        "            a = x1\n",
        "        else:\n",
        "            b = x2\n",
        "    return (a + b) / 2\n",
        "\n",
        "def hf(a, b, epsilon, phi):\n",
        "    while abs(b - a) >= epsilon:\n",
        "        x1 = b - (b - a) / phi\n",
        "        x2 = a + (b - a) / phi\n",
        "        y1 = f(x1)\n",
        "        y2 = f(x2)\n",
        "        if y1 <= y2:\n",
        "            a = x1\n",
        "        else:\n",
        "            b = x2\n",
        "    return (a + b) / 2"
      ]
    },
    {
      "cell_type": "code",
      "source": [
        "a = float(input('Задайте начало отрезка: '))\n",
        "b = float(input('Задайте конец отрезка: '))\n",
        "epsilon = float(input('Задайте точность вычислений: '))\n",
        "\n",
        "phi = 0.5*(1 + 5 ** 0.5)\n",
        "\n",
        "print('Минимум равен', f(lf(a, b, epsilon, phi)))\n",
        "print('Максимум равен', f(hf(a, b, epsilon, phi)))"
      ],
      "metadata": {
        "id": "9pBR6cvNeXpH",
        "colab": {
          "base_uri": "https://localhost:8080/"
        },
        "outputId": "5842c640-70e5-49ff-d88b-2331f226d4ac"
      },
      "execution_count": 113,
      "outputs": [
        {
          "output_type": "stream",
          "name": "stdout",
          "text": [
            "Задайте начало отрезка: 1\n",
            "Задайте конец отрезка: 5\n",
            "Задайте точность вычислений: 0.0001\n",
            "Минимум равен 1.0000624239208162\n",
            "Максимум равен 24.999687886240864\n"
          ]
        }
      ]
    },
    {
      "cell_type": "markdown",
      "metadata": {
        "id": "k4b7Z3SHNftj"
      },
      "source": [
        "# Задание 6\n",
        "\n",
        "Выполните Упражнение 8.2 (с. 213) из книги Численные методы. Вычислительный практикум (Вабищевич П.Н. - 2010)."
      ]
    },
    {
      "cell_type": "code",
      "source": [
        "import math as mt\n",
        "def golden(f, a, b, tol=0.000000000001):\n",
        "\n",
        "  c1 = (mt.sqrt(5) - 1) / 2\n",
        "  c2 = 1. - c1\n",
        "  nit = int(mt.ceil(mt.log(tol / abs(b-a)) / mt.log(c1)))\n",
        "  \n",
        "  # First step\n",
        "  x1 = c1*a + c2*b\n",
        "  x2 = c2*a + c1*b\n",
        "  f1 = f(x1)\n",
        "  f2 = f(x2)\n",
        "  # Iteration\n",
        "  for i in range(nit):\n",
        "    if f1 > f2:\n",
        "      a = x1\n",
        "      x1 = x2\n",
        "      f1 = f2\n",
        "      x2 = c2*a + c1*b\n",
        "      f2 = f(x2)\n",
        "    else:\n",
        "      b = x2\n",
        "      x2 = x1\n",
        "      f2 = f1\n",
        "      x1 = c1*a + c2*b\n",
        "      f1 = f(x1)\n",
        "  if f1 < f2:\n",
        "    return x1,f1\n",
        "  else:\n",
        "    return x2,f2\n"
      ],
      "metadata": {
        "id": "eDTk9GnxbgaB"
      },
      "execution_count": 121,
      "outputs": []
    },
    {
      "cell_type": "code",
      "source": [
        "import numpy as np\n",
        "import matplotlib.pyplot as pit\n",
        "#from golden import golden\n",
        "def f(x):\n",
        "  return (x**2 - 6.*x + 12.) / (x**2 + 6.*x + 12.)\n",
        "a = 0.\n",
        "b = 20.\n",
        "x = np.linspace(a, b, 200)\n",
        "у = f(x)\n",
        "y= (x**2 - 6.*x + 12.) / (x**2 + 6.*x + 12.)\n",
        "pit.plot(x, y)\n",
        "pit.xlabel('x')\n",
        "pit.grid(True)\n",
        "pit.show()\n",
        "xMin, fMin = golden(f, a, b)\n",
        "print('xMin = ', xMin)\n",
        "print('fMin = ', fMin)\n",
        "xMin - 3.46410163303\n",
        "fMin = 0.0717967697245\n"
      ],
      "metadata": {
        "colab": {
          "base_uri": "https://localhost:8080/",
          "height": 316
        },
        "id": "151g_-mOdjYS",
        "outputId": "42dff8ec-eecf-4461-abde-638be75c021d"
      },
      "execution_count": 125,
      "outputs": [
        {
          "output_type": "display_data",
          "data": {
            "text/plain": [
              "<Figure size 432x288 with 1 Axes>"
            ],
            "image/png": "[encoded data removed]"
          },
          "metadata": {
            "needs_background": "light"
          }
        },
        {
          "output_type": "stream",
          "name": "stdout",
          "text": [
            "xMin =  3.4641016330255576\n",
            "fMin =  0.07179676972449077\n"
          ]
        }
      ]
    },
    {
      "cell_type": "code",
      "execution_count": 117,
      "metadata": {
        "id": "i6VxFVyhNftj"
      },
      "outputs": [],
      "source": [
        "import numpy as np\n",
        "#import math as mt\n",
        "\n",
        "#from golden import golden\n",
        "def grad(F, GradF, x, d=0.5, tol=1.e-10):\n",
        "\n",
        "  # Line function along h\n",
        "  def f(al):\n",
        "    return F(x + al*h)\n",
        "  grO = - GradF(x)\n",
        "  h = grO.copy()\n",
        "  F0 = F(x)\n",
        "  itMax = 50000000\n",
        "  for i in range(itMax):\n",
        "  # Minimization ID function\n",
        "    al, fMin = sc.optimize.golden(f, 0, d)\n",
        "    x = x + al*h\n",
        "    Fl = F(x)\n",
        "    grl = - GradF(x)\n",
        "    if (mt.sqrt(np.dot(grl,grl)) <= tol) or (abs(F0 - Fl) < tol):\n",
        "      return x, i+1\n",
        "    h = grl\n",
        "    grO = gr1.copy()\n",
        "    F0 = Fl\n",
        "    print(\"Gradient method did not converge (500 iterations)\")\n",
        "\n"
      ]
    },
    {
      "cell_type": "markdown",
      "metadata": {
        "id": "9oSGeD7-Nftj"
      },
      "source": [
        "# Задание 7\n",
        "\n",
        "Найти все максимумы и минимумы с помощью разработанных программ (методом градиентного спуска) рассматриваемой функции $f(x)=(1+x+x^2) \\cdot e^{-x}+sin(x+0.1)-1$ на отрезки [-1.0;25]. Определить глобальный максимум (наибольший локальный максимум) и минимум на этом отрезке."
      ]
    },
    {
      "cell_type": "code",
      "execution_count": 118,
      "metadata": {
        "id": "XKdexe8dNftj"
      },
      "outputs": [],
      "source": [
        "def f(x):\n",
        "    return (1 + x + x ** 2) * sm.exp(-x) + sm.sin(x + 0.1) - 1\n"
      ]
    },
    {
      "cell_type": "code",
      "source": [
        "A = -1\n",
        "B = 25\n",
        "N = 1000\n",
        "fp = np.zeros((N))\n",
        "x = np.linspace(A, B, N)\n",
        "for i in range(N): \n",
        "    fp[i] = f(x[i])\n",
        "\n",
        "plt.figure(figsize = (10,  5))\n",
        "plt.plot(x, fp)\n",
        "plt.xlabel('x1')\n",
        "plt.ylabel('x2')\n",
        "plt.grid(True)\n",
        "plt.show()"
      ],
      "metadata": {
        "id": "MyOphqkseqmn",
        "colab": {
          "base_uri": "https://localhost:8080/",
          "height": 334
        },
        "outputId": "6ca401f3-a3d5-4f79-a426-45d550e0bdc9"
      },
      "execution_count": 119,
      "outputs": [
        {
          "output_type": "display_data",
          "data": {
            "text/plain": [
              "<Figure size 720x360 with 1 Axes>"
            ],
            "image/png": "[encoded data removed]"
          },
          "metadata": {
            "needs_background": "light"
          }
        }
      ]
    },
    {
      "cell_type": "code",
      "source": [
        "epsilon = float(input('Задайте точность вычислений: '))\n",
        "\n",
        "phi = .5 * (1 + 5 ** .5)\n",
        "\n",
        "mx = []\n",
        "mn = []\n",
        "\n",
        "# 1\n",
        "mx.append(f(hf(-1, 0, epsilon, phi)))\n",
        "mn.append(f(lf(-1, 0, epsilon, phi)))\n",
        "\n",
        "# 2\n",
        "mx.append(f(hf(0, 2, epsilon, phi)))\n",
        "mn.append(f(lf(4, 5, epsilon, phi)))\n",
        "\n",
        "#3\n",
        "mx.append(f(hf(6, 8, epsilon, phi)))\n",
        "\n",
        "# 4\n",
        "mn.append(f(lf(10, 12, epsilon, phi)))\n",
        "mx.append(f(hf(13, 15, epsilon, phi)))\n",
        "\n",
        "# 5\n",
        "mn.append(f(lf(16, 18, epsilon, phi)))\n",
        "\n",
        "# 6\n",
        "mx.append(f(hf(19, 21, epsilon, phi)))\n",
        "mn.append(f(lf(22, 24, epsilon, phi)))\n",
        "mx.append(f(hf(24, 25, epsilon, phi)))\n",
        "\n",
        "print('Максимумы:', mx)\n",
        "print('Минимумы:', mn)\n",
        "\n",
        "print('\\nГлобальный максимум:', max(mx))\n",
        "print('Глобальный минимум:', min(mn))"
      ],
      "metadata": {
        "id": "IxXszoAoe6o8",
        "colab": {
          "base_uri": "https://localhost:8080/"
        },
        "outputId": "1e154119-780e-465c-ffa4-3a3ca381e76d"
      },
      "execution_count": 120,
      "outputs": [
        {
          "output_type": "stream",
          "name": "stdout",
          "text": [
            "Задайте точность вычислений: 0.0001\n",
            "Максимумы: [0.934795775705125, 1.07439448618161, 0.0298074977250666, 0.000169926484709038, 6.49687582843228e-7, -1.03276840603742]\n",
            "Минимумы: [-0.163567397916976, -1.74572934111995, -1.99758048780143, -1.99998915292961, -1.99999996278905]\n",
            "\n",
            "Глобальный максимум: 1.07439448618161\n",
            "Глобальный минимум: -1.99999996278905\n"
          ]
        }
      ]
    },
    {
      "cell_type": "markdown",
      "metadata": {
        "id": "4adLCnDHNftk"
      },
      "source": [
        "# Домашнее задание (дополнительное):"
      ]
    },
    {
      "cell_type": "markdown",
      "metadata": {
        "id": "qKCVqk0pNftk"
      },
      "source": [
        "# Задание Штрафы. \n",
        "\n",
        "Напишите программу для нахождеиия минимума функции одной переменной f(x) на интервале [а, b] при ограничениях g(х) > 0 \n",
        "методом штрафа с использованием метода золотого сечения для решения задачи безусловной минимизации. \n",
        "\n",
        "С ее помощью найдите минимум функции $e^{-x}x$ при $x >= 2$."
      ]
    },
    {
      "cell_type": "code",
      "execution_count": 128,
      "metadata": {
        "id": "f04IiWjvNftk",
        "colab": {
          "base_uri": "https://localhost:8080/"
        },
        "outputId": "6336b976-bb53-416a-9b1a-4ce8fa633f63"
      },
      "outputs": [
        {
          "output_type": "stream",
          "name": "stdout",
          "text": [
            "start interval - a = 1\n",
            "end interval - b = 5\n",
            "Задайте точность вычислений: 0.00001\n",
            "Минимумы: [1.00003858024691, 0.00673797949249438, 6.14423498873849e-6, 1.52300358522851e-8, 3.77514845195585e-11]\n",
            "Глобальный минимум: 3.77514845195585e-11\n"
          ]
        }
      ],
      "source": [
        "def f(x):\n",
        "  if x >=2:\n",
        "    return  sm.exp(-x)\n",
        "  else:\n",
        "    return sm.exp(-x)**8\n",
        "\n",
        "\n",
        "A = int(input(\"start interval - a = \"))\n",
        "B = int(input(\"end interval - b = \"))\n",
        "N = 1000\n",
        "fp = np.zeros((N))\n",
        "x = np.linspace(A, B, N)\n",
        "for i in range(N): \n",
        "    fp[i] = f(x[i])\n",
        "\n",
        "\n",
        "epsilon = float(input('Задайте точность вычислений: '))\n",
        "\n",
        "phi = .5 * (1 + 5 ** .5)\n",
        "\n",
        "mx = []\n",
        "mn = []\n",
        "\n",
        "# 1\n",
        "mx.append(f(hf(-1, 0, epsilon, phi)))\n",
        "mn.append(f(lf(-1, 0, epsilon, phi)))\n",
        "\n",
        "# 2\n",
        "mx.append(f(hf(0, 2, epsilon, phi)))\n",
        "mn.append(f(lf(4, 5, epsilon, phi)))\n",
        "\n",
        "#3\n",
        "mx.append(f(hf(6, 8, epsilon, phi)))\n",
        "\n",
        "# 4\n",
        "mn.append(f(lf(10, 12, epsilon, phi)))\n",
        "mx.append(f(hf(13, 15, epsilon, phi)))\n",
        "\n",
        "# 5\n",
        "mn.append(f(lf(16, 18, epsilon, phi)))\n",
        "\n",
        "# 6\n",
        "mx.append(f(hf(19, 21, epsilon, phi)))\n",
        "mn.append(f(lf(22, 24, epsilon, phi)))\n",
        "mx.append(f(hf(24, 25, epsilon, phi)))\n",
        "\n",
        "#print('Максимумы:', mx)\n",
        "print('Минимумы:', mn)\n",
        "\n",
        "#print('\\nГлобальный максимум:', max(mx))\n",
        "print('Глобальный минимум:', min(mn))"
      ]
    },
    {
      "cell_type": "markdown",
      "metadata": {
        "id": "8PGqu9eUNftk"
      },
      "source": [
        "# Задание. Определитель.\n",
        "\n",
        "Напишите программу для вычисления определителя матрицы произвольной размерности методом разложения по строке или столбцу (https://ru.wikipedia.org/wiki/%D0%9E%D0%BF%D1%80%D0%B5%D0%B4%D0%B5%D0%BB%D0%B8%D1%82%D0%B5%D0%BB%D1%8C)."
      ]
    },
    {
      "cell_type": "code",
      "execution_count": 129,
      "metadata": {
        "id": "-HpGbZy-Nftk"
      },
      "outputs": [],
      "source": [
        "def getMinor(matrix, i1, j1):\n",
        "    minor = np.zeros((len(matrix) - 1, len(matrix) - 1))\n",
        "    i2 = 0\n",
        "    for i in range(len(matrix)):\n",
        "        j2 = 0\n",
        "        if i == i1:\n",
        "            continue\n",
        "        for j in range(len(matrix)):\n",
        "            if j == j1:\n",
        "                continue\n",
        "            minor[i2][j2] = matrix[i][j]\n",
        "            j2 += 1\n",
        "        i2 += 1\n",
        "    return minor"
      ]
    },
    {
      "cell_type": "code",
      "source": [
        "matrix = np.array([[1, 2, 3],\n",
        "                   [3, 4, 5],\n",
        "                   [5, 6, 7]])\n",
        "getMinor(matrix, 0, 0)"
      ],
      "metadata": {
        "id": "_B2n0q5pz-5n",
        "colab": {
          "base_uri": "https://localhost:8080/"
        },
        "outputId": "fee27d21-fd16-47b9-8ef3-fac6b2802a8d"
      },
      "execution_count": 130,
      "outputs": [
        {
          "output_type": "execute_result",
          "data": {
            "text/plain": [
              "array([[4., 5.],\n",
              "       [6., 7.]])"
            ]
          },
          "metadata": {},
          "execution_count": 130
        }
      ]
    },
    {
      "cell_type": "code",
      "source": [
        "def determinant_R(matrix):\n",
        "    if len(matrix) == 1:\n",
        "        return matrix[0][0]\n",
        "    s = 0\n",
        "    for i in range(len(matrix)):\n",
        "        s += (-1) ** i * matrix[0][i] * determinant_R(getMinor(matrix, 0, i))\n",
        "    return s"
      ],
      "metadata": {
        "id": "p_KgEgsk0Dpf"
      },
      "execution_count": 131,
      "outputs": []
    },
    {
      "cell_type": "code",
      "source": [
        "K = np.eye(3)\n",
        "A = np.array([[1, 2, 3],\n",
        "              [3, 4, 5],\n",
        "              [5, 6, 7]])\n",
        "print(determinant_R(K))\n",
        "print(determinant_R(A))"
      ],
      "metadata": {
        "id": "-bkez5eD0MlL",
        "colab": {
          "base_uri": "https://localhost:8080/"
        },
        "outputId": "b3339b07-0b66-4bcf-b6a8-23b0a248b232"
      },
      "execution_count": 132,
      "outputs": [
        {
          "output_type": "stream",
          "name": "stdout",
          "text": [
            "1.0\n",
            "0.0\n"
          ]
        }
      ]
    },
    {
      "cell_type": "markdown",
      "metadata": {
        "id": "TqGcdRlCNftk"
      },
      "source": [
        "# Задание. Области притяжения.\n",
        "\n",
        "Как мы уже поняли у каждого корня есть своя область притяжения (окрестность выбирая начальное приближение из которой можно получить этот корень с помощью итерационного метода, например метода Ньютона). Постройте для системы уравнений из задания 4 область притяжения каждого корня.\n"
      ]
    },
    {
      "cell_type": "code",
      "source": [
        "import math\n",
        "import numpy as np\n",
        "\n",
        "x, x1, x2 = symbols('x, x1, x2')\n",
        "\n",
        "F1 = x1**2 + (x2 - abs(x1)**0.5)**2 - 1\n",
        "F2 = x1**2*x2**3  -  7*x1**3*x2**3  -  7\n",
        "\n",
        " \n",
        "class Function():\n",
        "    def f(self, x):\n",
        "        return sm.log(abs(x+1)) - 2*math.pow(x, 2) + 1\n",
        " \n",
        "class NewtonMethod():\n",
        "    def derrirative(self, x):\n",
        "        return 1/(x+1) - 4*x\n",
        " \n",
        "    def newtonsMethod(self, f, a, b,derrirative):\n",
        "        try:\n",
        "            x0 = (a+b)/2\n",
        "            xn = x0\n",
        "            xn1 = xn - f(xn) / derrirative(xn)\n",
        "            while abs(xn1-xn) > math.pow(10,-3):\n",
        "                xn = xn1\n",
        "                xn1 = xn - f(xn) / derrirative(xn)\n",
        "            return xn1\n",
        "        except:\n",
        "            print(\"Error!\")\n",
        " \n",
        "func = Function()\n",
        "\n",
        "nm = NewtonMethod()\n",
        "\n",
        "\n",
        "x1 = nm.newtonsMethod(func.f, -0.6, -0.4, nm.derrirative)\n",
        "y1 = nm.newtonsMethod(func.f, 0.8, 1., nm.derrirative)\n",
        "print(\"NM The first solution on such interval [-0.6; -0.4] x1 is: \" + str(x1))\n",
        "print(\"NM The second solution on such interval [0.8; 1] x2 is: \" + str(y1))\n",
        "print(\"F(x1) is: \" + str(func.f(x1)))\n",
        "print(\"F(x2) is: \" + str(func.f(y1)))\n"
      ],
      "metadata": {
        "id": "3tuMMyA87Kgm",
        "colab": {
          "base_uri": "https://localhost:8080/"
        },
        "outputId": "0c01be30-c7d5-4038-bfea-40999ac15b1f"
      },
      "execution_count": 133,
      "outputs": [
        {
          "output_type": "stream",
          "name": "stdout",
          "text": [
            "NM The first solution on such interval [-0.6; -0.4] x1 is: -0.449215282932589\n",
            "NM The second solution on such interval [0.8; 1] x2 is: 0.907075175897678\n",
            "F(x1) is: -1.44191991680032e-10\n",
            "F(x2) is: -2.59174015582175e-9\n"
          ]
        }
      ]
    },
    {
      "cell_type": "code",
      "execution_count": 134,
      "metadata": {
        "id": "q1-h7yfcNftk",
        "colab": {
          "base_uri": "https://localhost:8080/",
          "height": 56
        },
        "outputId": "6c6f4e1c-c997-46d1-92c7-698085fd0812"
      },
      "outputs": [
        {
          "name": "stdout",
          "output_type": "stream",
          "text": [
            "6\n"
          ]
        },
        {
          "output_type": "execute_result",
          "data": {
            "text/plain": [
              "2.4494943716069653"
            ],
            "image/png": "[encoded data removed]",
            "text/latex": "$\\displaystyle 2.44949437160697$"
          },
          "metadata": {},
          "execution_count": 134
        }
      ],
      "source": [
        "def sqrt(x):\n",
        "    \n",
        "    def sqrtIter(guess):\n",
        "        if goodEnaugh(guess):\n",
        "            return guess\n",
        "        else:\n",
        "            return sqrtIter(improve(guess))\n",
        "        \n",
        "    def improve(guess):\n",
        "        return average(guess, x/guess)\n",
        "    \n",
        "    def average(x, y):\n",
        "        return (x+y)/2\n",
        "    \n",
        "    def goodEnaugh(guess):\n",
        "        if(abs(guess**2-x)<0.001):\n",
        "            return 1\n",
        "        else:\n",
        "            return 0\n",
        "        \n",
        "    return sqrtIter(1.0)\n",
        "\n",
        "\n",
        "sqrt(int(input()))"
      ]
    }
  ],
  "metadata": {
    "kernelspec": {
      "display_name": "Python 3",
      "language": "python",
      "name": "python3"
    },
    "language_info": {
      "codemirror_mode": {
        "name": "ipython",
        "version": 3
      },
      "file_extension": ".py",
      "mimetype": "text/x-python",
      "name": "python",
      "nbconvert_exporter": "python",
      "pygments_lexer": "ipython3",
      "version": "3.7.9"
    },
    "colab": {
      "name": "Laba 7.ipynb",
      "provenance": [],
      "collapsed_sections": [
        "lNbaekhtNftQ",
        "Qgx1RE4wNftU",
        "L7f5z4LiNfte",
        "4adLCnDHNftk"
      ]
    }
  },
  "nbformat": 4,
  "nbformat_minor": 0
}
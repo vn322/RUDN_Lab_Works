{
  "nbformat": 4,
  "nbformat_minor": 0,
  "metadata": {
    "colab": {
      "provenance": [],
      "collapsed_sections": [
        "eyOid4Voak6L"
      ],
      "include_colab_link": true
    },
    "kernelspec": {
      "name": "python3",
      "display_name": "Python 3"
    },
    "language_info": {
      "name": "python"
    }
  },
  "cells": [
    {
      "cell_type": "markdown",
      "metadata": {
        "id": "view-in-github",
        "colab_type": "text"
      },
      "source": [
        "<a href=\"https://colab.research.google.com/github/vn322/RUDN_Lab_Works/blob/main/SQL_lab_3_2024.ipynb\" target=\"_parent\"><img src=\"https://colab.research.google.com/assets/colab-badge.svg\" alt=\"Open In Colab\"/></a>"
      ]
    },
    {
      "cell_type": "markdown",
      "source": [
        "## 30.03.2024"
      ],
      "metadata": {
        "id": "N9jL5qJFkw_t"
      }
    },
    {
      "cell_type": "markdown",
      "source": [
        "# **Нормализация**\n",
        "Нормализация представляет процесс разделения данных по отдельным связанным таблицам. Нормализация устраняет избыточность данных (data redundancy) и тем самым избежать нарушения целостности данных при их изменении, то есть избежать аномалий изменения (update anomaly).\n"
      ],
      "metadata": {
        "id": "x9PZCUoyk2Dl"
      }
    },
    {
      "cell_type": "markdown",
      "source": [
        "\n",
        "Как правило, нормализация преимущественно применяется при восходящем подходе проектировании базы данных, то есть когда мы все атрибуты, которые надо сохранить в бд, группируем по сущностям, для которых затем создаются таблицы. Однако при нисходящем подходе, когда вначале выявляются сущности, а затем их атрибуты и связи между ними, нормализация также может применяться, например, для проверки корректности спроектированных таблиц.\n",
        "\n",
        "В ненормализованной форме таблица может хранить информацию о двух и более сущностях. Также она может содержать повторяющиеся столбцы. Также столбцы могут хранить повторяющиеся значения. В нормализованной же форме каждая таблица хранит информацию только об одной сущности.\n",
        "\n",
        "Нормализация предполагает применение нормальных форм к структуре данных. Существуют 7 нормальных форм. Каждая нормальная форма (за исключением первой) подразумевает, что к данным уже была применена предыдущая нормальная форма. Например, прежде чем применить третью нормальную форму к данным должна быть применена вторая нормальная форма. И строго говоря, база данных считается нормализованной, если к ней применяется третья нормальная форма и выше.\n",
        "\n",
        "**Первая нормальная форма (1NF**) предполагает, что сохраняемые данные на пересечении строк и столбцов должны представлять скалярное значение, а таблицы не должны содержать повторяющихся строк.\n",
        "\n",
        "**Вторая нормальная форма (2NF)** предполагает, что каждый столбец, не являющийся ключом, должен зависеть от первичного ключа.\n",
        "\n",
        "**Третья нормальная форма (3NF)** предполагает, что каждый столбец, не являющийся ключом, должен зависеть только от первичного ключа.\n",
        "\n",
        "Нормальная форма Бойса-Кодда (BCNF) является немного более строгой версией третьей нормальной формы.\n",
        "\n",
        "**Четвертая нормальная форма (4NF)** применяется для устранения многозначных зависимостей (multivalued dependencies) - таких зависимостей, где столбец с первичным ключом имеет связь один-ко-многим со столбцом, который не является ключом. Эта нормальная форма устраняет некорректные отношения многие-ко-многим.\n",
        "\n",
        "**Пятая нормальная форма (5NF)** разделяет таблицы на более малые таблицы для устранения избыточности данных. Разбиение идет до тех пор, пока нельзя будет воссоздать оригинальную таблицу путем объединения малых таблиц.\n",
        "\n",
        "**Шестая нормальная форма** (domain key normal form / 6NF). Каждое ограничение в связях между таблицами должно зависеть только от ограничений ключа и ограничений домена, где домен представляет набор допустимых значений для столбца. Эта форма предотвращает добавление недопустимых данных путем установки ограничения на уровне отношений между таблицами, но не на уровне таблиц или столбцов. Данная форма, как правило, не применима на уровне СУБД, в том числе и в SQL Server."
      ],
      "metadata": {
        "id": "qcvtBctRVUum"
      }
    },
    {
      "cell_type": "markdown",
      "source": [
        "## **Функциональная зависимость**\n",
        "Ключевым понятием нормализации является функциональная зависимость. Функциональная зависимость описывает связь между атрибутами отношения. Например, если атрибут В функционально зависит от атрибута А (А → В), то каждое значение атрибута А связано только с одним значением атрибута В. Причем атрибуты А и В могут состоять из одного или нескольких атрибутов. То есть, если две строки имеют одно и то же значение атрибута А, то они обязательно имеют одно и то же значение атрибута В. При этом для одного значения атрибута В могут существовать несколько различных значений атрибута А. Атрибут А в этой зависимости еще называется детерминантом.\n",
        "\n"
      ],
      "metadata": {
        "id": "LerSF-twVhq8"
      }
    },
    {
      "cell_type": "markdown",
      "source": [
        "Например, возьмем следующую таблицу, которая представляет университетские курсы:\n",
        "\n",
        "---Course ------\tTeacher\t----- Position\n",
        "\n",
        "Математика - Смит --\tПрофессор\n",
        "\n",
        "Алгориты ---\tАдамс --\tАссистент\n",
        "\n",
        "JavaScript --\tАдамс ---\tАссистент\n",
        "\n",
        "Здесь атрибут Teacher функционально зависит от атрибута Course (Course → Teacher).\n",
        "\n",
        "То есть зная название курса, мы можем определить его преподавателя. И в этом случае можно говорить, что между атрибутами Course и Teacher есть связь 1:1, а между Teacher и Course связь 1:N, так как есть несколько курсов, которые может вести один преподаватель.\n",
        "\n",
        "При этом атрибут Course функционально не зависит от атрибута Teacher.\n",
        "\n",
        "Кроме того, здесь можно проследить еще две функциональных зависимости. В частности, атрибут Position зависит от атрибута Teacher (Teacher → Position). Зная имя преподавателя, мы можем определить его должность.\n",
        "\n",
        "И также атрибут Position функционально зависит от атрибута Course - зная название курса, мы можем сказать должность преподавателя.\n",
        "\n"
      ],
      "metadata": {
        "id": "UHIEXWghZhIE"
      }
    },
    {
      "cell_type": "markdown",
      "source": [
        "В таблице в нормализованной базе данных единственным детерминантом должен быть атрибут, который является первичным ключом. А все остальные атрибуты должны функционально зависеть от первичного ключа.\n",
        "\n",
        "Например, в данном случае мы можем взять в качестве первичного ключа название курса с учетом, что курсы могут иметь только уникальные названия. Однако должность преподавателя в данном случае будет зависеть сразу от двух атрибутов - от Course и Teacher. И подобные зависимости могут свидетельствовать о том, что база данных и конкретно таблица курсов имеет недостатки в проектировании и может быть источником аномалий обновления."
      ],
      "metadata": {
        "id": "LOW_EJa4aPHT"
      }
    },
    {
      "cell_type": "markdown",
      "source": [
        "## **Первая нормальная форма**\n",
        "Первая нормальная форма предполагает, что таблица не должна содержать повторяющихся столбцов или таких столбцов, которые содержат наборы значений. Ненормализованная таблица в этом случае может содержать одну или несколько повторяющихся групп данных. Повторяющаяся группа - это группа из одного или нескольких атрибутов таблицы, в которой возможно наличие нескольких значений для ключевого атрибута таблицы.\n",
        "\n",
        "Итогом применения первой формы должно стать наличие для одного атрибута сущности только одного столбца в таблице, который при этом должен содержать скалярное значение."
      ],
      "metadata": {
        "id": "eyOid4Voak6L"
      }
    },
    {
      "cell_type": "markdown",
      "source": [
        "Есть два похода к переходу к ненормализованной таблицы к первой нормальной форме. Первый способ называется выравниванием или flattaning. Он предполагает декомпозицию строки с повторяющимися группами данных, при котором для каждой повторяющейся группы создается своя строка. Полученная в результате таблица будет содержать атомарные значения для каждого из атрибутов. Хотя в то же время этот подход увеличит избыточность данных."
      ],
      "metadata": {
        "id": "wznQ30RUav0I"
      }
    },
    {
      "cell_type": "markdown",
      "source": [
        "Второй подход предполагает, что один атрибут или группа атрибутов назначаются ключом ненормализованной таблицы, а затем повторяющиеся группы удаляются из таблицы и помещаются в отдельную таблицу вместе с копиями ключа из исходной таблицы."
      ],
      "metadata": {
        "id": "AzjsMLe8aylY"
      }
    },
    {
      "cell_type": "markdown",
      "source": [
        "\n",
        "Рассмотрим применение нормализации на примере. Пусть у нас есть система, которая описывается следующей информацией:\n",
        "\n",
        "Том посещает курс по математике, который преподает Смит. Дата записи 11/06/2017.\n",
        "\n",
        "Сэм посещает курс по алгоритмам, которые преподает Адамс. Дата записи 12/06/2017.\n",
        "\n",
        "Боб посещает курс по математике, который преподает Смит. Дата записи 13/06/2017.\n",
        "\n",
        "Том посещает курс по языку JavaScript, который преподает Адамс. Дата записи 14/06/2017.\n",
        "\n",
        "Сэм имеет два электронных адреса: sam@gmail.com и sam@hotmail.com.\n",
        "\n",
        "В университете может быть только один курс с определенным именем. Один преподаватель может преподавать несколько курсов."
      ],
      "metadata": {
        "id": "TKiAL04jasj8"
      }
    },
    {
      "cell_type": "markdown",
      "source": [
        "Вначале определим ненормализованную таблицу StudentCourses, которая содержит всю эту информацию:\n",
        "![image.png](data:image/png;base64,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)"
      ],
      "metadata": {
        "id": "pt-h4EEUVo_5"
      }
    },
    {
      "cell_type": "markdown",
      "source": [
        "Для каждого студента определены:\n",
        "\n",
        " уникальный идентификатор StudentId,\n",
        "\n",
        "а также атрибут Name (имя),\n",
        "\n",
        "Emails (все электронные адреса),\n",
        "\n",
        "Course1 /Course2(курс),\n",
        "\n",
        "Date1/Date2 (дата поступления),\n",
        "\n",
        "Teacher1/Teacher2 (преподаватель).\n",
        "\n",
        "Также чтобы различать преподавателей (так как теоретически могут быть преподаватели с одной и той же фамилией), добавлен атрибут TeacherId1/TeacherId2.\n",
        "\n",
        "Для курсов такой идентификатор не требуется, так как в нашем случае название курса уникально.\n",
        "\n",
        "Поскольку Том записан сразу на два курса, то несколько атрибутов пришлось дублировать. Но что будет, когда Том в стремлении получить никому не нужные сертификаты запишется еще на десяток курсов?\n",
        "\n",
        "Эта таблица представляет прекрасный пример отклонения от первой нормальной формы. В первую очередь мы видим группу повторяющихся атрибутов, которые представляют данные по одному курсу: Course, Date, TeacherId, Teacher. Эти атрибуты представляют повторяющуюся группу, которую можно условно назвать StudentCourse.\n",
        "\n",
        "StudentCourse = (Course, Date, TeacherId, Teacher)\n",
        "\n",
        "Вторая проблема - атрибут Emails содержит набор электронных адресов. Фактически этот атрибут также образует повторяющуюся группу.\n",
        "\n",
        "Для избавления от первой повторяющейся группы атрибутов применим первый подход: создадим для каждой повторяющейся группы отдельную строку.\n",
        "\n",
        "StudentId -\tName --\tEmails--\tCourseId --\tCourse --\tDate --\tTeacherId\t-- Teacher\n",
        "\n",
        "1- Том\t- ? -\t1 -\tМатематика -\t11/06/2017 -\t1\t -Смит\n",
        "\n",
        "1 -\tТом\t- ? -\t2 -\tJavaScript - \t14/06/2017 -\t2\t - Адамс\n",
        "\n",
        "2\t- Сэм\t- sam@gmail.com\n",
        "sam@hotmail.com -\t3\t - Алгоритмы\t - 12/06/2017 - \t2\t - Адамс\n",
        "\n",
        "3 -\tБоб - ? -\t\t1\t - Математика\t- 13/06/2017\t - 1 -\tСмит\n"
      ],
      "metadata": {
        "id": "AFPqIuaVV40c"
      }
    },
    {
      "cell_type": "markdown",
      "source": [
        "В данном случае увеличилась избыточность данных, но тем не менее мы избавились от повторяющейся группы.\n",
        "\n",
        "Также следует отметить, что теперь атрибут StudentId не может использоваться в качестве первичного ключа.\n",
        "\n",
        "И в данном случае просматривается только один потенциальный ключ, который и будет использоваться в качестве первичного - это сразу два столбца StudentId и Course.\n",
        "\n",
        "Но название курса - не лучший ключ, если учитывать, что это название может редактироваться и изменяться. Поэтому для каждого курса добавлен еще один атрибут - CourseId - уникальной номер курса, который вместе с StudentId составляет первичный ключ.\n",
        "\n",
        "Хотя в принципе может было бы и оставить в качестве части первичного ключа имя курса с учетом, что оно уникально.\n",
        "\n",
        "Для избавления от второй повторяющейся группы - атрибута Emails применим второй подход: вынесение этой группы с копией ключа в отдельную таблицу.\n",
        "\n",
        "Для этого определим таблицу Email\n",
        "\n",
        "\n",
        "Email -\tStudentId\n",
        "\n",
        "sam@gmail.com\t- 2\n",
        "\n",
        "sam@hotmail.com\t - 2"
      ],
      "metadata": {
        "id": "jmogDmu6V-Je"
      }
    },
    {
      "cell_type": "markdown",
      "source": [
        "Так как электронный адрес в принципе уникален, то его можно сделать первичным ключом.\n",
        "\n",
        "Таким образом, таблицы Emails с таблицей StudentCourses будет связана связью один ко многим (один студент - много электронных адресов). И в этом случае таблица StudentCourses сократится следующим образом:\n",
        "\n",
        "\n",
        "StudentId -\tName - CourseId -\tCourse\t- Date\t- TeacherId -\tTeacher\n",
        "\n",
        "1 -\tТом -\t1\t- Математика -\t11/06/2017 -\t1\t -Смит\n",
        "\n",
        "1 -\tТом -\t2 -\tJavaScript\t- 14/06/2017\t- 2 -\tАдамс\n",
        "\n",
        "2 -\tСэм -\t3\t- Алгоритмы -\t12/06/2017 -\t2\t- Адамс\n",
        "\n",
        "3 -\tБоб\t- 1 -\tМатематика -\t13/06/2017\t- 1\t- Смит\n"
      ],
      "metadata": {
        "id": "2bURRDz2WByv"
      }
    },
    {
      "cell_type": "markdown",
      "source": [
        "Теперь у нас нет повторяющихся столбцов, но увеличилась избыточность данных, так как для студента Том определено уже две строки в таблице, и соответственно Id повторяется. Но тем не менее 1-я нормальная форма применена.\n",
        "\n",
        "В принципе можно отметить, что если повторяющиеся группы содержат уникальные значения для каждой строки таблицы (как в случае с электронными адресами), то мы имеем дело с потенциальной связью один ко многим.\n",
        "\n",
        "Если же повторяющиеся группы содержат неуникальные значения, которые могут иметь разные строки таблицы (как в случае с атрибутами курсов), то это скрывается потенциальная связь многие ко многим."
      ],
      "metadata": {
        "id": "1e8xpDqLWGqZ"
      }
    },
    {
      "cell_type": "markdown",
      "source": [
        "## **Вторая нормальная форма**\n",
        "\n",
        "Во второй нормальной форме каждый столбец в таблице, который не является ключом, должен зависеть от ключа.\n",
        "\n",
        "Ключевой момент второй нормальной формы - полная функциональная зависимость. Она предполагает, что атрибут В полностью функционально зависим от атрибута А, если атрибут В функционально зависит от полного значения атрибута А, а не от какого-либо подмножества значений из атрибута А. То есть, если атрибут А составляют несколько значений, скажем, А1 и А2, то атрибут В полностью функционально зависит от А, если он зависит и от А1 и от А2 (А1, А2 → В).\n",
        "\n",
        "Если атрибут В зависит только от какого-либо подмножества из атрибута А, например, только от А1, то имеет место частичная функциональная зависимость.\n",
        "\n",
        "Эта форма применяется к тем таблицам, которые имеют составной первичный ключ, то есть где первичный ключ состоит из нескольких атрибутов. Если в таблице несоставной первичный ключ, то в этом случае считается, что все остальные атрибуты автоматически находятся в полной функциональной зависимости от первичного ключа.\n",
        "\n",
        "\n"
      ],
      "metadata": {
        "id": "5Vd1fXFuWJL9"
      }
    },
    {
      "cell_type": "markdown",
      "source": [
        "Вторая нормальная форма применяется только к тем таблицам, которые находятся в первой нормальной форме. После применения второй формы все столбцы таблицы зависят от первичного ключа.\n",
        "\n",
        "Возьмем сформированную в прошлой теме таблицу StudentCourses после применения первой нормальной формы:\n",
        "\n",
        "StudentId -\tName -\tCourseId -\tCourse -\tDate\t- TeacherId -\tTeacher\n",
        "\n",
        "1\t- Том -\t1 -\tМатематика -\t11/06/2017\t- 1 -\tСмит\n",
        "\n",
        "1\t- \tТом\t\t- 2\t\t- JavaScript\t- \t14/06/2017\t- \t2\t- \tАдамс\n",
        "\n",
        "2\t- \tСэм\t- \t3\t- \tАлгоритмы\t\t- 12/06/2017\t\t- 2\t\t- Адамс\n",
        "\n",
        "3\t- Боб\t- \t1\t\t- Математика\t- \t13/06/2017\t- \t1\t- \tСмит"
      ],
      "metadata": {
        "id": "7e94Lz2Xd45W"
      }
    },
    {
      "cell_type": "markdown",
      "source": [
        "На данный момент эта таблица имеет составной первичный ключ StudentId+CourseId. Какие функциональные зависимости от ключевых атрибутов здесь можно выделить:\n",
        "\n",
        "StudentId, CourseId → Date\n",
        "\n",
        "StudentId → Name\n",
        "\n",
        "CourseId → Course, TeacherId, Teacher\n",
        "\n",
        "От обоих частей составного ключа StudentId+CourseId зависит только арибут Date - дата, в которую студент с идентификатором StudentId поступил на курс с идентифкатором CourseId.\n",
        "\n",
        "\n",
        "Атрибут Name зависит только от части составного ключа - от атрибута StudentId, так как зная идентификатор студента, можно сказать, какое у него имя. В данном случае имеет факт частичной зависимости.\n",
        "\n",
        "\n",
        "Атрибуты Course, TeacherId, Teacher, Position зависит от другой части ключа - от атрибута CourseId. Зная значение CourseId, можно сказать, как называется курс, какой у курса преподаватель, какую должность он занимает. Опять же здесь частичная зависимость.\n",
        "\n",
        "Наличие частичных зависимостей говорит о том, что таблица не находится во второй нормальной форме. И для перехода к этой форме необходимо переместить атрибуты, которые не входят в первичный ключ, в новую таблицу вместе с копией части первичного ключа, от которой они функционально зависят."
      ],
      "metadata": {
        "id": "7Nip97JtWR0c"
      }
    },
    {
      "cell_type": "markdown",
      "source": [
        "В нашем случае из одной таблицы получатся три.\n",
        "\n",
        "Таблица Students:\n",
        "\n",
        "StudentId -\tName\n",
        "\n",
        "1\t\t- Том\n",
        "\n",
        "2\t\t- Сэм\n",
        "\n",
        "3\t- \tБоб\n"
      ],
      "metadata": {
        "id": "7L7t5JMcfAym"
      }
    },
    {
      "cell_type": "markdown",
      "source": [
        "\n",
        "\n",
        "Таблица Courses:\n",
        "\n",
        "CourseId\t- Course\t\t- TeacherId\t- Teacher\n",
        "\n",
        "1\t- \tМатематика\t- \t1\t- \tСмит\n",
        "\n",
        "2\t\t- JavaScript\t- \t2\t\t- Адамс\n",
        "\n",
        "3\t- \tАлгоритмы\t- \t2\t- \tАдамс"
      ],
      "metadata": {
        "id": "5oust5fmfDHh"
      }
    },
    {
      "cell_type": "markdown",
      "source": [
        "\n",
        "\n",
        "И таблица StudentCourses:\n",
        "\n",
        "StudentId\t- CourseId\t\t- Date\n",
        "\n",
        "1\t\t- 1\t\t- 11/06/2017\n",
        "\n",
        "1\t- \t2\t\t- 14/06/2017\n",
        "\n",
        "\n",
        "2\t\t- 3\t- \t12/06/2017\n",
        "\n",
        "3\t- \t1\t- \t13/06/2017\n",
        "\n"
      ],
      "metadata": {
        "id": "6KWY8gThWVJU"
      }
    },
    {
      "cell_type": "markdown",
      "source": [
        "Итогом стало образование связи многие ко многим (много студентов - много курсов) между таблицами Students и Courses через таблицу StudentCourses .\n",
        "\n",
        "Таким образом, база данных перешла во вторую нормальную форму."
      ],
      "metadata": {
        "id": "gBYL0b9mfQg_"
      }
    },
    {
      "cell_type": "markdown",
      "source": [
        "## **Третья нормальная форма**\n",
        "\n",
        "Третья нормальная форма предполагает, что каждый столбец, не являющийся ключом, должен зависеть только от столбца, который является ключом, то есть должна отсутствовать транзитивная функциональная зависимость (transitive functional dependency)\n",
        "\n",
        "Транзитивная функциональная зависимость выражается следующим образом: А → В и В → С. То есть атрибут С транзитивно зависит от атрибута А, если атрибут С зависит от атрибута В, а атрибут В зависит от атрибута А (при условии, что атрибут А функционально не зависит ни от атрибута В, ни от атрибута С).\n",
        "\n",
        "Если столбец зависит не только от первичного ключа, то данный столбец находится не в той таблице, в которой он должен находиться, либо же является производным от других столбцов."
      ],
      "metadata": {
        "id": "ysLij_-LfX9T"
      }
    },
    {
      "cell_type": "markdown",
      "source": [
        "\n",
        "\n",
        "Для нормализации из исходной таблицы те атрибуты, которые находятся в транзитивной зависимости от ключа, выносятся в отдельную таблицу с копией того атрибута, от которого они непосредственно зависят.\n",
        "\n",
        "При применении третьей нормальной формы таблица должна находиться во второй нормальной форме. 3NF позволяет значительно снизить избыточность данных.\n",
        "\n",
        "Для примера возьмем сформированную в прошлой теме таблицу Courses, которая содержит информацию о курсах и которая находится во второй нормальной форме:\n",
        "\n",
        "\n",
        "CourseId\t- Course \t- \tTeacherId\t\t- Teacher\n",
        "\n",
        "1\t- \tМатематика\t- \t1\t- \tСмит\n",
        "\n",
        "2\t\t- JavaScript\t\t- 2\t\t- Адамс\n",
        "\n",
        "3\t\t- Алгоритмы\t\t- 2\t\t- Адамс\n",
        "\n",
        "\n",
        "Какие функциональные зависимости здесь можно выделить:\n",
        "\n",
        "CourseId → Course, TeacherId, Teacher\n",
        "\n",
        "Course → CourseId, TeacherId, Teacher\n",
        "\n",
        "TeacherId → Teacher\n",
        "\n"
      ],
      "metadata": {
        "id": "urKaafkoWZsm"
      }
    },
    {
      "cell_type": "markdown",
      "source": [
        "Третья зависимость говорит о том, что, зная идентификатор преподавателя, мы можем узнать его фамилию и должность. То есть через атрибут TeacherId атрибут Teacher зависит от CourseId (CourseId→ TeacherId и TeacherId → Teacher). И в данном случае мы можем говорить о транзитивной зависимости Teacher, Position от CourseId."
      ],
      "metadata": {
        "id": "7d0mToi8f1OD"
      }
    },
    {
      "cell_type": "markdown",
      "source": [
        "\n",
        "\n",
        "Для нормализации необходимо вынести в отдельную таблицу атрибуты TeacherId и Teacher. Для этого пусть будет отдельная таблица Teachers:\n",
        "\n",
        "TeacherId \t- \tTeacher\n",
        "\n",
        "1\t- \tСмит\n",
        "\n",
        "2\t- \tАдамс\n",
        "\n",
        "А таблица Courses сократится следующим образом:\n",
        "\n",
        "CourseId -\tCourse\t- TeacherId\n",
        "\n",
        "1\t- \tМатематика\t- \t1\n",
        "\n",
        "2\t- \tJavaScript\t- \t2\n",
        "\n",
        "3\t\t- Алгоритмы\t\t- 2\n",
        "\n"
      ],
      "metadata": {
        "id": "uY2VwOy-Wjel"
      }
    },
    {
      "cell_type": "markdown",
      "source": [
        "# **Итог:** **Нормализация баз данных**\n",
        "**Плюсы нормализации баз данных**\n",
        "\n",
        " Нормализацию нельзя назвать обязательным мероприятием, но у нее есть целый ряд положительных черт.\n",
        "\n",
        "1.    **Нормализация упрощает процессы выборки.**\n",
        "\n",
        "В данном случае речь идет об упрощении составления запросов. Пользователь легко может получить информацию по простейшему запросу. Обеспечение целостности данных. В процессе нормализации сокращается вероятность искажения и потери важной информации.\n",
        "\n",
        "2.    **Улучшенная масштабируемость.**\n",
        "\n",
        "При соблюдении всех правил нормализации постепенно создаются благоприятные условия для расширения такой базы.\n",
        "\n",
        "3.  **Отсутствие избыточности.**\n",
        "\n",
        "Большой объем информации задействует огромную часть свободного места на жестком диске и усложняет процесс обслуживания информации.\n",
        "\n",
        "В некоторых случаях возникают множественные повторяющиеся записи и одинаковая информация сразу в нескольких местах. Из-за этого пользователи вынуждены вносить изменения сразу во все источники информации.\n",
        "\n",
        "Это очень трудоемкое занятие нередко приводит к ошибкам. Намного проще сделать таким образом, чтобы данные по одному подразделению или участку хранились в соответствующей таблице и больше нигде.\n",
        "\n",
        "Избыточность предполагает постоянное дублирование данных, усложняет работу с базой данных и раздувает ее размер.\n",
        "\n",
        "4. **Отсутствие несогласованных зависимостей.**\n",
        "\n",
        "Всевозможные нестыковки и несогласованные зависимости также усложняют доступ к информации, поскольку путь к данным может быть нелогичным и неверным.\n"
      ],
      "metadata": {
        "id": "ZKjmzdMVjP6t"
      }
    },
    {
      "cell_type": "markdown",
      "source": [
        "# **Задание**\n",
        "Нормализуйте БД вплоть до третьей нормальной формы"
      ],
      "metadata": {
        "id": "wN4BG9qfgz1S"
      }
    },
    {
      "cell_type": "code",
      "source": [
        "import sqlite3\n",
        "\n",
        "\n",
        "try:\n",
        "    sqlite_connection = sqlite3.connect('uni.db')\n",
        "    cursor = sqlite_connection.cursor()\n",
        "    print(\"База данных создана и успешно подключена к SQLite\")\n",
        "\n",
        "    sqlite_select_query = \"select sqlite_version();\" #создается запрос для получения версии базы данны\n",
        "    cursor.execute(sqlite_select_query)\n",
        "    record = cursor.fetchall()\n",
        "    print(\"Версия базы данных SQLite: \", record)\n",
        "    cursor.close()\n",
        "\n",
        "except sqlite3.Error as error:\n",
        "    print(\"Ошибка при подключении к sqlite\", error)\n",
        "finally:\n",
        "    if (sqlite_connection):\n",
        "        sqlite_connection.close()\n",
        "        print(\"Соединение с SQLite закрыто\")\n"
      ],
      "metadata": {
        "id": "yd1m3QWOAqOv",
        "outputId": "ff6f9f8b-8877-4f17-f3bc-414bbf550753",
        "colab": {
          "base_uri": "https://localhost:8080/"
        }
      },
      "execution_count": null,
      "outputs": [
        {
          "output_type": "stream",
          "name": "stdout",
          "text": [
            "База данных создана и успешно подключена к SQLite\n",
            "Версия базы данных SQLite:  [('3.37.2',)]\n",
            "Соединение с SQLite закрыто\n"
          ]
        }
      ]
    },
    {
      "cell_type": "markdown",
      "source": [
        "# Tab-Student"
      ],
      "metadata": {
        "id": "fv781L2ECULt"
      }
    },
    {
      "cell_type": "code",
      "source": [
        "import sqlite3\n",
        "\n",
        "try:\n",
        "    sqlite_connection = sqlite3.connect('uni.db')\n",
        "    sqlite_create_table_query = '''CREATE TABLE student (\n",
        "                                StudentID TEXT  PRIMARY KEY,\n",
        "                                Name TEXT\n",
        "                                );'''\n",
        "\n",
        "    cursor = sqlite_connection.cursor()\n",
        "    print(\"База данных подключена к SQLite\")\n",
        "    cursor.execute(sqlite_create_table_query)\n",
        "    sqlite_connection.commit()\n",
        "    print(\"Таблица SQLite создана\")\n",
        "\n",
        "    cursor.close()\n",
        "\n",
        "except sqlite3.Error as error:\n",
        "    print(\"Ошибка при подключении к sqlite\", error)\n",
        "finally:\n",
        "    if (sqlite_connection):\n",
        "        sqlite_connection.close()\n",
        "        print(\"Соединение с SQLite закрыто\")"
      ],
      "metadata": {
        "colab": {
          "base_uri": "https://localhost:8080/"
        },
        "id": "0lTPB6brA1Zb",
        "outputId": "ab4ace39-2aba-4eea-9c1e-81ffddbe89c6"
      },
      "execution_count": null,
      "outputs": [
        {
          "output_type": "stream",
          "name": "stdout",
          "text": [
            "База данных подключена к SQLite\n",
            "Таблица SQLite создана\n",
            "Соединение с SQLite закрыто\n"
          ]
        }
      ]
    },
    {
      "cell_type": "code",
      "source": [
        "\n",
        "import sqlite3\n",
        "import traceback\n",
        "import sys\n",
        "\n",
        "try:\n",
        "    sqlite_connection = sqlite3.connect('uni.db')\n",
        "    cursor = sqlite_connection.cursor()\n",
        "    print(\"База данных подключена к SQLite\")\n",
        "\n",
        "    sqlite_insert_query = \"\"\"INSERT INTO student (StudentID, Name)\n",
        "                            VALUES (1,'Tom'),\n",
        "\n",
        "                                    (2,'Sam'),\n",
        "\n",
        "                                    (3, 'Bob')\"\"\"\n",
        "\n",
        "    count = cursor.execute(sqlite_insert_query)\n",
        "    sqlite_connection.commit()\n",
        "    print(\"Запись успешно вставлена ​​в таблицу sqlitedb_developers \", cursor.rowcount)\n",
        "    cursor.close()\n",
        "\n",
        "except sqlite3.Error as error:\n",
        "    print(\"Не удалось вставить данные в таблицу sqlite\")\n",
        "    print(\"Класс исключения: \", error.__class__)\n",
        "    print(\"Исключение\", error.args)\n",
        "    print(\"Печать подробноcтей исключения SQLite: \")\n",
        "    exc_type, exc_value, exc_tb = sys.exc_info()\n",
        "    print(traceback.format_exception(exc_type, exc_value, exc_tb))\n",
        "finally:\n",
        "    if (sqlite_connection):\n",
        "        sqlite_connection.close()\n",
        "        print(\"Соединение с SQLite закрыто\")"
      ],
      "metadata": {
        "colab": {
          "base_uri": "https://localhost:8080/"
        },
        "id": "INY3wtMfBk9t",
        "outputId": "31a357f6-7507-4b6f-c04b-0d800c67000a"
      },
      "execution_count": null,
      "outputs": [
        {
          "output_type": "stream",
          "name": "stdout",
          "text": [
            "База данных подключена к SQLite\n",
            "Запись успешно вставлена ​​в таблицу sqlitedb_developers  3\n",
            "Соединение с SQLite закрыто\n"
          ]
        }
      ]
    },
    {
      "cell_type": "code",
      "source": [
        "import sqlite3\n",
        "\n",
        "# Устанавливаем соединение с базой данных\n",
        "connection = sqlite3.connect('uni.db')\n",
        "cursor = connection.cursor()\n",
        "\n",
        "# Выбираем всех  игроков\n",
        "cursor.execute('SELECT * FROM student')\n",
        "users = cursor.fetchall()\n",
        "\n",
        "# Выводим результаты\n",
        "for name in users:\n",
        "  print(name)\n",
        "\n",
        "# Закрываем соединение\n",
        "connection.close()"
      ],
      "metadata": {
        "colab": {
          "base_uri": "https://localhost:8080/"
        },
        "id": "Ivi6NshTCM3z",
        "outputId": "23316a1f-2a86-4874-9821-25df57de6b1a"
      },
      "execution_count": null,
      "outputs": [
        {
          "output_type": "stream",
          "name": "stdout",
          "text": [
            "('1', 'Tom')\n",
            "('2', 'Sam')\n",
            "('3', 'Bob')\n"
          ]
        }
      ]
    },
    {
      "cell_type": "markdown",
      "source": [
        "# Tab-Teacher"
      ],
      "metadata": {
        "id": "ebrX9-L0Ci1O"
      }
    },
    {
      "cell_type": "code",
      "source": [
        "import sqlite3\n",
        "\n",
        "try:\n",
        "    sqlite_connection = sqlite3.connect('uni.db')\n",
        "    sqlite_create_table_query = '''CREATE TABLE teacher (\n",
        "                                TeacherID TEXT  PRIMARY KEY,\n",
        "                                Teacher TEXT\n",
        "                                );'''\n",
        "\n",
        "    cursor = sqlite_connection.cursor()\n",
        "    print(\"База данных подключена к SQLite\")\n",
        "    cursor.execute(sqlite_create_table_query)\n",
        "    sqlite_connection.commit()\n",
        "    print(\"Таблица SQLite создана\")\n",
        "\n",
        "    cursor.close()\n",
        "\n",
        "except sqlite3.Error as error:\n",
        "    print(\"Ошибка при подключении к sqlite\", error)\n",
        "finally:\n",
        "    if (sqlite_connection):\n",
        "        sqlite_connection.close()\n",
        "        print(\"Соединение с SQLite закрыто\")"
      ],
      "metadata": {
        "outputId": "7c3cfd75-0958-4e6a-a883-714cc1d6f5ab",
        "colab": {
          "base_uri": "https://localhost:8080/"
        },
        "id": "6qOPafBqCi1S"
      },
      "execution_count": null,
      "outputs": [
        {
          "output_type": "stream",
          "name": "stdout",
          "text": [
            "База данных подключена к SQLite\n",
            "Таблица SQLite создана\n",
            "Соединение с SQLite закрыто\n"
          ]
        }
      ]
    },
    {
      "cell_type": "code",
      "source": [
        "\n",
        "import sqlite3\n",
        "import traceback\n",
        "import sys\n",
        "\n",
        "try:\n",
        "    sqlite_connection = sqlite3.connect('uni.db')\n",
        "    cursor = sqlite_connection.cursor()\n",
        "    print(\"База данных подключена к SQLite\")\n",
        "\n",
        "    sqlite_insert_query = \"\"\"INSERT INTO teacher (TeacherID, Teacher)\n",
        "                            VALUES (1,'Smit'),\n",
        "\n",
        "                                    (2,'Adams')\"\"\"\n",
        "\n",
        "    count = cursor.execute(sqlite_insert_query)\n",
        "    sqlite_connection.commit()\n",
        "    print(\"Запись успешно вставлена ​​в таблицу sqlitedb_developers \", cursor.rowcount)\n",
        "    cursor.close()\n",
        "\n",
        "except sqlite3.Error as error:\n",
        "    print(\"Не удалось вставить данные в таблицу sqlite\")\n",
        "    print(\"Класс исключения: \", error.__class__)\n",
        "    print(\"Исключение\", error.args)\n",
        "    print(\"Печать подробноcтей исключения SQLite: \")\n",
        "    exc_type, exc_value, exc_tb = sys.exc_info()\n",
        "    print(traceback.format_exception(exc_type, exc_value, exc_tb))\n",
        "finally:\n",
        "    if (sqlite_connection):\n",
        "        sqlite_connection.close()\n",
        "        print(\"Соединение с SQLite закрыто\")"
      ],
      "metadata": {
        "outputId": "74a2551a-95dc-4b77-d684-d8b93ecf91ce",
        "colab": {
          "base_uri": "https://localhost:8080/"
        },
        "id": "BwDIsjXaCi1W"
      },
      "execution_count": null,
      "outputs": [
        {
          "output_type": "stream",
          "name": "stdout",
          "text": [
            "База данных подключена к SQLite\n",
            "Запись успешно вставлена ​​в таблицу sqlitedb_developers  2\n",
            "Соединение с SQLite закрыто\n"
          ]
        }
      ]
    },
    {
      "cell_type": "code",
      "source": [
        "import sqlite3\n",
        "\n",
        "# Устанавливаем соединение с базой данных\n",
        "connection = sqlite3.connect('uni.db')\n",
        "cursor = connection.cursor()\n",
        "\n",
        "# Выбираем всех  игроков\n",
        "cursor.execute('SELECT * FROM teacher')\n",
        "users = cursor.fetchall()\n",
        "\n",
        "# Выводим результаты\n",
        "for name in users:\n",
        "  print(name)\n",
        "\n",
        "# Закрываем соединение\n",
        "connection.close()"
      ],
      "metadata": {
        "outputId": "d1d8b385-9f2f-4937-a181-e4222e46f983",
        "colab": {
          "base_uri": "https://localhost:8080/"
        },
        "id": "kw4rueNFCi1X"
      },
      "execution_count": null,
      "outputs": [
        {
          "output_type": "stream",
          "name": "stdout",
          "text": [
            "('1', 'Smit')\n",
            "('2', 'Adams')\n"
          ]
        }
      ]
    },
    {
      "cell_type": "markdown",
      "source": [
        "# Tab-Course"
      ],
      "metadata": {
        "id": "2wdCBuxFDYVz"
      }
    },
    {
      "cell_type": "code",
      "source": [
        "import sqlite3\n",
        "\n",
        "try:\n",
        "    sqlite_connection = sqlite3.connect('uni.db')\n",
        "    sqlite_create_table_query = '''CREATE TABLE course (\n",
        "                                CourseID INTEGER  PRIMARY KEY,\n",
        "                                Course TEXT,\n",
        "                                TeacherID INTEGER\n",
        "                                );'''\n",
        "\n",
        "    cursor = sqlite_connection.cursor()\n",
        "    print(\"База данных подключена к SQLite\")\n",
        "    cursor.execute(sqlite_create_table_query)\n",
        "    sqlite_connection.commit()\n",
        "    print(\"Таблица SQLite создана\")\n",
        "\n",
        "    cursor.close()\n",
        "\n",
        "except sqlite3.Error as error:\n",
        "    print(\"Ошибка при подключении к sqlite\", error)\n",
        "finally:\n",
        "    if (sqlite_connection):\n",
        "        sqlite_connection.close()\n",
        "        print(\"Соединение с SQLite закрыто\")"
      ],
      "metadata": {
        "outputId": "c634bd69-be94-49e0-80f7-1093d454f6ef",
        "colab": {
          "base_uri": "https://localhost:8080/"
        },
        "id": "31EindTBDYV0"
      },
      "execution_count": null,
      "outputs": [
        {
          "output_type": "stream",
          "name": "stdout",
          "text": [
            "База данных подключена к SQLite\n",
            "Таблица SQLite создана\n",
            "Соединение с SQLite закрыто\n"
          ]
        }
      ]
    },
    {
      "cell_type": "code",
      "source": [
        "\n",
        "import sqlite3\n",
        "import traceback\n",
        "import sys\n",
        "\n",
        "try:\n",
        "    sqlite_connection = sqlite3.connect('uni.db')\n",
        "    cursor = sqlite_connection.cursor()\n",
        "    print(\"База данных подключена к SQLite\")\n",
        "\n",
        "    sqlite_insert_query = \"\"\"INSERT INTO course (CourseID, Course, TeacherID)\n",
        "                            VALUES (1,'Mathematics',1),\n",
        "                                    (2,'JawaScript',2),\n",
        "                                    (3,'Algorithms',2)\"\"\"\n",
        "\n",
        "    count = cursor.execute(sqlite_insert_query)\n",
        "    sqlite_connection.commit()\n",
        "    print(\"Запись успешно вставлена ​​в таблицу sqlitedb_developers \", cursor.rowcount)\n",
        "    cursor.close()\n",
        "\n",
        "except sqlite3.Error as error:\n",
        "    print(\"Не удалось вставить данные в таблицу sqlite\")\n",
        "    print(\"Класс исключения: \", error.__class__)\n",
        "    print(\"Исключение\", error.args)\n",
        "    print(\"Печать подробноcтей исключения SQLite: \")\n",
        "    exc_type, exc_value, exc_tb = sys.exc_info()\n",
        "    print(traceback.format_exception(exc_type, exc_value, exc_tb))\n",
        "finally:\n",
        "    if (sqlite_connection):\n",
        "        sqlite_connection.close()\n",
        "        print(\"Соединение с SQLite закрыто\")"
      ],
      "metadata": {
        "outputId": "d246b7ad-7e75-4a9d-f682-a2af8bbf2616",
        "colab": {
          "base_uri": "https://localhost:8080/"
        },
        "id": "TimwS4gPDYV3"
      },
      "execution_count": null,
      "outputs": [
        {
          "output_type": "stream",
          "name": "stdout",
          "text": [
            "База данных подключена к SQLite\n",
            "Запись успешно вставлена ​​в таблицу sqlitedb_developers  3\n",
            "Соединение с SQLite закрыто\n"
          ]
        }
      ]
    },
    {
      "cell_type": "code",
      "source": [
        "import sqlite3\n",
        "\n",
        "# Устанавливаем соединение с базой данных\n",
        "connection = sqlite3.connect('uni.db')\n",
        "cursor = connection.cursor()\n",
        "\n",
        "# Выбираем всех  игроков\n",
        "cursor.execute('SELECT * FROM course')\n",
        "users = cursor.fetchall()\n",
        "\n",
        "# Выводим результаты\n",
        "for name in users:\n",
        "  print(name)\n",
        "\n",
        "# Закрываем соединение\n",
        "connection.close()"
      ],
      "metadata": {
        "outputId": "2f5c16dd-15ea-438c-b102-bd07a1ef9d3a",
        "colab": {
          "base_uri": "https://localhost:8080/"
        },
        "id": "l_vzMrtQDYV4"
      },
      "execution_count": null,
      "outputs": [
        {
          "output_type": "stream",
          "name": "stdout",
          "text": [
            "(1, 'Mathematics', 1)\n",
            "(2, 'JawaScript', 2)\n",
            "(3, 'Algorithms', 2)\n"
          ]
        }
      ]
    },
    {
      "cell_type": "markdown",
      "source": [
        "# Tab-Emaile"
      ],
      "metadata": {
        "id": "gsTzaa9hGEB8"
      }
    },
    {
      "cell_type": "code",
      "source": [
        "import sqlite3\n",
        "\n",
        "try:\n",
        "    sqlite_connection = sqlite3.connect('uni.db')\n",
        "    sqlite_create_table_query = '''CREATE TABLE emaile (\n",
        "                                Emaile TEXT  PRIMARY KEY,\n",
        "                                StudentID INTEGER\n",
        "                                );'''\n",
        "\n",
        "    cursor = sqlite_connection.cursor()\n",
        "    print(\"База данных подключена к SQLite\")\n",
        "    cursor.execute(sqlite_create_table_query)\n",
        "    sqlite_connection.commit()\n",
        "    print(\"Таблица SQLite создана\")\n",
        "\n",
        "    cursor.close()\n",
        "\n",
        "except sqlite3.Error as error:\n",
        "    print(\"Ошибка при подключении к sqlite\", error)\n",
        "finally:\n",
        "    if (sqlite_connection):\n",
        "        sqlite_connection.close()\n",
        "        print(\"Соединение с SQLite закрыто\")"
      ],
      "metadata": {
        "outputId": "ae7be67c-f5fc-426d-8a18-854d8c7f9475",
        "colab": {
          "base_uri": "https://localhost:8080/"
        },
        "id": "LG3IfqbBGEB_"
      },
      "execution_count": null,
      "outputs": [
        {
          "output_type": "stream",
          "name": "stdout",
          "text": [
            "База данных подключена к SQLite\n",
            "Таблица SQLite создана\n",
            "Соединение с SQLite закрыто\n"
          ]
        }
      ]
    },
    {
      "cell_type": "code",
      "source": [
        "\n",
        "import sqlite3\n",
        "import traceback\n",
        "import sys\n",
        "\n",
        "try:\n",
        "    sqlite_connection = sqlite3.connect('uni.db')\n",
        "    cursor = sqlite_connection.cursor()\n",
        "    print(\"База данных подключена к SQLite\")\n",
        "\n",
        "    sqlite_insert_query = \"\"\"INSERT INTO emaile (Emaile, StudentID)\n",
        "                            VALUES ('sam@gmail.com' ,2),\n",
        "                                    ('sam@hotmail.com',2)\"\"\"\n",
        "\n",
        "    count = cursor.execute(sqlite_insert_query)\n",
        "    sqlite_connection.commit()\n",
        "    print(\"Запись успешно вставлена ​​в таблицу sqlitedb_developers \", cursor.rowcount)\n",
        "    cursor.close()\n",
        "\n",
        "except sqlite3.Error as error:\n",
        "    print(\"Не удалось вставить данные в таблицу sqlite\")\n",
        "    print(\"Класс исключения: \", error.__class__)\n",
        "    print(\"Исключение\", error.args)\n",
        "    print(\"Печать подробноcтей исключения SQLite: \")\n",
        "    exc_type, exc_value, exc_tb = sys.exc_info()\n",
        "    print(traceback.format_exception(exc_type, exc_value, exc_tb))\n",
        "finally:\n",
        "    if (sqlite_connection):\n",
        "        sqlite_connection.close()\n",
        "        print(\"Соединение с SQLite закрыто\")"
      ],
      "metadata": {
        "outputId": "13b69dbc-93a1-418f-ff1c-0723275005ed",
        "colab": {
          "base_uri": "https://localhost:8080/"
        },
        "id": "MNgAVMgPGECC"
      },
      "execution_count": null,
      "outputs": [
        {
          "output_type": "stream",
          "name": "stdout",
          "text": [
            "База данных подключена к SQLite\n",
            "Запись успешно вставлена ​​в таблицу sqlitedb_developers  2\n",
            "Соединение с SQLite закрыто\n"
          ]
        }
      ]
    },
    {
      "cell_type": "code",
      "source": [
        "import sqlite3\n",
        "\n",
        "# Устанавливаем соединение с базой данных\n",
        "connection = sqlite3.connect('uni.db')\n",
        "cursor = connection.cursor()\n",
        "\n",
        "# Выбираем всех  игроков\n",
        "cursor.execute('SELECT * FROM emaile')\n",
        "users = cursor.fetchall()\n",
        "\n",
        "# Выводим результаты\n",
        "for name in users:\n",
        "  print(name)\n",
        "\n",
        "# Закрываем соединение\n",
        "connection.close()"
      ],
      "metadata": {
        "outputId": "7197a375-8b22-40f8-b9a3-5fd23923c71a",
        "colab": {
          "base_uri": "https://localhost:8080/"
        },
        "id": "FvaZ5SB2GECD"
      },
      "execution_count": null,
      "outputs": [
        {
          "output_type": "stream",
          "name": "stdout",
          "text": [
            "('sam@gmail.com', 2)\n",
            "('sam@hotmail.com', 2)\n"
          ]
        }
      ]
    },
    {
      "cell_type": "markdown",
      "source": [
        "# Tab-StudentCourses"
      ],
      "metadata": {
        "id": "1BgOhMFLFKYJ"
      }
    },
    {
      "cell_type": "code",
      "source": [
        "import sqlite3\n",
        "\n",
        "try:\n",
        "    sqlite_connection = sqlite3.connect('uni.db')\n",
        "    sqlite_create_table_query = '''CREATE TABLE StudentCourses (\n",
        "                                Date TEXT PRIMARY KEY,\n",
        "                                StudentID INTEGER,\n",
        "                                CourseID INTEGER,\n",
        "                                TeacherID INTEGER\n",
        "                                );'''\n",
        "\n",
        "    cursor = sqlite_connection.cursor()\n",
        "    print(\"База данных подключена к SQLite\")\n",
        "    cursor.execute(sqlite_create_table_query)\n",
        "    sqlite_connection.commit()\n",
        "    print(\"Таблица SQLite создана\")\n",
        "\n",
        "    cursor.close()\n",
        "\n",
        "except sqlite3.Error as error:\n",
        "    print(\"Ошибка при подключении к sqlite\", error)\n",
        "finally:\n",
        "    if (sqlite_connection):\n",
        "        sqlite_connection.close()\n",
        "        print(\"Соединение с SQLite закрыто\")"
      ],
      "metadata": {
        "outputId": "8e7d93ce-1911-438a-fb8d-4276cd964068",
        "colab": {
          "base_uri": "https://localhost:8080/"
        },
        "id": "w6_Z4DSlFKYL"
      },
      "execution_count": null,
      "outputs": [
        {
          "output_type": "stream",
          "name": "stdout",
          "text": [
            "База данных подключена к SQLite\n",
            "Таблица SQLite создана\n",
            "Соединение с SQLite закрыто\n"
          ]
        }
      ]
    },
    {
      "cell_type": "code",
      "source": [
        "\n",
        "import sqlite3\n",
        "import traceback\n",
        "import sys\n",
        "\n",
        "try:\n",
        "    sqlite_connection = sqlite3.connect('uni.db')\n",
        "    cursor = sqlite_connection.cursor()\n",
        "    print(\"База данных подключена к SQLite\")\n",
        "\n",
        "    sqlite_insert_query = \"\"\"INSERT INTO StudentCourses (Date, StudentID, CourseID,TeacherID)\n",
        "                            VALUES ('11/06/2017', 1,1,1),\n",
        "                                    ('14/06/2017', 1,2,2),\n",
        "                                    ('12/06/2017', 2,3,2),\n",
        "                                    ('13/06/2017', 3,1,1)\"\"\"\n",
        "\n",
        "    count = cursor.execute(sqlite_insert_query)\n",
        "    sqlite_connection.commit()\n",
        "    print(\"Запись успешно вставлена ​​в таблицу sqlitedb_developers \", cursor.rowcount)\n",
        "    cursor.close()\n",
        "\n",
        "except sqlite3.Error as error:\n",
        "    print(\"Не удалось вставить данные в таблицу sqlite\")\n",
        "    print(\"Класс исключения: \", error.__class__)\n",
        "    print(\"Исключение\", error.args)\n",
        "    print(\"Печать подробноcтей исключения SQLite: \")\n",
        "    exc_type, exc_value, exc_tb = sys.exc_info()\n",
        "    print(traceback.format_exception(exc_type, exc_value, exc_tb))\n",
        "finally:\n",
        "    if (sqlite_connection):\n",
        "        sqlite_connection.close()\n",
        "        print(\"Соединение с SQLite закрыто\")"
      ],
      "metadata": {
        "outputId": "c5a18490-09be-46a3-d115-d16febd29f86",
        "colab": {
          "base_uri": "https://localhost:8080/"
        },
        "id": "R_TJYaVyFKYN"
      },
      "execution_count": null,
      "outputs": [
        {
          "output_type": "stream",
          "name": "stdout",
          "text": [
            "База данных подключена к SQLite\n",
            "Запись успешно вставлена ​​в таблицу sqlitedb_developers  4\n",
            "Соединение с SQLite закрыто\n"
          ]
        }
      ]
    },
    {
      "cell_type": "code",
      "source": [
        "import sqlite3\n",
        "\n",
        "# Устанавливаем соединение с базой данных\n",
        "connection = sqlite3.connect('uni.db')\n",
        "cursor = connection.cursor()\n",
        "\n",
        "# Выбираем всех  игроков\n",
        "cursor.execute('SELECT * FROM StudentCourses')\n",
        "users = cursor.fetchall()\n",
        "\n",
        "# Выводим результаты\n",
        "for name in users:\n",
        "  print(name)\n",
        "\n",
        "# Закрываем соединение\n",
        "connection.close()"
      ],
      "metadata": {
        "outputId": "4114334f-d4df-489f-f0a4-a9503164e44c",
        "colab": {
          "base_uri": "https://localhost:8080/"
        },
        "id": "p-VRIeWyFKYP"
      },
      "execution_count": null,
      "outputs": [
        {
          "output_type": "stream",
          "name": "stdout",
          "text": [
            "('11/06/2017', 1, 1, 1)\n",
            "('14/06/2017', 1, 2, 2)\n",
            "('12/06/2017', 2, 3, 2)\n",
            "('13/06/2017', 3, 1, 1)\n"
          ]
        }
      ]
    },
    {
      "cell_type": "markdown",
      "source": [
        "Вначале определим ненормализованную таблицу StudentCourses, которая содержит всю эту информацию:\n",
        "![image.png](data:image/png;base64,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)"
      ],
      "metadata": {
        "id": "-HBFrHiNAfKD"
      }
    },
    {
      "cell_type": "markdown",
      "source": [
        "# Задание 1\n",
        "\n",
        "Таблица до нормализации:\n",
        "\n",
        "Student#\t- Advisor -Adv-Room -\tClass1\t- Class2 -\tClass3\n",
        "\n",
        "\n",
        "1022\t- \tПетров\t\t- 412\t\t- 101-07\t- \t143-01\t- \t159-02\n",
        "\n",
        "4123\t\t- Иванов\t- \t216\t\t- 101-07\t- \t143-01\t- \t179-04\n",
        "\n",
        "\n"
      ],
      "metadata": {
        "id": "1Fan-DnCgvbj"
      }
    },
    {
      "cell_type": "code",
      "source": [
        "import sqlite3\n",
        "\n",
        "\n",
        "try:\n",
        "    sqlite_connection = sqlite3.connect('StudentClass.db')\n",
        "    cursor = sqlite_connection.cursor()\n",
        "    print(\"База данных создана и успешно подключена к SQLite\")\n",
        "\n",
        "    sqlite_select_query = \"select sqlite_version();\" #создается запрос для получения версии базы данны\n",
        "    cursor.execute(sqlite_select_query)\n",
        "    record = cursor.fetchall()\n",
        "    print(\"Версия базы данных SQLite: \", record)\n",
        "    cursor.close()\n",
        "\n",
        "except sqlite3.Error as error:\n",
        "    print(\"Ошибка при подключении к sqlite\", error)\n",
        "finally:\n",
        "    if (sqlite_connection):\n",
        "        sqlite_connection.close()\n",
        "        print(\"Соединение с SQLite закрыто\")\n"
      ],
      "metadata": {
        "outputId": "06cc5e29-a78a-4916-cea2-f86506c6c253",
        "colab": {
          "base_uri": "https://localhost:8080/"
        },
        "id": "g-7k9Ld0Du2n"
      },
      "execution_count": 52,
      "outputs": [
        {
          "output_type": "stream",
          "name": "stdout",
          "text": [
            "База данных создана и успешно подключена к SQLite\n",
            "Версия базы данных SQLite:  [('3.37.2',)]\n",
            "Соединение с SQLite закрыто\n"
          ]
        }
      ]
    },
    {
      "cell_type": "markdown",
      "source": [
        "# Tab-Advisor"
      ],
      "metadata": {
        "id": "9zJ-3C0GDu2n"
      }
    },
    {
      "cell_type": "code",
      "source": [
        "import sqlite3\n",
        "\n",
        "try:\n",
        "    sqlite_connection = sqlite3.connect('StudentClass.db')\n",
        "    sqlite_create_table_query = '''CREATE TABLE Advisor (\n",
        "                                AdvisorID INTEGER  PRIMARY KEY,\n",
        "                                Advisor TEXT,\n",
        "                                Adv_Room INTEGER\n",
        "                                );'''\n",
        "\n",
        "    cursor = sqlite_connection.cursor()\n",
        "    print(\"База данных подключена к SQLite\")\n",
        "    cursor.execute(sqlite_create_table_query)\n",
        "    sqlite_connection.commit()\n",
        "    print(\"Таблица SQLite создана\")\n",
        "\n",
        "    cursor.close()\n",
        "\n",
        "except sqlite3.Error as error:\n",
        "    print(\"Ошибка при подключении к sqlite\", error)\n",
        "finally:\n",
        "    if (sqlite_connection):\n",
        "        sqlite_connection.close()\n",
        "        print(\"Соединение с SQLite закрыто\")"
      ],
      "metadata": {
        "colab": {
          "base_uri": "https://localhost:8080/"
        },
        "outputId": "5a5b4428-b5fd-4648-f8b0-ec479ca11c1b",
        "id": "-G8EZMhhDu2o"
      },
      "execution_count": 53,
      "outputs": [
        {
          "output_type": "stream",
          "name": "stdout",
          "text": [
            "База данных подключена к SQLite\n",
            "Таблица SQLite создана\n",
            "Соединение с SQLite закрыто\n"
          ]
        }
      ]
    },
    {
      "cell_type": "code",
      "source": [
        "\n",
        "import sqlite3\n",
        "import traceback\n",
        "import sys\n",
        "\n",
        "try:\n",
        "    sqlite_connection = sqlite3.connect('StudentClass.db')\n",
        "    cursor = sqlite_connection.cursor()\n",
        "    print(\"База данных подключена к SQLite\")\n",
        "\n",
        "    sqlite_insert_query = \"\"\"INSERT INTO Advisor (AdvisorID, Advisor, Adv_Room)\n",
        "                            VALUES (1,'Петров', 412),\n",
        "                                   (2, 'Иванов', 216)\"\"\"\n",
        "\n",
        "    count = cursor.execute(sqlite_insert_query)\n",
        "    sqlite_connection.commit()\n",
        "    print(\"Запись успешно вставлена ​​в таблицу sqlitedb_developers \", cursor.rowcount)\n",
        "    cursor.close()\n",
        "\n",
        "except sqlite3.Error as error:\n",
        "    print(\"Не удалось вставить данные в таблицу sqlite\")\n",
        "    print(\"Класс исключения: \", error.__class__)\n",
        "    print(\"Исключение\", error.args)\n",
        "    print(\"Печать подробноcтей исключения SQLite: \")\n",
        "    exc_type, exc_value, exc_tb = sys.exc_info()\n",
        "    print(traceback.format_exception(exc_type, exc_value, exc_tb))\n",
        "finally:\n",
        "    if (sqlite_connection):\n",
        "        sqlite_connection.close()\n",
        "        print(\"Соединение с SQLite закрыто\")"
      ],
      "metadata": {
        "colab": {
          "base_uri": "https://localhost:8080/"
        },
        "outputId": "d670ed01-8e23-4d96-ff2d-28818e93e134",
        "id": "dJhHkNgKDu2o"
      },
      "execution_count": 54,
      "outputs": [
        {
          "output_type": "stream",
          "name": "stdout",
          "text": [
            "База данных подключена к SQLite\n",
            "Запись успешно вставлена ​​в таблицу sqlitedb_developers  2\n",
            "Соединение с SQLite закрыто\n"
          ]
        }
      ]
    },
    {
      "cell_type": "code",
      "source": [
        "import sqlite3\n",
        "\n",
        "# Устанавливаем соединение с базой данных\n",
        "connection = sqlite3.connect('StudentClass.db')\n",
        "cursor = connection.cursor()\n",
        "\n",
        "# Выбираем всех\n",
        "cursor.execute('SELECT * FROM Advisor')\n",
        "users = cursor.fetchall()\n",
        "\n",
        "# Выводим результаты\n",
        "for name in users:\n",
        "  print(name)\n",
        "\n",
        "# Закрываем соединение\n",
        "connection.close()"
      ],
      "metadata": {
        "colab": {
          "base_uri": "https://localhost:8080/"
        },
        "outputId": "9968e8a5-17aa-4c32-84bd-f71d2bf3be4f",
        "id": "i9ltc0QqDu2o"
      },
      "execution_count": 55,
      "outputs": [
        {
          "output_type": "stream",
          "name": "stdout",
          "text": [
            "(1, 'Петров', 412)\n",
            "(2, 'Иванов', 216)\n"
          ]
        }
      ]
    },
    {
      "cell_type": "markdown",
      "source": [
        "# Tab-Class"
      ],
      "metadata": {
        "id": "wy5Hc4D4n2A2"
      }
    },
    {
      "cell_type": "code",
      "source": [
        "import sqlite3\n",
        "\n",
        "try:\n",
        "    sqlite_connection = sqlite3.connect('StudentClass.db')\n",
        "    sqlite_create_table_query = '''CREATE TABLE Class (\n",
        "                                ClassID INTEGER  PRIMARY KEY,\n",
        "                                Class TEXT\n",
        "                                );'''\n",
        "\n",
        "    cursor = sqlite_connection.cursor()\n",
        "    print(\"База данных подключена к SQLite\")\n",
        "    cursor.execute(sqlite_create_table_query)\n",
        "    sqlite_connection.commit()\n",
        "    print(\"Таблица SQLite создана\")\n",
        "\n",
        "    cursor.close()\n",
        "\n",
        "except sqlite3.Error as error:\n",
        "    print(\"Ошибка при подключении к sqlite\", error)\n",
        "finally:\n",
        "    if (sqlite_connection):\n",
        "        sqlite_connection.close()\n",
        "        print(\"Соединение с SQLite закрыто\")"
      ],
      "metadata": {
        "colab": {
          "base_uri": "https://localhost:8080/"
        },
        "outputId": "8ba9212c-8479-4c3f-810e-fdb0bd6e11a1",
        "id": "h_HSUYeOn2A2"
      },
      "execution_count": 56,
      "outputs": [
        {
          "output_type": "stream",
          "name": "stdout",
          "text": [
            "База данных подключена к SQLite\n",
            "Таблица SQLite создана\n",
            "Соединение с SQLite закрыто\n"
          ]
        }
      ]
    },
    {
      "cell_type": "code",
      "source": [
        "\n",
        "import sqlite3\n",
        "import traceback\n",
        "import sys\n",
        "\n",
        "try:\n",
        "    sqlite_connection = sqlite3.connect('StudentClass.db')\n",
        "    cursor = sqlite_connection.cursor()\n",
        "    print(\"База данных подключена к SQLite\")\n",
        "\n",
        "    sqlite_insert_query = \"\"\"INSERT INTO Class (ClassID, Class)\n",
        "                            VALUES (1,'101-07'),\n",
        "                                   (2,'143-01'),\n",
        "                                   (3,'159-02'),\n",
        "                                   (4, '179-04')\"\"\"\n",
        "\n",
        "    count = cursor.execute(sqlite_insert_query)\n",
        "    sqlite_connection.commit()\n",
        "    print(\"Запись успешно вставлена ​​в таблицу sqlitedb_developers \", cursor.rowcount)\n",
        "    cursor.close()\n",
        "\n",
        "except sqlite3.Error as error:\n",
        "    print(\"Не удалось вставить данные в таблицу sqlite\")\n",
        "    print(\"Класс исключения: \", error.__class__)\n",
        "    print(\"Исключение\", error.args)\n",
        "    print(\"Печать подробноcтей исключения SQLite: \")\n",
        "    exc_type, exc_value, exc_tb = sys.exc_info()\n",
        "    print(traceback.format_exception(exc_type, exc_value, exc_tb))\n",
        "finally:\n",
        "    if (sqlite_connection):\n",
        "        sqlite_connection.close()\n",
        "        print(\"Соединение с SQLite закрыто\")"
      ],
      "metadata": {
        "colab": {
          "base_uri": "https://localhost:8080/"
        },
        "outputId": "a0fcb2d6-bfc3-4f76-cd40-a2be8bd39714",
        "id": "633DhkWkn2A2"
      },
      "execution_count": 57,
      "outputs": [
        {
          "output_type": "stream",
          "name": "stdout",
          "text": [
            "База данных подключена к SQLite\n",
            "Запись успешно вставлена ​​в таблицу sqlitedb_developers  4\n",
            "Соединение с SQLite закрыто\n"
          ]
        }
      ]
    },
    {
      "cell_type": "code",
      "source": [
        "import sqlite3\n",
        "\n",
        "# Устанавливаем соединение с базой данных\n",
        "connection = sqlite3.connect('StudentClass.db')\n",
        "cursor = connection.cursor()\n",
        "\n",
        "# Выбираем всех\n",
        "cursor.execute('SELECT * FROM Class')\n",
        "users = cursor.fetchall()\n",
        "\n",
        "# Выводим результаты\n",
        "for name in users:\n",
        "  print(name)\n",
        "\n",
        "# Закрываем соединение\n",
        "connection.close()"
      ],
      "metadata": {
        "colab": {
          "base_uri": "https://localhost:8080/"
        },
        "outputId": "fd6010bd-1464-434f-fe3b-31d3c52a6569",
        "id": "hawsvoHXn2A3"
      },
      "execution_count": 58,
      "outputs": [
        {
          "output_type": "stream",
          "name": "stdout",
          "text": [
            "(1, '101-07')\n",
            "(2, '143-01')\n",
            "(3, '159-02')\n",
            "(4, '179-04')\n"
          ]
        }
      ]
    },
    {
      "cell_type": "markdown",
      "source": [
        "# Tab-Students"
      ],
      "metadata": {
        "id": "H0bEJ2XWrm1y"
      }
    },
    {
      "cell_type": "code",
      "source": [
        "import sqlite3\n",
        "\n",
        "try:\n",
        "    sqlite_connection = sqlite3.connect('StudentClass.db')\n",
        "    sqlite_create_table_query = '''CREATE TABLE Student (\n",
        "                                Student INTEGER  PRIMARY KEY,\n",
        "                                AdvisorID INTEGER,\n",
        "                                Class1 INTEGER,\n",
        "                                Class2 INTEGER,\n",
        "                                Class3 INTEGER\n",
        "                                );'''\n",
        "\n",
        "    cursor = sqlite_connection.cursor()\n",
        "    print(\"База данных подключена к SQLite\")\n",
        "    cursor.execute(sqlite_create_table_query)\n",
        "    sqlite_connection.commit()\n",
        "    print(\"Таблица SQLite создана\")\n",
        "\n",
        "    cursor.close()\n",
        "\n",
        "except sqlite3.Error as error:\n",
        "    print(\"Ошибка при подключении к sqlite\", error)\n",
        "finally:\n",
        "    if (sqlite_connection):\n",
        "        sqlite_connection.close()\n",
        "        print(\"Соединение с SQLite закрыто\")"
      ],
      "metadata": {
        "colab": {
          "base_uri": "https://localhost:8080/"
        },
        "outputId": "b4cc008e-ec84-4b3e-d66d-f9d9fed8c297",
        "id": "s9fW9Gkqrm1y"
      },
      "execution_count": 59,
      "outputs": [
        {
          "output_type": "stream",
          "name": "stdout",
          "text": [
            "База данных подключена к SQLite\n",
            "Таблица SQLite создана\n",
            "Соединение с SQLite закрыто\n"
          ]
        }
      ]
    },
    {
      "cell_type": "code",
      "source": [
        "\n",
        "import sqlite3\n",
        "import traceback\n",
        "import sys\n",
        "\n",
        "try:\n",
        "    sqlite_connection = sqlite3.connect('StudentClass.db')\n",
        "    cursor = sqlite_connection.cursor()\n",
        "    print(\"База данных подключена к SQLite\")\n",
        "\n",
        "    sqlite_insert_query = \"\"\"INSERT INTO Student (Student, AdvisorID, Class1, Class2, Class3)\n",
        "                            VALUES (1022, 1, 1, 2, 3),\n",
        "                                   (4123, 2, 1, 2, 4)\"\"\"\n",
        "\n",
        "    count = cursor.execute(sqlite_insert_query)\n",
        "    sqlite_connection.commit()\n",
        "    print(\"Запись успешно вставлена ​​в таблицу sqlitedb_developers \", cursor.rowcount)\n",
        "    cursor.close()\n",
        "\n",
        "except sqlite3.Error as error:\n",
        "    print(\"Не удалось вставить данные в таблицу sqlite\")\n",
        "    print(\"Класс исключения: \", error.__class__)\n",
        "    print(\"Исключение\", error.args)\n",
        "    print(\"Печать подробноcтей исключения SQLite: \")\n",
        "    exc_type, exc_value, exc_tb = sys.exc_info()\n",
        "    print(traceback.format_exception(exc_type, exc_value, exc_tb))\n",
        "finally:\n",
        "    if (sqlite_connection):\n",
        "        sqlite_connection.close()\n",
        "        print(\"Соединение с SQLite закрыто\")"
      ],
      "metadata": {
        "colab": {
          "base_uri": "https://localhost:8080/"
        },
        "outputId": "e146b97a-cd86-48b3-e1dd-e7218609834b",
        "id": "G7rT-bw5rm10"
      },
      "execution_count": 60,
      "outputs": [
        {
          "output_type": "stream",
          "name": "stdout",
          "text": [
            "База данных подключена к SQLite\n",
            "Запись успешно вставлена ​​в таблицу sqlitedb_developers  2\n",
            "Соединение с SQLite закрыто\n"
          ]
        }
      ]
    },
    {
      "cell_type": "code",
      "source": [
        "import sqlite3\n",
        "\n",
        "# Устанавливаем соединение с базой данных\n",
        "connection = sqlite3.connect('StudentClass.db')\n",
        "cursor = connection.cursor()\n",
        "\n",
        "# Выбираем всех\n",
        "cursor.execute('SELECT * FROM Student')\n",
        "users = cursor.fetchall()\n",
        "\n",
        "# Выводим результаты\n",
        "for name in users:\n",
        "  print(name)\n",
        "\n",
        "# Закрываем соединение\n",
        "connection.close()"
      ],
      "metadata": {
        "colab": {
          "base_uri": "https://localhost:8080/"
        },
        "outputId": "412646cd-40e6-4fc0-f49d-5eb56679bac8",
        "id": "oT0HUcRLrm11"
      },
      "execution_count": 61,
      "outputs": [
        {
          "output_type": "stream",
          "name": "stdout",
          "text": [
            "(1022, 1, 1, 2, 3)\n",
            "(4123, 2, 1, 2, 4)\n"
          ]
        }
      ]
    },
    {
      "cell_type": "markdown",
      "source": [
        "# Задание 2\n",
        "Клиент- \tКод - товара -\tНаименование товара\t - Количество -\tЦена\t- Всего\n",
        "\n",
        "1\t- 121,333,444 -\tЛампа, Ножницы, Зонт -\t5,2,8\t- 2,4,10\t- 10,8,80\n"
      ],
      "metadata": {
        "id": "NSdQt2fEldKS"
      }
    },
    {
      "cell_type": "markdown",
      "source": [
        "# Tab-Goods"
      ],
      "metadata": {
        "id": "4Of4LW84NmM4"
      }
    },
    {
      "cell_type": "code",
      "source": [
        "import sqlite3\n",
        "\n",
        "try:\n",
        "    sqlite_connection = sqlite3.connect('Store.db')\n",
        "    sqlite_create_table_query = '''CREATE TABLE Goods (\n",
        "                                GoodsID INTEGER  PRIMARY KEY,\n",
        "                                Name TEXT,\n",
        "                                Cost INTEGER\n",
        "                                );'''\n",
        "\n",
        "    cursor = sqlite_connection.cursor()\n",
        "    print(\"База данных подключена к SQLite\")\n",
        "    cursor.execute(sqlite_create_table_query)\n",
        "    sqlite_connection.commit()\n",
        "    print(\"Таблица SQLite создана\")\n",
        "\n",
        "    cursor.close()\n",
        "\n",
        "except sqlite3.Error as error:\n",
        "    print(\"Ошибка при подключении к sqlite\", error)\n",
        "finally:\n",
        "    if (sqlite_connection):\n",
        "        sqlite_connection.close()\n",
        "        print(\"Соединение с SQLite закрыто\")"
      ],
      "metadata": {
        "colab": {
          "base_uri": "https://localhost:8080/"
        },
        "outputId": "1ab5e35d-f32c-495d-cd14-880c01076cc9",
        "id": "moFKqBT9NmM5"
      },
      "execution_count": 65,
      "outputs": [
        {
          "output_type": "stream",
          "name": "stdout",
          "text": [
            "База данных подключена к SQLite\n",
            "Таблица SQLite создана\n",
            "Соединение с SQLite закрыто\n"
          ]
        }
      ]
    },
    {
      "cell_type": "code",
      "source": [
        "\n",
        "import sqlite3\n",
        "import traceback\n",
        "import sys\n",
        "\n",
        "try:\n",
        "    sqlite_connection = sqlite3.connect('Store.db')\n",
        "    cursor = sqlite_connection.cursor()\n",
        "    print(\"База данных подключена к SQLite\")\n",
        "\n",
        "    sqlite_insert_query = \"\"\"INSERT INTO Goods (GoodsID, Name, Cost)\n",
        "                            VALUES (121, 'Лампа', 2),\n",
        "                                   (333, 'Ножницы', 4),\n",
        "                                   (444, 'Зонт', 10)\"\"\"\n",
        "\n",
        "    count = cursor.execute(sqlite_insert_query)\n",
        "    sqlite_connection.commit()\n",
        "    print(\"Запись успешно вставлена ​​в таблицу sqlitedb_developers \", cursor.rowcount)\n",
        "    cursor.close()\n",
        "\n",
        "except sqlite3.Error as error:\n",
        "    print(\"Не удалось вставить данные в таблицу sqlite\")\n",
        "    print(\"Класс исключения: \", error.__class__)\n",
        "    print(\"Исключение\", error.args)\n",
        "    print(\"Печать подробноcтей исключения SQLite: \")\n",
        "    exc_type, exc_value, exc_tb = sys.exc_info()\n",
        "    print(traceback.format_exception(exc_type, exc_value, exc_tb))\n",
        "finally:\n",
        "    if (sqlite_connection):\n",
        "        sqlite_connection.close()\n",
        "        print(\"Соединение с SQLite закрыто\")"
      ],
      "metadata": {
        "colab": {
          "base_uri": "https://localhost:8080/"
        },
        "outputId": "bedfaeb8-b8f0-4281-dfc4-b84432410310",
        "id": "XJuDjXGsNmM5"
      },
      "execution_count": 66,
      "outputs": [
        {
          "output_type": "stream",
          "name": "stdout",
          "text": [
            "База данных подключена к SQLite\n",
            "Запись успешно вставлена ​​в таблицу sqlitedb_developers  3\n",
            "Соединение с SQLite закрыто\n"
          ]
        }
      ]
    },
    {
      "cell_type": "code",
      "source": [
        "import sqlite3\n",
        "\n",
        "# Устанавливаем соединение с базой данных\n",
        "connection = sqlite3.connect('Store.db')\n",
        "cursor = connection.cursor()\n",
        "\n",
        "# Выбираем всех\n",
        "cursor.execute('SELECT * FROM Goods')\n",
        "users = cursor.fetchall()\n",
        "\n",
        "# Выводим результаты\n",
        "for name in users:\n",
        "  print(name)\n",
        "\n",
        "# Закрываем соединение\n",
        "connection.close()"
      ],
      "metadata": {
        "colab": {
          "base_uri": "https://localhost:8080/"
        },
        "outputId": "5c3636da-0fe7-4915-8ab3-2b2528a3ce22",
        "id": "T7LmiDyCNmM5"
      },
      "execution_count": 67,
      "outputs": [
        {
          "output_type": "stream",
          "name": "stdout",
          "text": [
            "(121, 'Лампа', 2)\n",
            "(333, 'Ножницы', 4)\n",
            "(444, 'Зонт', 10)\n"
          ]
        }
      ]
    },
    {
      "cell_type": "markdown",
      "source": [
        "# Tab-Store"
      ],
      "metadata": {
        "id": "uhmLB5YnH7ps"
      }
    },
    {
      "cell_type": "code",
      "source": [
        "import sqlite3\n",
        "\n",
        "try:\n",
        "    sqlite_connection = sqlite3.connect('Store.db')\n",
        "    sqlite_create_table_query = '''CREATE TABLE Store (\n",
        "                                GoodsID INTEGER  PRIMARY KEY,\n",
        "                                CustomerID INTEGER,\n",
        "                                Amount INTEGER,\n",
        "                                Res INTEGER\n",
        "                                );'''\n",
        "\n",
        "    cursor = sqlite_connection.cursor()\n",
        "    print(\"База данных подключена к SQLite\")\n",
        "    cursor.execute(sqlite_create_table_query)\n",
        "    sqlite_connection.commit()\n",
        "    print(\"Таблица SQLite создана\")\n",
        "\n",
        "    cursor.close()\n",
        "\n",
        "except sqlite3.Error as error:\n",
        "    print(\"Ошибка при подключении к sqlite\", error)\n",
        "finally:\n",
        "    if (sqlite_connection):\n",
        "        sqlite_connection.close()\n",
        "        print(\"Соединение с SQLite закрыто\")"
      ],
      "metadata": {
        "colab": {
          "base_uri": "https://localhost:8080/"
        },
        "outputId": "965b93fc-297c-40c7-caab-d626b1795805",
        "id": "qNf6x0CzH7pt"
      },
      "execution_count": 62,
      "outputs": [
        {
          "output_type": "stream",
          "name": "stdout",
          "text": [
            "База данных подключена к SQLite\n",
            "Таблица SQLite создана\n",
            "Соединение с SQLite закрыто\n"
          ]
        }
      ]
    },
    {
      "cell_type": "code",
      "source": [
        "\n",
        "import sqlite3\n",
        "import traceback\n",
        "import sys\n",
        "\n",
        "try:\n",
        "    sqlite_connection = sqlite3.connect('Store.db')\n",
        "    cursor = sqlite_connection.cursor()\n",
        "    print(\"База данных подключена к SQLite\")\n",
        "\n",
        "    sqlite_insert_query = \"\"\"INSERT INTO Store (GoodsID, CustomerID, Amount, Res)\n",
        "                            VALUES (121, 1, 5, 10),\n",
        "                                   (333, 1, 2, 8),\n",
        "                                   (444, 1, 8, 80)\"\"\"\n",
        "\n",
        "    count = cursor.execute(sqlite_insert_query)\n",
        "    sqlite_connection.commit()\n",
        "    print(\"Запись успешно вставлена ​​в таблицу sqlitedb_developers \", cursor.rowcount)\n",
        "    cursor.close()\n",
        "\n",
        "except sqlite3.Error as error:\n",
        "    print(\"Не удалось вставить данные в таблицу sqlite\")\n",
        "    print(\"Класс исключения: \", error.__class__)\n",
        "    print(\"Исключение\", error.args)\n",
        "    print(\"Печать подробноcтей исключения SQLite: \")\n",
        "    exc_type, exc_value, exc_tb = sys.exc_info()\n",
        "    print(traceback.format_exception(exc_type, exc_value, exc_tb))\n",
        "finally:\n",
        "    if (sqlite_connection):\n",
        "        sqlite_connection.close()\n",
        "        print(\"Соединение с SQLite закрыто\")"
      ],
      "metadata": {
        "colab": {
          "base_uri": "https://localhost:8080/"
        },
        "outputId": "5fb7ac4a-1379-4d73-a534-3231a812e389",
        "id": "qCQEwY3JH7pt"
      },
      "execution_count": 63,
      "outputs": [
        {
          "output_type": "stream",
          "name": "stdout",
          "text": [
            "База данных подключена к SQLite\n",
            "Запись успешно вставлена ​​в таблицу sqlitedb_developers  3\n",
            "Соединение с SQLite закрыто\n"
          ]
        }
      ]
    },
    {
      "cell_type": "code",
      "source": [
        "import sqlite3\n",
        "\n",
        "# Устанавливаем соединение с базой данных\n",
        "connection = sqlite3.connect('Store.db')\n",
        "cursor = connection.cursor()\n",
        "\n",
        "# Выбираем всех\n",
        "cursor.execute('SELECT * FROM Store')\n",
        "users = cursor.fetchall()\n",
        "\n",
        "# Выводим результаты\n",
        "for name in users:\n",
        "  print(name)\n",
        "\n",
        "# Закрываем соединение\n",
        "connection.close()"
      ],
      "metadata": {
        "colab": {
          "base_uri": "https://localhost:8080/"
        },
        "outputId": "5ae49e24-16ec-448c-fb37-5f02aef78e2d",
        "id": "XGNBeU9sH7pt"
      },
      "execution_count": 64,
      "outputs": [
        {
          "output_type": "stream",
          "name": "stdout",
          "text": [
            "(121, 1, 5, 10)\n",
            "(333, 1, 2, 8)\n",
            "(444, 1, 8, 80)\n"
          ]
        }
      ]
    },
    {
      "cell_type": "markdown",
      "source": [
        "# Задание 3\n",
        "1.   Напишите запрос к SQLite для создания и заполнения нужных таблиц БД для перовго и второго задания\n",
        "2.  Для второй БД напишите запрос выводящий список первых трех товаров (их всего три, конечо, но не суть) проданных на наибольшую сумму (по возрастанию)\n",
        "\n"
      ],
      "metadata": {
        "id": "hcVz_6yvoCel"
      }
    },
    {
      "cell_type": "markdown",
      "source": [
        "Первая часть задания выполнена выше"
      ],
      "metadata": {
        "id": "1tLw0uFjTHeV"
      }
    },
    {
      "cell_type": "code",
      "source": [
        "import sqlite3\n",
        "\n",
        "# Устанавливаем соединение с базой данных\n",
        "connection = sqlite3.connect('Store.db')\n",
        "cursor = connection.cursor()\n",
        "\n",
        "# Выбираем\n",
        "cursor.execute('SELECT DISTINCT Goods.Name, Store.Res FROM Store LEFT JOIN Goods ON Store.GoodsID=Goods.GoodsID ORDER BY Store.Res')\n",
        "users = cursor.fetchall()\n",
        "\n",
        "# Выводим результаты\n",
        "for name in users:\n",
        "  print(name)\n",
        "\n",
        "# Закрываем соединение\n",
        "connection.close()"
      ],
      "metadata": {
        "colab": {
          "base_uri": "https://localhost:8080/"
        },
        "outputId": "9b2731f0-99fe-4392-9faf-5f6773f4226d",
        "id": "6usp9H14QxPQ"
      },
      "execution_count": 82,
      "outputs": [
        {
          "output_type": "stream",
          "name": "stdout",
          "text": [
            "('Ножницы', 8)\n",
            "('Лампа', 10)\n",
            "('Зонт', 80)\n"
          ]
        }
      ]
    }
  ]
}
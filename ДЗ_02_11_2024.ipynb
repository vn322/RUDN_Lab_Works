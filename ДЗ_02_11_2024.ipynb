{
  "nbformat": 4,
  "nbformat_minor": 0,
  "metadata": {
    "colab": {
      "provenance": [],
      "authorship_tag": "ABX9TyMcnEMOGT8X0C8dk2aMCEMx",
      "include_colab_link": true
    },
    "kernelspec": {
      "name": "python3",
      "display_name": "Python 3"
    },
    "language_info": {
      "name": "python"
    }
  },
  "cells": [
    {
      "cell_type": "markdown",
      "metadata": {
        "id": "view-in-github",
        "colab_type": "text"
      },
      "source": [
        "<a href=\"https://colab.research.google.com/github/vn322/RUDN_Lab_Works/blob/main/%D0%94%D0%97_02_11_2024.ipynb\" target=\"_parent\"><img src=\"https://colab.research.google.com/assets/colab-badge.svg\" alt=\"Open In Colab\"/></a>"
      ]
    },
    {
      "cell_type": "code",
      "source": [
        "import matplotlib.pyplot as plt\n",
        "import numpy as np\n",
        "import math\n",
        "\n",
        "x= np.linspace(-1, 2, 100)\n",
        "\n",
        "def f1(x):\n",
        "    return x**2/3**2 + x**2/(3/2)**2 - 1\n",
        "\n",
        "def f2(x):\n",
        "    return a * x - np.exp(x) - x\n",
        "\n",
        "y1 = f1(x)\n",
        "y2 = f2(x)\n",
        "\n",
        "plt.plot(x, y1)\n",
        "plt.plot(x, y2)\n",
        "plt.show()"
      ],
      "metadata": {
        "colab": {
          "base_uri": "https://localhost:8080/",
          "height": 430
        },
        "id": "OQ8rdxMtiKAT",
        "outputId": "406965a2-06a9-41a0-f674-705bf77b7b11"
      },
      "execution_count": 18,
      "outputs": [
        {
          "output_type": "display_data",
          "data": {
            "text/plain": [
              "<Figure size 640x480 with 1 Axes>"
            ],
            "image/png": "[encoded data removed]"
          },
          "metadata": {}
        }
      ]
    },
    {
      "cell_type": "code",
      "source": [
        "\n",
        "\n",
        "global a\n",
        "a = 3\n",
        "\n",
        "def fun_1(x):\n",
        "    f = x[0] ** 2 / a ** 2 + x[1] ** 2 / (a / 2) ** 2 - 1\n",
        "    return f\n",
        "\n",
        "def d_fun_1(x):\n",
        "    df0 = 2 * x[0] / a ** 2\n",
        "    df1 = 2 * x[1] / (a / 2) ** 2\n",
        "    return df0, df1\n",
        "\n",
        "def fun_2(x):\n",
        "    f = a * x[1] - np.exp(x[0]) - x[0]\n",
        "    return f\n",
        "\n",
        "def d_fun_2(x):\n",
        "    df0 = - np.exp(x[0]) -1\n",
        "    df1 = a\n",
        "    return df0, df1\n",
        "\n",
        "def Jac(x):\n",
        "    df1 = d_fun_1(x)\n",
        "    df2 = d_fun_2(x)\n",
        "    Jac = np.array([[df1[0], df1[1]], [df2[0], df2[1]]])\n",
        "    return Jac\n",
        "\n",
        "def delta(x, f):\n",
        "    J = Jac(x)\n",
        "    delta = np.linalg.solve(J, -f)\n",
        "    return delta\n",
        "\n",
        "def zero_estimate():\n",
        "    l = np.array([0.75, 1])\n",
        "    r = np.array([0.1, 1.63])\n",
        "    x_0 = (l + r) * 0.5\n",
        "    return l, r, x_0\n",
        "\n",
        "def norm(x_cur, x_nex):\n",
        "    norm = math.sqrt((x_nex[0] - x_cur[0]) ** 2 + (x_nex[1] - x_cur[1]) ** 2)\n",
        "    return norm\n",
        "\n",
        "def Newton(eps):\n",
        "    l, r, x_cur = zero_estimate()\n",
        "    f = np.array([fun_1(x_cur), fun_2(x_cur)])\n",
        "    x_nex = x_cur + delta(x_cur, f)\n",
        "    i = 1\n",
        "    while norm(x_cur, x_nex) > eps:\n",
        "        x_cur = x_nex\n",
        "        f = np.array([fun_1(x_cur), fun_2(x_cur)])\n",
        "        x_nex = x_cur + delta(x_cur, f)\n",
        "        i += 1\n",
        "    return x_nex, i\n",
        "\n",
        "def fun_1_s(x):\n",
        "    f = (math.sqrt(abs(- x[1] ** 2 / ((a / 2) ** 2) + 1))) / a\n",
        "    return f\n",
        "\n",
        "def fun_2_s(x):\n",
        "    f = (np.exp(x[0]) + x[0]) / a\n",
        "    return f\n",
        "\n",
        "def d_fun_1_s(x):\n",
        "    df = - 1 / (a ** 4) * math.sqrt(abs(1 - (x[1] / (a / 2)) ** 2))\n",
        "    return df\n",
        "\n",
        "def d_fun_2_s(x):\n",
        "    df = (np.exp(x[0]) + 1) / a\n",
        "    return df\n",
        "\n",
        "def df_matrix(x):\n",
        "    df = [[0, d_fun_1_s(x)], [d_fun_2_s(x), 0]]\n",
        "    return df\n",
        "\n",
        "def norm_s(x):\n",
        "    n = [abs(d_fun_1_s(x)), abs(d_fun_2_s(x))]\n",
        "    return n\n",
        "\n",
        "def SimplIt(eps):\n",
        "    l, r, x_cur = zero_estimate()\n",
        "    q = max(norm_s(l), norm_s(r))\n",
        "    x_nex = np.array([fun_1_s(x_cur), fun_2_s(x_cur)])\n",
        "    i = 1\n",
        "    check = [q[0] / (1 - q[0]), q[1] / (1 - q[1])] * abs(x_nex - x_cur)\n",
        "    while (check[0] > eps) and (check[1] > eps):\n",
        "        x_cur = x_nex\n",
        "        x_nex = np.array([fun_1_s(x_cur), fun_2_s(x_cur)])\n",
        "        i += 1\n",
        "        check = [q[0] / (1 - q[0]), q[1] / (1 - q[1])] * abs(x_nex - x_cur)\n",
        "    return x_nex, i\n",
        "\n",
        "\n",
        "\n",
        "\n",
        "\n",
        "\n",
        "def main():\n",
        "    # x1^2/a^2 + x2^2/(a/2)^2 - 1 = 0\n",
        "    # a*x2 - exp(x1) -x1 = 0\n",
        "    # a = 3\n",
        "    eps = 0.00001\n",
        "    print('Метод Ньютона: ')\n",
        "    print('Корни: ', Newton(eps)[0])\n",
        "    print('Итераций: ', Newton(eps)[1])\n",
        "    print('Метод Простых Итераций: ')\n",
        "    print('Корни: ', SimplIt(eps)[0])\n",
        "    print('Итераций: ', SimplIt(eps)[1])\n",
        "\n",
        "\n",
        "\n",
        "if __name__ == \"__main__\":\n",
        "    main()"
      ],
      "metadata": {
        "colab": {
          "base_uri": "https://localhost:8080/"
        },
        "id": "cquULfmdg1vb",
        "outputId": "27eda8b1-45b7-4114-c337-1c603a367566"
      },
      "execution_count": 28,
      "outputs": [
        {
          "output_type": "stream",
          "name": "stdout",
          "text": [
            "Метод Ньютона: \n",
            "Корни:  [1.11780972 1.39198612]\n",
            "Итераций:  5\n",
            "Метод Простых Итераций: \n",
            "Корни:  [0.16036609 0.65153014]\n",
            "Итераций:  1\n"
          ]
        }
      ]
    }
  ]
}
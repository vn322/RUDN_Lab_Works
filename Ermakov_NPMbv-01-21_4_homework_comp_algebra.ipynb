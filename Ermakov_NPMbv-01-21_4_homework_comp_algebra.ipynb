{
 "cells": [
  {
   "cell_type": "markdown",
   "metadata": {},
   "source": [
    "# Теоретические вопросы.\n",
    "\n",
    "1) Что такое дифференцирование кольца k[x]?\n",
    "\n",
    "2) Может ли простой многочлен с целыми коэффициентами иметь кратные корни?\n",
    "\n",
    "3) Могут ли простые многочлены с целыми коэффициентами иметь общие корни?\n",
    "\n",
    "4) Что такое иррациональное число? Что такое алгебраическое число?\n",
    "\n",
    "5) Дайте определения минимального многочлена алгебраического числа."
   ]
  },
  {
   "cell_type": "markdown",
   "metadata": {},
   "source": [
    "## Линейное отображение D кольца A в кольцо A называют дифференцированием, если выполняется правило Лейбница\n",
    "$D(ab) = a · D(b) + D(a) · b$\n",
    "\n",
    "Образ элемента a, то есть Da, называют производной a. Элементы кольца\n",
    "A, которые переходят в нуль кольца A, называют константами относительно дифференцирования D.\n",
    "\n",
    "Чтобы определить дифференцирование кольца многочленов $k[x]$, введем\n",
    "новую переменную dx и для любого $f ∈ k[x]$ рассмотрим выражение\n",
    "$$f(x + dx) = f(x) + f_1(x)dx + f_2(x)dx^2 + . . .$$\n",
    "\n",
    "как элемент кольца $k[x][dx]$. Коэффициент при dx является некоторым\n",
    "многочленом из $k[x]$. Определим отображение D как сопоставление многочлену $f ∈ k[x]$ коэффициента при $dx$ в выражении $f(x + dx) ∈ k[x][dx]$:\n",
    "$$Df = [f(x + dx)]_dx$$.\n",
    "Это отображение является линейным, поскольку для любых двух многочленов f и g верно\n",
    "$$D(f+g) = [f(x+dx)+g(x+dx)]_dx = [f(x+dx)]_dx+[g(x+dx)]_dx = D(f)+D(g)$$.\n",
    "Поскольку выполняется правило Лейбница:\n",
    "$$D(fg) = [f(x + dx)g(x + dx)]_dx = [(f(x) + f1(x)dx + . . .) · (g(x) + g1(x)dx + . . .)]_dx = [f(x)g(x) + f1(x)g(x)dx + f(x)g1(x)dx + . . .)]_dx = fDg + gDf$$,\n",
    "это отображение действительно является дифференцированием кольца\n",
    "$k[x]$. Для многочлена f нулевой степени, то есть элемента поля k, верно\n",
    "$f(x + dx) = f(x)$,\n",
    "поэтому производная многочлена нулевой степени равна нулю. Если степень многочлена больше нуля, то его производная не является нулем $k[x]$.\n",
    "\n",
    "Таким образом, нули дифференцирования D образуют множество, которое\n",
    "совпадает с полем k.\n",
    "Если многочлен $f ∈ k[x]$ приведен к нормальной форме, то\n",
    "$$D(a_nx^n + · · · + a_1x + a_0) = na_nx^{n−1} + · · · + a_1$$.\n",
    "Отсюда сразу видно, что производная многочлена с рациональными коэффициентами не зависит от того, рассматриваем ли мы дифференцирование\n",
    "над Q, R или C.\n"
   ]
  },
  {
   "cell_type": "markdown",
   "metadata": {},
   "source": [
    "## Корень x0 многочлена f(x) называется кратным порядка k, если многочлен f(x) делится на (x-x0)^k, но не делится на (x-x0)^(k+1) \n",
    "\n",
    "\n",
    "Например, (x-1)(x-5)(x-1) \n",
    "Корень x=1 имеет кратность, равную 2. \n",
    "Корень x=5 имеет кратность, равную 1. Он будет простым\n",
    "\n"
   ]
  },
  {
   "cell_type": "markdown",
   "metadata": {},
   "source": [
    "## Многочлены $f(x)=a_0 x^n+a_1 x^{n-1}+a_n$ и $g(x)=b_0 x^m+b_1 x^{m-1}+b_m$ у которых, по крайней мере, один из коэффициентов $a_0 $ и $b_0$ отличен от нуля, т. и  т.т. имеют общий корень, когда  существуют многочлены $h(x)$ и $g(x)$, удовлетворяющие следующим условиям: \n",
    "\n",
    "1) $f(x)h(x)=g(x)q(x)$;\n",
    "\n",
    "2) многочлены $h(x)$ и $q(x)$ представимы в виде \n",
    "\n",
    "$h(x)=c_0 x^{m-1}+c_1 x^{m-2}+⋯+c_{m-1}$;\n",
    "\n",
    " $q(x)=d_0 x^{n-1}+dx^{n-2}+⋯+d_{n-1}$\n",
    " \n",
    "3) по крайней мере, один из многочленов $h(x)$ и $q(x)$ отличен от нуля.\n"
   ]
  },
  {
   "cell_type": "markdown",
   "metadata": {},
   "source": [
    "## Множество комплексных корней, общих для f и g, совпадает с множеством нулей многочлена r.\n",
    "\n",
    "Допустим, что x = a ∈ C — комплексный корень, общий\n",
    "для f и g, то есть f(a) = g(a) = 0. Тогда из r ∈ (f, g) следует, что существуют такие многочлены u, v ∈ Q[x], что\n",
    "uf + vg = r\n",
    "и поэтому r(a) = u(a)f(a) + v(a)g(a) = 0.\n",
    "Обратно, допустим, что x = a ∈ C — комплексный корень r, то есть\n",
    "r(a) = 0. Тогда из f, g ∈ (r) следует, что существуют такие многочлены\n",
    "u, v ∈ Q[x], что\n",
    "f = ur, g = vr\n",
    "и поэтому f(a) = u(a)r(a) = 0 и g(a) = v(a)r(a) = 0.\n",
    "Эта теорема имеет одно весьма важно следствие.\n",
    "Теорема 2. Если f, g — простые многочлены кольца Q[x], то они не имеют\n",
    "общих комплексных корней.\n",
    "Доказательство. Если f, g — простые многочлены кольца Q[x], то (f, g) = 1. Уравнение 1 = 0 не имеет корней, следовательно, совместных корней не\n",
    "имеют и многочлены f, g.\n",
    "Допустим, что многочлен f ∈ Q[x] имеет комплексный корень x = a\n",
    "кратности m, тогда\n",
    "f = (x − a)\n",
    "mg,\n",
    "где g ∈ C[x] и g(a) 6= 0. В таком случае,\n",
    "Df = m(x − a)\n",
    "m−1\n",
    "g + (x − a)\n",
    "mDg = (x − a)\n",
    "m−1\n",
    "(mg + (x − a)Dg).\n",
    "Множитель mg + (x−a)Dg при x = a равен mg(a) 6= 0, поэтому производная имеет нуль кратности m − 1.\n",
    "\n",
    "Все комплексные нули простого многочлена кольца Q[x] имеют кратность 1.\n",
    "\n",
    "Допустим, что простой многочлен f имеет комплексный\n",
    "нуль x = a кратности m > 1, тогда многочлены f и Df имеют совместный\n",
    "нуль x = a. Но тогда (f, Df) = (r) и степень r больше 1. Из Df ∈ (r)\n",
    "следует, что степень r строго меньше степени f, а из f ∈ (r) следует, что\n",
    "f делится на r, что невозможно.\n"
   ]
  },
  {
   "cell_type": "markdown",
   "metadata": {},
   "source": [
    "## Какой бы простой многочлен мы не взяли, его комплексные корни — простые"
   ]
  },
  {
   "cell_type": "markdown",
   "metadata": {},
   "source": [
    "## Если f, g — простые многочлены кольца Q[x], то они не имеют общих комплексных корней."
   ]
  },
  {
   "cell_type": "markdown",
   "metadata": {},
   "source": [
    "## Комплексное число α называется алгебраическим, если оно является корнем некоторого многочлена из Z[x].\n",
    "Множество всех алгебраических чисел обозначается как Q (QQbar), множество всех вещественных алгебраических чисел — как A (AA).\n",
    "\n",
    "\n",
    "Если алгебраическое число α является корнем некоторого многочлена\n",
    "из Q[x], то оно является корнем и некоторого его простого множителя.\n",
    "не существует другого простого многочлена, корнем которого было бы это число. Поэтому многочлен минимальной степени, корнем\n",
    "которого является заданное алгебраическое число, определен однозначно с\n",
    "точность до мультипликативной константы."
   ]
  },
  {
   "cell_type": "markdown",
   "metadata": {},
   "source": [
    "## Многочлен наименьшей степени из Z[x], корнем которого является алгебраическое число, называется минимальным многочленом этого числа"
   ]
  },
  {
   "cell_type": "markdown",
   "metadata": {},
   "source": [
    "# Практические задания.\n",
    "\n",
    "\n",
    "1) Найдите первую и вторую производную функции $x^3(x − 2)^2$\n",
    "\n",
    "2) Найдите минимальный многочлен алгебраического числа $\\sqrt{2+\\sqrt[3]{5}}$\n",
    "\n",
    "3) Найдите рациональные корни многочленов: \n",
    "\n",
    "a.) $x^4-9*x^3+25*x^2-27x+10$\n",
    "\n",
    "b.) $4x^5 - 24x^4 + 13x^3 + 43x^2 - 42x + 10$\n",
    "\n",
    "\n",
    "4) Найдите вещественные корни многочленов и выразите их в радикалах:\n",
    "\n",
    "a.) $x^3 + x + 1$ \n",
    "\n",
    "b.) $4x5 - 24x^4 + 13x^3 + 43x^2 - 42x + 10$\n",
    "\n",
    "c.) $4x^6 - 24x^5 + 25x^4 - 21x^3 - 27x^2 + 37x - 10$\n",
    "\n",
    "\n",
    "5) Найдите комплексные корни многочленов и выразите их в радикалах:\n",
    "\n",
    "a.) $x^3 + x + 1$ \n",
    "\n",
    "b.) $4x^5 - 24x^4 + 13x^3 + 43x^2 - 42x + 10$\n",
    "\n",
    "c.) $4x^6 - 24x^5 + 25x^4 - 21x^3 - 27x^2 + 37x - 10$\n",
    "\n",
    "6) Найдите точки минимума функции $y = (x^2 - 1)(x + 3)(x - 2)$\n",
    "\n",
    "7) Найдите точки максимума функции $y = \\frac{x^3-2}{x^2+1}$\n",
    "\n",
    "\n",
    "8) Найдите наименьшее значение функции $y =x^6 − x^2 + x$ на отрезке [−1, 1]. Ответ выразите в радикалах."
   ]
  },
  {
   "cell_type": "code",
   "execution_count": 1,
   "metadata": {},
   "outputs": [
    {
     "data": {
      "text/plain": [
       "(x, y)"
      ]
     },
     "execution_count": 1,
     "metadata": {},
     "output_type": "execute_result"
    }
   ],
   "source": [
    "var('x,y')"
   ]
  },
  {
   "cell_type": "markdown",
   "metadata": {},
   "source": [
    "1) Найдите первую и вторую производную функции $x^3(x − 2)^2$"
   ]
  },
  {
   "cell_type": "code",
   "execution_count": 6,
   "metadata": {},
   "outputs": [
    {
     "data": {
      "text/plain": [
       "3*(x - 2)^2*x^2 + 2*(x - 2)*x^3"
      ]
     },
     "execution_count": 6,
     "metadata": {},
     "output_type": "execute_result"
    }
   ],
   "source": [
    "diff(x^3*(x - 2)^2,x)"
   ]
  },
  {
   "cell_type": "code",
   "execution_count": 8,
   "metadata": {},
   "outputs": [
    {
     "data": {
      "text/plain": [
       "6*(x - 2)^2*x + 12*(x - 2)*x^2 + 2*x^3"
      ]
     },
     "execution_count": 8,
     "metadata": {},
     "output_type": "execute_result"
    }
   ],
   "source": [
    "(x^3*(x - 2)^2).diff(x).diff(x)"
   ]
  },
  {
   "cell_type": "code",
   "execution_count": 12,
   "metadata": {},
   "outputs": [],
   "source": [
    "A = QQ [ x]"
   ]
  },
  {
   "cell_type": "code",
   "execution_count": 14,
   "metadata": {},
   "outputs": [
    {
     "data": {
      "text/plain": [
       "5*x^4 - 16*x^3 + 12*x^2"
      ]
     },
     "execution_count": 14,
     "metadata": {},
     "output_type": "execute_result"
    }
   ],
   "source": [
    "diff( A(x^3*(x - 2)^2,x))"
   ]
  },
  {
   "cell_type": "code",
   "execution_count": 15,
   "metadata": {},
   "outputs": [
    {
     "data": {
      "text/plain": [
       "20*x^3 - 48*x^2 + 24*x"
      ]
     },
     "execution_count": 15,
     "metadata": {},
     "output_type": "execute_result"
    }
   ],
   "source": [
    "diff(diff( A(x^3*(x - 2)^2,x)))"
   ]
  },
  {
   "cell_type": "markdown",
   "metadata": {},
   "source": [
    "2) Найдите минимальный многочлен алгебраического числа $\\sqrt{2+\\sqrt[3]{5}}$"
   ]
  },
  {
   "cell_type": "code",
   "execution_count": 20,
   "metadata": {},
   "outputs": [
    {
     "data": {
      "text/plain": [
       "1.914854215512677?"
      ]
     },
     "execution_count": 20,
     "metadata": {},
     "output_type": "execute_result"
    }
   ],
   "source": [
    "QQbar(sqrt(2+5^1/3))"
   ]
  },
  {
   "cell_type": "code",
   "execution_count": 21,
   "metadata": {},
   "outputs": [
    {
     "data": {
      "text/plain": [
       "x^2 - 11/3"
      ]
     },
     "execution_count": 21,
     "metadata": {},
     "output_type": "execute_result"
    }
   ],
   "source": [
    "QQbar(sqrt(2+5^1/3)).minpoly()"
   ]
  },
  {
   "cell_type": "markdown",
   "metadata": {},
   "source": [
    "3) Найдите рациональные корни многочленов: \n",
    "\n",
    "a.) $x^4-9*x^3+25*x^2-27x+10$\n",
    "\n",
    "b.) $4x^5 - 24x^4 + 13x^3 + 43x^2 - 42x + 10$"
   ]
  },
  {
   "cell_type": "code",
   "execution_count": 23,
   "metadata": {},
   "outputs": [
    {
     "data": {
      "text/plain": [
       "(x - 5) * (x - 2) * (x - 1)^2"
      ]
     },
     "execution_count": 23,
     "metadata": {},
     "output_type": "execute_result"
    }
   ],
   "source": [
    "QQ[x](x^4-9*x^3+25*x^2-27*x+10).factor()"
   ]
  },
  {
   "cell_type": "code",
   "execution_count": 24,
   "metadata": {},
   "outputs": [
    {
     "data": {
      "text/plain": [
       "(4) * (x - 5) * (x - 1/2)^2 * (x^2 - 2)"
      ]
     },
     "execution_count": 24,
     "metadata": {},
     "output_type": "execute_result"
    }
   ],
   "source": [
    "QQ[x](4*x^5 - 24*x^4 + 13*x^3 + 43*x^2 - 42*x + 10).factor()"
   ]
  },
  {
   "cell_type": "markdown",
   "metadata": {},
   "source": [
    "4) Найдите вещественные корни многочленов и выразите их в радикалах:\n",
    "\n",
    "a.) $x^3 + x + 1$ \n",
    "\n",
    "b.) $4x^5 - 24x^4 + 13x^3 + 43x^2 - 42x + 10$\n",
    "\n",
    "c.) $4x^6 - 24x^5 + 25x^4 - 21x^3 - 27x^2 + 37x - 10$"
   ]
  },
  {
   "cell_type": "code",
   "execution_count": 25,
   "metadata": {},
   "outputs": [
    {
     "data": {
      "text/plain": [
       "(x + 0.6823278038280193?) * (x^2 - 0.6823278038280193?*x + 1.465571231876768?)"
      ]
     },
     "execution_count": 25,
     "metadata": {},
     "output_type": "execute_result"
    }
   ],
   "source": [
    "AA[x](x^3 + x + 1).factor()"
   ]
  },
  {
   "cell_type": "code",
   "execution_count": 27,
   "metadata": {},
   "outputs": [
    {
     "data": {
      "text/plain": [
       "[(-0.6823278038280193?, 1)]"
      ]
     },
     "execution_count": 27,
     "metadata": {},
     "output_type": "execute_result"
    }
   ],
   "source": [
    " ZZ[x](x^3 + x + 1).roots(AA)\n"
   ]
  },
  {
   "cell_type": "code",
   "execution_count": 30,
   "metadata": {},
   "outputs": [
    {
     "data": {
      "text/plain": [
       "-0.6823278038280193?"
      ]
     },
     "execution_count": 30,
     "metadata": {},
     "output_type": "execute_result"
    }
   ],
   "source": [
    " ZZ[x](x^3 + x + 1).roots(AA)[0][0]"
   ]
  },
  {
   "cell_type": "code",
   "execution_count": 32,
   "metadata": {},
   "outputs": [
    {
     "data": {
      "text/plain": [
       "0.?e-38"
      ]
     },
     "execution_count": 32,
     "metadata": {},
     "output_type": "execute_result"
    }
   ],
   "source": [
    "(x^3 + x + 1).subs(x =ZZ[x](x^3 + x + 1).roots(AA)[0][0] )"
   ]
  },
  {
   "cell_type": "code",
   "execution_count": 35,
   "metadata": {},
   "outputs": [
    {
     "data": {
      "text/plain": [
       "(4) * (x - 5.000000000000000?) * (x - 1.414213562373095?) * (x + 1.414213562373095?) * (x - 0.50000000000000000?)^2"
      ]
     },
     "execution_count": 35,
     "metadata": {},
     "output_type": "execute_result"
    }
   ],
   "source": [
    "AA[x](4*x^5 - 24*x^4 + 13*x^3 + 43*x^2 - 42*x + 10).factor()"
   ]
  },
  {
   "cell_type": "code",
   "execution_count": 36,
   "metadata": {},
   "outputs": [
    {
     "data": {
      "text/plain": [
       "[(-1.414213562373095?, 1),\n",
       " (0.50000000000000000?, 2),\n",
       " (1.414213562373095?, 1),\n",
       " (5.000000000000000?, 1)]"
      ]
     },
     "execution_count": 36,
     "metadata": {},
     "output_type": "execute_result"
    }
   ],
   "source": [
    " ZZ[x](4*x^5 - 24*x^4 + 13*x^3 + 43*x^2 - 42*x + 10).roots(AA)"
   ]
  },
  {
   "cell_type": "code",
   "execution_count": 37,
   "metadata": {},
   "outputs": [
    {
     "data": {
      "text/plain": [
       "(4) * (x - 5.000000000000000?) * (x + 1.000000000000000?) * (x - 0.50000000000000000?)^2 * (x^2 - 1.000000000000000?*x + 2.000000000000000?)"
      ]
     },
     "execution_count": 37,
     "metadata": {},
     "output_type": "execute_result"
    }
   ],
   "source": [
    "AA[x](4*x^6 - 24*x^5 + 25*x^4 - 21*x^3 - 27*x^2 + 37*x - 10).factor()"
   ]
  },
  {
   "cell_type": "code",
   "execution_count": 38,
   "metadata": {},
   "outputs": [
    {
     "data": {
      "text/plain": [
       "[(-1.000000000000000?, 1), (0.50000000000000000?, 2), (5.000000000000000?, 1)]"
      ]
     },
     "execution_count": 38,
     "metadata": {},
     "output_type": "execute_result"
    }
   ],
   "source": [
    "ZZ[x](4*x^6 - 24*x^5 + 25*x^4 - 21*x^3 - 27*x^2 + 37*x - 10).roots(AA)"
   ]
  },
  {
   "cell_type": "markdown",
   "metadata": {},
   "source": [
    "5) Найдите комплексные корни многочленов и выразите их в радикалах:\n",
    "\n",
    "a.) $x^3 + x + 1$ \n",
    "\n",
    "b.) $4x^5 - 24x^4 + 13x^3 + 43x^2 - 42x + 10$\n",
    "\n",
    "c.) $4x^6 - 24x^5 + 25x^4 - 21x^3 - 27x^2 + 37x - 10$"
   ]
  },
  {
   "cell_type": "code",
   "execution_count": 77,
   "metadata": {},
   "outputs": [
    {
     "data": {
      "text/plain": [
       "[(1/18*sqrt(31)*sqrt(3) - 1/2)^(1/3) - 1/3/(1/18*sqrt(31)*sqrt(3) - 1/2)^(1/3)]"
      ]
     },
     "execution_count": 77,
     "metadata": {},
     "output_type": "execute_result"
    }
   ],
   "source": [
    " [a.radical_expression () for (a , m) in ZZ [x](x^3 + x + 1) .roots(AA)]"
   ]
  },
  {
   "cell_type": "code",
   "execution_count": 42,
   "metadata": {},
   "outputs": [
    {
     "data": {
      "text/plain": [
       "[-sqrt(2), 1/2, sqrt(2), 5]"
      ]
     },
     "execution_count": 42,
     "metadata": {},
     "output_type": "execute_result"
    }
   ],
   "source": [
    " [a.radical_expression () for (a , m) in ZZ [x](4*x^5 - 24*x^4 + 13*x^3 + 43*x^2 - 42*x + 10) .roots(AA)]"
   ]
  },
  {
   "cell_type": "code",
   "execution_count": 79,
   "metadata": {},
   "outputs": [
    {
     "data": {
      "text/plain": [
       "[-1, 1/2, 5]"
      ]
     },
     "execution_count": 79,
     "metadata": {},
     "output_type": "execute_result"
    }
   ],
   "source": [
    " [a.radical_expression () for (a , m) in ZZ [x](4*x^6 - 24*x^5 + 25*x^4 - 21*x^3 - 27*x^2 + 37*x - 10) .roots(AA)]"
   ]
  },
  {
   "cell_type": "markdown",
   "metadata": {},
   "source": [
    "6) Найдите точки минимума функции $y = (x^2 - 1)(x + 3)(x - 2)$"
   ]
  },
  {
   "cell_type": "code",
   "execution_count": 44,
   "metadata": {},
   "outputs": [],
   "source": [
    "y = (x^2 - 1)(x + 3)(x - 2)"
   ]
  },
  {
   "cell_type": "code",
   "execution_count": 47,
   "metadata": {},
   "outputs": [],
   "source": [
    " R =[ a for (a , m) in ZZ [ x ]( diff (y , x) ) . roots ( AA ) ] "
   ]
  },
  {
   "cell_type": "code",
   "execution_count": 48,
   "metadata": {},
   "outputs": [
    {
     "data": {
      "text/plain": [
       "[-1]"
      ]
     },
     "execution_count": 48,
     "metadata": {},
     "output_type": "execute_result"
    }
   ],
   "source": [
    "R"
   ]
  },
  {
   "cell_type": "code",
   "execution_count": 49,
   "metadata": {},
   "outputs": [
    {
     "data": {
      "text/plain": [
       "[2]"
      ]
     },
     "execution_count": 49,
     "metadata": {},
     "output_type": "execute_result"
    }
   ],
   "source": [
    " [ diff (y ,x ,2) . subs ( x= a ) for a in R ]"
   ]
  },
  {
   "cell_type": "code",
   "execution_count": 50,
   "metadata": {},
   "outputs": [
    {
     "data": {
      "text/plain": [
       "[-1]"
      ]
     },
     "execution_count": 50,
     "metadata": {},
     "output_type": "execute_result"
    }
   ],
   "source": [
    " [ a for a in R if diff (y ,x ,2) . subs ( x= a) >0]"
   ]
  },
  {
   "cell_type": "code",
   "execution_count": 51,
   "metadata": {},
   "outputs": [
    {
     "data": {
      "text/plain": [
       "[-1]"
      ]
     },
     "execution_count": 51,
     "metadata": {},
     "output_type": "execute_result"
    }
   ],
   "source": [
    "[ a. radical_expression () for a in R if diff (y ,x,2) . subs (x =a ) >0]"
   ]
  },
  {
   "cell_type": "markdown",
   "metadata": {},
   "source": [
    "7) Найдите точки максимума функции $y = \\frac{x^3-2}{x^2+1}$"
   ]
  },
  {
   "cell_type": "code",
   "execution_count": 72,
   "metadata": {},
   "outputs": [],
   "source": [
    "y = (x^3-2)*(x^2+1)"
   ]
  },
  {
   "cell_type": "code",
   "execution_count": 74,
   "metadata": {},
   "outputs": [],
   "source": [
    "R =[a for (a,m) in ZZ [ x ]( diff (y , x) ) . roots ( CC ) ]"
   ]
  },
  {
   "cell_type": "code",
   "execution_count": 75,
   "metadata": {},
   "outputs": [
    {
     "data": {
      "text/plain": [
       "[0.000000000000000,\n",
       " 0.717558994136957,\n",
       " -0.358779497068479 - 0.993060009541282*I,\n",
       " -0.358779497068479 + 0.993060009541282*I]"
      ]
     },
     "execution_count": 75,
     "metadata": {},
     "output_type": "execute_result"
    }
   ],
   "source": [
    "R"
   ]
  },
  {
   "cell_type": "code",
   "execution_count": 63,
   "metadata": {},
   "outputs": [
    {
     "data": {
      "text/plain": [
       "[-4, 7.694646035178256?]"
      ]
     },
     "execution_count": 63,
     "metadata": {},
     "output_type": "execute_result"
    }
   ],
   "source": [
    "[ diff (y ,x ,2) . subs ( x= a ) for a in R ]"
   ]
  },
  {
   "cell_type": "code",
   "execution_count": 64,
   "metadata": {},
   "outputs": [
    {
     "data": {
      "text/plain": [
       "[0]"
      ]
     },
     "execution_count": 64,
     "metadata": {},
     "output_type": "execute_result"
    }
   ],
   "source": [
    " [ a for a in R if diff (y ,x ,2) . subs ( x= a) <0]"
   ]
  },
  {
   "cell_type": "code",
   "execution_count": 65,
   "metadata": {},
   "outputs": [
    {
     "data": {
      "text/plain": [
       "[0]"
      ]
     },
     "execution_count": 65,
     "metadata": {},
     "output_type": "execute_result"
    }
   ],
   "source": [
    " [ a. radical_expression () for a in R if diff (y ,x,2) . subs (x = a) <0]"
   ]
  },
  {
   "cell_type": "markdown",
   "metadata": {},
   "source": [
    "8) Найдите наименьшее значение функции $y =x^6 − x^2 + x$ на отрезке [−1, 1]. Ответ выразите в радикалах."
   ]
  },
  {
   "cell_type": "code",
   "execution_count": 84,
   "metadata": {},
   "outputs": [],
   "source": [
    "y =x^6 - x^2 + x "
   ]
  },
  {
   "cell_type": "code",
   "execution_count": 87,
   "metadata": {},
   "outputs": [],
   "source": [
    " R =[ a for (a , m) in ZZ [ x ]( diff (y , x) ) . roots ( AA ) ] "
   ]
  },
  {
   "cell_type": "code",
   "execution_count": 93,
   "metadata": {},
   "outputs": [
    {
     "data": {
      "text/plain": [
       "[13.863421338137086?]"
      ]
     },
     "execution_count": 93,
     "metadata": {},
     "output_type": "execute_result"
    }
   ],
   "source": [
    " [ diff (y ,x ,2) . subs ( x= a ) for a in R ]"
   ]
  },
  {
   "cell_type": "code",
   "execution_count": 97,
   "metadata": {},
   "outputs": [
    {
     "data": {
      "text/plain": [
       "[-0.8527444492993896?]"
      ]
     },
     "execution_count": 97,
     "metadata": {},
     "output_type": "execute_result"
    }
   ],
   "source": [
    "[ a. radical_expression () for a in R if diff (y ,x,2) . subs (x =a ) >0]"
   ]
  },
  {
   "cell_type": "code",
   "execution_count": null,
   "metadata": {},
   "outputs": [],
   "source": []
  }
 ],
 "metadata": {
  "kernelspec": {
   "display_name": "SageMath 9.3",
   "language": "sage",
   "name": "sagemath"
  },
  "language_info": {
   "codemirror_mode": {
    "name": "ipython",
    "version": 3
   },
   "file_extension": ".py",
   "mimetype": "text/x-python",
   "name": "python",
   "nbconvert_exporter": "python",
   "pygments_lexer": "ipython3",
   "version": "3.7.10"
  }
 },
 "nbformat": 4,
 "nbformat_minor": 4
}

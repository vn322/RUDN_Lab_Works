{
  "nbformat": 4,
  "nbformat_minor": 0,
  "metadata": {
    "colab": {
      "provenance": [],
      "authorship_tag": "ABX9TyNaJeULbe4aOi8aFN6Q5A2k",
      "include_colab_link": true
    },
    "kernelspec": {
      "name": "python3",
      "display_name": "Python 3"
    },
    "language_info": {
      "name": "python"
    }
  },
  "cells": [
    {
      "cell_type": "markdown",
      "metadata": {
        "id": "view-in-github",
        "colab_type": "text"
      },
      "source": [
        "<a href=\"https://colab.research.google.com/github/vn322/RUDN_Lab_Works/blob/main/%D0%9C%D0%B5%D1%82%D0%BE%D0%B4_%D0%BF%D1%80%D0%BE%D1%81%D1%82%D0%BE%D0%B9_%D0%B8%D1%82%D0%B5%D1%80%D0%B0%D1%86%D0%B8%D0%B8_%D0%B8_%D0%BC%D0%B5%D1%82%D0%BE%D0%B4_%D0%97%D0%B5%D0%B9%D0%B4%D0%B5%D0%BB%D1%8F.ipynb\" target=\"_parent\"><img src=\"https://colab.research.google.com/assets/colab-badge.svg\" alt=\"Open In Colab\"/></a>"
      ]
    },
    {
      "cell_type": "markdown",
      "source": [
        "# Метод простой итерации и метод Зейделя"
      ],
      "metadata": {
        "id": "3-fre90Q7Gpr"
      }
    },
    {
      "cell_type": "markdown",
      "source": [
        "## Метод простой итерации 1"
      ],
      "metadata": {
        "id": "-WDM8Wqe7KnV"
      }
    },
    {
      "cell_type": "code",
      "source": [
        "import numpy as np\n",
        "\n",
        "def sort_diag_arr(a,b) :\n",
        "    n = len(a)\n",
        "    a = np.array(a)\n",
        "    b = np.array(b)\n",
        "    for i in range(n):\n",
        "        ind = np.abs(a[i:, i:n]).argmax()\n",
        "        row = ind // (n - i) + i\n",
        "        col = ind % (n - i) + i\n",
        "        a[:,[i, col]] = a[:,[col, i]]\n",
        "        a[[i, row], :] = a[[row, i], :]\n",
        "        b[i], b[row] = b[row], b[i]\n",
        "    return a, b\n",
        "\n",
        "\n",
        "A = [\n",
        "[-22,-2,-6, 6],\n",
        "[3,-17,-3, 7],\n",
        "[2,6,-17, 5],\n",
        "[-1,-8, 8, 23]]\n",
        "B = [96,-26,35,-234]\n",
        "\n",
        "eps = 1e-3\n",
        "\n",
        "a, b = sort_diag_arr(A,B)\n",
        "diag = (1/np.diag(a)).reshape(-1,1)\n",
        "a[np.diag_indices_from(a)] = 0.\n",
        "a = np.hstack((-a, b.reshape(-1, 1))) * diag\n",
        "x = a[:,-1].ravel()\n",
        "x = np.append(x, 1)\n",
        "\n",
        "tmp = x.copy() + eps\n",
        "cnt = 0\n",
        "while abs(x-tmp).sum() > eps:\n",
        "    tmp = x.copy()\n",
        "    x = a.dot(x)\n",
        "    x = np.append(x, 1)\n",
        "    cnt += 1\n",
        "\n",
        "print(x[:-1].round(3), cnt)\n"
      ],
      "metadata": {
        "colab": {
          "base_uri": "https://localhost:8080/"
        },
        "id": "7SeEDzGu2x6J",
        "outputId": "f7817e41-5541-423c-b2ef-b9b69604c876"
      },
      "execution_count": 19,
      "outputs": [
        {
          "output_type": "stream",
          "name": "stdout",
          "text": [
            "[-9. -5. -6. -2.] 13\n"
          ]
        }
      ]
    },
    {
      "cell_type": "markdown",
      "source": [
        "## Метод простой итерации 2"
      ],
      "metadata": {
        "id": "DP7wHq_P7PJP"
      }
    },
    {
      "cell_type": "code",
      "source": [
        "\n",
        "\n",
        "# точность итераций\n",
        "eps = .001\n",
        "x = []\n",
        "n = len(A)\n",
        "for j in range(n):\n",
        "    k = A[j][j]\n",
        "    for i in range(n):\n",
        "        A[j][i] /= -k\n",
        "    A[j][j] = 0\n",
        "    B[j] /= k\n",
        "\n",
        "# r - счетчик итераций\n",
        "r = 0\n",
        "x = B.copy()\n",
        "tmp = sum(x) + 2*eps\n",
        "while abs(sum(x)-tmp) > eps:\n",
        "    tmp = sum(x)\n",
        "    t = [0]*n\n",
        "    for i in range(n):\n",
        "        t[i] = sum(x[j]*A[i][j] for j in range(n)) + B[i]\n",
        "    r += 1\n",
        "    x = t.copy()\n",
        "    print(x)\n",
        "print(*(round(elem,3) for elem in x))\n",
        "print(r)"
      ],
      "metadata": {
        "colab": {
          "base_uri": "https://localhost:8080/"
        },
        "id": "VI-zO6bI25Vi",
        "outputId": "89c13484-406f-4708-fcfc-e7d760962b09"
      },
      "execution_count": 20,
      "outputs": [
        {
          "output_type": "stream",
          "name": "stdout",
          "text": [
            "[-6.7158800279004875, -3.0665782239424493, -5.024727491554632, -9.115554522204139]\n",
            "[-5.2005366243641875, -2.52249054496862, -6.612294235910374, -9.784812429869698]\n",
            "[-4.999551276082668, -2.2504949514381956, -6.438828156934623, -8.977482917253486]\n",
            "[-4.85140630268349, -1.913208810483443, -6.081734520415408, -8.934473288352663]\n",
            "[-4.967727953938938, -1.932372256780758, -5.932613641766526, -8.934921766227296]\n",
            "[-5.006777465145595, -1.9793997235357828, -5.953194016452876, -8.998512907567513]\n",
            "[-5.014232449982556, -2.0088435705323966, -5.993089282902556, -9.009409700948211]\n",
            "[-5.00364706214587, -2.007605729875146, -6.007563225170621, -9.006098554392231]\n",
            "-5.004 -2.008 -6.008 -9.006\n",
            "8\n"
          ]
        }
      ]
    },
    {
      "cell_type": "markdown",
      "source": [
        "## Метод Зейделя"
      ],
      "metadata": {
        "id": "3RT6YpyU7TGh"
      }
    },
    {
      "cell_type": "code",
      "source": [
        "# Ax = b. Метод Зейделя\n",
        "A = [\n",
        "[-22,-2,-6, 6],\n",
        "[3,-17,-3, 7],\n",
        "[2,6,-17, 5],\n",
        "[-1,-8, 8, 23]]\n",
        "B = [96,-26,35,-234]\n",
        "\n",
        "from math import dist\n",
        "x, y, n = B, [0] * len(B), 0\n",
        "while dist(x, y) > 1e-6:\n",
        "    x, y, n = [0] * len(x), x, n+1\n",
        "    for i in range(len(y)):\n",
        "        x[i] = 1 / A[i][i] * (B[i] -\n",
        "            sum(x[j] * A[i][j] for j in range(i)) -\n",
        "            sum(y[j] * A[i][j] for j in range(i+1, len(y))))\n",
        "\n",
        "# x = (2.12, 0.76, 1.30, -0.73) итераций: 12\n",
        "print(f'x = ({\", \".join(f\"{xi:.2f}\" for xi in x)}) итераций: {n}')"
      ],
      "metadata": {
        "colab": {
          "base_uri": "https://localhost:8080/"
        },
        "id": "hX46-UAM3gIA",
        "outputId": "e75f31ec-7b93-4ad1-e256-05d3e3698b4a"
      },
      "execution_count": 23,
      "outputs": [
        {
          "output_type": "stream",
          "name": "stdout",
          "text": [
            "x = (-5.00, -2.00, -6.00, -9.00) итераций: 13\n"
          ]
        }
      ]
    }
  ]
}
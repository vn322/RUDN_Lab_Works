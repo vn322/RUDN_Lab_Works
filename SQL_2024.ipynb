{
  "nbformat": 4,
  "nbformat_minor": 0,
  "metadata": {
    "colab": {
      "provenance": [],
      "include_colab_link": true
    },
    "kernelspec": {
      "name": "python3",
      "display_name": "Python 3"
    },
    "language_info": {
      "name": "python"
    }
  },
  "cells": [
    {
      "cell_type": "markdown",
      "metadata": {
        "id": "view-in-github",
        "colab_type": "text"
      },
      "source": [
        "<a href=\"https://colab.research.google.com/github/vn322/RUDN_Lab_Works/blob/main/SQL_2024.ipynb\" target=\"_parent\"><img src=\"https://colab.research.google.com/assets/colab-badge.svg\" alt=\"Open In Colab\"/></a>"
      ]
    },
    {
      "cell_type": "markdown",
      "source": [
        "https://sqlitebrowser.org\n",
        "\n",
        "02.03.2024"
      ],
      "metadata": {
        "id": "J833C_Rx2TGX"
      }
    },
    {
      "cell_type": "code",
      "execution_count": null,
      "metadata": {
        "id": "wTWfwf0xt7C3"
      },
      "outputs": [],
      "source": [
        "import sqlite3"
      ]
    },
    {
      "cell_type": "code",
      "source": [
        "try:\n",
        "    sqlite_connection = sqlite3.connect('sqlite_python.db')\n",
        "    cursor = sqlite_connection.cursor()\n",
        "    print(\"База данных создана и успешно подключена к SQLite\")\n",
        "\n",
        "    sqlite_select_query = \"select sqlite_version();\" #создается запрос для получения версии базы данны\n",
        "    cursor.execute(sqlite_select_query)\n",
        "    record = cursor.fetchall()\n",
        "    print(\"Версия базы данных SQLite: \", record)\n",
        "    cursor.close()\n",
        "\n",
        "except sqlite3.Error as error:\n",
        "    print(\"Ошибка при подключении к sqlite\", error)\n",
        "finally:\n",
        "    if (sqlite_connection):\n",
        "        sqlite_connection.close()\n",
        "        print(\"Соединение с SQLite закрыто\")"
      ],
      "metadata": {
        "colab": {
          "base_uri": "https://localhost:8080/"
        },
        "id": "iGJhR4d4uGVz",
        "outputId": "88cf105c-ba7a-4b8c-850e-9c144a3061c8"
      },
      "execution_count": null,
      "outputs": [
        {
          "output_type": "stream",
          "name": "stdout",
          "text": [
            "База данных создана и успешно подключена к SQLite\n",
            "Версия базы данных SQLite:  [('3.37.2',)]\n",
            "Соединение с SQLite закрыто\n"
          ]
        }
      ]
    },
    {
      "cell_type": "code",
      "source": [
        "import sqlite3\n",
        "\n",
        "try:\n",
        "    sqlite_connection = sqlite3.connect('sqlite_python.db')\n",
        "    sqlite_create_table_query = '''CREATE TABLE sqlitedb_developers (\n",
        "                                id INTEGER PRIMARY KEY,\n",
        "                                name TEXT NOT NULL,\n",
        "                                email text NOT NULL UNIQUE,\n",
        "                                joining_date datetime,\n",
        "                                salary REAL NOT NULL);'''\n",
        "\n",
        "    cursor = sqlite_connection.cursor()\n",
        "    print(\"База данных подключена к SQLite\")\n",
        "    cursor.execute(sqlite_create_table_query)\n",
        "    sqlite_connection.commit()\n",
        "    print(\"Таблица SQLite создана\")\n",
        "\n",
        "    cursor.close()\n",
        "\n",
        "except sqlite3.Error as error:\n",
        "    print(\"Ошибка при подключении к sqlite\", error)\n",
        "finally:\n",
        "    if (sqlite_connection):\n",
        "        sqlite_connection.close()\n",
        "        print(\"Соединение с SQLite закрыто\")"
      ],
      "metadata": {
        "id": "Yyh3kUvzuTFu",
        "colab": {
          "base_uri": "https://localhost:8080/"
        },
        "outputId": "78918cd8-d1f5-4859-c656-37f42414749a"
      },
      "execution_count": null,
      "outputs": [
        {
          "output_type": "stream",
          "name": "stdout",
          "text": [
            "База данных подключена к SQLite\n",
            "Таблица SQLite создана\n",
            "Соединение с SQLite закрыто\n"
          ]
        }
      ]
    },
    {
      "cell_type": "markdown",
      "source": [
        "NULL — значение NULL\n",
        "\n",
        "INTEGER — числовые значения. Целые числа хранятся в 1, 2, 3, 4, 6 и 8 байтах в зависимости от величины\n",
        "\n",
        "REAL — числа с плавающей точкой, например, 3.14, число Пи\n",
        "\n",
        "TEXT — текстовые значения. Могут храниться в кодировке UTF-8, UTF-16BE или UTF-16LE\n",
        "\n",
        "BLOB — бинарные данные. Для хранения изображений и файлов"
      ],
      "metadata": {
        "id": "p4AGtzn-wbZB"
      }
    },
    {
      "cell_type": "code",
      "source": [
        "%%writefile sqlite_create_tables.sql\n",
        "CREATE TABLE fruits (\n",
        " id INTEGER PRIMARY KEY,\n",
        " name TEXT NOT NULL,\n",
        " price REAL NOT NULL\n",
        ");\n",
        "\n",
        "CREATE TABLE drinks (\n",
        " id INTEGER PRIMARY KEY,\n",
        " name TEXT NOT NULL,\n",
        " price REAL NOT NULL\n",
        ");"
      ],
      "metadata": {
        "colab": {
          "base_uri": "https://localhost:8080/"
        },
        "id": "O6N-Re9Owcsk",
        "outputId": "353c60d0-e415-428f-ce5b-b3b03280dc51"
      },
      "execution_count": null,
      "outputs": [
        {
          "output_type": "stream",
          "name": "stdout",
          "text": [
            "Writing sqlite_create_tables.sql\n"
          ]
        }
      ]
    },
    {
      "cell_type": "markdown",
      "source": [
        "Создание резервных копий сразу нескольких баз данных за раз.\n",
        "Сравнение количества строк двух разных баз с одной схемой.\n",
        "Создание всех таблиц в одном скрипте, что позволит создать нужную схему на любом сервере"
      ],
      "metadata": {
        "id": "s1293B4RyUWI"
      }
    },
    {
      "cell_type": "code",
      "source": [
        "import sqlite3\n",
        "\n",
        "try:\n",
        "    sqlite_connection = sqlite3.connect('sqlite_python.db')\n",
        "    cursor = sqlite_connection.cursor()\n",
        "    print(\"База данных подключена к SQLite\")\n",
        "\n",
        "    with open('sqlite_create_tables.sql', 'r') as sqlite_file:\n",
        "        sql_script = sqlite_file.read()\n",
        "\n",
        "    cursor.executescript(sql_script)\n",
        "    print(\"Скрипт SQLite успешно выполнен\")\n",
        "    cursor.close()\n",
        "\n",
        "except sqlite3.Error as error:\n",
        "    print(\"Ошибка при подключении к sqlite\", error)\n",
        "finally:\n",
        "    if (sqlite_connection):\n",
        "        sqlite_connection.close()\n",
        "        print(\"Соединение с SQLite закрыто\")"
      ],
      "metadata": {
        "id": "087q6hlnxJdk",
        "colab": {
          "base_uri": "https://localhost:8080/"
        },
        "outputId": "e1b78f60-7f2e-4875-c3a9-bc4b95b572b3"
      },
      "execution_count": null,
      "outputs": [
        {
          "output_type": "stream",
          "name": "stdout",
          "text": [
            "База данных подключена к SQLite\n",
            "Скрипт SQLite успешно выполнен\n",
            "Соединение с SQLite закрыто\n"
          ]
        }
      ]
    },
    {
      "cell_type": "code",
      "source": [
        "import sqlite3\n",
        "import traceback\n",
        "import sys\n",
        "\n",
        "try:\n",
        "    sqlite_connection = sqlite3.connect('sqlite_python.db')\n",
        "    cursor = sqlite_connection.cursor()\n",
        "    print(\"База данных подключена к SQLite\")\n",
        "\n",
        "    sqlite_insert_query = \"\"\"INSERT INTO unknown_table_1\n",
        "                          (id, text)  VALUES  (1, 'Демо текст')\"\"\"\n",
        "\n",
        "    count = cursor.execute(sqlite_insert_query)\n",
        "    sqlite_connection.commit()\n",
        "    print(\"Запись успешно вставлена ​​в таблицу sqlitedb_developers \", cursor.rowcount)\n",
        "    cursor.close()\n",
        "\n",
        "except sqlite3.Error as error:\n",
        "    print(\"Не удалось вставить данные в таблицу sqlite\")\n",
        "    print(\"Класс исключения: \", error.__class__)\n",
        "    print(\"Исключение\", error.args)\n",
        "    print(\"Печать подробноcтей исключения SQLite: \")\n",
        "    exc_type, exc_value, exc_tb = sys.exc_info()\n",
        "    print(traceback.format_exception(exc_type, exc_value, exc_tb))\n",
        "finally:\n",
        "    if (sqlite_connection):\n",
        "        sqlite_connection.close()\n",
        "        print(\"Соединение с SQLite закрыто\")"
      ],
      "metadata": {
        "colab": {
          "base_uri": "https://localhost:8080/"
        },
        "id": "SCiFhJwcxXAa",
        "outputId": "c55c1b45-5415-4509-f130-85b1730557c7"
      },
      "execution_count": null,
      "outputs": [
        {
          "output_type": "stream",
          "name": "stdout",
          "text": [
            "База данных подключена к SQLite\n",
            "Не удалось вставить данные в таблицу sqlite\n",
            "Класс исключения:  <class 'sqlite3.OperationalError'>\n",
            "Исключение ('no such table: unknown_table_1',)\n",
            "Печать подробноcтей исключения SQLite: \n",
            "['Traceback (most recent call last):\\n', '  File \"<ipython-input-6-8844dcf85c9a>\", line 13, in <module>\\n    count = cursor.execute(sqlite_insert_query)\\n', 'sqlite3.OperationalError: no such table: unknown_table_1\\n']\n",
            "Соединение с SQLite закрыто\n"
          ]
        }
      ]
    },
    {
      "cell_type": "markdown",
      "source": [
        "sqlite3.Warning. Подкласс Exception. Его можно игнорировать, если нужно, чтобы оно не останавливало выполнение.\n",
        "\n",
        "sqlite3.Error. Базовый класс для остальных исключений модуля sqlite3. Подкласс Exception.\n",
        "\n",
        "sqlite3.DatabaseError. Исключение, которое возвращается при ошибках базы данных. Например, если попытаться открыть файл как базу sqite3, хотя он ею не является, то вернется ошибка «sqlite3.DatabaseError: file is encrypted or is not a database».\n",
        "\n",
        "sqlite3.IntegrityError. Подкласс DatabaseError. Эта ошибка возвращается, когда затрагиваются отношения в базе, например, например, не проходит проверка внешнего ключа.\n",
        "\n",
        "sqlite3.ProgrammingError. Подкласс DatabaseError. Эта ошибка возникает из-за ошибок программиста: создание таблицы с именем, которое уже занято, синтаксическая ошибка в SQL-запросах.\n",
        "\n",
        "sqlite3.OperationalError. Подкласс DatabaseError. Эту ошибку невозможно контролировать. Она появляется в ситуациях, которые касаются работы базы данных, например, обрыв соединения, неработающий сервер, проблемы с источником данных и так далее.\n",
        "\n",
        "sqlite3.NotSupportedError. Это исключение появляется при попытке использовать неподдерживаемое базой данных API. Пример: вызов метода rollback() для соединения, которое не поддерживает транзакции. Вызов коммита после команды создания таблицы."
      ],
      "metadata": {
        "id": "xYx68AVtzBSf"
      }
    },
    {
      "cell_type": "code",
      "source": [
        "import sqlite3\n",
        "import traceback\n",
        "import sys\n",
        "\n",
        "try:\n",
        "    sqlite_connection = sqlite3.connect('sqlite_python.db')\n",
        "    cursor = sqlite_connection.cursor()\n",
        "    print(\"База данных подключена к SQLite\")\n",
        "\n",
        "    sqlite_insert_query = \"\"\"INSERT INTO unknown_table_1\n",
        "                          (id, text)  VALUES  (1, 'Демо текст')\"\"\"\n",
        "\n",
        "    count = cursor.execute(sqlite_insert_query)\n",
        "    sqlite_connection.commit()\n",
        "    print(\"Запись успешно вставлена ​​в таблицу sqlitedb_developers \", cursor.rowcount)\n",
        "    cursor.close()\n",
        "\n",
        "except sqlite3.Error as error:\n",
        "    print(\"Не удалось вставить данные в таблицу sqlite\")\n",
        "    print(\"Класс исключения: \", error.__class__)\n",
        "    print(\"Исключение\", error.args)\n",
        "    print(\"Печать подробноcтей исключения SQLite: \")\n",
        "    exc_type, exc_value, exc_tb = sys.exc_info()\n",
        "    print(traceback.format_exception(exc_type, exc_value, exc_tb))\n",
        "finally:\n",
        "    if (sqlite_connection):\n",
        "        sqlite_connection.close()\n",
        "        print(\"Соединение с SQLite закрыто\")"
      ],
      "metadata": {
        "colab": {
          "base_uri": "https://localhost:8080/"
        },
        "id": "VPDgHIQ8zL05",
        "outputId": "76847fde-dcdc-49a9-da6c-7a728778606d"
      },
      "execution_count": null,
      "outputs": [
        {
          "output_type": "stream",
          "name": "stdout",
          "text": [
            "База данных подключена к SQLite\n",
            "Не удалось вставить данные в таблицу sqlite\n",
            "Класс исключения:  <class 'sqlite3.OperationalError'>\n",
            "Исключение ('no such table: unknown_table_1',)\n",
            "Печать подробноcтей исключения SQLite: \n",
            "['Traceback (most recent call last):\\n', '  File \"<ipython-input-7-8844dcf85c9a>\", line 13, in <module>\\n    count = cursor.execute(sqlite_insert_query)\\n', 'sqlite3.OperationalError: no such table: unknown_table_1\\n']\n",
            "Соединение с SQLite закрыто\n"
          ]
        }
      ]
    },
    {
      "cell_type": "markdown",
      "source": [
        "Бывает такое, что есть несколько подключений к базе данных SQLite, и одно из них выполняет определенное изменение. Для этого соединению требуется выполнить блокировку — база данных блокируется до тех пор, пока транзакция не будет завершена.\n",
        "\n",
        "Параметр timeout, который задается при подключении, определяет, как долго соединение будет ожидать отключения блокировки перед возвращением исключения.\n",
        "\n"
      ],
      "metadata": {
        "id": "QAfSTe-vzfRD"
      }
    },
    {
      "cell_type": "code",
      "source": [
        "import sqlite3\n",
        "\n",
        "def read_sqlite_table():\n",
        "    try:\n",
        "        sqlite_connection= sqlite3.connect('sqlite_python.db', timeout=20) #20c\n",
        "        cursor = sqlite_connection.cursor()\n",
        "        print(\"Подключен к SQLite\")\n",
        "\n",
        "        sqlite_select_query = \"\"\"SELECT count(*) from sqlitedb_developers\"\"\"\n",
        "        cursor.execute(sqlite_select_query)\n",
        "        total_rows = cursor.fetchone()\n",
        "        print(\"Всего строк:  \", total_rows)\n",
        "        cursor.close()\n",
        "\n",
        "    except sqlite3.Error as error:\n",
        "        print(\"Ошибка при подключении к sqlite\", error)\n",
        "    finally:\n",
        "        if (sqlite_connection):\n",
        "            sqlite_connection.close()\n",
        "            print(\"Соединение с SQLite закрыто\")\n",
        "\n",
        "read_sqlite_table()"
      ],
      "metadata": {
        "colab": {
          "base_uri": "https://localhost:8080/"
        },
        "id": "vCQbs630zlm9",
        "outputId": "f857e654-4fba-456e-c350-c34715b8300e"
      },
      "execution_count": null,
      "outputs": [
        {
          "output_type": "stream",
          "name": "stdout",
          "text": [
            "Подключен к SQLite\n",
            "Всего строк:   (0,)\n",
            "Соединение с SQLite закрыто\n"
          ]
        }
      ]
    },
    {
      "cell_type": "markdown",
      "source": [
        "Для статистики может потребоваться найти количество строк базы данных, которые были вставлены, удалены или изменены с момента открытия соединения. Для этого используется функция connection.total_changes модуля sqlite3."
      ],
      "metadata": {
        "id": "8-7ITHY4z6NN"
      }
    },
    {
      "cell_type": "code",
      "source": [
        "import sqlite3\n",
        "\n",
        "try:\n",
        "    sqlite_connection = sqlite3.connect('sqlite_python.db')\n",
        "    cursor = sqlite_connection.cursor()\n",
        "    print(\"Подключен к SQLite\")\n",
        "\n",
        "    sqlite_insert_query = \"\"\"INSERT INTO sqlitedb_developers\n",
        "                          (id, name, email, joining_date, salary)\n",
        "                          VALUES (4, 'Alex', 'sale@gmail.com', '2020-11-20', 8600);\"\"\"\n",
        "    cursor.execute(sqlite_insert_query)\n",
        "\n",
        "    sql_update_query = \"\"\"Update sqlitedb_developers set salary = 10000 where id = 4\"\"\"\n",
        "    cursor.execute(sql_update_query)\n",
        "\n",
        "    sql_delete_query = \"\"\"DELETE from sqlitedb_developers where id = 4\"\"\"\n",
        "    cursor.execute(sql_delete_query)\n",
        "\n",
        "    sqlite_connection.commit()\n",
        "    cursor.close()\n",
        "\n",
        "except sqlite3.Error as error:\n",
        "    print(\"Ошибка при работе с SQLite\", error)\n",
        "finally:\n",
        "    if (sqlite_connection):\n",
        "        print(\"Всего строк, измененных после подключения к базе данных: \", sqlite_connection.total_changes)\n",
        "        sqlite_connection.close()\n",
        "        print(\"Соединение с SQLite закрыто\")\n"
      ],
      "metadata": {
        "colab": {
          "base_uri": "https://localhost:8080/"
        },
        "id": "cASlrORqz43S",
        "outputId": "ff4bcfd2-bab9-4357-f1b2-fe97cf7fa256"
      },
      "execution_count": null,
      "outputs": [
        {
          "output_type": "stream",
          "name": "stdout",
          "text": [
            "Подключен к SQLite\n",
            "Всего строк, измененных после подключения к базе данных:  3\n",
            "Соединение с SQLite закрыто\n"
          ]
        }
      ]
    },
    {
      "cell_type": "markdown",
      "source": [
        "Модуль sqlite3 в Python предоставляет функцию для сохранения резервной копии базы данных SQLite. С помощью метода connection.backup() можно сделать резервную копию базы SQLite."
      ],
      "metadata": {
        "id": "5K5d2fKV0CgH"
      }
    },
    {
      "cell_type": "markdown",
      "source": [
        "Эта функция делает полную резервную копию базы данных SQLite. Изменения записываются в аргумент target, который должен быть экземпляром другого соединения.\n",
        "\n",
        "По умолчанию когда параметр pages равен 0 или отрицательному числу, вся база данных копируется в один шаг. В противном случае метод выполняет цикл, копируя заданное количество страниц за раз.\n",
        "\n",
        "Аргумент name определяет базу данных, резервную копию которой нужно сделать. Аргумент sleep — количество секунд между последовательными попытками сохранить оставшиеся страницы. Аргумент sleep можно задать как в качестве целого числа, так и в виде числа с плавающей точкой.\n",
        "\n",
        "Рассмотрим один пример копирования базы данных в другую."
      ],
      "metadata": {
        "id": "mooXAOEV0J5P"
      }
    },
    {
      "cell_type": "code",
      "source": [
        "\n",
        "import sqlite3\n",
        "\n",
        "def progress(status, remaining, total):\n",
        "    print(f'Скопировано {total-remaining} из {total}...')\n",
        "\n",
        "try:\n",
        "    sqlite_con = sqlite3.connect('sqlite_python.db')\n",
        "    backup_con = sqlite3.connect('sqlite_backup.db')\n",
        "    with backup_con:\n",
        "        sqlite_con.backup(backup_con, pages=3, progress=progress)\n",
        "    print(\"Резервное копирование выполнено успешно\")\n",
        "except sqlite3.Error as error:\n",
        "    print(\"Ошибка при резервном копировании: \", error)\n",
        "finally:\n",
        "    if(backup_con):\n",
        "        backup_con.close()\n",
        "        sqlite_con.close()"
      ],
      "metadata": {
        "id": "eDH0QpS90I2I",
        "colab": {
          "base_uri": "https://localhost:8080/"
        },
        "outputId": "3c155d81-dc63-4c65-dfbc-87af1ca9a20b"
      },
      "execution_count": null,
      "outputs": [
        {
          "output_type": "stream",
          "name": "stdout",
          "text": [
            "Скопировано 3 из 5...\n",
            "Скопировано 5 из 5...\n",
            "Резервное копирование выполнено успешно\n"
          ]
        }
      ]
    },
    {
      "cell_type": "markdown",
      "source": [
        "После подключения к SQLite обе базы данных были открыты с помощью двух разных подключений\n",
        "Дальше выполняется метод connection.backup() с помощью экземпляра первого подключения. Также задано количество страниц, которые нужно скопировать за одну итерацию."
      ],
      "metadata": {
        "id": "1zwk6BOE0bTB"
      }
    },
    {
      "cell_type": "code",
      "source": [],
      "metadata": {
        "id": "PY-4RZFPv12m"
      },
      "execution_count": null,
      "outputs": []
    },
    {
      "cell_type": "markdown",
      "source": [
        "**Задание 1**\n",
        "\n",
        "Добваить код исправяющий работу блоков с исключениями\n",
        "\n",
        "1) создать нужную таблицу\n",
        "\n",
        "2) добавить в нее пару записей\n",
        "\n",
        "3) проверить как теперь будут рабртать эти блоки"
      ],
      "metadata": {
        "id": "tEj8uDUHwWwI"
      }
    },
    {
      "cell_type": "markdown",
      "source": [
        "\n",
        "name – строка с именем игрока;\n",
        "sex – число, пол игрока (1 – мужской; 2 – женский);\n",
        "old – число, возраст игрока;\n",
        "score – суммарное число набранных очков за все игры.\n",
        "\n",
        "CREATE TABLE users (\n",
        "    name TEXT,\n",
        "    sex INTEGER,\n",
        "    old INTEGER,\n",
        "    score INTEGER)\n",
        "\n",
        "CREATE TABLE users (\n",
        "    name TEXT,\n",
        "    sex INTEGER,\n",
        "    old INTEGER,\n",
        "    score INTEGER\n",
        ")\n"
      ],
      "metadata": {
        "id": "EOg3slxX-bja"
      }
    },
    {
      "cell_type": "markdown",
      "source": [
        "**формат команды INSERT**\n",
        "\n",
        "INSERT INTO <table_name> (<column_name1>, <column_name2>, ...) VALUES (<value1>, <value2>, …)\n",
        "\n",
        "\n",
        "**пример**\n",
        "\n",
        "INSERT INTO users VALUES('Михаил', 1, 19, 1000)\n",
        "\n",
        "INSERT INTO users (name, old, score) VALUES('Федор', 32, 200)\n",
        "\n",
        "\n",
        "**формат команды SELECT**\n",
        "\n",
        "SELECT col1, col2, … FROM <table_name>\n",
        "\n",
        "**пример**\n",
        "\n",
        "SELECT name, old, score FROM users"
      ],
      "metadata": {
        "id": "ACTAhZfP8lQh"
      }
    },
    {
      "cell_type": "markdown",
      "source": [
        "**Задание 2**\n",
        "\n",
        "**Добавить в таблицу данные**\n",
        "\n",
        "Алексей     1       22     1000\n",
        "\n",
        "Миша         1       19     800\n",
        "\n",
        "Федор        1       26     1100\n",
        "\n",
        "Маша         2       18     1500"
      ],
      "metadata": {
        "id": "wnjpRcgB-uyv"
      }
    },
    {
      "cell_type": "markdown",
      "source": [
        "**Задаение 3:**\n",
        "\n",
        "**сделать запрос к таблице users и показать имена всех игроков и их возраст**"
      ],
      "metadata": {
        "id": "UpMQjaUoAj0V"
      }
    },
    {
      "cell_type": "markdown",
      "source": [
        "** удаление таблицы  **\n",
        "\n",
        "DROP TABLE users"
      ],
      "metadata": {
        "id": "r4bc-ji6-2Eg"
      }
    },
    {
      "cell_type": "markdown",
      "source": [
        "CREATE TABLE IF NOT EXISTS users (\n",
        "    name TEXT NOT NULL,\n",
        "    sex INTEGER DEFAULT 1,\n",
        "    old INTEGER,\n",
        "    score INTEGER\n",
        ")"
      ],
      "metadata": {
        "id": "fJdv8U_1_BV4"
      }
    },
    {
      "cell_type": "markdown",
      "source": [
        "**Оператор WHERE**\n",
        "\n",
        "SELECT col1, col2, … FROM <table_name> WHERE <условие>\n",
        "\n",
        "**пример**\n",
        "\n",
        "SELECT * FROM users WHERE score < 1000\n",
        "\n",
        "SELECT * FROM users WHERE score BETWEEN 500 AND 1000\n",
        "\n",
        "SELECT * FROM users WHERE old = 32\n"
      ],
      "metadata": {
        "id": "g2AqtOuaBniN"
      }
    },
    {
      "cell_type": "markdown",
      "source": [
        "**Задание 4: показать всех игроков старше 20 лет**"
      ],
      "metadata": {
        "id": "SIv7Sz86BylZ"
      }
    },
    {
      "cell_type": "markdown",
      "source": [
        "**Задание 5: что выведут запросы?**\n",
        "\n",
        "SELECT * FROM users WHERE old > 20 AND score < 1000\n",
        "\n",
        "SELECT * FROM users WHERE old IN(19, 32) AND score > 300 OR sex = 1"
      ],
      "metadata": {
        "id": "EqEItpSCDCUV"
      }
    },
    {
      "cell_type": "markdown",
      "source": [
        "**Задание 6: что выведет запрос?**\n",
        "\n",
        "SELECT * FROM users WHERE (old IN(19, 32) OR sex = 1) AND score > 300"
      ],
      "metadata": {
        "id": "C_o3WT3GDR2a"
      }
    },
    {
      "cell_type": "markdown",
      "source": [
        "**Сортировка ORDER BY**\n",
        "\n",
        "**задание : что выведет запрос и в каком порядке?**\n",
        "\n",
        "SELECT * FROM users WHERE score < 1000 ORDER BY old"
      ],
      "metadata": {
        "id": "7pEe9hjcDwf9"
      }
    },
    {
      "cell_type": "code",
      "source": [
        "#  код от Кочеткова Максима Владимировича\n",
        "# честь ему хвала\n",
        "import sqlite3\n",
        "import traceback\n",
        "import sys\n",
        "try:\n",
        "\n",
        "    sql_con = sqlite3.connect('sqlite_python.db')\n",
        "    cursor = sql_con.cursor()\n",
        "    print(\"База данных подключена к SQLite\")\n",
        "    cur1 = sql_con.cursor()\n",
        "    for i in cur1.execute(\"\"\"SELECT * FROM users WHERE level > 20\"\"\"):\n",
        "      print(i)\n",
        "    sql_con.commit()\n",
        "    print(\"Запись успешно вставлена в таблицу sqlitedb_developers \", cursor.rowcount)\n",
        "    cursor.close()\n",
        "\n",
        "except sqlite3.Error as error:\n",
        "\n",
        "    print(\"Не удалось вставить данные в таблицу sqlite\")\n",
        "    print(\"Класс исключения: \", error.__class__)\n",
        "    print(\"Исключение\", error.args)\n",
        "    print(\"Печать подробноcтей исключения SQLite: \")\n",
        "    exc_type, exc_value, exc_tb = sys.exc_info()\n",
        "    print(traceback.format_exception(exc_type, exc_value, exc_tb))\n",
        "\n",
        "finally:\n",
        "\n",
        "    if (sql_con):\n",
        "        sql_con.close()\n",
        "        print(\"Соединение с SQLite закрыто\")"
      ],
      "metadata": {
        "id": "R0yUPbmfL6vG"
      },
      "execution_count": null,
      "outputs": []
    },
    {
      "cell_type": "markdown",
      "source": [
        "**Задание 5.1**\n",
        "\n",
        "Выполнить запросы, что каждый из них делает?\n",
        "\n",
        "SELECT name, old, score FROM users\n",
        "\n",
        "SELECT * FROM users"
      ],
      "metadata": {
        "id": "0D9J55Wq2Bee"
      }
    },
    {
      "cell_type": "code",
      "source": [
        "# Оператор WHERE\n",
        "# SELECT col1, col2, … FROM <table_name> WHERE <условие>\n",
        "# = или ==, >, <, >=, <=, !=, BETWEEN"
      ],
      "metadata": {
        "id": "zdjYGX692RUQ"
      },
      "execution_count": null,
      "outputs": []
    },
    {
      "cell_type": "markdown",
      "source": [
        "**Задание 5.2**\n",
        "\n",
        "Выполнить запросы, что каждый из них делает?\n",
        "\n",
        "SELECT * FROM users WHERE score < 1000\n",
        "\n",
        "SELECT * FROM users WHERE score BETWEEN 500 AND 1000\n",
        "\n",
        "SELECT * FROM users WHERE old = 32"
      ],
      "metadata": {
        "id": "YnNKbx-a2bjc"
      }
    },
    {
      "cell_type": "markdown",
      "source": [
        "Часто при описании фильтра требуется учитывать значения сразу нескольких столбцов.\n",
        "\n",
        "Например, выбрать всех игроков старше 20 лет и с числом очков более 300. Здесь уже нужно использовать составное условие.\n",
        "\n",
        "Для этого дополнительно используются следующие ключевые слова:\n",
        "\n",
        "AND – условное И: exp1 AND exp2. Истинно, если одновременно истинны exp1 и exp2.\n",
        "\n",
        "OR – условное ИЛИ: exp1 OR exp2. Истинно, если истинно exp1 или exp2 или оба выражения.\n",
        "\n",
        "NOT – условное НЕ: NOT exp. Преобразует ложное условие в истинное и, наоборот, истинное – в ложное.\n",
        "\n",
        "IN – вхождение во множество значений: col IN (val1, val2, …)\n",
        "\n",
        "\n",
        "NOT IN – не вхождение во множество значений: col NOT IN (val1, val2, …)"
      ],
      "metadata": {
        "id": "NOcl3qi321z4"
      }
    },
    {
      "cell_type": "markdown",
      "source": [
        "**Задание 5.3**\n",
        "\n",
        "Выполнить запросы, что каждый из них делает?\n",
        "\n",
        "SELECT * FROM users WHERE old > 20 AND score < 1000\n",
        "\n",
        "SELECT * FROM users WHERE old IN(19, 32) AND score < 1000\n",
        "\n",
        "SELECT * FROM users WHERE old IN(19, 32) AND score > 300 OR sex = 1\n",
        "\n",
        "SELECT * FROM users WHERE (old IN(19, 32) OR sex = 1) AND score > 300\n",
        "\n",
        "самый высокий приоритет имеет операция NOT\n",
        "\n",
        "SELECT * FROM users WHERE old IN(19, 32) AND NOT score > 300\n"
      ],
      "metadata": {
        "id": "yTd9ypjS3Cfw"
      }
    },
    {
      "cell_type": "markdown",
      "source": [
        "**Сортировка ORDER BY**\n",
        "\n",
        "**Задание 6**\n",
        "Выполнить запросы, что каждый из них делает?\n",
        "\n",
        "SELECT * FROM users WHERE score < 1000 ORDER BY old\n",
        "\n",
        "SELECT * FROM users WHERE score < 1000 ORDER BY old DESC\n",
        "\n",
        "если нужно явно показать, что сортировка производится по возрастанию, то можно записать флаг ASC\n",
        "\n",
        "SELECT * FROM users WHERE score < 1000 ORDER BY old ASC"
      ],
      "metadata": {
        "id": "RotQek2K3hdp"
      }
    },
    {
      "cell_type": "markdown",
      "source": [
        "**Ограничение выборки LIMIT**\n",
        "\n",
        " первых 10 игроков с наибольшим числом\n",
        "\n",
        " LIMIT <max> [OFFSET offset]\n",
        "\n",
        "LIMIT <offset, max>\n"
      ],
      "metadata": {
        "id": "4NKgSYfE4Csr"
      }
    },
    {
      "cell_type": "markdown",
      "source": [
        "**Задание 7**\n",
        "\n",
        "добавить в таблицу записи:\n",
        "\n",
        "Мария        2       18     400\n",
        "\n",
        "Сергей       1       33     2000\n",
        "\n",
        "Владимир  1       43     100\n",
        "\n",
        "Елена         2       17     500\n",
        "\n",
        "Юля  2       23     700\n",
        "\n",
        "И, сформировать запрос на выбор лучших пяти игроков"
      ],
      "metadata": {
        "id": "jzcZUUID4TCG"
      }
    },
    {
      "cell_type": "code",
      "source": [
        "#SELECT * FROM users WHERE score > 100 ORDER BY score DESC LIMIT 5"
      ],
      "metadata": {
        "id": "6V0X8sHY3ep9"
      },
      "execution_count": null,
      "outputs": []
    },
    {
      "cell_type": "markdown",
      "source": [
        "параметр OFFSET позволяет пропускать несколько первых записей\n",
        "\n",
        "**Задание 7**\n",
        "\n",
        "SELECT * FROM users WHERE score > 100 ORDER BY score DESC LIMIT 5 OFFSET 2\n",
        "\n",
        "SELECT * FROM users WHERE score > 100 ORDER BY score DESC LIMIT 2, 5\n",
        "\n"
      ],
      "metadata": {
        "id": "3suHSDOs46c1"
      }
    },
    {
      "cell_type": "markdown",
      "source": [
        "**Как распечатать результат**"
      ],
      "metadata": {
        "id": "VyyieMNkxv2Q"
      }
    },
    {
      "cell_type": "code",
      "source": [
        "import sqlite3 as sq\n",
        "\n",
        "with sq.connect(\"saper.db\") as con:\n",
        "    cur = con.cursor()\n",
        "\n",
        "    cur.execute(\"SELECT * FROM users WHERE score > 100 ORDER BY score DESC LIMIT 5\")\n",
        "    result = cur.fetchall()\n",
        "    print(result)\n",
        "  # fetchall для получения результатов отбора SQL-запроса. В результате, result\n",
        "  # будет ссылаться на упорядоченный список, состоящий из кортежей с данными таблицы\n"
      ],
      "metadata": {
        "id": "2d6kN8mV5nBP",
        "colab": {
          "base_uri": "https://localhost:8080/"
        },
        "outputId": "48be7787-bc43-4201-86b7-df84ea2cc01f"
      },
      "execution_count": null,
      "outputs": [
        {
          "output_type": "stream",
          "name": "stdout",
          "text": [
            "[]\n"
          ]
        }
      ]
    },
    {
      "cell_type": "code",
      "source": [
        "# Или, перебрать последовательно, используя Cursor в качестве итерируемого объекта\n",
        "for result in cur:\n",
        "    print(result)\n",
        "#  более предпочтителен когда число выбираемых записей может быть велико.\n",
        "# не формируем список, а последовательно выбираем из БД и тут же их обрабатываем.\n",
        "#Такой подход существенно экономит память\n"
      ],
      "metadata": {
        "id": "ZXWeBPU850be"
      },
      "execution_count": null,
      "outputs": []
    },
    {
      "cell_type": "markdown",
      "source": [
        "Есть еще два метода, которые выдают результат выборки из таблицы:\n",
        "\n",
        "fetchmany(size) – возвращает число записей не более size;\n",
        "fetchone() – возвращает первую запись."
      ],
      "metadata": {
        "id": "Fv-EjfZB6Sxx"
      }
    },
    {
      "cell_type": "code",
      "source": [
        "result = cur.fetchone()\n",
        "result2 = cur.fetchmany(2)\n",
        "print(result)\n",
        "print(result2)"
      ],
      "metadata": {
        "id": "hD4t3ssB6T_r",
        "colab": {
          "base_uri": "https://localhost:8080/"
        },
        "outputId": "7396b7ff-8c09-43cd-a3b3-73d777c973c1"
      },
      "execution_count": null,
      "outputs": [
        {
          "output_type": "stream",
          "name": "stdout",
          "text": [
            "None\n",
            "[]\n"
          ]
        }
      ]
    },
    {
      "cell_type": "markdown",
      "source": [
        "**UPDATE имя_таблицы SET имя_столбца = новое_значение WHERE условие**\n",
        "\n",
        "UPDATE users SET score = 0\n",
        "\n",
        "\n",
        "ключевое слово LIKE возвращает True, если поле в указанном столбце содержит указанное занчение. В строках можно использовать специальные символы:\n",
        "\n",
        "% - любое продолжение строки;\n",
        "\n",
        "_ - любой символ;"
      ],
      "metadata": {
        "id": "F4rCiO-e9lHr"
      }
    },
    {
      "cell_type": "markdown",
      "source": [
        "**Задание 8**\n",
        "\n",
        "Выполнить запросы, что каждый из них делает?\n",
        "\n",
        "UPDATE users SET score = 1000 WHERE rowid = 1\n",
        "\n",
        "UPDATE users SET score = score+500 WHERE sex = 2\n",
        "\n",
        "UPDATE users SET score = 1500 WHERE name LIKE 'Федор'\n",
        "\n",
        "UPDATE users SET score = score+100 WHERE name LIKE 'М%'\n",
        "\n",
        "UPDATE users SET score = score+100 WHERE name LIKE 'С_рг%'\n",
        "\n",
        " поменять значения сразу несколько столбцов записи\n",
        "\n",
        "UPDATE users SET score = 700, old = 45 WHERE old > 40"
      ],
      "metadata": {
        "id": "zZzIF4569vQd"
      }
    },
    {
      "cell_type": "markdown",
      "source": [
        "**DELETE**\n",
        "\n",
        "Синтаксис следующей команды для удаления записи из БД, следующий:\n",
        "\n",
        "**DELETE FROM имя_таблицы WHERE условие**"
      ],
      "metadata": {
        "id": "aXS5_voU-32p"
      }
    },
    {
      "cell_type": "markdown",
      "source": [
        "**Задание 9**\n",
        "\n",
        "Выполнить запросы, что каждый из них делает?\n",
        "\n",
        "DELETE FROM users WHERE rowid IN(2, 5)\n",
        "\n",
        "SELECT rowid, * FROM users\n",
        "\n",
        "INSERT INTO users VALUES('Даша', 2, 24, 1200)\n",
        "\n",
        "\n",
        "какой rowid?"
      ],
      "metadata": {
        "id": "9Caskzeu-_xm"
      }
    },
    {
      "cell_type": "markdown",
      "source": [
        "**Агрегирующие функции в SELECT и GROUP BY**"
      ],
      "metadata": {
        "id": "LHyjs8I4CCJX"
      }
    },
    {
      "cell_type": "markdown",
      "source": [
        "**Задание 10**\n",
        "\n",
        "создайте таблицу games где отображаются результаты каждой игры каждого игрока\n",
        "\n",
        "(поля user-id score time)"
      ],
      "metadata": {
        "id": "wWCmuHRCCbn9"
      }
    },
    {
      "cell_type": "markdown",
      "source": [
        "**Задание 11**\n",
        "\n",
        "Выполнить запросы, что каждый из них делает?\n",
        "\n",
        "SELECT count(user_id) FROM games WHERE user_id = 1\n",
        "\n",
        "SELECT count() as count FROM games WHERE user_id = 1\n"
      ],
      "metadata": {
        "id": "geSY0Cr8DvXZ"
      }
    },
    {
      "cell_type": "markdown",
      "source": [
        "в команде SELECT можно использовать следующие наиболее распространенные агрегирующие функции:\n",
        "\n",
        "count() – подсчет числа записей;\n",
        "sum() – подсчет суммы указанного поля по всем записям выборки;\n",
        "\n",
        "avr() – вычисление среднего арифметического указанного поля;\n",
        "\n",
        "min() – нахождение минимального значения для указанного поля;\n",
        "\n",
        "max() – нахождение максимального значения для указанного поля."
      ],
      "metadata": {
        "id": "KgN5wx6rEFUc"
      }
    },
    {
      "cell_type": "markdown",
      "source": [
        "**Задание 12**\n",
        "\n",
        "Выполнить запросы, что каждый из них делает?\n",
        "\n",
        "SELECT DISTINCT user_id FROM games\n",
        "\n",
        "SELECT count(DISTINCT user_id) as count FROM games\n",
        "\n",
        "DISTINCT,  указывает СУБД выбирать записи с уникальными user_id\n",
        "\n",
        "SELECT sum(score) as sum FROM games WHERE user_id = 1\n",
        "\n",
        "\n",
        "SELECT max(score) FROM games WHERE user_id = 1\n",
        "\n",
        "SELECT min(score) FROM games WHERE user_id = 1"
      ],
      "metadata": {
        "id": "CXu5jzTnEOJG"
      }
    },
    {
      "cell_type": "markdown",
      "source": [
        "**Группировка GROUP BY**\n",
        "Язык SQL позволяет вызывать агрегирующие функции не для всех записей в выборке, а локально для указанных групп. Например,  создать список ТОП лучших игроков. Для этого нужно вызвать функции sum для каждого уникального user_id.\n",
        "\n",
        "Это делается с помощью оператора\n",
        "\n",
        "GROUP BY <имя поля>\n",
        "\n",
        "который группирует записи по указанному столбцу. В этом случае агрегирующие функции будут работать в пределах каждой группы:\n",
        "\n",
        "SELECT user_id, sum(score) as sum\n",
        "FROM games\n",
        "GROUP BY user_id"
      ],
      "metadata": {
        "id": "nvVrbqvXFSPl"
      }
    },
    {
      "cell_type": "markdown",
      "source": [
        "**Задание 13**\n",
        "\n",
        "Выполнить запрос, что он делает?\n",
        "\n",
        "SELECT user_id, sum(score) as sum FROM games GROUP BY user_id\n"
      ],
      "metadata": {
        "id": "v9K-9jKjF5Jc"
      }
    },
    {
      "cell_type": "markdown",
      "source": [
        "**Задание 14** (чем отличаются от предыдущего, почему в результате число очков может измениться)\n",
        "\n",
        "Выполнить запросы, что каждый из них делает?\n",
        "\n",
        "SELECT user_id, sum(score) as sum\n",
        "\n",
        "FROM games\n",
        "\n",
        "WHERE score > 300\n",
        "\n",
        "GROUP BY user_id\n",
        "\n",
        "ORDER BY sum DESC"
      ],
      "metadata": {
        "id": "y46S9pTHGReU"
      }
    },
    {
      "cell_type": "markdown",
      "source": [
        "**Задание 15**\n",
        "что изменится если добавить в конце LIMIT 1 ?\n",
        "\n",
        "(если нужно задать ограничение по числу отбираемых записей, то в последнюю очередь записывается оператор LIMIT)"
      ],
      "metadata": {
        "id": "9Fyjuzj8G8eI"
      }
    },
    {
      "cell_type": "markdown",
      "source": [
        "**Оператор JOIN для формирования сводного отчета**\n",
        "\n",
        "JOIN <таблица> ON <условие связывания>"
      ],
      "metadata": {
        "id": "czhqGpKLHvg2"
      }
    },
    {
      "cell_type": "markdown",
      "source": [
        "Таблица games содержит поле user_id (идентификатор пользователя),\n",
        "\n",
        "которое является внешним ключом для связывания с таблицей users по полю rowid,\n",
        "\n",
        " которое является первичным ключом.\n",
        "\n",
        " **SELECT name, sex, games.score FROM games JOIN users ON games.user_id = users.rowid**\n",
        "\n",
        "поле score записано как games.score, тем самым уточняя, что его следует брать из таблицы games.\n",
        "\n",
        "Если этого не сделать, то СУБД возвратит ошибку неопределенности имени поля, т.к. score присутствует в обеих таблицах.\n",
        "\n",
        "Далее указывается главная таблица games, с которой будут ассоциированы данные из второй таблицы users.\n",
        "\n",
        "Условие связывания прописано после оператора ON как равенство полей games.user_id и users.rowid выбираемой записи.\n",
        "\n",
        "То есть, сначала отбирается запись из главной таблицы games\n",
        "\n",
        "и, затем, берется запись из таблицы users, у которой rowid равен user_id\n",
        "\n",
        "Благодаря объединению данных мы видим не просто id игрока, а его имя, что гораздо удобнее для человеческого восприятия.\n"
      ],
      "metadata": {
        "id": "KI-Cqrg3IE-f"
      }
    },
    {
      "cell_type": "markdown",
      "source": [
        "**Задание 16**\n",
        "\n",
        "Выполнить запрос, что он делает?\n",
        "\n",
        "SELECT name, sex, games.score FROM games JOIN users ON games.user_id = users.rowid\n",
        "\n",
        "\n",
        "\n",
        "Объединять данные из таблиц можно и без оператора JOIN, просто указав их имена после FROM\n",
        "\n",
        "SELECT name, sex, games.score FROM users, games"
      ],
      "metadata": {
        "id": "7AAkhWCsJO83"
      }
    },
    {
      "cell_type": "markdown",
      "source": [
        "**Задание 17**\n",
        "\n",
        "Выполнить запрос, что он делает?\n",
        "\n",
        "SELECT name, sex, games.score FROM games\n",
        "JOIN users ON games.user_id = users.rowid\n",
        "\n",
        "аналог оператора INNER JOIN, соединение записей из двух таблиц, если соответствия найдены в обеих из них\n",
        "\n",
        "удалить одну из записей из таблицы users\n",
        "\n",
        "повторить запрос\n",
        "\n",
        "и выполнить\n",
        "\n",
        "SELECT name, sex, games.score FROM games\n",
        "LEFT JOIN users ON games.user_id = users.rowid"
      ],
      "metadata": {
        "id": "I6cs0d_7KOpH"
      }
    },
    {
      "cell_type": "markdown",
      "source": [
        "**Задание 18**\n",
        "\n",
        "получить таблицу с игроками, набравших максимальное число очков\n",
        "\n",
        "\n",
        "SELECT user_id, sum(score) as sum\n",
        "FROM games\n",
        "GROUP BY user_id\n",
        "ORDER BY sum DESC\n",
        "\n",
        "\n",
        "SELECT name, sex, sum(games.score) as score\n",
        "FROM games\n",
        "JOIN users ON games.user_id = users.rowid\n",
        "GROUP BY user_id\n",
        "ORDER BY score DESC"
      ],
      "metadata": {
        "id": "39xjLf7HK8Cx"
      }
    },
    {
      "cell_type": "markdown",
      "source": [
        "В команде SELECT можно указывать несколько операторов JOIN для объединения данных из трех, четырех и большего числа таблиц:\n",
        "\n",
        "SELECT <поля> FROM <таблица 1>\n",
        "\n",
        "JOIN <таблица 2> JOIN <таблица 3> … JOIN <таблица N>\n",
        "\n",
        "ON <условие связывания>"
      ],
      "metadata": {
        "id": "nfT-Hn19LTj7"
      }
    }
  ]
}
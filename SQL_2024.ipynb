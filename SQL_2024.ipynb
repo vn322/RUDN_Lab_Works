{
  "nbformat": 4,
  "nbformat_minor": 0,
  "metadata": {
    "colab": {
      "provenance": [],
      "include_colab_link": true
    },
    "kernelspec": {
      "name": "python3",
      "display_name": "Python 3"
    },
    "language_info": {
      "name": "python"
    }
  },
  "cells": [
    {
      "cell_type": "markdown",
      "metadata": {
        "id": "view-in-github",
        "colab_type": "text"
      },
      "source": [
        "<a href=\"https://colab.research.google.com/github/vn322/RUDN_Lab_Works/blob/main/SQL_2024.ipynb\" target=\"_parent\"><img src=\"https://colab.research.google.com/assets/colab-badge.svg\" alt=\"Open In Colab\"/></a>"
      ]
    },
    {
      "cell_type": "markdown",
      "source": [
        "https://sqlitebrowser.org\n",
        "\n",
        "# 02.03.2024\n",
        "\n",
        "https://habr.com/ru/articles/792630/\n",
        "\n",
        "https://habr.com/ru/articles/754400/\n",
        "\n",
        "https://proproprogs.ru/modules/komandy-update-i-delete\n"
      ],
      "metadata": {
        "id": "J833C_Rx2TGX"
      }
    },
    {
      "cell_type": "code",
      "execution_count": 1,
      "metadata": {
        "id": "wTWfwf0xt7C3"
      },
      "outputs": [],
      "source": [
        "import sqlite3"
      ]
    },
    {
      "cell_type": "code",
      "source": [
        "try:\n",
        "    sqlite_connection = sqlite3.connect('sqlite_python.db')\n",
        "    cursor = sqlite_connection.cursor()\n",
        "    print(\"База данных создана и успешно подключена к SQLite\")\n",
        "\n",
        "    sqlite_select_query = \"select sqlite_version();\" #создается запрос для получения версии базы данны\n",
        "    cursor.execute(sqlite_select_query)\n",
        "    record = cursor.fetchall()\n",
        "    print(\"Версия базы данных SQLite: \", record)\n",
        "    cursor.close()\n",
        "\n",
        "except sqlite3.Error as error:\n",
        "    print(\"Ошибка при подключении к sqlite\", error)\n",
        "finally:\n",
        "    if (sqlite_connection):\n",
        "        sqlite_connection.close()\n",
        "        print(\"Соединение с SQLite закрыто\")"
      ],
      "metadata": {
        "colab": {
          "base_uri": "https://localhost:8080/"
        },
        "id": "iGJhR4d4uGVz",
        "outputId": "80158acf-4927-4397-b195-7de97324ccc6"
      },
      "execution_count": 2,
      "outputs": [
        {
          "output_type": "stream",
          "name": "stdout",
          "text": [
            "База данных создана и успешно подключена к SQLite\n",
            "Версия базы данных SQLite:  [('3.37.2',)]\n",
            "Соединение с SQLite закрыто\n"
          ]
        }
      ]
    },
    {
      "cell_type": "code",
      "source": [
        "import sqlite3\n",
        "\n",
        "try:\n",
        "    sqlite_connection = sqlite3.connect('sqlite_python.db')\n",
        "    sqlite_create_table_query = '''CREATE TABLE sqlitedb_developers (\n",
        "                                id INTEGER PRIMARY KEY,\n",
        "                                name TEXT NOT NULL,\n",
        "                                email text NOT NULL UNIQUE,\n",
        "                                joining_date datetime,\n",
        "                                salary REAL NOT NULL);'''\n",
        "\n",
        "    cursor = sqlite_connection.cursor()\n",
        "    print(\"База данных подключена к SQLite\")\n",
        "    cursor.execute(sqlite_create_table_query)\n",
        "    sqlite_connection.commit()\n",
        "    print(\"Таблица SQLite создана\")\n",
        "\n",
        "    cursor.close()\n",
        "\n",
        "except sqlite3.Error as error:\n",
        "    print(\"Ошибка при подключении к sqlite\", error)\n",
        "finally:\n",
        "    if (sqlite_connection):\n",
        "        sqlite_connection.close()\n",
        "        print(\"Соединение с SQLite закрыто\")"
      ],
      "metadata": {
        "id": "Yyh3kUvzuTFu",
        "colab": {
          "base_uri": "https://localhost:8080/"
        },
        "outputId": "d3be38eb-5a8a-4f85-911e-d36d1ea3772d"
      },
      "execution_count": 3,
      "outputs": [
        {
          "output_type": "stream",
          "name": "stdout",
          "text": [
            "База данных подключена к SQLite\n",
            "Таблица SQLite создана\n",
            "Соединение с SQLite закрыто\n"
          ]
        }
      ]
    },
    {
      "cell_type": "markdown",
      "source": [
        "NULL — значение NULL\n",
        "\n",
        "INTEGER — числовые значения. Целые числа хранятся в 1, 2, 3, 4, 6 и 8 байтах в зависимости от величины\n",
        "\n",
        "REAL — числа с плавающей точкой, например, 3.14, число Пи\n",
        "\n",
        "TEXT — текстовые значения. Могут храниться в кодировке UTF-8, UTF-16BE или UTF-16LE\n",
        "\n",
        "BLOB — бинарные данные. Для хранения изображений и файлов"
      ],
      "metadata": {
        "id": "p4AGtzn-wbZB"
      }
    },
    {
      "cell_type": "code",
      "source": [
        "%%writefile sqlite_create_tables.sql\n",
        "CREATE TABLE fruits (\n",
        " id INTEGER PRIMARY KEY,\n",
        " name TEXT NOT NULL,\n",
        " price REAL NOT NULL\n",
        ");\n",
        "\n",
        "CREATE TABLE drinks (\n",
        " id INTEGER PRIMARY KEY,\n",
        " name TEXT NOT NULL,\n",
        " price REAL NOT NULL\n",
        ");"
      ],
      "metadata": {
        "colab": {
          "base_uri": "https://localhost:8080/"
        },
        "id": "O6N-Re9Owcsk",
        "outputId": "7ec8218d-691c-4a0c-989f-914264730555"
      },
      "execution_count": 4,
      "outputs": [
        {
          "output_type": "stream",
          "name": "stdout",
          "text": [
            "Writing sqlite_create_tables.sql\n"
          ]
        }
      ]
    },
    {
      "cell_type": "markdown",
      "source": [
        "Создание резервных копий сразу нескольких баз данных за раз.\n",
        "Сравнение количества строк двух разных баз с одной схемой.\n",
        "Создание всех таблиц в одном скрипте, что позволит создать нужную схему на любом сервере"
      ],
      "metadata": {
        "id": "s1293B4RyUWI"
      }
    },
    {
      "cell_type": "code",
      "source": [
        "import sqlite3\n",
        "\n",
        "try:\n",
        "    sqlite_connection = sqlite3.connect('sqlite_python.db')\n",
        "    cursor = sqlite_connection.cursor()\n",
        "    print(\"База данных подключена к SQLite\")\n",
        "\n",
        "    with open('sqlite_create_tables.sql', 'r') as sqlite_file:\n",
        "        sql_script = sqlite_file.read()\n",
        "\n",
        "    cursor.executescript(sql_script)\n",
        "    print(\"Скрипт SQLite успешно выполнен\")\n",
        "    cursor.close()\n",
        "\n",
        "except sqlite3.Error as error:\n",
        "    print(\"Ошибка при подключении к sqlite\", error)\n",
        "finally:\n",
        "    if (sqlite_connection):\n",
        "        sqlite_connection.close()\n",
        "        print(\"Соединение с SQLite закрыто\")"
      ],
      "metadata": {
        "id": "087q6hlnxJdk",
        "colab": {
          "base_uri": "https://localhost:8080/"
        },
        "outputId": "f8c1ca4b-22d2-410c-877e-d18aaaa098bc"
      },
      "execution_count": 5,
      "outputs": [
        {
          "output_type": "stream",
          "name": "stdout",
          "text": [
            "База данных подключена к SQLite\n",
            "Скрипт SQLite успешно выполнен\n",
            "Соединение с SQLite закрыто\n"
          ]
        }
      ]
    },
    {
      "cell_type": "code",
      "source": [
        "import sqlite3\n",
        "import traceback\n",
        "import sys\n",
        "\n",
        "try:\n",
        "    sqlite_connection = sqlite3.connect('sqlite_python.db')\n",
        "    cursor = sqlite_connection.cursor()\n",
        "    print(\"База данных подключена к SQLite\")\n",
        "\n",
        "    sqlite_insert_query = \"\"\"INSERT INTO unknown_table_1\n",
        "                          (id, text)  VALUES  (1, 'Демо текст')\"\"\"\n",
        "\n",
        "    count = cursor.execute(sqlite_insert_query)\n",
        "    sqlite_connection.commit()\n",
        "    print(\"Запись успешно вставлена ​​в таблицу sqlitedb_developers \", cursor.rowcount)\n",
        "    cursor.close()\n",
        "\n",
        "except sqlite3.Error as error:\n",
        "    print(\"Не удалось вставить данные в таблицу sqlite\")\n",
        "    print(\"Класс исключения: \", error.__class__)\n",
        "    print(\"Исключение\", error.args)\n",
        "    print(\"Печать подробноcтей исключения SQLite: \")\n",
        "    exc_type, exc_value, exc_tb = sys.exc_info()\n",
        "    print(traceback.format_exception(exc_type, exc_value, exc_tb))\n",
        "finally:\n",
        "    if (sqlite_connection):\n",
        "        sqlite_connection.close()\n",
        "        print(\"Соединение с SQLite закрыто\")"
      ],
      "metadata": {
        "colab": {
          "base_uri": "https://localhost:8080/"
        },
        "id": "SCiFhJwcxXAa",
        "outputId": "8053fe24-c5a6-4e84-cebf-bf148a327dd2"
      },
      "execution_count": 6,
      "outputs": [
        {
          "output_type": "stream",
          "name": "stdout",
          "text": [
            "База данных подключена к SQLite\n",
            "Не удалось вставить данные в таблицу sqlite\n",
            "Класс исключения:  <class 'sqlite3.OperationalError'>\n",
            "Исключение ('no such table: unknown_table_1',)\n",
            "Печать подробноcтей исключения SQLite: \n",
            "['Traceback (most recent call last):\\n', '  File \"<ipython-input-6-8844dcf85c9a>\", line 13, in <cell line: 5>\\n    count = cursor.execute(sqlite_insert_query)\\n', 'sqlite3.OperationalError: no such table: unknown_table_1\\n']\n",
            "Соединение с SQLite закрыто\n"
          ]
        }
      ]
    },
    {
      "cell_type": "markdown",
      "source": [
        "sqlite3.Warning. Подкласс Exception. Его можно игнорировать, если нужно, чтобы оно не останавливало выполнение.\n",
        "\n",
        "sqlite3.Error. Базовый класс для остальных исключений модуля sqlite3. Подкласс Exception.\n",
        "\n",
        "sqlite3.DatabaseError. Исключение, которое возвращается при ошибках базы данных. Например, если попытаться открыть файл как базу sqite3, хотя он ею не является, то вернется ошибка «sqlite3.DatabaseError: file is encrypted or is not a database».\n",
        "\n",
        "sqlite3.IntegrityError. Подкласс DatabaseError. Эта ошибка возвращается, когда затрагиваются отношения в базе, например, например, не проходит проверка внешнего ключа.\n",
        "\n",
        "sqlite3.ProgrammingError. Подкласс DatabaseError. Эта ошибка возникает из-за ошибок программиста: создание таблицы с именем, которое уже занято, синтаксическая ошибка в SQL-запросах.\n",
        "\n",
        "sqlite3.OperationalError. Подкласс DatabaseError. Эту ошибку невозможно контролировать. Она появляется в ситуациях, которые касаются работы базы данных, например, обрыв соединения, неработающий сервер, проблемы с источником данных и так далее.\n",
        "\n",
        "sqlite3.NotSupportedError. Это исключение появляется при попытке использовать неподдерживаемое базой данных API. Пример: вызов метода rollback() для соединения, которое не поддерживает транзакции. Вызов коммита после команды создания таблицы."
      ],
      "metadata": {
        "id": "xYx68AVtzBSf"
      }
    },
    {
      "cell_type": "code",
      "source": [
        "import sqlite3\n",
        "import traceback\n",
        "import sys\n",
        "\n",
        "try:\n",
        "    sqlite_connection = sqlite3.connect('sqlite_python.db')\n",
        "    cursor = sqlite_connection.cursor()\n",
        "    print(\"База данных подключена к SQLite\")\n",
        "\n",
        "    sqlite_insert_query = \"\"\"INSERT INTO unknown_table_1\n",
        "                          (id, text)  VALUES  (1, 'Демо текст')\"\"\"\n",
        "\n",
        "    count = cursor.execute(sqlite_insert_query)\n",
        "    sqlite_connection.commit()\n",
        "    print(\"Запись успешно вставлена ​​в таблицу sqlitedb_developers \", cursor.rowcount)\n",
        "    cursor.close()\n",
        "\n",
        "except sqlite3.Error as error:\n",
        "    print(\"Не удалось вставить данные в таблицу sqlite\")\n",
        "    print(\"Класс исключения: \", error.__class__)\n",
        "    print(\"Исключение\", error.args)\n",
        "    print(\"Печать подробноcтей исключения SQLite: \")\n",
        "    exc_type, exc_value, exc_tb = sys.exc_info()\n",
        "    print(traceback.format_exception(exc_type, exc_value, exc_tb))\n",
        "finally:\n",
        "    if (sqlite_connection):\n",
        "        sqlite_connection.close()\n",
        "        print(\"Соединение с SQLite закрыто\")"
      ],
      "metadata": {
        "colab": {
          "base_uri": "https://localhost:8080/"
        },
        "id": "VPDgHIQ8zL05",
        "outputId": "f1b0a1b8-febf-4d22-882e-a63f5e314cf6"
      },
      "execution_count": 7,
      "outputs": [
        {
          "output_type": "stream",
          "name": "stdout",
          "text": [
            "База данных подключена к SQLite\n",
            "Не удалось вставить данные в таблицу sqlite\n",
            "Класс исключения:  <class 'sqlite3.OperationalError'>\n",
            "Исключение ('no such table: unknown_table_1',)\n",
            "Печать подробноcтей исключения SQLite: \n",
            "['Traceback (most recent call last):\\n', '  File \"<ipython-input-7-8844dcf85c9a>\", line 13, in <cell line: 5>\\n    count = cursor.execute(sqlite_insert_query)\\n', 'sqlite3.OperationalError: no such table: unknown_table_1\\n']\n",
            "Соединение с SQLite закрыто\n"
          ]
        }
      ]
    },
    {
      "cell_type": "markdown",
      "source": [
        "Бывает такое, что есть несколько подключений к базе данных SQLite, и одно из них выполняет определенное изменение. Для этого соединению требуется выполнить блокировку — база данных блокируется до тех пор, пока транзакция не будет завершена.\n",
        "\n",
        "Параметр timeout, который задается при подключении, определяет, как долго соединение будет ожидать отключения блокировки перед возвращением исключения.\n",
        "\n"
      ],
      "metadata": {
        "id": "QAfSTe-vzfRD"
      }
    },
    {
      "cell_type": "code",
      "source": [
        "import sqlite3\n",
        "\n",
        "def read_sqlite_table():\n",
        "    try:\n",
        "        sqlite_connection= sqlite3.connect('sqlite_python.db', timeout=20) #20c\n",
        "        cursor = sqlite_connection.cursor()\n",
        "        print(\"Подключен к SQLite\")\n",
        "\n",
        "        sqlite_select_query = \"\"\"SELECT count(*) from sqlitedb_developers\"\"\"\n",
        "        cursor.execute(sqlite_select_query)\n",
        "        total_rows = cursor.fetchone()\n",
        "        print(\"Всего строк:  \", total_rows)\n",
        "        cursor.close()\n",
        "\n",
        "    except sqlite3.Error as error:\n",
        "        print(\"Ошибка при подключении к sqlite\", error)\n",
        "    finally:\n",
        "        if (sqlite_connection):\n",
        "            sqlite_connection.close()\n",
        "            print(\"Соединение с SQLite закрыто\")\n",
        "\n",
        "read_sqlite_table()"
      ],
      "metadata": {
        "colab": {
          "base_uri": "https://localhost:8080/"
        },
        "id": "vCQbs630zlm9",
        "outputId": "1b45dc7e-f53d-46bb-b95d-a098a4169925"
      },
      "execution_count": 8,
      "outputs": [
        {
          "output_type": "stream",
          "name": "stdout",
          "text": [
            "Подключен к SQLite\n",
            "Всего строк:   (0,)\n",
            "Соединение с SQLite закрыто\n"
          ]
        }
      ]
    },
    {
      "cell_type": "markdown",
      "source": [
        "Для статистики может потребоваться найти количество строк базы данных, которые были вставлены, удалены или изменены с момента открытия соединения. Для этого используется функция connection.total_changes модуля sqlite3."
      ],
      "metadata": {
        "id": "8-7ITHY4z6NN"
      }
    },
    {
      "cell_type": "code",
      "source": [
        "import sqlite3\n",
        "\n",
        "try:\n",
        "    sqlite_connection = sqlite3.connect('sqlite_python.db')\n",
        "    cursor = sqlite_connection.cursor()\n",
        "    print(\"Подключен к SQLite\")\n",
        "\n",
        "    sqlite_insert_query = \"\"\"INSERT INTO sqlitedb_developers\n",
        "                          (id, name, email, joining_date, salary)\n",
        "                          VALUES (4, 'Alex', 'sale@gmail.com', '2020-11-20', 8600);\"\"\"\n",
        "    cursor.execute(sqlite_insert_query)\n",
        "\n",
        "    sql_update_query = \"\"\"Update sqlitedb_developers set salary = 10000 where id = 4\"\"\"\n",
        "    cursor.execute(sql_update_query)\n",
        "\n",
        "    sql_delete_query = \"\"\"DELETE from sqlitedb_developers where id = 4\"\"\"\n",
        "    cursor.execute(sql_delete_query)\n",
        "\n",
        "    sqlite_connection.commit()\n",
        "    cursor.close()\n",
        "\n",
        "except sqlite3.Error as error:\n",
        "    print(\"Ошибка при работе с SQLite\", error)\n",
        "finally:\n",
        "    if (sqlite_connection):\n",
        "        print(\"Всего строк, измененных после подключения к базе данных: \", sqlite_connection.total_changes)\n",
        "        sqlite_connection.close()\n",
        "        print(\"Соединение с SQLite закрыто\")\n"
      ],
      "metadata": {
        "colab": {
          "base_uri": "https://localhost:8080/"
        },
        "id": "cASlrORqz43S",
        "outputId": "5e74374f-e8e0-4267-9e83-8f555a1d1885"
      },
      "execution_count": 9,
      "outputs": [
        {
          "output_type": "stream",
          "name": "stdout",
          "text": [
            "Подключен к SQLite\n",
            "Всего строк, измененных после подключения к базе данных:  3\n",
            "Соединение с SQLite закрыто\n"
          ]
        }
      ]
    },
    {
      "cell_type": "markdown",
      "source": [
        "Модуль sqlite3 в Python предоставляет функцию для сохранения резервной копии базы данных SQLite. С помощью метода connection.backup() можно сделать резервную копию базы SQLite."
      ],
      "metadata": {
        "id": "5K5d2fKV0CgH"
      }
    },
    {
      "cell_type": "markdown",
      "source": [
        "Эта функция делает полную резервную копию базы данных SQLite. Изменения записываются в аргумент target, который должен быть экземпляром другого соединения.\n",
        "\n",
        "По умолчанию когда параметр pages равен 0 или отрицательному числу, вся база данных копируется в один шаг. В противном случае метод выполняет цикл, копируя заданное количество страниц за раз.\n",
        "\n",
        "Аргумент name определяет базу данных, резервную копию которой нужно сделать. Аргумент sleep — количество секунд между последовательными попытками сохранить оставшиеся страницы. Аргумент sleep можно задать как в качестве целого числа, так и в виде числа с плавающей точкой.\n",
        "\n",
        "Рассмотрим один пример копирования базы данных в другую."
      ],
      "metadata": {
        "id": "mooXAOEV0J5P"
      }
    },
    {
      "cell_type": "code",
      "source": [
        "\n",
        "import sqlite3\n",
        "\n",
        "def progress(status, remaining, total):\n",
        "    print(f'Скопировано {total-remaining} из {total}...')\n",
        "\n",
        "try:\n",
        "    sqlite_con = sqlite3.connect('sqlite_python.db')\n",
        "    backup_con = sqlite3.connect('sqlite_backup.db')\n",
        "    with backup_con:\n",
        "        sqlite_con.backup(backup_con, pages=3, progress=progress)\n",
        "    print(\"Резервное копирование выполнено успешно\")\n",
        "except sqlite3.Error as error:\n",
        "    print(\"Ошибка при резервном копировании: \", error)\n",
        "finally:\n",
        "    if(backup_con):\n",
        "        backup_con.close()\n",
        "        sqlite_con.close()"
      ],
      "metadata": {
        "id": "eDH0QpS90I2I",
        "colab": {
          "base_uri": "https://localhost:8080/"
        },
        "outputId": "4d09530d-54fe-4883-f5f5-7934e4a0026d"
      },
      "execution_count": 10,
      "outputs": [
        {
          "output_type": "stream",
          "name": "stdout",
          "text": [
            "Скопировано 3 из 5...\n",
            "Скопировано 5 из 5...\n",
            "Резервное копирование выполнено успешно\n"
          ]
        }
      ]
    },
    {
      "cell_type": "markdown",
      "source": [
        "После подключения к SQLite обе базы данных были открыты с помощью двух разных подключений\n",
        "Дальше выполняется метод connection.backup() с помощью экземпляра первого подключения. Также задано количество страниц, которые нужно скопировать за одну итерацию."
      ],
      "metadata": {
        "id": "1zwk6BOE0bTB"
      }
    },
    {
      "cell_type": "markdown",
      "source": [
        "# **Задание 1**\n",
        "\n",
        "Добваить код исправяющий работу блоков с исключениями\n",
        "\n",
        "1) создать нужную таблицу\n",
        "\n",
        "2) добавить в нее пару записей\n",
        "\n",
        "3) проверить как теперь будут рабртать эти блоки"
      ],
      "metadata": {
        "id": "tEj8uDUHwWwI"
      }
    },
    {
      "cell_type": "markdown",
      "source": [
        "\n",
        "name – строка с именем игрока;\n",
        "sex – число, пол игрока (1 – мужской; 2 – женский);\n",
        "old – число, возраст игрока;\n",
        "score – суммарное число набранных очков за все игры.\n",
        "\n",
        "CREATE TABLE users (\n",
        "    name TEXT,\n",
        "    sex INTEGER,\n",
        "    old INTEGER,\n",
        "    score INTEGER)\n",
        "\n",
        "CREATE TABLE users (\n",
        "    name TEXT,\n",
        "    sex INTEGER,\n",
        "    old INTEGER,\n",
        "    score INTEGER\n",
        ")\n"
      ],
      "metadata": {
        "id": "EOg3slxX-bja"
      }
    },
    {
      "cell_type": "code",
      "source": [
        "import sqlite3\n",
        "\n",
        "try:\n",
        "    sqlite_connection = sqlite3.connect('sqlite_python.db')\n",
        "    sqlite_create_table_query = '''CREATE TABLE users (\n",
        "\n",
        "                                name TEXT NOT NULL,\n",
        "                                sex integer NOT NULL,\n",
        "                                old integer NOT NULL,\n",
        "                                score integer);'''\n",
        "\n",
        "    cursor = sqlite_connection.cursor()\n",
        "    print(\"База данных подключена к SQLite\")\n",
        "    cursor.execute(sqlite_create_table_query)\n",
        "    sqlite_connection.commit()\n",
        "    print(\"Таблица SQLite создана\")\n",
        "\n",
        "    cursor.close()\n",
        "\n",
        "except sqlite3.Error as error:\n",
        "    print(\"Ошибка при подключении к sqlite\", error)\n",
        "finally:\n",
        "    if (sqlite_connection):\n",
        "        sqlite_connection.close()\n",
        "        print(\"Соединение с SQLite закрыто\")"
      ],
      "metadata": {
        "colab": {
          "base_uri": "https://localhost:8080/"
        },
        "outputId": "ee871e6a-896b-45f8-d72c-2c1f0e091b2f",
        "id": "4sr_DY9GfOh4"
      },
      "execution_count": 11,
      "outputs": [
        {
          "output_type": "stream",
          "name": "stdout",
          "text": [
            "База данных подключена к SQLite\n",
            "Таблица SQLite создана\n",
            "Соединение с SQLite закрыто\n"
          ]
        }
      ]
    },
    {
      "cell_type": "markdown",
      "source": [
        "Мы здесь указываем команду CREATE TABLE (создать таблицу), затем, имя таблицы – users и, далее, в круглых скобках через запятую перечисляем поля с указанием их типов."
      ],
      "metadata": {
        "id": "xIMA_ZSZNeCS"
      }
    },
    {
      "cell_type": "markdown",
      "source": [
        "**формат команды INSERT**\n",
        "\n",
        "INSERT INTO <table_name> (<column_name1>, <column_name2>, ...) VALUES (<value1>, <value2>, …)\n",
        "\n",
        "\n",
        "**пример**\n",
        "\n",
        "INSERT INTO users VALUES('Михаил', 1, 19, 1000)\n",
        "\n",
        "INSERT INTO users (name, old, score) VALUES('Федор', 32, 200)\n",
        "\n",
        "\n",
        "**формат команды SELECT**\n",
        "\n",
        "SELECT col1, col2, … FROM <table_name>\n",
        "\n",
        "**пример**\n",
        "\n",
        "SELECT name, old, score FROM users"
      ],
      "metadata": {
        "id": "ACTAhZfP8lQh"
      }
    },
    {
      "cell_type": "markdown",
      "source": [
        "# **Задание 2**\n",
        "\n",
        "**Добавить в таблицу данные**\n",
        "\n",
        "Алексей     1       22     1000\n",
        "\n",
        "Миша         1       19     800\n",
        "\n",
        "Федор        1       26     1100\n",
        "\n",
        "Маша         2       18     1500"
      ],
      "metadata": {
        "id": "wnjpRcgB-uyv"
      }
    },
    {
      "cell_type": "code",
      "source": [
        "import sqlite3\n",
        "import traceback\n",
        "import sys\n",
        "\n",
        "try:\n",
        "    sqlite_connection = sqlite3.connect('sqlite_python.db')\n",
        "    cursor = sqlite_connection.cursor()\n",
        "    print(\"База данных подключена к SQLite\")\n",
        "\n",
        "    sqlite_insert_query = \"\"\"INSERT INTO users\n",
        "                            VALUES('Алексей', 1, 22, 1000),\n",
        "\n",
        "                                    ('Миша', 1, 19, 800),\n",
        "\n",
        "                                    ('Федор', 1, 26, 1100),\n",
        "\n",
        "                                    ('Маша', 2, 18, 1500)\"\"\"\n",
        "\n",
        "    count = cursor.execute(sqlite_insert_query)\n",
        "    sqlite_connection.commit()\n",
        "    print(\"Запись успешно вставлена ​​в таблицу sqlitedb_developers \", cursor.rowcount)\n",
        "    cursor.close()\n",
        "\n",
        "except sqlite3.Error as error:\n",
        "    print(\"Не удалось вставить данные в таблицу sqlite\")\n",
        "    print(\"Класс исключения: \", error.__class__)\n",
        "    print(\"Исключение\", error.args)\n",
        "    print(\"Печать подробноcтей исключения SQLite: \")\n",
        "    exc_type, exc_value, exc_tb = sys.exc_info()\n",
        "    print(traceback.format_exception(exc_type, exc_value, exc_tb))\n",
        "finally:\n",
        "    if (sqlite_connection):\n",
        "        sqlite_connection.close()\n",
        "        print(\"Соединение с SQLite закрыто\")"
      ],
      "metadata": {
        "colab": {
          "base_uri": "https://localhost:8080/"
        },
        "outputId": "783d801a-fab9-4399-9d8c-6bc23e734c2b",
        "id": "7LYytSaOgK9T"
      },
      "execution_count": 12,
      "outputs": [
        {
          "output_type": "stream",
          "name": "stdout",
          "text": [
            "База данных подключена к SQLite\n",
            "Запись успешно вставлена ​​в таблицу sqlitedb_developers  4\n",
            "Соединение с SQLite закрыто\n"
          ]
        }
      ]
    },
    {
      "cell_type": "markdown",
      "source": [],
      "metadata": {
        "id": "O97-qBG3N41w"
      }
    },
    {
      "cell_type": "code",
      "source": [
        "import sqlite3\n",
        "\n",
        "# Устанавливаем соединение с базой данных\n",
        "connection = sqlite3.connect('sqlite_python.db')\n",
        "cursor = connection.cursor()\n",
        "\n",
        "# Выбираем всех  игроков\n",
        "cursor.execute('SELECT * FROM users')\n",
        "users = cursor.fetchall()\n",
        "\n",
        "# Выводим результаты\n",
        "for name in users:\n",
        "  print(name)\n",
        "\n",
        "# Закрываем соединение\n",
        "connection.close()"
      ],
      "metadata": {
        "colab": {
          "base_uri": "https://localhost:8080/"
        },
        "id": "ZRQ0H02zhvWn",
        "outputId": "9f797608-deae-419c-cc8f-5182ae7a491b"
      },
      "execution_count": 13,
      "outputs": [
        {
          "output_type": "stream",
          "name": "stdout",
          "text": [
            "('Алексей', 1, 22, 1000)\n",
            "('Миша', 1, 19, 800)\n",
            "('Федор', 1, 26, 1100)\n",
            "('Маша', 2, 18, 1500)\n"
          ]
        }
      ]
    },
    {
      "cell_type": "markdown",
      "source": [
        "Здесь * указывает взять все поля из таблицы users.\n",
        "\n",
        "На выходе получим выборку из трех столбцов и набора всех записей из таблицы users"
      ],
      "metadata": {
        "id": "PZyc3lsAN80L"
      }
    },
    {
      "cell_type": "markdown",
      "source": [
        "# **Задание 3:**\n",
        "\n",
        "**сделать запрос к таблице users и показать имена всех игроков и их возраст**"
      ],
      "metadata": {
        "id": "UpMQjaUoAj0V"
      }
    },
    {
      "cell_type": "code",
      "source": [
        "import sqlite3\n",
        "\n",
        "# Устанавливаем соединение с базой данных\n",
        "connection = sqlite3.connect('sqlite_python.db')\n",
        "cursor = connection.cursor()\n",
        "\n",
        "# Выбираем всех  игроков и их возраст\n",
        "cursor.execute('SELECT name, old FROM users')\n",
        "users = cursor.fetchall()\n",
        "\n",
        "# Выводим результаты\n",
        "for name in users:\n",
        "  print(name)\n",
        "\n",
        "# Закрываем соединение\n",
        "connection.close()"
      ],
      "metadata": {
        "colab": {
          "base_uri": "https://localhost:8080/"
        },
        "outputId": "d136bb0d-ddf0-4308-9ce7-a145bf1d8c88",
        "id": "45NnQKo9jvNJ"
      },
      "execution_count": 14,
      "outputs": [
        {
          "output_type": "stream",
          "name": "stdout",
          "text": [
            "('Алексей', 22)\n",
            "('Миша', 19)\n",
            "('Федор', 26)\n",
            "('Маша', 18)\n"
          ]
        }
      ]
    },
    {
      "cell_type": "markdown",
      "source": [
        "На выходе получим выборку из двух столбцов (имени и возраста) из набора всех записей из таблицы users"
      ],
      "metadata": {
        "id": "eru_dJ12Os5H"
      }
    },
    {
      "cell_type": "markdown",
      "source": [
        "**удаление таблицы**\n",
        "\n",
        "DROP TABLE users"
      ],
      "metadata": {
        "id": "r4bc-ji6-2Eg"
      }
    },
    {
      "cell_type": "markdown",
      "source": [
        "CREATE TABLE IF NOT EXISTS users (\n",
        "    name TEXT NOT NULL,\n",
        "    sex INTEGER DEFAULT 1,\n",
        "    old INTEGER,\n",
        "    score INTEGER\n",
        ")"
      ],
      "metadata": {
        "id": "fJdv8U_1_BV4"
      }
    },
    {
      "cell_type": "markdown",
      "source": [
        "**Оператор WHERE**\n",
        "\n",
        "SELECT col1, col2, … FROM <table_name> WHERE <условие>\n",
        "\n",
        "**пример**\n",
        "\n",
        "SELECT * FROM users WHERE score < 1000\n",
        "\n",
        "SELECT * FROM users WHERE score BETWEEN 500 AND 1000\n",
        "\n",
        "SELECT * FROM users WHERE old = 32\n"
      ],
      "metadata": {
        "id": "g2AqtOuaBniN"
      }
    },
    {
      "cell_type": "markdown",
      "source": [
        "# **Задание 4: показать всех игроков старше 20 лет**"
      ],
      "metadata": {
        "id": "SIv7Sz86BylZ"
      }
    },
    {
      "cell_type": "code",
      "source": [
        "import sqlite3\n",
        "\n",
        "connection = sqlite3.connect('sqlite_python.db')\n",
        "cursor = connection.cursor()\n",
        "\n",
        "\n",
        "cursor.execute('SELECT name, old FROM users WHERE old > ?', (20,))\n",
        "results = cursor.fetchall()\n",
        "\n",
        "for row in results:\n",
        "  print(row)\n",
        "\n",
        "connection.close()"
      ],
      "metadata": {
        "colab": {
          "base_uri": "https://localhost:8080/"
        },
        "id": "J82W30rQkNY-",
        "outputId": "7ec7a92f-4166-452e-8424-5175ed6215be"
      },
      "execution_count": 15,
      "outputs": [
        {
          "output_type": "stream",
          "name": "stdout",
          "text": [
            "('Алексей', 22)\n",
            "('Федор', 26)\n"
          ]
        }
      ]
    },
    {
      "cell_type": "markdown",
      "source": [
        "выведены имена и возраст игроков старше 20 лет"
      ],
      "metadata": {
        "id": "dTDFTkjOO8rP"
      }
    },
    {
      "cell_type": "markdown",
      "source": [
        "# **Задание 5: что выведут запросы?**\n",
        "\n",
        "SELECT * FROM users WHERE old > 20 AND score < 1000\n",
        "\n",
        "SELECT * FROM users WHERE old IN(19, 32) AND score > 300 OR sex = 1"
      ],
      "metadata": {
        "id": "EqEItpSCDCUV"
      }
    },
    {
      "cell_type": "code",
      "source": [
        "import sqlite3\n",
        "\n",
        "connection = sqlite3.connect('sqlite_python.db')\n",
        "cursor = connection.cursor()\n",
        "\n",
        "\n",
        "cursor.execute('SELECT * FROM users WHERE old > 20 AND score < 1000')\n",
        "results = cursor.fetchall()\n",
        "\n",
        "for row in results:\n",
        "  print(row)\n",
        "\n",
        "connection.close()"
      ],
      "metadata": {
        "id": "czQMJvdpkmDV"
      },
      "execution_count": 16,
      "outputs": []
    },
    {
      "cell_type": "markdown",
      "source": [
        "здесь вывод пуст так как нет таких игроков у которых и возраст больше 20 и очков меньше 1000"
      ],
      "metadata": {
        "id": "O-1myUj3k_03"
      }
    },
    {
      "cell_type": "code",
      "source": [
        "import sqlite3\n",
        "\n",
        "connection = sqlite3.connect('sqlite_python.db')\n",
        "cursor = connection.cursor()\n",
        "\n",
        "\n",
        "cursor.execute('SELECT * FROM users WHERE old IN(19, 32) AND score > 300 OR sex = 1')\n",
        "results = cursor.fetchall()\n",
        "\n",
        "for row in results:\n",
        "  print(row)\n",
        "\n",
        "connection.close()"
      ],
      "metadata": {
        "colab": {
          "base_uri": "https://localhost:8080/"
        },
        "outputId": "cfcd6c6a-d54a-47ba-988f-f08175ea8916",
        "id": "NFyIkTp0kn6v"
      },
      "execution_count": null,
      "outputs": [
        {
          "output_type": "stream",
          "name": "stdout",
          "text": [
            "('Алексей', 1, 22, 1000)\n",
            "('Миша', 1, 19, 800)\n",
            "('Федор', 1, 26, 1100)\n"
          ]
        }
      ]
    },
    {
      "cell_type": "markdown",
      "source": [
        "так как в условие стоит дизъюнкция, то выведены все тгроки мужского пола"
      ],
      "metadata": {
        "id": "DCulIahTPFcZ"
      }
    },
    {
      "cell_type": "markdown",
      "source": [
        "# **Задание 6: что выведет запрос?**\n",
        "\n",
        "SELECT * FROM users WHERE (old IN(19, 32) OR sex = 1) AND score > 300"
      ],
      "metadata": {
        "id": "C_o3WT3GDR2a"
      }
    },
    {
      "cell_type": "code",
      "source": [
        "import sqlite3\n",
        "\n",
        "connection = sqlite3.connect('sqlite_python.db')\n",
        "cursor = connection.cursor()\n",
        "\n",
        "\n",
        "cursor.execute('SELECT * FROM users WHERE (old IN(19, 32) OR sex = 1) AND score > 300')\n",
        "results = cursor.fetchall()\n",
        "\n",
        "for row in results:\n",
        "  print(row)\n",
        "\n",
        "connection.close()"
      ],
      "metadata": {
        "colab": {
          "base_uri": "https://localhost:8080/"
        },
        "outputId": "731e3e5a-4e01-49f4-e304-c4f3d1cbc253",
        "id": "YUMAaB_olCgF"
      },
      "execution_count": 17,
      "outputs": [
        {
          "output_type": "stream",
          "name": "stdout",
          "text": [
            "('Алексей', 1, 22, 1000)\n",
            "('Миша', 1, 19, 800)\n",
            "('Федор', 1, 26, 1100)\n"
          ]
        }
      ]
    },
    {
      "cell_type": "markdown",
      "source": [
        "выведены все игроки у кого очков более 300 и мужской пол, возраст можно игнорировать из-за дизъюнкции"
      ],
      "metadata": {
        "id": "6j294wZLPXzg"
      }
    },
    {
      "cell_type": "markdown",
      "source": [
        "**Сортировка ORDER BY**\n",
        "\n",
        "**задание : что выведет запрос и в каком порядке?**\n",
        "\n",
        "SELECT * FROM users WHERE score < 1000 ORDER BY old"
      ],
      "metadata": {
        "id": "7pEe9hjcDwf9"
      }
    },
    {
      "cell_type": "code",
      "source": [
        "import sqlite3\n",
        "\n",
        "connection = sqlite3.connect('sqlite_python.db')\n",
        "cursor = connection.cursor()\n",
        "\n",
        "\n",
        "cursor.execute('SELECT * FROM users WHERE score < 1000 ORDER BY old')\n",
        "results = cursor.fetchall()\n",
        "\n",
        "for row in results:\n",
        "  print(row)\n",
        "\n",
        "connection.close()"
      ],
      "metadata": {
        "colab": {
          "base_uri": "https://localhost:8080/"
        },
        "outputId": "412fe849-5301-4602-b241-1b03fdca31e7",
        "id": "TwVYFPRtlXlN"
      },
      "execution_count": 19,
      "outputs": [
        {
          "output_type": "stream",
          "name": "stdout",
          "text": [
            "('Миша', 1, 19, 800)\n"
          ]
        }
      ]
    },
    {
      "cell_type": "markdown",
      "source": [
        "должна быть сортировка по возрасту, но запись только одна"
      ],
      "metadata": {
        "id": "JdnfSzGSPpPZ"
      }
    },
    {
      "cell_type": "code",
      "source": [
        "import sqlite3\n",
        "\n",
        "connection = sqlite3.connect('sqlite_python.db')\n",
        "cursor = connection.cursor()\n",
        "\n",
        "\n",
        "cursor.execute('SELECT * FROM users WHERE score > 1000 ORDER BY old')\n",
        "results = cursor.fetchall()\n",
        "\n",
        "for row in results:\n",
        "  print(row)\n",
        "\n",
        "connection.close()"
      ],
      "metadata": {
        "colab": {
          "base_uri": "https://localhost:8080/"
        },
        "outputId": "fc223cad-af04-435e-c6f3-f96317264e8b",
        "id": "XhhGRNeSmQ2z"
      },
      "execution_count": 20,
      "outputs": [
        {
          "output_type": "stream",
          "name": "stdout",
          "text": [
            "('Маша', 2, 18, 1500)\n",
            "('Федор', 1, 26, 1100)\n"
          ]
        }
      ]
    },
    {
      "cell_type": "markdown",
      "source": [
        "здесь отфильтровали по количеству очков и сгруппировали по возрасту в восходящем порядке"
      ],
      "metadata": {
        "id": "97pdDCtTPyh6"
      }
    },
    {
      "cell_type": "code",
      "source": [
        "#  код от Кочеткова Максима Владимировича\n",
        "# честь ему хвала\n",
        "import sqlite3\n",
        "import traceback\n",
        "import sys\n",
        "try:\n",
        "\n",
        "    sql_con = sqlite3.connect('sqlite_python.db')\n",
        "    cursor = sql_con.cursor()\n",
        "    print(\"База данных подключена к SQLite\")\n",
        "    cur1 = sql_con.cursor()\n",
        "    for i in cur1.execute(\"\"\"SELECT * FROM users WHERE level > 20\"\"\"):\n",
        "      print(i)\n",
        "    sql_con.commit()\n",
        "    print(\"Запись успешно вставлена в таблицу sqlitedb_developers \", cursor.rowcount)\n",
        "    cursor.close()\n",
        "\n",
        "except sqlite3.Error as error:\n",
        "\n",
        "    print(\"Не удалось вставить данные в таблицу sqlite\")\n",
        "    print(\"Класс исключения: \", error.__class__)\n",
        "    print(\"Исключение\", error.args)\n",
        "    print(\"Печать подробноcтей исключения SQLite: \")\n",
        "    exc_type, exc_value, exc_tb = sys.exc_info()\n",
        "    print(traceback.format_exception(exc_type, exc_value, exc_tb))\n",
        "\n",
        "finally:\n",
        "\n",
        "    if (sql_con):\n",
        "        sql_con.close()\n",
        "        print(\"Соединение с SQLite закрыто\")"
      ],
      "metadata": {
        "id": "R0yUPbmfL6vG",
        "colab": {
          "base_uri": "https://localhost:8080/"
        },
        "outputId": "b75a929f-c8e4-44ad-8748-aa6d833151c0"
      },
      "execution_count": 21,
      "outputs": [
        {
          "output_type": "stream",
          "name": "stdout",
          "text": [
            "База данных подключена к SQLite\n",
            "Не удалось вставить данные в таблицу sqlite\n",
            "Класс исключения:  <class 'sqlite3.OperationalError'>\n",
            "Исключение ('no such column: level',)\n",
            "Печать подробноcтей исключения SQLite: \n",
            "['Traceback (most recent call last):\\n', '  File \"<ipython-input-21-25c733085ed4>\", line 12, in <cell line: 6>\\n    for i in cur1.execute(\"\"\"SELECT * FROM users WHERE level > 20\"\"\"):\\n', 'sqlite3.OperationalError: no such column: level\\n']\n",
            "Соединение с SQLite закрыто\n"
          ]
        }
      ]
    },
    {
      "cell_type": "markdown",
      "source": [
        "это не понял зачем тут поставили"
      ],
      "metadata": {
        "id": "L5i_OfD_P_Wy"
      }
    },
    {
      "cell_type": "markdown",
      "source": [
        "# **Задание 5.1**\n",
        "\n",
        "Выполнить запросы, что каждый из них делает?\n",
        "\n",
        "SELECT name, old, score FROM users\n",
        "\n",
        "SELECT * FROM users"
      ],
      "metadata": {
        "id": "0D9J55Wq2Bee"
      }
    },
    {
      "cell_type": "code",
      "source": [
        "# Оператор WHERE\n",
        "# SELECT col1, col2, … FROM <table_name> WHERE <условие>\n",
        "# = или ==, >, <, >=, <=, !=, BETWEEN"
      ],
      "metadata": {
        "id": "zdjYGX692RUQ"
      },
      "execution_count": null,
      "outputs": []
    },
    {
      "cell_type": "code",
      "source": [
        "import sqlite3\n",
        "\n",
        "connection = sqlite3.connect('sqlite_python.db')\n",
        "cursor = connection.cursor()\n",
        "\n",
        "\n",
        "cursor.execute('SELECT name, old, score FROM users')\n",
        "results = cursor.fetchall()\n",
        "\n",
        "for row in results:\n",
        "  print(row)\n",
        "\n",
        "connection.close()"
      ],
      "metadata": {
        "colab": {
          "base_uri": "https://localhost:8080/"
        },
        "outputId": "8583d482-4bb2-459a-e918-438809989174",
        "id": "oWJJp7pjmkhF"
      },
      "execution_count": 22,
      "outputs": [
        {
          "output_type": "stream",
          "name": "stdout",
          "text": [
            "('Алексей', 22, 1000)\n",
            "('Миша', 19, 800)\n",
            "('Федор', 26, 1100)\n",
            "('Маша', 18, 1500)\n"
          ]
        }
      ]
    },
    {
      "cell_type": "markdown",
      "source": [
        "сделали вывод имени, возраста, очков по всем данным"
      ],
      "metadata": {
        "id": "RPHx_lajQEH-"
      }
    },
    {
      "cell_type": "code",
      "source": [
        "import sqlite3\n",
        "\n",
        "connection = sqlite3.connect('sqlite_python.db')\n",
        "cursor = connection.cursor()\n",
        "\n",
        "\n",
        "cursor.execute('SELECT * FROM users')\n",
        "results = cursor.fetchall()\n",
        "\n",
        "for row in results:\n",
        "  print(row)\n",
        "\n",
        "connection.close()"
      ],
      "metadata": {
        "colab": {
          "base_uri": "https://localhost:8080/"
        },
        "outputId": "cd05005d-76d6-4ff7-b116-04b1c557dd75",
        "id": "xiX1ztgCmk13"
      },
      "execution_count": 23,
      "outputs": [
        {
          "output_type": "stream",
          "name": "stdout",
          "text": [
            "('Алексей', 1, 22, 1000)\n",
            "('Миша', 1, 19, 800)\n",
            "('Федор', 1, 26, 1100)\n",
            "('Маша', 2, 18, 1500)\n"
          ]
        }
      ]
    },
    {
      "cell_type": "markdown",
      "source": [
        "а здесь вывели всю таблицу"
      ],
      "metadata": {
        "id": "Je8a1XhQQVZF"
      }
    },
    {
      "cell_type": "markdown",
      "source": [
        "# **Задание 5.2**\n",
        "\n",
        "Выполнить запросы, что каждый из них делает?\n",
        "\n",
        "SELECT * FROM users WHERE score < 1000\n",
        "\n",
        "SELECT * FROM users WHERE score BETWEEN 500 AND 1000\n",
        "\n",
        "SELECT * FROM users WHERE old = 32"
      ],
      "metadata": {
        "id": "YnNKbx-a2bjc"
      }
    },
    {
      "cell_type": "code",
      "source": [
        "import sqlite3\n",
        "\n",
        "connection = sqlite3.connect('sqlite_python.db')\n",
        "cursor = connection.cursor()\n",
        "\n",
        "\n",
        "cursor.execute('SELECT * FROM users WHERE score < 1000')\n",
        "results = cursor.fetchall()\n",
        "\n",
        "for row in results:\n",
        "  print(row)\n",
        "\n",
        "connection.close()"
      ],
      "metadata": {
        "colab": {
          "base_uri": "https://localhost:8080/"
        },
        "outputId": "775784d5-f366-45cc-a4a2-34265c2ffffc",
        "id": "rr1Ue2NZmyvx"
      },
      "execution_count": null,
      "outputs": [
        {
          "output_type": "stream",
          "name": "stdout",
          "text": [
            "('Миша', 1, 19, 800)\n"
          ]
        }
      ]
    },
    {
      "cell_type": "markdown",
      "source": [
        "выбрали тех у кого очков менньше 1000"
      ],
      "metadata": {
        "id": "P3UEDASSQazO"
      }
    },
    {
      "cell_type": "code",
      "source": [
        "import sqlite3\n",
        "\n",
        "connection = sqlite3.connect('sqlite_python.db')\n",
        "cursor = connection.cursor()\n",
        "\n",
        "\n",
        "cursor.execute('SELECT * FROM users WHERE score BETWEEN 500 AND 1000')\n",
        "results = cursor.fetchall()\n",
        "\n",
        "for row in results:\n",
        "  print(row)\n",
        "\n",
        "connection.close()"
      ],
      "metadata": {
        "colab": {
          "base_uri": "https://localhost:8080/"
        },
        "outputId": "6e03fd40-0f4b-478b-d5aa-bda46dce2177",
        "id": "rmbzg44Fmy9v"
      },
      "execution_count": 24,
      "outputs": [
        {
          "output_type": "stream",
          "name": "stdout",
          "text": [
            "('Алексей', 1, 22, 1000)\n",
            "('Миша', 1, 19, 800)\n"
          ]
        }
      ]
    },
    {
      "cell_type": "markdown",
      "source": [
        "выбрали тех у кого очки в диапазоне от 500 до 1000"
      ],
      "metadata": {
        "id": "RL_KL71hQigl"
      }
    },
    {
      "cell_type": "code",
      "source": [
        "import sqlite3\n",
        "\n",
        "connection = sqlite3.connect('sqlite_python.db')\n",
        "cursor = connection.cursor()\n",
        "\n",
        "\n",
        "cursor.execute('SELECT * FROM users WHERE old = 32')\n",
        "results = cursor.fetchall()\n",
        "\n",
        "for row in results:\n",
        "  print(row)\n",
        "\n",
        "connection.close()"
      ],
      "metadata": {
        "id": "6kXDAtfYmzGA"
      },
      "execution_count": 25,
      "outputs": []
    },
    {
      "cell_type": "markdown",
      "source": [
        "попытались вывести игрока с возрастом 32, но такого нет"
      ],
      "metadata": {
        "id": "epodN8HYQqWO"
      }
    },
    {
      "cell_type": "markdown",
      "source": [
        "Часто при описании фильтра требуется учитывать значения сразу нескольких столбцов.\n",
        "\n",
        "Например, выбрать всех игроков старше 20 лет и с числом очков более 300. Здесь уже нужно использовать составное условие.\n",
        "\n",
        "Для этого дополнительно используются следующие ключевые слова:\n",
        "\n",
        "AND – условное И: exp1 AND exp2. Истинно, если одновременно истинны exp1 и exp2.\n",
        "\n",
        "OR – условное ИЛИ: exp1 OR exp2. Истинно, если истинно exp1 или exp2 или оба выражения.\n",
        "\n",
        "NOT – условное НЕ: NOT exp. Преобразует ложное условие в истинное и, наоборот, истинное – в ложное.\n",
        "\n",
        "IN – вхождение во множество значений: col IN (val1, val2, …)\n",
        "\n",
        "\n",
        "NOT IN – не вхождение во множество значений: col NOT IN (val1, val2, …)"
      ],
      "metadata": {
        "id": "NOcl3qi321z4"
      }
    },
    {
      "cell_type": "markdown",
      "source": [
        "# **Задание 5.3**\n",
        "\n",
        "Выполнить запросы, что каждый из них делает?\n",
        "\n",
        "SELECT * FROM users WHERE old > 20 AND score < 1000\n",
        "\n",
        "SELECT * FROM users WHERE old IN(19, 32) AND score < 1000\n",
        "\n",
        "SELECT * FROM users WHERE old IN(19, 32) AND score > 300 OR sex = 1\n",
        "\n",
        "SELECT * FROM users WHERE (old IN(19, 32) OR sex = 1) AND score > 300\n",
        "\n",
        "самый высокий приоритет имеет операция NOT\n",
        "\n",
        "SELECT * FROM users WHERE old IN(19, 32) AND NOT score > 300\n"
      ],
      "metadata": {
        "id": "yTd9ypjS3Cfw"
      }
    },
    {
      "cell_type": "code",
      "source": [
        "import sqlite3\n",
        "\n",
        "connection = sqlite3.connect('sqlite_python.db')\n",
        "cursor = connection.cursor()\n",
        "\n",
        "\n",
        "cursor.execute('SELECT * FROM users WHERE old > 20 AND score < 1000')\n",
        "results = cursor.fetchall()\n",
        "\n",
        "for row in results:\n",
        "  print(row)\n",
        "\n",
        "connection.close()"
      ],
      "metadata": {
        "id": "IlljCHDunFXi"
      },
      "execution_count": 26,
      "outputs": []
    },
    {
      "cell_type": "markdown",
      "source": [
        "вывели игроков старше 20 с количеством очков менее 1000, но таких нет"
      ],
      "metadata": {
        "id": "3h61ATZ17OOP"
      }
    },
    {
      "cell_type": "code",
      "source": [
        "import sqlite3\n",
        "\n",
        "connection = sqlite3.connect('sqlite_python.db')\n",
        "cursor = connection.cursor()\n",
        "\n",
        "\n",
        "cursor.execute('SELECT * FROM users WHERE old IN(19, 32) AND score < 1000')\n",
        "results = cursor.fetchall()\n",
        "\n",
        "for row in results:\n",
        "  print(row)\n",
        "\n",
        "connection.close()"
      ],
      "metadata": {
        "colab": {
          "base_uri": "https://localhost:8080/"
        },
        "outputId": "d8d86424-64dc-446b-d9bd-0e094d47a00c",
        "id": "iVA0xl1gnFhD"
      },
      "execution_count": 27,
      "outputs": [
        {
          "output_type": "stream",
          "name": "stdout",
          "text": [
            "('Миша', 1, 19, 800)\n"
          ]
        }
      ]
    },
    {
      "cell_type": "markdown",
      "source": [
        "вывели игроков возрастом 19 и 32 с очками менее 1000"
      ],
      "metadata": {
        "id": "uzvop4AQ7QN3"
      }
    },
    {
      "cell_type": "code",
      "source": [
        "import sqlite3\n",
        "\n",
        "connection = sqlite3.connect('sqlite_python.db')\n",
        "cursor = connection.cursor()\n",
        "\n",
        "\n",
        "cursor.execute('SELECT * FROM users WHERE old IN(19, 32) AND score > 300 OR sex = 1')\n",
        "results = cursor.fetchall()\n",
        "\n",
        "for row in results:\n",
        "  print(row)\n",
        "\n",
        "connection.close()"
      ],
      "metadata": {
        "colab": {
          "base_uri": "https://localhost:8080/"
        },
        "outputId": "9b709b05-f0bd-4a7f-e873-fb7b5e0b038a",
        "id": "9UKso0nFnFoo"
      },
      "execution_count": 28,
      "outputs": [
        {
          "output_type": "stream",
          "name": "stdout",
          "text": [
            "('Алексей', 1, 22, 1000)\n",
            "('Миша', 1, 19, 800)\n",
            "('Федор', 1, 26, 1100)\n"
          ]
        }
      ]
    },
    {
      "cell_type": "markdown",
      "source": [
        "так как дизъюнкция, то вывели всех мужского пола"
      ],
      "metadata": {
        "id": "ITtSj5027RiG"
      }
    },
    {
      "cell_type": "code",
      "source": [
        "import sqlite3\n",
        "\n",
        "connection = sqlite3.connect('sqlite_python.db')\n",
        "cursor = connection.cursor()\n",
        "\n",
        "\n",
        "cursor.execute('SELECT * FROM users WHERE (old IN(19, 32) OR sex = 1) AND score > 300')\n",
        "results = cursor.fetchall()\n",
        "\n",
        "for row in results:\n",
        "  print(row)\n",
        "\n",
        "connection.close()"
      ],
      "metadata": {
        "colab": {
          "base_uri": "https://localhost:8080/"
        },
        "outputId": "0a782702-66d4-4399-df7a-9cb4858a9300",
        "id": "N479sWe6nFwA"
      },
      "execution_count": null,
      "outputs": [
        {
          "output_type": "stream",
          "name": "stdout",
          "text": [
            "('Алексей', 1, 22, 1000)\n",
            "('Миша', 1, 19, 800)\n",
            "('Федор', 1, 26, 1100)\n"
          ]
        }
      ]
    },
    {
      "cell_type": "markdown",
      "source": [
        "вывели всех мужского пола у кого очков более 300"
      ],
      "metadata": {
        "id": "krQsf-J1RkSg"
      }
    },
    {
      "cell_type": "code",
      "source": [
        "import sqlite3\n",
        "\n",
        "connection = sqlite3.connect('sqlite_python.db')\n",
        "cursor = connection.cursor()\n",
        "\n",
        "\n",
        "cursor.execute('SELECT * FROM users WHERE old IN(19, 32) AND NOT score > 300')\n",
        "results = cursor.fetchall()\n",
        "\n",
        "for row in results:\n",
        "  print(row)\n",
        "\n",
        "connection.close()"
      ],
      "metadata": {
        "id": "yjw_NoyxnF3q"
      },
      "execution_count": 29,
      "outputs": []
    },
    {
      "cell_type": "markdown",
      "source": [
        "**Сортировка ORDER BY**\n",
        "\n",
        "# **Задание 6**\n",
        "Выполнить запросы, что каждый из них делает?\n",
        "\n",
        "SELECT * FROM users WHERE score < 1000 ORDER BY old\n",
        "\n",
        "SELECT * FROM users WHERE score < 1000 ORDER BY old DESC\n",
        "\n",
        "если нужно явно показать, что сортировка производится по возрастанию, то можно записать флаг ASC\n",
        "\n",
        "SELECT * FROM users WHERE score < 1000 ORDER BY old ASC"
      ],
      "metadata": {
        "id": "RotQek2K3hdp"
      }
    },
    {
      "cell_type": "code",
      "source": [
        "import sqlite3\n",
        "\n",
        "connection = sqlite3.connect('sqlite_python.db')\n",
        "cursor = connection.cursor()\n",
        "\n",
        "\n",
        "cursor.execute('SELECT * FROM users WHERE score < 1000 ORDER BY old')\n",
        "results = cursor.fetchall()\n",
        "\n",
        "for row in results:\n",
        "  print(row)\n",
        "\n",
        "connection.close()"
      ],
      "metadata": {
        "colab": {
          "base_uri": "https://localhost:8080/"
        },
        "outputId": "180022f3-8f30-47b2-a766-87b13ef66ba9",
        "id": "BMpAfaS-nHPf"
      },
      "execution_count": null,
      "outputs": [
        {
          "output_type": "stream",
          "name": "stdout",
          "text": [
            "('Миша', 1, 19, 800)\n"
          ]
        }
      ]
    },
    {
      "cell_type": "markdown",
      "source": [
        "вывели всех у кого очков менее 1000 в порядке возраста по возрастанию"
      ],
      "metadata": {
        "id": "Gm4T0jNtRsZb"
      }
    },
    {
      "cell_type": "code",
      "source": [
        "import sqlite3\n",
        "\n",
        "connection = sqlite3.connect('sqlite_python.db')\n",
        "cursor = connection.cursor()\n",
        "\n",
        "\n",
        "cursor.execute('SELECT * FROM users WHERE score < 1000 ORDER BY old DESC')\n",
        "results = cursor.fetchall()\n",
        "\n",
        "for row in results:\n",
        "  print(row)\n",
        "\n",
        "connection.close()"
      ],
      "metadata": {
        "colab": {
          "base_uri": "https://localhost:8080/"
        },
        "outputId": "a0776013-0224-4c78-d136-517336215667",
        "id": "ii4-tLeqnHbQ"
      },
      "execution_count": 30,
      "outputs": [
        {
          "output_type": "stream",
          "name": "stdout",
          "text": [
            "('Миша', 1, 19, 800)\n"
          ]
        }
      ]
    },
    {
      "cell_type": "markdown",
      "source": [
        "вывели всех у кого очков менее 1000 в порядке возраста по убыванию"
      ],
      "metadata": {
        "id": "-x_3B4U1R3fy"
      }
    },
    {
      "cell_type": "code",
      "source": [
        "import sqlite3\n",
        "\n",
        "connection = sqlite3.connect('sqlite_python.db')\n",
        "cursor = connection.cursor()\n",
        "\n",
        "\n",
        "cursor.execute('SELECT * FROM users WHERE score < 1000 ORDER BY old ASC')\n",
        "results = cursor.fetchall()\n",
        "\n",
        "for row in results:\n",
        "  print(row)\n",
        "\n",
        "connection.close()"
      ],
      "metadata": {
        "colab": {
          "base_uri": "https://localhost:8080/"
        },
        "outputId": "833c77c5-4476-4862-df37-1c387b91a592",
        "id": "iAvOkXsPnHmh"
      },
      "execution_count": 31,
      "outputs": [
        {
          "output_type": "stream",
          "name": "stdout",
          "text": [
            "('Миша', 1, 19, 800)\n"
          ]
        }
      ]
    },
    {
      "cell_type": "markdown",
      "source": [
        "вывели всех у кого очков менее 1000 в порядке возраста по возрастанию"
      ],
      "metadata": {
        "id": "KR9lox4USITp"
      }
    },
    {
      "cell_type": "markdown",
      "source": [
        "**Ограничение выборки LIMIT**\n",
        "\n",
        " первых 10 игроков с наибольшим числом\n",
        "\n",
        " LIMIT <max> [OFFSET offset]\n",
        "\n",
        "LIMIT <offset, max>\n"
      ],
      "metadata": {
        "id": "4NKgSYfE4Csr"
      }
    },
    {
      "cell_type": "markdown",
      "source": [
        "# **Задание 7**\n",
        "\n",
        "добавить в таблицу записи:\n",
        "\n",
        "Мария        2       18     400\n",
        "\n",
        "Сергей       1       33     2000\n",
        "\n",
        "Владимир  1       43     100\n",
        "\n",
        "Елена         2       17     500\n",
        "\n",
        "Юля  2       23     700\n",
        "\n",
        "И, сформировать запрос на выбор лучших пяти игроков"
      ],
      "metadata": {
        "id": "jzcZUUID4TCG"
      }
    },
    {
      "cell_type": "code",
      "source": [
        "import sqlite3\n",
        "import traceback\n",
        "import sys\n",
        "\n",
        "try:\n",
        "    sqlite_connection = sqlite3.connect('sqlite_python.db')\n",
        "    cursor = sqlite_connection.cursor()\n",
        "    print(\"База данных подключена к SQLite\")\n",
        "\n",
        "    sqlite_insert_query = \"\"\"INSERT INTO users\n",
        "                            VALUES ('Мария', 2, 18, 400),\n",
        "\n",
        "                                    ('Сергей', 1, 33, 2000),\n",
        "\n",
        "                                    ('Владимир', 1, 43, 100),\n",
        "\n",
        "                                    ('Елена', 2, 17, 500),\n",
        "\n",
        "                                    ('Юля', 2, 23, 700)\"\"\"\n",
        "\n",
        "    count = cursor.execute(sqlite_insert_query)\n",
        "    sqlite_connection.commit()\n",
        "    print(\"Запись успешно вставлена ​​в таблицу sqlitedb_developers \", cursor.rowcount)\n",
        "    cursor.close()\n",
        "\n",
        "except sqlite3.Error as error:\n",
        "    print(\"Не удалось вставить данные в таблицу sqlite\")\n",
        "    print(\"Класс исключения: \", error.__class__)\n",
        "    print(\"Исключение\", error.args)\n",
        "    print(\"Печать подробноcтей исключения SQLite: \")\n",
        "    exc_type, exc_value, exc_tb = sys.exc_info()\n",
        "    print(traceback.format_exception(exc_type, exc_value, exc_tb))\n",
        "finally:\n",
        "    if (sqlite_connection):\n",
        "        sqlite_connection.close()\n",
        "        print(\"Соединение с SQLite закрыто\")"
      ],
      "metadata": {
        "colab": {
          "base_uri": "https://localhost:8080/"
        },
        "outputId": "20c31900-f8bb-4033-cbb5-ea2d6aab3968",
        "id": "xRnCt3DWou8q"
      },
      "execution_count": 32,
      "outputs": [
        {
          "output_type": "stream",
          "name": "stdout",
          "text": [
            "База данных подключена к SQLite\n",
            "Запись успешно вставлена ​​в таблицу sqlitedb_developers  5\n",
            "Соединение с SQLite закрыто\n"
          ]
        }
      ]
    },
    {
      "cell_type": "markdown",
      "source": [
        "добавили"
      ],
      "metadata": {
        "id": "uGXlZpXiSZ0A"
      }
    },
    {
      "cell_type": "code",
      "source": [
        "import sqlite3\n",
        "\n",
        "connection = sqlite3.connect('sqlite_python.db')\n",
        "cursor = connection.cursor()\n",
        "\n",
        "\n",
        "cursor.execute('SELECT * FROM users')\n",
        "results = cursor.fetchall()\n",
        "\n",
        "for row in results:\n",
        "  print(row)\n",
        "\n",
        "connection.close()"
      ],
      "metadata": {
        "colab": {
          "base_uri": "https://localhost:8080/"
        },
        "outputId": "caa4af65-3f86-4073-93bc-371a03602b60",
        "id": "MLxe7mExpk58"
      },
      "execution_count": 33,
      "outputs": [
        {
          "output_type": "stream",
          "name": "stdout",
          "text": [
            "('Алексей', 1, 22, 1000)\n",
            "('Миша', 1, 19, 800)\n",
            "('Федор', 1, 26, 1100)\n",
            "('Маша', 2, 18, 1500)\n",
            "('Мария', 2, 18, 400)\n",
            "('Сергей', 1, 33, 2000)\n",
            "('Владимир', 1, 43, 100)\n",
            "('Елена', 2, 17, 500)\n",
            "('Юля', 2, 23, 700)\n"
          ]
        }
      ]
    },
    {
      "cell_type": "markdown",
      "source": [
        "проверили"
      ],
      "metadata": {
        "id": "Z2EDXvUySblc"
      }
    },
    {
      "cell_type": "code",
      "source": [
        "#SELECT * FROM users WHERE score > 100 ORDER BY score DESC LIMIT 5"
      ],
      "metadata": {
        "id": "6V0X8sHY3ep9"
      },
      "execution_count": null,
      "outputs": []
    },
    {
      "cell_type": "code",
      "source": [
        "import sqlite3\n",
        "\n",
        "connection = sqlite3.connect('sqlite_python.db')\n",
        "cursor = connection.cursor()\n",
        "\n",
        "\n",
        "cursor.execute('SELECT * FROM users WHERE score > 100 ORDER BY score DESC LIMIT 5')\n",
        "results = cursor.fetchall()\n",
        "\n",
        "for row in results:\n",
        "  print(row)\n",
        "\n",
        "connection.close()"
      ],
      "metadata": {
        "colab": {
          "base_uri": "https://localhost:8080/"
        },
        "outputId": "ebc21bd7-d23a-451d-cabb-51ba590ba70d",
        "id": "noGBYdQYpaZE"
      },
      "execution_count": 34,
      "outputs": [
        {
          "output_type": "stream",
          "name": "stdout",
          "text": [
            "('Сергей', 1, 33, 2000)\n",
            "('Маша', 2, 18, 1500)\n",
            "('Федор', 1, 26, 1100)\n",
            "('Алексей', 1, 22, 1000)\n",
            "('Миша', 1, 19, 800)\n"
          ]
        }
      ]
    },
    {
      "cell_type": "markdown",
      "source": [
        "вывели 5 лучших"
      ],
      "metadata": {
        "id": "dRWpoKp_Sdkv"
      }
    },
    {
      "cell_type": "markdown",
      "source": [
        "параметр OFFSET позволяет пропускать несколько первых записей\n",
        "\n",
        "# **Задание 7**\n",
        "\n",
        "SELECT * FROM users WHERE score > 100 ORDER BY score DESC LIMIT 5 OFFSET 2\n",
        "\n",
        "SELECT * FROM users WHERE score > 100 ORDER BY score DESC LIMIT 2, 5\n",
        "\n"
      ],
      "metadata": {
        "id": "3suHSDOs46c1"
      }
    },
    {
      "cell_type": "code",
      "source": [
        "import sqlite3\n",
        "\n",
        "connection = sqlite3.connect('sqlite_python.db')\n",
        "cursor = connection.cursor()\n",
        "\n",
        "\n",
        "cursor.execute('SELECT * FROM users WHERE score > 100 ORDER BY score DESC LIMIT 5 OFFSET 2')\n",
        "results = cursor.fetchall()\n",
        "\n",
        "for row in results:\n",
        "  print(row)\n",
        "\n",
        "connection.close()"
      ],
      "metadata": {
        "colab": {
          "base_uri": "https://localhost:8080/"
        },
        "outputId": "3d55d4b9-2b96-446b-e5ae-ed97bd97e0c6",
        "id": "vsxGhvzqnPg9"
      },
      "execution_count": 35,
      "outputs": [
        {
          "output_type": "stream",
          "name": "stdout",
          "text": [
            "('Федор', 1, 26, 1100)\n",
            "('Алексей', 1, 22, 1000)\n",
            "('Миша', 1, 19, 800)\n",
            "('Юля', 2, 23, 700)\n",
            "('Елена', 2, 17, 500)\n"
          ]
        }
      ]
    },
    {
      "cell_type": "markdown",
      "source": [
        "вывели всех у кого очков более 100 в порядке убывания очков, выбрав 5 лучших при этом пропустив первых двух лучших"
      ],
      "metadata": {
        "id": "5voiFxWySo6w"
      }
    },
    {
      "cell_type": "code",
      "source": [
        "import sqlite3\n",
        "\n",
        "connection = sqlite3.connect('sqlite_python.db')\n",
        "cursor = connection.cursor()\n",
        "\n",
        "\n",
        "cursor.execute('SELECT * FROM users WHERE score > 100 ORDER BY score DESC LIMIT 2, 5')\n",
        "results = cursor.fetchall()\n",
        "\n",
        "for row in results:\n",
        "  print(row)\n",
        "\n",
        "connection.close()"
      ],
      "metadata": {
        "colab": {
          "base_uri": "https://localhost:8080/"
        },
        "outputId": "aa7664ec-854a-4a9d-c0e7-eaca1d99a9d0",
        "id": "uEF239BvnPnw"
      },
      "execution_count": 36,
      "outputs": [
        {
          "output_type": "stream",
          "name": "stdout",
          "text": [
            "('Федор', 1, 26, 1100)\n",
            "('Алексей', 1, 22, 1000)\n",
            "('Миша', 1, 19, 800)\n",
            "('Юля', 2, 23, 700)\n",
            "('Елена', 2, 17, 500)\n"
          ]
        }
      ]
    },
    {
      "cell_type": "markdown",
      "source": [
        "повторили тоже самое"
      ],
      "metadata": {
        "id": "3IZdeMTDTC8-"
      }
    },
    {
      "cell_type": "markdown",
      "source": [
        "**Как распечатать результат**"
      ],
      "metadata": {
        "id": "VyyieMNkxv2Q"
      }
    },
    {
      "cell_type": "code",
      "source": [
        "import sqlite3 as sq\n",
        "\n",
        "with sq.connect(\"sqlite_python.db\") as con:\n",
        "    cur = con.cursor()\n",
        "\n",
        "    cur.execute(\"SELECT * FROM users WHERE score > 100 ORDER BY score DESC LIMIT 5\")\n",
        "    result = cur.fetchall()\n",
        "    print(result)\n",
        "  # fetchall для получения результатов отбора SQL-запроса. В результате, result\n",
        "  # будет ссылаться на упорядоченный список, состоящий из кортежей с данными таблицы\n",
        "# Или, перебрать последовательно, используя Cursor в качестве итерируемого объекта\n",
        "for result in cur:\n",
        "    print(result)\n",
        "#  более предпочтителен когда число выбираемых записей может быть велико.\n",
        "# не формируем список, а последовательно выбираем из БД и тут же их обрабатываем.\n",
        "#Такой подход существенно экономит память"
      ],
      "metadata": {
        "id": "2d6kN8mV5nBP",
        "colab": {
          "base_uri": "https://localhost:8080/"
        },
        "outputId": "ed04cffe-e7e2-454e-b50b-4db3c4ee2e81"
      },
      "execution_count": 37,
      "outputs": [
        {
          "output_type": "stream",
          "name": "stdout",
          "text": [
            "[('Сергей', 1, 33, 2000), ('Маша', 2, 18, 1500), ('Федор', 1, 26, 1100), ('Алексей', 1, 22, 1000), ('Миша', 1, 19, 800)]\n"
          ]
        }
      ]
    },
    {
      "cell_type": "markdown",
      "source": [
        "некрасиво"
      ],
      "metadata": {
        "id": "kRtPZmsSTKcP"
      }
    },
    {
      "cell_type": "markdown",
      "source": [
        "Есть еще два метода, которые выдают результат выборки из таблицы:\n",
        "\n",
        "fetchmany(size) – возвращает число записей не более size;\n",
        "fetchone() – возвращает первую запись."
      ],
      "metadata": {
        "id": "Fv-EjfZB6Sxx"
      }
    },
    {
      "cell_type": "code",
      "source": [
        "result = cur.fetchone()\n",
        "result2 = cur.fetchmany(2)\n",
        "print(result)\n",
        "print(result2)"
      ],
      "metadata": {
        "id": "hD4t3ssB6T_r",
        "colab": {
          "base_uri": "https://localhost:8080/"
        },
        "outputId": "7396b7ff-8c09-43cd-a3b3-73d777c973c1"
      },
      "execution_count": null,
      "outputs": [
        {
          "output_type": "stream",
          "name": "stdout",
          "text": [
            "None\n",
            "[]\n"
          ]
        }
      ]
    },
    {
      "cell_type": "markdown",
      "source": [
        "**UPDATE имя_таблицы SET имя_столбца = новое_значение WHERE условие**\n",
        "\n",
        "UPDATE users SET score = 0\n",
        "\n",
        "\n",
        "ключевое слово LIKE возвращает True, если поле в указанном столбце содержит указанное занчение. В строках можно использовать специальные символы:\n",
        "\n",
        "% - любое продолжение строки;\n",
        "\n",
        "_ - любой символ;"
      ],
      "metadata": {
        "id": "F4rCiO-e9lHr"
      }
    },
    {
      "cell_type": "markdown",
      "source": [
        "# **Задание 8**\n",
        "\n",
        "Выполнить запросы, что каждый из них делает?\n",
        "\n",
        "UPDATE users SET score = 1000 WHERE rowid = 1\n",
        "\n",
        "UPDATE users SET score = score+500 WHERE sex = 2\n",
        "\n",
        "UPDATE users SET score = 1500 WHERE name LIKE 'Федор'\n",
        "\n",
        "UPDATE users SET score = score+100 WHERE name LIKE 'М%'\n",
        "\n",
        "UPDATE users SET score = score+100 WHERE name LIKE 'С_рг%'\n",
        "\n",
        " поменять значения сразу несколько столбцов записи\n",
        "\n",
        "UPDATE users SET score = 700, old = 45 WHERE old > 40"
      ],
      "metadata": {
        "id": "zZzIF4569vQd"
      }
    },
    {
      "cell_type": "code",
      "source": [],
      "metadata": {
        "id": "GEW93ZBdEPas"
      },
      "execution_count": null,
      "outputs": []
    },
    {
      "cell_type": "code",
      "source": [
        "import sqlite3\n",
        "import traceback\n",
        "import sys\n",
        "\n",
        "try:\n",
        "    sqlite_connection = sqlite3.connect('sqlite_python.db')\n",
        "    cursor = sqlite_connection.cursor()\n",
        "    print(\"База данных подключена к SQLite\")\n",
        "\n",
        "    sqlite_update = \"\"\"UPDATE users SET score = 1000 WHERE rowid = 1\"\"\"\n",
        "\n",
        "    count = cursor.execute(sqlite_update)\n",
        "    sqlite_connection.commit()\n",
        "    print(\"Запись успешно вставлена ​​в таблицу sqlitedb_developers \", cursor.rowcount)\n",
        "    cursor.close()\n",
        "\n",
        "except sqlite3.Error as error:\n",
        "    print(\"Не удалось вставить данные в таблицу sqlite\")\n",
        "    print(\"Класс исключения: \", error.__class__)\n",
        "    print(\"Исключение\", error.args)\n",
        "    print(\"Печать подробноcтей исключения SQLite: \")\n",
        "    exc_type, exc_value, exc_tb = sys.exc_info()\n",
        "    print(traceback.format_exception(exc_type, exc_value, exc_tb))\n",
        "finally:\n",
        "    if (sqlite_connection):\n",
        "        sqlite_connection.close()\n",
        "        print(\"Соединение с SQLite закрыто\")"
      ],
      "metadata": {
        "colab": {
          "base_uri": "https://localhost:8080/"
        },
        "outputId": "ed43882a-610f-4814-90e5-f844f0d826ee",
        "id": "oYgY9MQQE0o-"
      },
      "execution_count": 56,
      "outputs": [
        {
          "output_type": "stream",
          "name": "stdout",
          "text": [
            "База данных подключена к SQLite\n",
            "Запись успешно вставлена ​​в таблицу sqlitedb_developers  1\n",
            "Соединение с SQLite закрыто\n"
          ]
        }
      ]
    },
    {
      "cell_type": "markdown",
      "source": [
        "Здесь мы в качестве фильтра используем скрытый столбец rowid с уникальным значением номера для каждой записи и это гарантирует нам, что изменение затронет только одну первую запись (именно у нее в нашем случае rowid =1, однако, это не всегда так)"
      ],
      "metadata": {
        "id": "Xvfd1TglTWeY"
      }
    },
    {
      "cell_type": "code",
      "source": [
        "import sqlite3\n",
        "\n",
        "connection = sqlite3.connect('sqlite_python.db')\n",
        "cursor = connection.cursor()\n",
        "\n",
        "\n",
        "cursor.execute('SELECT * FROM users')\n",
        "results = cursor.fetchall()\n",
        "\n",
        "for row in results:\n",
        "  print(row)\n",
        "\n",
        "connection.close()"
      ],
      "metadata": {
        "colab": {
          "base_uri": "https://localhost:8080/"
        },
        "outputId": "a4938bda-5a37-4782-99ad-e85cb3e430a7",
        "id": "cekbS4O8JhUb"
      },
      "execution_count": 57,
      "outputs": [
        {
          "output_type": "stream",
          "name": "stdout",
          "text": [
            "('Алексей', 1, 22, 1000)\n",
            "('Миша', 1, 19, 800)\n",
            "('Федор', 1, 26, 1100)\n",
            "('Маша', 2, 18, 1500)\n",
            "('Мария', 2, 18, 400)\n",
            "('Сергей', 1, 33, 2000)\n",
            "('Владимир', 1, 43, 100)\n",
            "('Елена', 2, 17, 500)\n",
            "('Юля', 2, 23, 700)\n",
            "('Мария', 2, 18, 400)\n",
            "('Сергей', 1, 33, 2000)\n",
            "('Владимир', 1, 43, 100)\n",
            "('Елена', 2, 17, 500)\n",
            "('Юля', 2, 23, 700)\n"
          ]
        }
      ]
    },
    {
      "cell_type": "markdown",
      "source": [
        "проверяем"
      ],
      "metadata": {
        "id": "0vQDdExbLXs5"
      }
    },
    {
      "cell_type": "code",
      "source": [
        "import sqlite3\n",
        "import traceback\n",
        "import sys\n",
        "\n",
        "try:\n",
        "    sqlite_connection = sqlite3.connect('sqlite_python.db')\n",
        "    cursor = sqlite_connection.cursor()\n",
        "    print(\"База данных подключена к SQLite\")\n",
        "\n",
        "    sqlite_update = \"\"\"UPDATE users SET score = score+500 WHERE sex = 2\"\"\"\n",
        "\n",
        "    count = cursor.execute(sqlite_update)\n",
        "    sqlite_connection.commit()\n",
        "    print(\"Запись успешно вставлена ​​в таблицу sqlitedb_developers \", cursor.rowcount)\n",
        "    cursor.close()\n",
        "\n",
        "except sqlite3.Error as error:\n",
        "    print(\"Не удалось вставить данные в таблицу sqlite\")\n",
        "    print(\"Класс исключения: \", error.__class__)\n",
        "    print(\"Исключение\", error.args)\n",
        "    print(\"Печать подробноcтей исключения SQLite: \")\n",
        "    exc_type, exc_value, exc_tb = sys.exc_info()\n",
        "    print(traceback.format_exception(exc_type, exc_value, exc_tb))\n",
        "finally:\n",
        "    if (sqlite_connection):\n",
        "        sqlite_connection.close()\n",
        "        print(\"Соединение с SQLite закрыто\")"
      ],
      "metadata": {
        "colab": {
          "base_uri": "https://localhost:8080/"
        },
        "outputId": "2f08e0a3-d273-4c6f-fe16-63bc07b4193c",
        "id": "_v9nMXyoKlUP"
      },
      "execution_count": 58,
      "outputs": [
        {
          "output_type": "stream",
          "name": "stdout",
          "text": [
            "База данных подключена к SQLite\n",
            "Запись успешно вставлена ​​в таблицу sqlitedb_developers  7\n",
            "Соединение с SQLite закрыто\n"
          ]
        }
      ]
    },
    {
      "cell_type": "markdown",
      "source": [
        "конструкция score = score+500 позволяет добавить к уже существующим данным в поле score 500 очков всем дамам"
      ],
      "metadata": {
        "id": "3kl1-HmHTmd1"
      }
    },
    {
      "cell_type": "code",
      "source": [
        "import sqlite3\n",
        "\n",
        "connection = sqlite3.connect('sqlite_python.db')\n",
        "cursor = connection.cursor()\n",
        "\n",
        "\n",
        "cursor.execute('SELECT * FROM users')\n",
        "results = cursor.fetchall()\n",
        "\n",
        "for row in results:\n",
        "  print(row)\n",
        "\n",
        "connection.close()"
      ],
      "metadata": {
        "colab": {
          "base_uri": "https://localhost:8080/"
        },
        "outputId": "b35e078e-fa24-4046-c759-d65ed8f07ce2",
        "id": "0Bf0tJsmKwMm"
      },
      "execution_count": 59,
      "outputs": [
        {
          "output_type": "stream",
          "name": "stdout",
          "text": [
            "('Алексей', 1, 22, 1000)\n",
            "('Миша', 1, 19, 800)\n",
            "('Федор', 1, 26, 1100)\n",
            "('Маша', 2, 18, 2000)\n",
            "('Мария', 2, 18, 900)\n",
            "('Сергей', 1, 33, 2000)\n",
            "('Владимир', 1, 43, 100)\n",
            "('Елена', 2, 17, 1000)\n",
            "('Юля', 2, 23, 1200)\n",
            "('Мария', 2, 18, 900)\n",
            "('Сергей', 1, 33, 2000)\n",
            "('Владимир', 1, 43, 100)\n",
            "('Елена', 2, 17, 1000)\n",
            "('Юля', 2, 23, 1200)\n"
          ]
        }
      ]
    },
    {
      "cell_type": "markdown",
      "source": [
        "проверяем"
      ],
      "metadata": {
        "id": "xy0xPkkALZG6"
      }
    },
    {
      "cell_type": "code",
      "source": [
        "import sqlite3\n",
        "import traceback\n",
        "import sys\n",
        "\n",
        "try:\n",
        "    sqlite_connection = sqlite3.connect('sqlite_python.db')\n",
        "    cursor = sqlite_connection.cursor()\n",
        "    print(\"База данных подключена к SQLite\")\n",
        "\n",
        "    sqlite_update = \"\"\"UPDATE users SET score = 1500 WHERE name LIKE 'Федор'\"\"\"\n",
        "\n",
        "    count = cursor.execute(sqlite_update)\n",
        "    sqlite_connection.commit()\n",
        "    print(\"Запись успешно вставлена ​​в таблицу sqlitedb_developers \", cursor.rowcount)\n",
        "    cursor.close()\n",
        "\n",
        "except sqlite3.Error as error:\n",
        "    print(\"Не удалось вставить данные в таблицу sqlite\")\n",
        "    print(\"Класс исключения: \", error.__class__)\n",
        "    print(\"Исключение\", error.args)\n",
        "    print(\"Печать подробноcтей исключения SQLite: \")\n",
        "    exc_type, exc_value, exc_tb = sys.exc_info()\n",
        "    print(traceback.format_exception(exc_type, exc_value, exc_tb))\n",
        "finally:\n",
        "    if (sqlite_connection):\n",
        "        sqlite_connection.close()\n",
        "        print(\"Соединение с SQLite закрыто\")"
      ],
      "metadata": {
        "colab": {
          "base_uri": "https://localhost:8080/"
        },
        "outputId": "14df3ae9-40bb-4538-e862-3b4dedf8d7c7",
        "id": "2p_4n5gWK0-B"
      },
      "execution_count": 60,
      "outputs": [
        {
          "output_type": "stream",
          "name": "stdout",
          "text": [
            "База данных подключена к SQLite\n",
            "Запись успешно вставлена ​​в таблицу sqlitedb_developers  1\n",
            "Соединение с SQLite закрыто\n"
          ]
        }
      ]
    },
    {
      "cell_type": "markdown",
      "source": [
        "Федору присвоили 1500"
      ],
      "metadata": {
        "id": "Go3TwTBcTwki"
      }
    },
    {
      "cell_type": "code",
      "source": [
        "import sqlite3\n",
        "\n",
        "connection = sqlite3.connect('sqlite_python.db')\n",
        "cursor = connection.cursor()\n",
        "\n",
        "\n",
        "cursor.execute('SELECT * FROM users')\n",
        "results = cursor.fetchall()\n",
        "\n",
        "for row in results:\n",
        "  print(row)\n",
        "\n",
        "connection.close()"
      ],
      "metadata": {
        "colab": {
          "base_uri": "https://localhost:8080/"
        },
        "outputId": "de0de331-4296-4806-862e-c28d6783cb81",
        "id": "PuNyvpmtK0-S"
      },
      "execution_count": 61,
      "outputs": [
        {
          "output_type": "stream",
          "name": "stdout",
          "text": [
            "('Алексей', 1, 22, 1000)\n",
            "('Миша', 1, 19, 800)\n",
            "('Федор', 1, 26, 1500)\n",
            "('Маша', 2, 18, 2000)\n",
            "('Мария', 2, 18, 900)\n",
            "('Сергей', 1, 33, 2000)\n",
            "('Владимир', 1, 43, 100)\n",
            "('Елена', 2, 17, 1000)\n",
            "('Юля', 2, 23, 1200)\n",
            "('Мария', 2, 18, 900)\n",
            "('Сергей', 1, 33, 2000)\n",
            "('Владимир', 1, 43, 100)\n",
            "('Елена', 2, 17, 1000)\n",
            "('Юля', 2, 23, 1200)\n"
          ]
        }
      ]
    },
    {
      "cell_type": "markdown",
      "source": [
        "проверили"
      ],
      "metadata": {
        "id": "ij0c5lccLHrh"
      }
    },
    {
      "cell_type": "code",
      "source": [
        "import sqlite3\n",
        "import traceback\n",
        "import sys\n",
        "\n",
        "try:\n",
        "    sqlite_connection = sqlite3.connect('sqlite_python.db')\n",
        "    cursor = sqlite_connection.cursor()\n",
        "    print(\"База данных подключена к SQLite\")\n",
        "\n",
        "    sqlite_update = \"\"\"UPDATE users SET score = score+100 WHERE name LIKE 'М%'\"\"\"\n",
        "\n",
        "    count = cursor.execute(sqlite_update)\n",
        "    sqlite_connection.commit()\n",
        "    print(\"Запись успешно вставлена ​​в таблицу sqlitedb_developers \", cursor.rowcount)\n",
        "    cursor.close()\n",
        "\n",
        "except sqlite3.Error as error:\n",
        "    print(\"Не удалось вставить данные в таблицу sqlite\")\n",
        "    print(\"Класс исключения: \", error.__class__)\n",
        "    print(\"Исключение\", error.args)\n",
        "    print(\"Печать подробноcтей исключения SQLite: \")\n",
        "    exc_type, exc_value, exc_tb = sys.exc_info()\n",
        "    print(traceback.format_exception(exc_type, exc_value, exc_tb))\n",
        "finally:\n",
        "    if (sqlite_connection):\n",
        "        sqlite_connection.close()\n",
        "        print(\"Соединение с SQLite закрыто\")"
      ],
      "metadata": {
        "colab": {
          "base_uri": "https://localhost:8080/"
        },
        "outputId": "3cbf9e83-cdde-46ed-84f7-41897620ea7f",
        "id": "sFk80wYaLRu8"
      },
      "execution_count": 62,
      "outputs": [
        {
          "output_type": "stream",
          "name": "stdout",
          "text": [
            "База данных подключена к SQLite\n",
            "Запись успешно вставлена ​​в таблицу sqlitedb_developers  4\n",
            "Соединение с SQLite закрыто\n"
          ]
        }
      ]
    },
    {
      "cell_type": "markdown",
      "source": [
        "Всем игрокам, у которых имя начинается с буквы «М» будет добавлено 100 очков"
      ],
      "metadata": {
        "id": "m79AEvNRT8sT"
      }
    },
    {
      "cell_type": "code",
      "source": [
        "import sqlite3\n",
        "\n",
        "connection = sqlite3.connect('sqlite_python.db')\n",
        "cursor = connection.cursor()\n",
        "\n",
        "\n",
        "cursor.execute('SELECT * FROM users')\n",
        "results = cursor.fetchall()\n",
        "\n",
        "for row in results:\n",
        "  print(row)\n",
        "\n",
        "connection.close()"
      ],
      "metadata": {
        "colab": {
          "base_uri": "https://localhost:8080/"
        },
        "outputId": "681dc164-c050-43ec-baed-8cbbab7651c9",
        "id": "RL7rwKcTLRvY"
      },
      "execution_count": 63,
      "outputs": [
        {
          "output_type": "stream",
          "name": "stdout",
          "text": [
            "('Алексей', 1, 22, 1000)\n",
            "('Миша', 1, 19, 900)\n",
            "('Федор', 1, 26, 1500)\n",
            "('Маша', 2, 18, 2100)\n",
            "('Мария', 2, 18, 1000)\n",
            "('Сергей', 1, 33, 2000)\n",
            "('Владимир', 1, 43, 100)\n",
            "('Елена', 2, 17, 1000)\n",
            "('Юля', 2, 23, 1200)\n",
            "('Мария', 2, 18, 1000)\n",
            "('Сергей', 1, 33, 2000)\n",
            "('Владимир', 1, 43, 100)\n",
            "('Елена', 2, 17, 1000)\n",
            "('Юля', 2, 23, 1200)\n"
          ]
        }
      ]
    },
    {
      "cell_type": "markdown",
      "source": [
        "проверили"
      ],
      "metadata": {
        "id": "93wzM3lRLcv7"
      }
    },
    {
      "cell_type": "code",
      "source": [
        "import sqlite3\n",
        "import traceback\n",
        "import sys\n",
        "\n",
        "try:\n",
        "    sqlite_connection = sqlite3.connect('sqlite_python.db')\n",
        "    cursor = sqlite_connection.cursor()\n",
        "    print(\"База данных подключена к SQLite\")\n",
        "\n",
        "    sqlite_update = \"\"\"UPDATE users SET score = score+100 WHERE name LIKE 'С_рг%'\"\"\"\n",
        "\n",
        "    count = cursor.execute(sqlite_update)\n",
        "    sqlite_connection.commit()\n",
        "    print(\"Запись успешно вставлена ​​в таблицу sqlitedb_developers \", cursor.rowcount)\n",
        "    cursor.close()\n",
        "\n",
        "except sqlite3.Error as error:\n",
        "    print(\"Не удалось вставить данные в таблицу sqlite\")\n",
        "    print(\"Класс исключения: \", error.__class__)\n",
        "    print(\"Исключение\", error.args)\n",
        "    print(\"Печать подробноcтей исключения SQLite: \")\n",
        "    exc_type, exc_value, exc_tb = sys.exc_info()\n",
        "    print(traceback.format_exception(exc_type, exc_value, exc_tb))\n",
        "finally:\n",
        "    if (sqlite_connection):\n",
        "        sqlite_connection.close()\n",
        "        print(\"Соединение с SQLite закрыто\")"
      ],
      "metadata": {
        "colab": {
          "base_uri": "https://localhost:8080/"
        },
        "outputId": "70e50fb3-1368-450a-fb7e-a6d762d02515",
        "id": "UJIapS4uLqLz"
      },
      "execution_count": 64,
      "outputs": [
        {
          "output_type": "stream",
          "name": "stdout",
          "text": [
            "База данных подключена к SQLite\n",
            "Запись успешно вставлена ​​в таблицу sqlitedb_developers  2\n",
            "Соединение с SQLite закрыто\n"
          ]
        }
      ]
    },
    {
      "cell_type": "markdown",
      "source": [
        "Здесь шаблон «'С_рг%» означает первую букву «С», за которой может идти произвольный символ, далее буквы р и г и, затем, произвольный набор символов. Этому выражению, в частности, соответствует имя «Сергей». - Сергею добавили 100 очков"
      ],
      "metadata": {
        "id": "-HorLhC_UEVH"
      }
    },
    {
      "cell_type": "code",
      "source": [
        "import sqlite3\n",
        "\n",
        "connection = sqlite3.connect('sqlite_python.db')\n",
        "cursor = connection.cursor()\n",
        "\n",
        "\n",
        "cursor.execute('SELECT * FROM users')\n",
        "results = cursor.fetchall()\n",
        "\n",
        "for row in results:\n",
        "  print(row)\n",
        "\n",
        "connection.close()"
      ],
      "metadata": {
        "colab": {
          "base_uri": "https://localhost:8080/"
        },
        "outputId": "75770605-b06b-4cd9-9174-bd79ffcef870",
        "id": "HwiIwefrLqL8"
      },
      "execution_count": 65,
      "outputs": [
        {
          "output_type": "stream",
          "name": "stdout",
          "text": [
            "('Алексей', 1, 22, 1000)\n",
            "('Миша', 1, 19, 900)\n",
            "('Федор', 1, 26, 1500)\n",
            "('Маша', 2, 18, 2100)\n",
            "('Мария', 2, 18, 1000)\n",
            "('Сергей', 1, 33, 2100)\n",
            "('Владимир', 1, 43, 100)\n",
            "('Елена', 2, 17, 1000)\n",
            "('Юля', 2, 23, 1200)\n",
            "('Мария', 2, 18, 1000)\n",
            "('Сергей', 1, 33, 2100)\n",
            "('Владимир', 1, 43, 100)\n",
            "('Елена', 2, 17, 1000)\n",
            "('Юля', 2, 23, 1200)\n"
          ]
        }
      ]
    },
    {
      "cell_type": "markdown",
      "source": [
        "проверили"
      ],
      "metadata": {
        "id": "1JkgMUHLL_-5"
      }
    },
    {
      "cell_type": "code",
      "source": [
        "import sqlite3\n",
        "import traceback\n",
        "import sys\n",
        "\n",
        "try:\n",
        "    sqlite_connection = sqlite3.connect('sqlite_python.db')\n",
        "    cursor = sqlite_connection.cursor()\n",
        "    print(\"База данных подключена к SQLite\")\n",
        "\n",
        "    sqlite_update = \"\"\"UPDATE users SET score = 700, old = 45 WHERE old > 40\"\"\"\n",
        "\n",
        "    count = cursor.execute(sqlite_update)\n",
        "    sqlite_connection.commit()\n",
        "    print(\"Запись успешно вставлена ​​в таблицу sqlitedb_developers \", cursor.rowcount)\n",
        "    cursor.close()\n",
        "\n",
        "except sqlite3.Error as error:\n",
        "    print(\"Не удалось вставить данные в таблицу sqlite\")\n",
        "    print(\"Класс исключения: \", error.__class__)\n",
        "    print(\"Исключение\", error.args)\n",
        "    print(\"Печать подробноcтей исключения SQLite: \")\n",
        "    exc_type, exc_value, exc_tb = sys.exc_info()\n",
        "    print(traceback.format_exception(exc_type, exc_value, exc_tb))\n",
        "finally:\n",
        "    if (sqlite_connection):\n",
        "        sqlite_connection.close()\n",
        "        print(\"Соединение с SQLite закрыто\")"
      ],
      "metadata": {
        "colab": {
          "base_uri": "https://localhost:8080/"
        },
        "outputId": "662ede4c-6e42-43d5-e4aa-1c83c0f6ee2a",
        "id": "WpPwbTAaMAmO"
      },
      "execution_count": 66,
      "outputs": [
        {
          "output_type": "stream",
          "name": "stdout",
          "text": [
            "База данных подключена к SQLite\n",
            "Запись успешно вставлена ​​в таблицу sqlitedb_developers  2\n",
            "Соединение с SQLite закрыто\n"
          ]
        }
      ]
    },
    {
      "cell_type": "markdown",
      "source": [
        "у кого возраст старше 40 сделали очков 700 и возраст 45"
      ],
      "metadata": {
        "id": "dUeeOuihUZmm"
      }
    },
    {
      "cell_type": "code",
      "source": [
        "import sqlite3\n",
        "\n",
        "connection = sqlite3.connect('sqlite_python.db')\n",
        "cursor = connection.cursor()\n",
        "\n",
        "\n",
        "cursor.execute('SELECT * FROM users')\n",
        "results = cursor.fetchall()\n",
        "\n",
        "for row in results:\n",
        "  print(row)\n",
        "\n",
        "connection.close()"
      ],
      "metadata": {
        "colab": {
          "base_uri": "https://localhost:8080/"
        },
        "outputId": "4dc4f19c-b9da-4472-a262-81f167fc194f",
        "id": "g_COEKkaMAmQ"
      },
      "execution_count": 67,
      "outputs": [
        {
          "output_type": "stream",
          "name": "stdout",
          "text": [
            "('Алексей', 1, 22, 1000)\n",
            "('Миша', 1, 19, 900)\n",
            "('Федор', 1, 26, 1500)\n",
            "('Маша', 2, 18, 2100)\n",
            "('Мария', 2, 18, 1000)\n",
            "('Сергей', 1, 33, 2100)\n",
            "('Владимир', 1, 45, 700)\n",
            "('Елена', 2, 17, 1000)\n",
            "('Юля', 2, 23, 1200)\n",
            "('Мария', 2, 18, 1000)\n",
            "('Сергей', 1, 33, 2100)\n",
            "('Владимир', 1, 45, 700)\n",
            "('Елена', 2, 17, 1000)\n",
            "('Юля', 2, 23, 1200)\n"
          ]
        }
      ]
    },
    {
      "cell_type": "markdown",
      "source": [
        "проверили"
      ],
      "metadata": {
        "id": "w0zRJo11UkSq"
      }
    },
    {
      "cell_type": "markdown",
      "source": [
        "**DELETE**\n",
        "\n",
        "Синтаксис следующей команды для удаления записи из БД, следующий:\n",
        "\n",
        "**DELETE FROM имя_таблицы WHERE условие**"
      ],
      "metadata": {
        "id": "aXS5_voU-32p"
      }
    },
    {
      "cell_type": "markdown",
      "source": [
        "# **Задание 9**\n",
        "\n",
        "Выполнить запросы, что каждый из них делает?\n",
        "\n",
        "DELETE FROM users WHERE rowid IN(2, 5)\n",
        "\n",
        "SELECT rowid, * FROM users\n",
        "\n",
        "INSERT INTO users VALUES('Даша', 2, 24, 1200)\n",
        "\n",
        "\n",
        "какой rowid?"
      ],
      "metadata": {
        "id": "9Caskzeu-_xm"
      }
    },
    {
      "cell_type": "code",
      "source": [
        "import sqlite3\n",
        "import traceback\n",
        "import sys\n",
        "\n",
        "try:\n",
        "    sqlite_connection = sqlite3.connect('sqlite_python.db')\n",
        "    cursor = sqlite_connection.cursor()\n",
        "    print(\"База данных подключена к SQLite\")\n",
        "\n",
        "    sqlite_del = \"\"\"DELETE FROM users WHERE rowid IN(2, 5)\"\"\"\n",
        "\n",
        "    count = cursor.execute(sqlite_del)\n",
        "    sqlite_connection.commit()\n",
        "    print(\"Запись успешно вставлена ​​в таблицу sqlitedb_developers \", cursor.rowcount)\n",
        "    cursor.close()\n",
        "\n",
        "except sqlite3.Error as error:\n",
        "    print(\"Не удалось вставить данные в таблицу sqlite\")\n",
        "    print(\"Класс исключения: \", error.__class__)\n",
        "    print(\"Исключение\", error.args)\n",
        "    print(\"Печать подробноcтей исключения SQLite: \")\n",
        "    exc_type, exc_value, exc_tb = sys.exc_info()\n",
        "    print(traceback.format_exception(exc_type, exc_value, exc_tb))\n",
        "finally:\n",
        "    if (sqlite_connection):\n",
        "        sqlite_connection.close()\n",
        "        print(\"Соединение с SQLite закрыто\")"
      ],
      "metadata": {
        "colab": {
          "base_uri": "https://localhost:8080/"
        },
        "outputId": "0a4730a3-d0fd-4194-a9bf-32eab2c66556",
        "id": "OxskKbROMoln"
      },
      "execution_count": 69,
      "outputs": [
        {
          "output_type": "stream",
          "name": "stdout",
          "text": [
            "База данных подключена к SQLite\n",
            "Запись успешно вставлена ​​в таблицу sqlitedb_developers  2\n",
            "Соединение с SQLite закрыто\n"
          ]
        }
      ]
    },
    {
      "cell_type": "markdown",
      "source": [
        "удалили 2 и 5 записи"
      ],
      "metadata": {
        "id": "fr-AupkMUqoK"
      }
    },
    {
      "cell_type": "code",
      "source": [
        "import sqlite3\n",
        "\n",
        "connection = sqlite3.connect('sqlite_python.db')\n",
        "cursor = connection.cursor()\n",
        "\n",
        "\n",
        "cursor.execute('SELECT rowid, * FROM users')\n",
        "results = cursor.fetchall()\n",
        "\n",
        "for row in results:\n",
        "  print(row)\n",
        "\n",
        "connection.close()"
      ],
      "metadata": {
        "colab": {
          "base_uri": "https://localhost:8080/"
        },
        "outputId": "bed9d3e7-28d1-46a1-b09f-db90f3127f97",
        "id": "JqTakRr8nWUD"
      },
      "execution_count": 71,
      "outputs": [
        {
          "output_type": "stream",
          "name": "stdout",
          "text": [
            "(1, 'Алексей', 1, 22, 1000)\n",
            "(3, 'Федор', 1, 26, 1500)\n",
            "(4, 'Маша', 2, 18, 2100)\n",
            "(6, 'Сергей', 1, 33, 2100)\n",
            "(7, 'Владимир', 1, 45, 700)\n",
            "(8, 'Елена', 2, 17, 1000)\n",
            "(9, 'Юля', 2, 23, 1200)\n",
            "(10, 'Мария', 2, 18, 1000)\n",
            "(11, 'Сергей', 1, 33, 2100)\n",
            "(12, 'Владимир', 1, 45, 700)\n",
            "(13, 'Елена', 2, 17, 1000)\n",
            "(14, 'Юля', 2, 23, 1200)\n"
          ]
        }
      ]
    },
    {
      "cell_type": "markdown",
      "source": [
        "проверили"
      ],
      "metadata": {
        "id": "yKztCOBdUt2j"
      }
    },
    {
      "cell_type": "code",
      "source": [
        "import sqlite3\n",
        "import traceback\n",
        "import sys\n",
        "\n",
        "try:\n",
        "    sqlite_connection = sqlite3.connect('sqlite_python.db')\n",
        "    cursor = sqlite_connection.cursor()\n",
        "    print(\"База данных подключена к SQLite\")\n",
        "\n",
        "    sqlite_ins = \"\"\"INSERT INTO users VALUES('Даша', 2, 24, 1200)\"\"\"\n",
        "\n",
        "    count = cursor.execute(sqlite_ins)\n",
        "    sqlite_connection.commit()\n",
        "    print(\"Запись успешно вставлена ​​в таблицу sqlitedb_developers \", cursor.rowcount)\n",
        "    cursor.close()\n",
        "\n",
        "except sqlite3.Error as error:\n",
        "    print(\"Не удалось вставить данные в таблицу sqlite\")\n",
        "    print(\"Класс исключения: \", error.__class__)\n",
        "    print(\"Исключение\", error.args)\n",
        "    print(\"Печать подробноcтей исключения SQLite: \")\n",
        "    exc_type, exc_value, exc_tb = sys.exc_info()\n",
        "    print(traceback.format_exception(exc_type, exc_value, exc_tb))\n",
        "finally:\n",
        "    if (sqlite_connection):\n",
        "        sqlite_connection.close()\n",
        "        print(\"Соединение с SQLite закрыто\")"
      ],
      "metadata": {
        "colab": {
          "base_uri": "https://localhost:8080/"
        },
        "outputId": "354eb98d-e0e0-4399-fc0f-5a2c9c112b74",
        "id": "ulFtIrGiNCk6"
      },
      "execution_count": 72,
      "outputs": [
        {
          "output_type": "stream",
          "name": "stdout",
          "text": [
            "База данных подключена к SQLite\n",
            "Запись успешно вставлена ​​в таблицу sqlitedb_developers  1\n",
            "Соединение с SQLite закрыто\n"
          ]
        }
      ]
    },
    {
      "cell_type": "markdown",
      "source": [
        "вставили Дашу"
      ],
      "metadata": {
        "id": "5MC5l2THUxGS"
      }
    },
    {
      "cell_type": "code",
      "source": [
        "import sqlite3\n",
        "\n",
        "connection = sqlite3.connect('sqlite_python.db')\n",
        "cursor = connection.cursor()\n",
        "\n",
        "\n",
        "cursor.execute('SELECT * FROM users')\n",
        "results = cursor.fetchall()\n",
        "\n",
        "for row in results:\n",
        "  print(row)\n",
        "\n",
        "connection.close()"
      ],
      "metadata": {
        "colab": {
          "base_uri": "https://localhost:8080/"
        },
        "outputId": "b0319f62-4882-471c-8180-49163307c76d",
        "id": "p0dDrQ9yNClQ"
      },
      "execution_count": 73,
      "outputs": [
        {
          "output_type": "stream",
          "name": "stdout",
          "text": [
            "('Алексей', 1, 22, 1000)\n",
            "('Федор', 1, 26, 1500)\n",
            "('Маша', 2, 18, 2100)\n",
            "('Сергей', 1, 33, 2100)\n",
            "('Владимир', 1, 45, 700)\n",
            "('Елена', 2, 17, 1000)\n",
            "('Юля', 2, 23, 1200)\n",
            "('Мария', 2, 18, 1000)\n",
            "('Сергей', 1, 33, 2100)\n",
            "('Владимир', 1, 45, 700)\n",
            "('Елена', 2, 17, 1000)\n",
            "('Юля', 2, 23, 1200)\n",
            "('Даша', 2, 24, 1200)\n"
          ]
        }
      ]
    },
    {
      "cell_type": "markdown",
      "source": [
        "проверили"
      ],
      "metadata": {
        "id": "RSRbVs5MUz6T"
      }
    },
    {
      "cell_type": "markdown",
      "source": [
        "**Агрегирующие функции в SELECT и GROUP BY**"
      ],
      "metadata": {
        "id": "LHyjs8I4CCJX"
      }
    },
    {
      "cell_type": "markdown",
      "source": [
        "# **Задание 10**\n",
        "\n",
        "создайте таблицу games где отображаются результаты каждой игры каждого игрока\n",
        "\n",
        "(поля user-id score time)"
      ],
      "metadata": {
        "id": "wWCmuHRCCbn9"
      }
    },
    {
      "cell_type": "code",
      "source": [
        "import sqlite3\n",
        "\n",
        "try:\n",
        "    sqlite_connection = sqlite3.connect('sqlite_python.db')\n",
        "    sqlite_create_table_query = '''CREATE TABLE games (\n",
        "\n",
        "                                user_id integer NOT NULL,\n",
        "                                score integer NOT NULL,\n",
        "                                time integer);'''\n",
        "\n",
        "    cursor = sqlite_connection.cursor()\n",
        "    print(\"База данных подключена к SQLite\")\n",
        "    cursor.execute(sqlite_create_table_query)\n",
        "    sqlite_connection.commit()\n",
        "    print(\"Таблица SQLite создана\")\n",
        "\n",
        "    cursor.close()\n",
        "\n",
        "except sqlite3.Error as error:\n",
        "    print(\"Ошибка при подключении к sqlite\", error)\n",
        "finally:\n",
        "    if (sqlite_connection):\n",
        "        sqlite_connection.close()\n",
        "        print(\"Соединение с SQLite закрыто\")"
      ],
      "metadata": {
        "colab": {
          "base_uri": "https://localhost:8080/"
        },
        "outputId": "7d842595-237f-4fdc-c80c-f8cfd2470c01",
        "id": "6lttTmGzXrM9"
      },
      "execution_count": 78,
      "outputs": [
        {
          "output_type": "stream",
          "name": "stdout",
          "text": [
            "База данных подключена к SQLite\n",
            "Таблица SQLite создана\n",
            "Соединение с SQLite закрыто\n"
          ]
        }
      ]
    },
    {
      "cell_type": "markdown",
      "source": [
        "создали таблицу"
      ],
      "metadata": {
        "id": "TgeuLRJ1YeQi"
      }
    },
    {
      "cell_type": "code",
      "source": [
        "import sqlite3\n",
        "import traceback\n",
        "import sys\n",
        "\n",
        "try:\n",
        "    sqlite_connection = sqlite3.connect('sqlite_python.db')\n",
        "    cursor = sqlite_connection.cursor()\n",
        "    print(\"База данных подключена к SQLite\")\n",
        "\n",
        "    sqlite_insert_query = \"\"\"INSERT INTO games\n",
        "                            VALUES( 1, 22, 1000),\n",
        "\n",
        "                                    (2, 19, 800),\n",
        "\n",
        "                                    (3, 26, 1100),\n",
        "\n",
        "                                    (4, 18, 1500)\"\"\"\n",
        "\n",
        "    count = cursor.execute(sqlite_insert_query)\n",
        "    sqlite_connection.commit()\n",
        "    print(\"Запись успешно вставлена ​​в таблицу sqlitedb_developers \", cursor.rowcount)\n",
        "    cursor.close()\n",
        "\n",
        "except sqlite3.Error as error:\n",
        "    print(\"Не удалось вставить данные в таблицу sqlite\")\n",
        "    print(\"Класс исключения: \", error.__class__)\n",
        "    print(\"Исключение\", error.args)\n",
        "    print(\"Печать подробноcтей исключения SQLite: \")\n",
        "    exc_type, exc_value, exc_tb = sys.exc_info()\n",
        "    print(traceback.format_exception(exc_type, exc_value, exc_tb))\n",
        "finally:\n",
        "    if (sqlite_connection):\n",
        "        sqlite_connection.close()\n",
        "        print(\"Соединение с SQLite закрыто\")"
      ],
      "metadata": {
        "colab": {
          "base_uri": "https://localhost:8080/"
        },
        "outputId": "f1f9c46a-b3a7-4e76-8fbe-6f1f3beb9686",
        "id": "z2-FYLCQYQNS"
      },
      "execution_count": 80,
      "outputs": [
        {
          "output_type": "stream",
          "name": "stdout",
          "text": [
            "База данных подключена к SQLite\n",
            "Запись успешно вставлена ​​в таблицу sqlitedb_developers  4\n",
            "Соединение с SQLite закрыто\n"
          ]
        }
      ]
    },
    {
      "cell_type": "markdown",
      "source": [
        "наполнили шротом"
      ],
      "metadata": {
        "id": "retvKVRBYjwH"
      }
    },
    {
      "cell_type": "code",
      "source": [
        "import sqlite3\n",
        "\n",
        "connection = sqlite3.connect('sqlite_python.db')\n",
        "cursor = connection.cursor()\n",
        "\n",
        "\n",
        "cursor.execute('SELECT * FROM games')\n",
        "results = cursor.fetchall()\n",
        "\n",
        "for row in results:\n",
        "  print(row)\n",
        "\n",
        "connection.close()"
      ],
      "metadata": {
        "colab": {
          "base_uri": "https://localhost:8080/"
        },
        "outputId": "5ec39938-78be-4038-87ea-419e85dbfa0b",
        "id": "6MLSO-_5nX2Q"
      },
      "execution_count": 81,
      "outputs": [
        {
          "output_type": "stream",
          "name": "stdout",
          "text": [
            "(1, 22, 1000)\n",
            "(2, 19, 800)\n",
            "(3, 26, 1100)\n",
            "(4, 18, 1500)\n"
          ]
        }
      ]
    },
    {
      "cell_type": "markdown",
      "source": [
        "проверили"
      ],
      "metadata": {
        "id": "mAJje5KNYrBf"
      }
    },
    {
      "cell_type": "markdown",
      "source": [
        "# **Задание 11**\n",
        "\n",
        "Выполнить запросы, что каждый из них делает?\n",
        "\n",
        "SELECT count(user_id) FROM games WHERE user_id = 1\n",
        "\n",
        "SELECT count() as count FROM games WHERE user_id = 1\n"
      ],
      "metadata": {
        "id": "geSY0Cr8DvXZ"
      }
    },
    {
      "cell_type": "code",
      "source": [
        "import sqlite3\n",
        "\n",
        "connection = sqlite3.connect('sqlite_python.db')\n",
        "cursor = connection.cursor()\n",
        "\n",
        "\n",
        "cursor.execute('SELECT count(user_id) FROM games WHERE user_id = 1')\n",
        "results = cursor.fetchall()\n",
        "\n",
        "for row in results:\n",
        "  print(row)\n",
        "\n",
        "connection.close()"
      ],
      "metadata": {
        "colab": {
          "base_uri": "https://localhost:8080/"
        },
        "outputId": "e11f209e-64f7-4989-f7b1-eae668c6b196",
        "id": "iaf0m0EjnYyY"
      },
      "execution_count": 83,
      "outputs": [
        {
          "output_type": "stream",
          "name": "stdout",
          "text": [
            "(1,)\n"
          ]
        }
      ]
    },
    {
      "cell_type": "markdown",
      "source": [
        "count(название столбца) – это агрегирующая функция, которая подсчитывает число выбранных записей."
      ],
      "metadata": {
        "id": "H-cND_y3ZFrF"
      }
    },
    {
      "cell_type": "code",
      "source": [
        "import sqlite3\n",
        "\n",
        "connection = sqlite3.connect('sqlite_python.db')\n",
        "cursor = connection.cursor()\n",
        "\n",
        "\n",
        "cursor.execute('SELECT count() as count FROM games WHERE user_id = 1')\n",
        "results = cursor.fetchall()\n",
        "\n",
        "for row in results:\n",
        "  print(row)\n",
        "\n",
        "connection.close()"
      ],
      "metadata": {
        "colab": {
          "base_uri": "https://localhost:8080/"
        },
        "outputId": "6b3c46d9-d376-4e4c-ab76-aff527a1e497",
        "id": "Wovzl0uZnY1m"
      },
      "execution_count": 84,
      "outputs": [
        {
          "output_type": "stream",
          "name": "stdout",
          "text": [
            "(1,)\n"
          ]
        }
      ]
    },
    {
      "cell_type": "markdown",
      "source": [
        "использовали алиас"
      ],
      "metadata": {
        "id": "fK2QFZhMZQj9"
      }
    },
    {
      "cell_type": "markdown",
      "source": [
        "в команде SELECT можно использовать следующие наиболее распространенные агрегирующие функции:\n",
        "\n",
        "count() – подсчет числа записей;\n",
        "sum() – подсчет суммы указанного поля по всем записям выборки;\n",
        "\n",
        "avr() – вычисление среднего арифметического указанного поля;\n",
        "\n",
        "min() – нахождение минимального значения для указанного поля;\n",
        "\n",
        "max() – нахождение максимального значения для указанного поля."
      ],
      "metadata": {
        "id": "KgN5wx6rEFUc"
      }
    },
    {
      "cell_type": "markdown",
      "source": [
        "# **Задание 12**\n",
        "\n",
        "Выполнить запросы, что каждый из них делает?\n",
        "\n",
        "SELECT DISTINCT user_id FROM games\n",
        "\n",
        "SELECT count(DISTINCT user_id) as count FROM games\n",
        "\n",
        "DISTINCT,  указывает СУБД выбирать записи с уникальными user_id\n",
        "\n",
        "SELECT sum(score) as sum FROM games WHERE user_id = 1\n",
        "\n",
        "\n",
        "SELECT max(score) FROM games WHERE user_id = 1\n",
        "\n",
        "SELECT min(score) FROM games WHERE user_id = 1"
      ],
      "metadata": {
        "id": "CXu5jzTnEOJG"
      }
    },
    {
      "cell_type": "code",
      "source": [
        "import sqlite3\n",
        "\n",
        "connection = sqlite3.connect('sqlite_python.db')\n",
        "cursor = connection.cursor()\n",
        "\n",
        "\n",
        "cursor.execute('SELECT DISTINCT user_id FROM games')\n",
        "results = cursor.fetchall()\n",
        "\n",
        "for row in results:\n",
        "  print(row)\n",
        "\n",
        "connection.close()"
      ],
      "metadata": {
        "colab": {
          "base_uri": "https://localhost:8080/"
        },
        "outputId": "5e94a72e-cff0-411e-f0df-ccee92b877f5",
        "id": "ZC3_K8QinauR"
      },
      "execution_count": 85,
      "outputs": [
        {
          "output_type": "stream",
          "name": "stdout",
          "text": [
            "(1,)\n",
            "(2,)\n",
            "(3,)\n",
            "(4,)\n"
          ]
        }
      ]
    },
    {
      "cell_type": "markdown",
      "source": [
        "перед полем user_id указали ключевое слово DISTINCT, которое указывает СУБД выбирать записи с уникальными user_id."
      ],
      "metadata": {
        "id": "MQT1CPEMZgfB"
      }
    },
    {
      "cell_type": "code",
      "source": [
        "import sqlite3\n",
        "\n",
        "connection = sqlite3.connect('sqlite_python.db')\n",
        "cursor = connection.cursor()\n",
        "\n",
        "\n",
        "cursor.execute('SELECT sum(score) as sum FROM games WHERE user_id = 1')\n",
        "results = cursor.fetchall()\n",
        "\n",
        "for row in results:\n",
        "  print(row)\n",
        "\n",
        "connection.close()"
      ],
      "metadata": {
        "colab": {
          "base_uri": "https://localhost:8080/"
        },
        "outputId": "d124238e-1aa2-47f5-af12-495788f328a2",
        "id": "nmFvmjC5nayX"
      },
      "execution_count": 86,
      "outputs": [
        {
          "output_type": "stream",
          "name": "stdout",
          "text": [
            "(22,)\n"
          ]
        }
      ]
    },
    {
      "cell_type": "markdown",
      "source": [
        "сумма очков из таблицы games для первого игрока"
      ],
      "metadata": {
        "id": "6T1X_EuOZuUN"
      }
    },
    {
      "cell_type": "code",
      "source": [
        "import sqlite3\n",
        "\n",
        "connection = sqlite3.connect('sqlite_python.db')\n",
        "cursor = connection.cursor()\n",
        "\n",
        "\n",
        "cursor.execute('SELECT max(score) FROM games WHERE user_id = 1')\n",
        "results = cursor.fetchall()\n",
        "\n",
        "for row in results:\n",
        "  print(row)\n",
        "\n",
        "connection.close()"
      ],
      "metadata": {
        "colab": {
          "base_uri": "https://localhost:8080/"
        },
        "outputId": "547e5855-a324-4839-8925-adaa59a9ecf7",
        "id": "1KE8QRYMna2I"
      },
      "execution_count": 87,
      "outputs": [
        {
          "output_type": "stream",
          "name": "stdout",
          "text": [
            "(22,)\n"
          ]
        }
      ]
    },
    {
      "cell_type": "markdown",
      "source": [
        "максимум очков из таблицы games для первого игрока"
      ],
      "metadata": {
        "id": "nJMg8yMHZ7KV"
      }
    },
    {
      "cell_type": "code",
      "source": [
        "import sqlite3\n",
        "\n",
        "connection = sqlite3.connect('sqlite_python.db')\n",
        "cursor = connection.cursor()\n",
        "\n",
        "\n",
        "cursor.execute('SELECT min(score) FROM games WHERE user_id = 1')\n",
        "results = cursor.fetchall()\n",
        "\n",
        "for row in results:\n",
        "  print(row)\n",
        "\n",
        "connection.close()"
      ],
      "metadata": {
        "colab": {
          "base_uri": "https://localhost:8080/"
        },
        "outputId": "b2b59cae-7158-4392-f92f-f92fea9db073",
        "id": "uk7Eo0gxna62"
      },
      "execution_count": 89,
      "outputs": [
        {
          "output_type": "stream",
          "name": "stdout",
          "text": [
            "(22,)\n"
          ]
        }
      ]
    },
    {
      "cell_type": "markdown",
      "source": [
        "минимум очков из таблицы games для первого игрока"
      ],
      "metadata": {
        "id": "K0rU5p1MaMBk"
      }
    },
    {
      "cell_type": "markdown",
      "source": [
        "**Группировка GROUP BY**\n",
        "Язык SQL позволяет вызывать агрегирующие функции не для всех записей в выборке, а локально для указанных групп. Например,  создать список ТОП лучших игроков. Для этого нужно вызвать функции sum для каждого уникального user_id.\n",
        "\n",
        "Это делается с помощью оператора\n",
        "\n",
        "GROUP BY <имя поля>\n",
        "\n",
        "который группирует записи по указанному столбцу. В этом случае агрегирующие функции будут работать в пределах каждой группы:\n",
        "\n",
        "SELECT user_id, sum(score) as sum\n",
        "FROM games\n",
        "GROUP BY user_id"
      ],
      "metadata": {
        "id": "nvVrbqvXFSPl"
      }
    },
    {
      "cell_type": "markdown",
      "source": [
        "**Задание 13**\n",
        "\n",
        "Выполнить запрос, что он делает?\n",
        "\n",
        "SELECT user_id, sum(score) as sum FROM games GROUP BY user_id\n"
      ],
      "metadata": {
        "id": "v9K-9jKjF5Jc"
      }
    },
    {
      "cell_type": "code",
      "source": [
        "import sqlite3\n",
        "\n",
        "connection = sqlite3.connect('sqlite_python.db')\n",
        "cursor = connection.cursor()\n",
        "\n",
        "\n",
        "cursor.execute('SELECT user_id, sum(score) as sum FROM games GROUP BY user_id')\n",
        "results = cursor.fetchall()\n",
        "\n",
        "for row in results:\n",
        "  print(row)\n",
        "\n",
        "connection.close()"
      ],
      "metadata": {
        "colab": {
          "base_uri": "https://localhost:8080/"
        },
        "outputId": "697f849b-70cf-4151-ff9e-a27ef18b9e5e",
        "id": "vRwyhPu3ncYz"
      },
      "execution_count": 90,
      "outputs": [
        {
          "output_type": "stream",
          "name": "stdout",
          "text": [
            "(1, 22)\n",
            "(2, 19)\n",
            "(3, 26)\n",
            "(4, 18)\n"
          ]
        }
      ]
    },
    {
      "cell_type": "markdown",
      "source": [
        " список  лучших игроков сгруппированных по ID"
      ],
      "metadata": {
        "id": "aTfgM6jcaikO"
      }
    },
    {
      "cell_type": "markdown",
      "source": [
        "**Задание 14** (чем отличаются от предыдущего, почему в результате число очков может измениться)\n",
        "\n",
        "Выполнить запросы, что каждый из них делает?\n",
        "\n",
        "SELECT user_id, sum(score) as sum\n",
        "\n",
        "FROM games\n",
        "\n",
        "WHERE score > 300\n",
        "\n",
        "GROUP BY user_id\n",
        "\n",
        "ORDER BY sum DESC"
      ],
      "metadata": {
        "id": "y46S9pTHGReU"
      }
    },
    {
      "cell_type": "code",
      "source": [
        "import sqlite3\n",
        "\n",
        "connection = sqlite3.connect('sqlite_python.db')\n",
        "cursor = connection.cursor()\n",
        "\n",
        "\n",
        "cursor.execute('SELECT user_id, sum(score) as sum FROM games WHERE score > 300 GROUP BY user_id ORDER BY sum DESC')\n",
        "results = cursor.fetchall()\n",
        "\n",
        "for row in results:\n",
        "  print(row)\n",
        "\n",
        "connection.close()"
      ],
      "metadata": {
        "id": "yLAJHXywndZ-"
      },
      "execution_count": 93,
      "outputs": []
    },
    {
      "cell_type": "markdown",
      "source": [
        "к сожалению нет таких, а так вывело бы по убыванию"
      ],
      "metadata": {
        "id": "xLw87mDebfJA"
      }
    },
    {
      "cell_type": "markdown",
      "source": [
        "# **Задание 15**\n",
        "что изменится если добавить в конце LIMIT 1 ?\n",
        "\n",
        "(если нужно задать ограничение по числу отбираемых записей, то в последнюю очередь записывается оператор LIMIT)"
      ],
      "metadata": {
        "id": "9Fyjuzj8G8eI"
      }
    },
    {
      "cell_type": "markdown",
      "source": [
        "**Оператор JOIN для формирования сводного отчета**\n",
        "\n",
        "JOIN <таблица> ON <условие связывания>"
      ],
      "metadata": {
        "id": "czhqGpKLHvg2"
      }
    },
    {
      "cell_type": "markdown",
      "source": [
        "Таблица games содержит поле user_id (идентификатор пользователя),\n",
        "\n",
        "которое является внешним ключом для связывания с таблицей users по полю rowid,\n",
        "\n",
        " которое является первичным ключом.\n",
        "\n",
        " **SELECT name, sex, games.score FROM games JOIN users ON games.user_id = users.rowid**\n",
        "\n",
        "поле score записано как games.score, тем самым уточняя, что его следует брать из таблицы games.\n",
        "\n",
        "Если этого не сделать, то СУБД возвратит ошибку неопределенности имени поля, т.к. score присутствует в обеих таблицах.\n",
        "\n",
        "Далее указывается главная таблица games, с которой будут ассоциированы данные из второй таблицы users.\n",
        "\n",
        "Условие связывания прописано после оператора ON как равенство полей games.user_id и users.rowid выбираемой записи.\n",
        "\n",
        "То есть, сначала отбирается запись из главной таблицы games\n",
        "\n",
        "и, затем, берется запись из таблицы users, у которой rowid равен user_id\n",
        "\n",
        "Благодаря объединению данных мы видим не просто id игрока, а его имя, что гораздо удобнее для человеческого восприятия.\n"
      ],
      "metadata": {
        "id": "KI-Cqrg3IE-f"
      }
    },
    {
      "cell_type": "code",
      "source": [
        "import sqlite3\n",
        "\n",
        "connection = sqlite3.connect('sqlite_python.db')\n",
        "cursor = connection.cursor()\n",
        "\n",
        "\n",
        "cursor.execute('SELECT name, sex, games.score FROM games JOIN users ON games.user_id = users.rowid')\n",
        "results = cursor.fetchall()\n",
        "\n",
        "for row in results:\n",
        "  print(row)\n",
        "\n",
        "connection.close()"
      ],
      "metadata": {
        "colab": {
          "base_uri": "https://localhost:8080/"
        },
        "outputId": "1b5a3134-fe2b-418b-c498-263d4e2cb69c",
        "id": "Gx_AeU0Enelh"
      },
      "execution_count": 95,
      "outputs": [
        {
          "output_type": "stream",
          "name": "stdout",
          "text": [
            "('Алексей', 1, 22)\n",
            "('Федор', 1, 26)\n",
            "('Маша', 2, 18)\n"
          ]
        }
      ]
    },
    {
      "cell_type": "markdown",
      "source": [
        "смэтчили две таблицы из первой имя и пол, а из второй очки"
      ],
      "metadata": {
        "id": "vSWsxOcVcNc5"
      }
    },
    {
      "cell_type": "markdown",
      "source": [
        "# **Задание 16**\n",
        "\n",
        "Выполнить запрос, что он делает?\n",
        "\n",
        "SELECT name, sex, games.score FROM games JOIN users ON games.user_id = users.rowid\n",
        "\n",
        "\n",
        "\n",
        "Объединять данные из таблиц можно и без оператора JOIN, просто указав их имена после FROM\n",
        "\n",
        "SELECT name, sex, games.score FROM users, games"
      ],
      "metadata": {
        "id": "7AAkhWCsJO83"
      }
    },
    {
      "cell_type": "code",
      "source": [
        "import sqlite3\n",
        "\n",
        "connection = sqlite3.connect('sqlite_python.db')\n",
        "cursor = connection.cursor()\n",
        "\n",
        "\n",
        "cursor.execute('SELECT name, sex, games.score FROM games JOIN users ON games.user_id = users.rowid')\n",
        "results = cursor.fetchall()\n",
        "\n",
        "for row in results:\n",
        "  print(row)\n",
        "\n",
        "connection.close()"
      ],
      "metadata": {
        "colab": {
          "base_uri": "https://localhost:8080/"
        },
        "outputId": "06d329ea-de27-4814-cad2-1f8ea7587fd3",
        "id": "8BBzaNtAnfpe"
      },
      "execution_count": 96,
      "outputs": [
        {
          "output_type": "stream",
          "name": "stdout",
          "text": [
            "('Алексей', 1, 22)\n",
            "('Федор', 1, 26)\n",
            "('Маша', 2, 18)\n"
          ]
        }
      ]
    },
    {
      "cell_type": "markdown",
      "source": [
        "смэтчили две таблицы из первой имя и пол, а из второй очки"
      ],
      "metadata": {
        "id": "64qz7qgRcoPL"
      }
    },
    {
      "cell_type": "code",
      "source": [
        "import sqlite3\n",
        "\n",
        "connection = sqlite3.connect('sqlite_python.db')\n",
        "cursor = connection.cursor()\n",
        "\n",
        "\n",
        "cursor.execute('SELECT name, sex, games.score FROM users, games')\n",
        "results = cursor.fetchall()\n",
        "\n",
        "for row in results:\n",
        "  print(row)\n",
        "\n",
        "connection.close()"
      ],
      "metadata": {
        "colab": {
          "base_uri": "https://localhost:8080/"
        },
        "outputId": "e7f9a261-d389-499c-c2d0-d664faf14e8d",
        "id": "VgOqfJ2JcvWE"
      },
      "execution_count": 97,
      "outputs": [
        {
          "output_type": "stream",
          "name": "stdout",
          "text": [
            "('Алексей', 1, 22)\n",
            "('Алексей', 1, 19)\n",
            "('Алексей', 1, 26)\n",
            "('Алексей', 1, 18)\n",
            "('Федор', 1, 22)\n",
            "('Федор', 1, 19)\n",
            "('Федор', 1, 26)\n",
            "('Федор', 1, 18)\n",
            "('Маша', 2, 22)\n",
            "('Маша', 2, 19)\n",
            "('Маша', 2, 26)\n",
            "('Маша', 2, 18)\n",
            "('Сергей', 1, 22)\n",
            "('Сергей', 1, 19)\n",
            "('Сергей', 1, 26)\n",
            "('Сергей', 1, 18)\n",
            "('Владимир', 1, 22)\n",
            "('Владимир', 1, 19)\n",
            "('Владимир', 1, 26)\n",
            "('Владимир', 1, 18)\n",
            "('Елена', 2, 22)\n",
            "('Елена', 2, 19)\n",
            "('Елена', 2, 26)\n",
            "('Елена', 2, 18)\n",
            "('Юля', 2, 22)\n",
            "('Юля', 2, 19)\n",
            "('Юля', 2, 26)\n",
            "('Юля', 2, 18)\n",
            "('Мария', 2, 22)\n",
            "('Мария', 2, 19)\n",
            "('Мария', 2, 26)\n",
            "('Мария', 2, 18)\n",
            "('Сергей', 1, 22)\n",
            "('Сергей', 1, 19)\n",
            "('Сергей', 1, 26)\n",
            "('Сергей', 1, 18)\n",
            "('Владимир', 1, 22)\n",
            "('Владимир', 1, 19)\n",
            "('Владимир', 1, 26)\n",
            "('Владимир', 1, 18)\n",
            "('Елена', 2, 22)\n",
            "('Елена', 2, 19)\n",
            "('Елена', 2, 26)\n",
            "('Елена', 2, 18)\n",
            "('Юля', 2, 22)\n",
            "('Юля', 2, 19)\n",
            "('Юля', 2, 26)\n",
            "('Юля', 2, 18)\n",
            "('Даша', 2, 22)\n",
            "('Даша', 2, 19)\n",
            "('Даша', 2, 26)\n",
            "('Даша', 2, 18)\n"
          ]
        }
      ]
    },
    {
      "cell_type": "markdown",
      "source": [
        "получили  произведение двух таблиц"
      ],
      "metadata": {
        "id": "LabCjodpc9RC"
      }
    },
    {
      "cell_type": "markdown",
      "source": [
        "**Задание 17**\n",
        "\n",
        "Выполнить запрос, что он делает?\n",
        "\n",
        "SELECT name, sex, games.score FROM games\n",
        "JOIN users ON games.user_id = users.rowid\n",
        "\n",
        "аналог оператора INNER JOIN, соединение записей из двух таблиц, если соответствия найдены в обеих из них\n",
        "\n",
        "удалить одну из записей из таблицы users\n",
        "\n",
        "повторить запрос\n",
        "\n",
        "и выполнить\n",
        "\n",
        "SELECT name, sex, games.score FROM games\n",
        "LEFT JOIN users ON games.user_id = users.rowid"
      ],
      "metadata": {
        "id": "I6cs0d_7KOpH"
      }
    },
    {
      "cell_type": "code",
      "source": [],
      "metadata": {
        "id": "C0alXRi-ngRR"
      },
      "execution_count": null,
      "outputs": []
    },
    {
      "cell_type": "code",
      "source": [
        "import sqlite3\n",
        "\n",
        "connection = sqlite3.connect('sqlite_python.db')\n",
        "cursor = connection.cursor()\n",
        "\n",
        "\n",
        "cursor.execute('SELECT name, sex, games.score FROM games JOIN users ON games.user_id = users.rowid')\n",
        "results = cursor.fetchall()\n",
        "\n",
        "for row in results:\n",
        "  print(row)\n",
        "\n",
        "connection.close()"
      ],
      "metadata": {
        "colab": {
          "base_uri": "https://localhost:8080/"
        },
        "outputId": "df9b5178-c1cc-4cdf-cd0f-f887517ff3cb",
        "id": "brepnSygnggv"
      },
      "execution_count": 98,
      "outputs": [
        {
          "output_type": "stream",
          "name": "stdout",
          "text": [
            "('Алексей', 1, 22)\n",
            "('Федор', 1, 26)\n",
            "('Маша', 2, 18)\n"
          ]
        }
      ]
    },
    {
      "cell_type": "markdown",
      "source": [
        " это аналог оператора INNER JOIN, то есть, соединение записей из двух таблиц, если соответствия найдены в обеих из них."
      ],
      "metadata": {
        "id": "Ir7CFHYMd1JK"
      }
    },
    {
      "cell_type": "code",
      "source": [
        "import sqlite3\n",
        "\n",
        "connection = sqlite3.connect('sqlite_python.db')\n",
        "cursor = connection.cursor()\n",
        "\n",
        "\n",
        "cursor.execute('SELECT name, sex, games.score FROM games LEFT JOIN users ON games.user_id = users.rowid')\n",
        "results = cursor.fetchall()\n",
        "\n",
        "for row in results:\n",
        "  print(row)\n",
        "\n",
        "connection.close()"
      ],
      "metadata": {
        "colab": {
          "base_uri": "https://localhost:8080/"
        },
        "outputId": "da20e81a-727c-4393-f9df-84a3ac144ee2",
        "id": "f2Uot-NiniGQ"
      },
      "execution_count": 99,
      "outputs": [
        {
          "output_type": "stream",
          "name": "stdout",
          "text": [
            "('Алексей', 1, 22)\n",
            "(None, None, 19)\n",
            "('Федор', 1, 26)\n",
            "('Маша', 2, 18)\n"
          ]
        }
      ]
    },
    {
      "cell_type": "markdown",
      "source": [
        "все записи из главной таблицы (games), а дополнительные сведения из второй таблицы добавлять, если они там есть."
      ],
      "metadata": {
        "id": "FQmK2kDbd8Hn"
      }
    },
    {
      "cell_type": "markdown",
      "source": [
        "**Задание 18**\n",
        "\n",
        "получить таблицу с игроками, набравших максимальное число очков\n",
        "\n",
        "\n",
        "SELECT user_id, sum(score) as sum\n",
        "FROM games\n",
        "GROUP BY user_id\n",
        "ORDER BY sum DESC\n",
        "\n",
        "\n",
        "SELECT name, sex, sum(games.score) as score\n",
        "FROM games\n",
        "JOIN users ON games.user_id = users.rowid\n",
        "GROUP BY user_id\n",
        "ORDER BY score DESC"
      ],
      "metadata": {
        "id": "39xjLf7HK8Cx"
      }
    },
    {
      "cell_type": "markdown",
      "source": [
        "В команде SELECT можно указывать несколько операторов JOIN для объединения данных из трех, четырех и большего числа таблиц:\n",
        "\n",
        "SELECT <поля> FROM <таблица 1>\n",
        "\n",
        "JOIN <таблица 2> JOIN <таблица 3> … JOIN <таблица N>\n",
        "\n",
        "ON <условие связывания>"
      ],
      "metadata": {
        "id": "nfT-Hn19LTj7"
      }
    },
    {
      "cell_type": "code",
      "source": [
        "import sqlite3\n",
        "\n",
        "connection = sqlite3.connect('sqlite_python.db')\n",
        "cursor = connection.cursor()\n",
        "\n",
        "\n",
        "cursor.execute('SELECT user_id, sum(score) as sum FROM games GROUP BY user_id ORDER BY sum DESC')\n",
        "results = cursor.fetchall()\n",
        "\n",
        "for row in results:\n",
        "  print(row)\n",
        "\n",
        "connection.close()"
      ],
      "metadata": {
        "colab": {
          "base_uri": "https://localhost:8080/"
        },
        "outputId": "9bb1bfd9-9cb3-403c-ac79-51872cb41270",
        "id": "ygdSj_x_njpu"
      },
      "execution_count": 100,
      "outputs": [
        {
          "output_type": "stream",
          "name": "stdout",
          "text": [
            "(3, 26)\n",
            "(1, 22)\n",
            "(2, 19)\n",
            "(4, 18)\n"
          ]
        }
      ]
    },
    {
      "cell_type": "markdown",
      "source": [
        "убывающий список по сумме очков"
      ],
      "metadata": {
        "id": "JlMMNEElemhL"
      }
    },
    {
      "cell_type": "code",
      "source": [
        "import sqlite3\n",
        "\n",
        "connection = sqlite3.connect('sqlite_python.db')\n",
        "cursor = connection.cursor()\n",
        "\n",
        "\n",
        "cursor.execute('SELECT name, sex, sum(games.score) as score FROM games JOIN users ON games.user_id = users.rowid GROUP BY user_id ORDER BY score DESC')\n",
        "results = cursor.fetchall()\n",
        "\n",
        "for row in results:\n",
        "  print(row)\n",
        "\n",
        "connection.close()"
      ],
      "metadata": {
        "colab": {
          "base_uri": "https://localhost:8080/"
        },
        "outputId": "06773632-cded-425f-e38c-07d425767b12",
        "id": "H2h5PepFnjuf"
      },
      "execution_count": 101,
      "outputs": [
        {
          "output_type": "stream",
          "name": "stdout",
          "text": [
            "('Федор', 1, 26)\n",
            "('Алексей', 1, 22)\n",
            "('Маша', 2, 18)\n"
          ]
        }
      ]
    },
    {
      "cell_type": "markdown",
      "source": [
        "запрос, который будет формировать список лучших игроков, используя данные обеих таблиц"
      ],
      "metadata": {
        "id": "NYIDI03ieSIk"
      }
    }
  ]
}